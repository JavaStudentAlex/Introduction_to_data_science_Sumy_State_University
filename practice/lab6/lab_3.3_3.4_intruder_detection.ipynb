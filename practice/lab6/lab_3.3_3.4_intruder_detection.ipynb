{
 "nbformat": 4,
 "nbformat_minor": 0,
 "metadata": {
  "kernelspec": {
   "display_name": "Python 3",
   "language": "python",
   "name": "python3"
  },
  "language_info": {
   "codemirror_mode": {
    "name": "ipython",
    "version": 3
   },
   "file_extension": ".py",
   "mimetype": "text/x-python",
   "name": "python",
   "nbconvert_exporter": "python",
   "pygments_lexer": "ipython3",
   "version": "3.6.8"
  },
  "colab": {
   "name": "lab6_intruder_detection.ipynb",
   "provenance": [],
   "collapsed_sections": []
  }
 },
 "cells": [
  {
   "cell_type": "markdown",
   "metadata": {
    "id": "yxNOG2qiT7bb",
    "colab_type": "text"
   },
   "source": [
    "### <Center> Лабораторна робота №6. <br> Ідентифікація користувача за допомогою логістичної регресії"
   ]
  },
  {
   "cell_type": "code",
   "metadata": {
    "id": "1_rN0IogT7be",
    "colab_type": "code",
    "colab": {
     "base_uri": "https://localhost:8080/",
     "height": 54
    },
    "executionInfo": {
     "status": "ok",
     "timestamp": 1600568419975,
     "user_tz": -180,
     "elapsed": 1572,
     "user": {
      "displayName": "Москаленко В'ячеслав Васильович",
      "photoUrl": "https://lh3.googleusercontent.com/a-/AOh14GiN6Jzqki0z69x3j5PLOje08fXCxR7L_CW7QtyNXg=s64",
      "userId": "09799116143807457878"
     }
    },
    "outputId": "f3fd4ebb-99b0-4f78-aecd-4239727aa1c2"
   },
   "source": [
    "import pickle\n",
    "import numpy as np\n",
    "import pandas as pd\n",
    "from tqdm import tqdm_notebook\n",
    "from scipy.sparse import csr_matrix, hstack\n",
    "from sklearn.preprocessing import StandardScaler\n",
    "from sklearn.metrics import roc_auc_score\n",
    "from sklearn.linear_model import LogisticRegression\n",
    "%matplotlib inline\n",
    "from matplotlib import pyplot as plt\n",
    "import seaborn as sns"
   ],
   "execution_count": 1,
   "outputs": [
    {
     "output_type": "stream",
     "text": [
      "/usr/local/lib/python3.6/dist-packages/statsmodels/tools/_testing.py:19: FutureWarning: pandas.util.testing is deprecated. Use the functions in the public API at pandas.testing instead.\n",
      "  import pandas.util.testing as tm\n"
     ],
     "name": "stderr"
    }
   ]
  },
  {
   "cell_type": "markdown",
   "metadata": {
    "id": "4C5b5gRpT-Xz",
    "colab_type": "text"
   },
   "source": [
    "Спочатку налаштуємо доступ до даних на google drive (якщо ви відкриваєте блокнот в google colab, а не на PC) шляхом монтування google drive"
   ]
  },
  {
   "cell_type": "code",
   "metadata": {
    "id": "iHWvb8rCUCT8",
    "colab_type": "code",
    "colab": {
     "base_uri": "https://localhost:8080/",
     "height": 36
    },
    "executionInfo": {
     "status": "ok",
     "timestamp": 1600568453670,
     "user_tz": -180,
     "elapsed": 15794,
     "user": {
      "displayName": "Москаленко В'ячеслав Васильович",
      "photoUrl": "https://lh3.googleusercontent.com/a-/AOh14GiN6Jzqki0z69x3j5PLOje08fXCxR7L_CW7QtyNXg=s64",
      "userId": "09799116143807457878"
     }
    },
    "outputId": "ce3d86ef-bf7a-4055-aaa7-da328309eb7f"
   },
   "source": [
    "\"\"\"\n",
    "#Uncomment next sections if use in google collab\n",
    "!pip install google-colab\n",
    "!pip install pydrive\n",
    "\"\"\""
   ],
   "execution_count": 2,
   "outputs": [
    {
     "output_type": "stream",
     "text": [
      "Mounted at /content/gdrive\n"
     ],
     "name": "stdout"
    }
   ]
  },
  {
   "cell_type": "code",
   "metadata": {
    "id": "TmfAKrzDUJE9",
    "colab_type": "text",
    "pycharm": {
     "name": "#%%\n"
    }
   },
   "source": [
    "\"\"\"\n",
    "from pydrive.auth import GoogleAuth\n",
    "from pydrive.drive import GoogleDrive\n",
    "from google.colab import auth\n",
    "from oauth2client.client import GoogleCredentials\n",
    "auth.authenticate_user()\n",
    "gauth = GoogleAuth()\n",
    "gauth.credentials = GoogleCredentials.get_application_default()\n",
    "drive = GoogleDrive(gauth)\n",
    "\"\"\"\n"
   ],
   "execution_count": null,
   "outputs": []
  },
  {
   "cell_type": "code",
   "metadata": {
    "id": "4dOnT8pgUF_n",
    "colab_type": "code",
    "colab": {
     "base_uri": "https://localhost:8080/",
     "height": 54
    },
    "executionInfo": {
     "status": "ok",
     "timestamp": 1600568481387,
     "user_tz": -180,
     "elapsed": 4557,
     "user": {
      "displayName": "Москаленко В'ячеслав Васильович",
      "photoUrl": "https://lh3.googleusercontent.com/a-/AOh14GiN6Jzqki0z69x3j5PLOje08fXCxR7L_CW7QtyNXg=s64",
      "userId": "09799116143807457878"
     }
    },
    "outputId": "6e2770e6-dadd-48b8-de5a-13f6c19064bb"
   },
   "source": [
    "\"\"\"\n",
    "downloaded = drive.CreateFile({'id':\"1xsM59ar2cqvoC2wNpzT1Yd1bTD8Cyd6O\"})\n",
    "downloaded.GetContentFile('train_sessions.csv')\n",
    "\n",
    "downloaded = drive.CreateFile({'id':\"13MdleKzHiT4bkUzDsUrON37UXa4gYheD\"})\n",
    "downloaded.GetContentFile('test_sessions.csv')\n",
    "\"\"\""
   ],
   "execution_count": 3,
   "outputs": [
    {
     "output_type": "stream",
     "text": [
      "adult.data.csv\tadult_train.csv  telecom_churn.csv  train_sessions.csv\n",
      "adult_test.csv\tsite_dic.pkl\t test_sessions.csv\n"
     ],
     "name": "stdout"
    }
   ]
  },
  {
   "cell_type": "markdown",
   "metadata": {
    "id": "iT_YKiR6T7br",
    "colab_type": "text"
   },
   "source": [
    "### 1. Завантаження і перетворення даних\n",
    "Дані можна самостійно завантажити за посиланням [сторінка](https://inclass.kaggle.com/c/catch-me-if-you-can-intruder-detection-through-webpage-session-tracking2). Однак можна цього не робити, оскільки дані вже завантажені для проведення лабораторної роботи"
   ]
  },
  {
   "cell_type": "code",
   "metadata": {
    "id": "sK2cb4cWT7bw",
    "colab_type": "code",
    "colab": {
     "base_uri": "https://localhost:8080/",
     "height": 324
    },
    "executionInfo": {
     "status": "ok",
     "timestamp": 1600568515464,
     "user_tz": -180,
     "elapsed": 4568,
     "user": {
      "displayName": "Москаленко В'ячеслав Васильович",
      "photoUrl": "https://lh3.googleusercontent.com/a-/AOh14GiN6Jzqki0z69x3j5PLOje08fXCxR7L_CW7QtyNXg=s64",
      "userId": "09799116143807457878"
     }
    },
    "outputId": "5a30c38e-df4f-435f-e5e8-e8178cb956d8"
   },
   "source": [
    "# завантажимо навчальну і тестову вибірки\n",
    "train_df = pd.read_csv('data/train_sessions.csv',\n",
    "                       index_col='session_id')\n",
    "test_df = pd.read_csv('data/test_sessions.csv',\n",
    "                      index_col='session_id')\n",
    "\n",
    "# приведемо колонку time1, ..., time10 до часового формату\n",
    "times = ['time%s' % i for i in range(1, 11)]\n",
    "train_df[times] = train_df[times].apply(pd.to_datetime)\n",
    "test_df[times] = test_df[times].apply(pd.to_datetime)\n",
    "\n",
    "# відсортуємо дані за часом\n",
    "train_df = train_df.sort_values(by='time1')\n",
    "\n",
    "# подивимося на заголовок навчальної вибірки\n",
    "train_df.head()"
   ],
   "execution_count": 5,
   "outputs": [
    {
     "output_type": "execute_result",
     "data": {
      "text/html": [
       "<div>\n",
       "<style scoped>\n",
       "    .dataframe tbody tr th:only-of-type {\n",
       "        vertical-align: middle;\n",
       "    }\n",
       "\n",
       "    .dataframe tbody tr th {\n",
       "        vertical-align: top;\n",
       "    }\n",
       "\n",
       "    .dataframe thead th {\n",
       "        text-align: right;\n",
       "    }\n",
       "</style>\n",
       "<table border=\"1\" class=\"dataframe\">\n",
       "  <thead>\n",
       "    <tr style=\"text-align: right;\">\n",
       "      <th></th>\n",
       "      <th>site1</th>\n",
       "      <th>time1</th>\n",
       "      <th>site2</th>\n",
       "      <th>time2</th>\n",
       "      <th>site3</th>\n",
       "      <th>time3</th>\n",
       "      <th>site4</th>\n",
       "      <th>time4</th>\n",
       "      <th>site5</th>\n",
       "      <th>time5</th>\n",
       "      <th>site6</th>\n",
       "      <th>time6</th>\n",
       "      <th>site7</th>\n",
       "      <th>time7</th>\n",
       "      <th>site8</th>\n",
       "      <th>time8</th>\n",
       "      <th>site9</th>\n",
       "      <th>time9</th>\n",
       "      <th>site10</th>\n",
       "      <th>time10</th>\n",
       "      <th>target</th>\n",
       "    </tr>\n",
       "    <tr>\n",
       "      <th>session_id</th>\n",
       "      <th></th>\n",
       "      <th></th>\n",
       "      <th></th>\n",
       "      <th></th>\n",
       "      <th></th>\n",
       "      <th></th>\n",
       "      <th></th>\n",
       "      <th></th>\n",
       "      <th></th>\n",
       "      <th></th>\n",
       "      <th></th>\n",
       "      <th></th>\n",
       "      <th></th>\n",
       "      <th></th>\n",
       "      <th></th>\n",
       "      <th></th>\n",
       "      <th></th>\n",
       "      <th></th>\n",
       "      <th></th>\n",
       "      <th></th>\n",
       "      <th></th>\n",
       "    </tr>\n",
       "  </thead>\n",
       "  <tbody>\n",
       "    <tr>\n",
       "      <th>21669</th>\n",
       "      <td>56</td>\n",
       "      <td>2013-01-12 08:05:57</td>\n",
       "      <td>55.0</td>\n",
       "      <td>2013-01-12 08:05:57</td>\n",
       "      <td>NaN</td>\n",
       "      <td>NaT</td>\n",
       "      <td>NaN</td>\n",
       "      <td>NaT</td>\n",
       "      <td>NaN</td>\n",
       "      <td>NaT</td>\n",
       "      <td>NaN</td>\n",
       "      <td>NaT</td>\n",
       "      <td>NaN</td>\n",
       "      <td>NaT</td>\n",
       "      <td>NaN</td>\n",
       "      <td>NaT</td>\n",
       "      <td>NaN</td>\n",
       "      <td>NaT</td>\n",
       "      <td>NaN</td>\n",
       "      <td>NaT</td>\n",
       "      <td>0</td>\n",
       "    </tr>\n",
       "    <tr>\n",
       "      <th>54843</th>\n",
       "      <td>56</td>\n",
       "      <td>2013-01-12 08:37:23</td>\n",
       "      <td>55.0</td>\n",
       "      <td>2013-01-12 08:37:23</td>\n",
       "      <td>56.0</td>\n",
       "      <td>2013-01-12 09:07:07</td>\n",
       "      <td>55.0</td>\n",
       "      <td>2013-01-12 09:07:09</td>\n",
       "      <td>NaN</td>\n",
       "      <td>NaT</td>\n",
       "      <td>NaN</td>\n",
       "      <td>NaT</td>\n",
       "      <td>NaN</td>\n",
       "      <td>NaT</td>\n",
       "      <td>NaN</td>\n",
       "      <td>NaT</td>\n",
       "      <td>NaN</td>\n",
       "      <td>NaT</td>\n",
       "      <td>NaN</td>\n",
       "      <td>NaT</td>\n",
       "      <td>0</td>\n",
       "    </tr>\n",
       "    <tr>\n",
       "      <th>77292</th>\n",
       "      <td>946</td>\n",
       "      <td>2013-01-12 08:50:13</td>\n",
       "      <td>946.0</td>\n",
       "      <td>2013-01-12 08:50:14</td>\n",
       "      <td>951.0</td>\n",
       "      <td>2013-01-12 08:50:15</td>\n",
       "      <td>946.0</td>\n",
       "      <td>2013-01-12 08:50:15</td>\n",
       "      <td>946.0</td>\n",
       "      <td>2013-01-12 08:50:16</td>\n",
       "      <td>945.0</td>\n",
       "      <td>2013-01-12 08:50:16</td>\n",
       "      <td>948.0</td>\n",
       "      <td>2013-01-12 08:50:16</td>\n",
       "      <td>784.0</td>\n",
       "      <td>2013-01-12 08:50:16</td>\n",
       "      <td>949.0</td>\n",
       "      <td>2013-01-12 08:50:17</td>\n",
       "      <td>946.0</td>\n",
       "      <td>2013-01-12 08:50:17</td>\n",
       "      <td>0</td>\n",
       "    </tr>\n",
       "    <tr>\n",
       "      <th>114021</th>\n",
       "      <td>945</td>\n",
       "      <td>2013-01-12 08:50:17</td>\n",
       "      <td>948.0</td>\n",
       "      <td>2013-01-12 08:50:17</td>\n",
       "      <td>949.0</td>\n",
       "      <td>2013-01-12 08:50:18</td>\n",
       "      <td>948.0</td>\n",
       "      <td>2013-01-12 08:50:18</td>\n",
       "      <td>945.0</td>\n",
       "      <td>2013-01-12 08:50:18</td>\n",
       "      <td>946.0</td>\n",
       "      <td>2013-01-12 08:50:18</td>\n",
       "      <td>947.0</td>\n",
       "      <td>2013-01-12 08:50:19</td>\n",
       "      <td>945.0</td>\n",
       "      <td>2013-01-12 08:50:19</td>\n",
       "      <td>946.0</td>\n",
       "      <td>2013-01-12 08:50:19</td>\n",
       "      <td>946.0</td>\n",
       "      <td>2013-01-12 08:50:20</td>\n",
       "      <td>0</td>\n",
       "    </tr>\n",
       "    <tr>\n",
       "      <th>146670</th>\n",
       "      <td>947</td>\n",
       "      <td>2013-01-12 08:50:20</td>\n",
       "      <td>950.0</td>\n",
       "      <td>2013-01-12 08:50:20</td>\n",
       "      <td>948.0</td>\n",
       "      <td>2013-01-12 08:50:20</td>\n",
       "      <td>947.0</td>\n",
       "      <td>2013-01-12 08:50:21</td>\n",
       "      <td>950.0</td>\n",
       "      <td>2013-01-12 08:50:21</td>\n",
       "      <td>952.0</td>\n",
       "      <td>2013-01-12 08:50:21</td>\n",
       "      <td>946.0</td>\n",
       "      <td>2013-01-12 08:50:21</td>\n",
       "      <td>951.0</td>\n",
       "      <td>2013-01-12 08:50:22</td>\n",
       "      <td>946.0</td>\n",
       "      <td>2013-01-12 08:50:22</td>\n",
       "      <td>947.0</td>\n",
       "      <td>2013-01-12 08:50:22</td>\n",
       "      <td>0</td>\n",
       "    </tr>\n",
       "  </tbody>\n",
       "</table>\n",
       "</div>"
      ],
      "text/plain": [
       "            site1               time1  ...              time10 target\n",
       "session_id                             ...                           \n",
       "21669          56 2013-01-12 08:05:57  ...                 NaT      0\n",
       "54843          56 2013-01-12 08:37:23  ...                 NaT      0\n",
       "77292         946 2013-01-12 08:50:13  ... 2013-01-12 08:50:17      0\n",
       "114021        945 2013-01-12 08:50:17  ... 2013-01-12 08:50:20      0\n",
       "146670        947 2013-01-12 08:50:20  ... 2013-01-12 08:50:22      0\n",
       "\n",
       "[5 rows x 21 columns]"
      ]
     },
     "metadata": {
      "tags": []
     },
     "execution_count": 5
    }
   ]
  },
  {
   "cell_type": "markdown",
   "metadata": {
    "id": "7ycURxB3T7b5",
    "colab_type": "text"
   },
   "source": [
    "В навчальній вибірці містяться наступні ознаки:\n",
    "    - site1 – індекс першого відвідування сайту в сесії\n",
    "    - time1 – час відвідування першого сайту в сесії\n",
    "    - ...\n",
    "    - site10 – індекс 10-го відвідування сайту в сесії\n",
    "    - time10 – час відвідування 10-го сайту в сесії\n",
    "    - target – цільова змінна, 1 для сесій Еліс, 0 для сесій інших користувачів\n",
    "    \n",
    "Сесії користувачів виділені таким чимном, щоб вони не можут бути довші півгодини чи 10 сайтів. Тобто сесія вважається закінченою або коли користувач відвідав 10 сайтів підряд або коли сесія зайняла за часом більше 30 хвилин.\n",
    "\n",
    "В таблиці зустрічаються пропущені значення, це значить, що сесія містить менше, ніж 10 сайтів. Замінимо пропущені значення нулями і приведемо ознаки до цільового типу. Також заванатажимо словник сайтів і подивимося, як він виглядає:"
   ]
  },
  {
   "cell_type": "code",
   "metadata": {
    "id": "Q82qF45IT7b7",
    "colab_type": "code",
    "colab": {
     "base_uri": "https://localhost:8080/",
     "height": 225
    },
    "executionInfo": {
     "status": "ok",
     "timestamp": 1600568520266,
     "user_tz": -180,
     "elapsed": 572,
     "user": {
      "displayName": "Москаленко В'ячеслав Васильович",
      "photoUrl": "https://lh3.googleusercontent.com/a-/AOh14GiN6Jzqki0z69x3j5PLOje08fXCxR7L_CW7QtyNXg=s64",
      "userId": "09799116143807457878"
     }
    },
    "outputId": "89b3aeb2-3590-434b-d82b-2bf4f5b91150"
   },
   "source": [
    "# приведемо колонки site1, ..., site10 до цілочислового формату і замінимо пропуски нулями\n",
    "sites = ['site%s' % i for i in range(1, 11)]\n",
    "train_df[sites] = train_df[sites].fillna(0).astype('int')\n",
    "test_df[sites] = test_df[sites].fillna(0).astype('int')\n",
    "\n",
    "# завантажимо словник сайтів\n",
    "with open(r\"data/site_dic.pkl\", \"rb\") as input_file:\n",
    "    site_dict = pickle.load(input_file)\n",
    "\n",
    "# датафрейм словника сайтів\n",
    "sites_dict_df = pd.DataFrame(list(site_dict.keys()), \n",
    "                          index=list(site_dict.values()), \n",
    "                          columns=['site'])\n",
    "print(u'всього сайтів:', sites_dict_df.shape[0])\n",
    "sites_dict_df.head()"
   ],
   "execution_count": 6,
   "outputs": [
    {
     "output_type": "stream",
     "text": [
      "всього сайтів: 48371\n"
     ],
     "name": "stdout"
    },
    {
     "output_type": "execute_result",
     "data": {
      "text/html": [
       "<div>\n",
       "<style scoped>\n",
       "    .dataframe tbody tr th:only-of-type {\n",
       "        vertical-align: middle;\n",
       "    }\n",
       "\n",
       "    .dataframe tbody tr th {\n",
       "        vertical-align: top;\n",
       "    }\n",
       "\n",
       "    .dataframe thead th {\n",
       "        text-align: right;\n",
       "    }\n",
       "</style>\n",
       "<table border=\"1\" class=\"dataframe\">\n",
       "  <thead>\n",
       "    <tr style=\"text-align: right;\">\n",
       "      <th></th>\n",
       "      <th>site</th>\n",
       "    </tr>\n",
       "  </thead>\n",
       "  <tbody>\n",
       "    <tr>\n",
       "      <th>25075</th>\n",
       "      <td>www.abmecatronique.com</td>\n",
       "    </tr>\n",
       "    <tr>\n",
       "      <th>13997</th>\n",
       "      <td>groups.live.com</td>\n",
       "    </tr>\n",
       "    <tr>\n",
       "      <th>42436</th>\n",
       "      <td>majeureliguefootball.wordpress.com</td>\n",
       "    </tr>\n",
       "    <tr>\n",
       "      <th>30911</th>\n",
       "      <td>cdt46.media.tourinsoft.eu</td>\n",
       "    </tr>\n",
       "    <tr>\n",
       "      <th>8104</th>\n",
       "      <td>www.hdwallpapers.eu</td>\n",
       "    </tr>\n",
       "  </tbody>\n",
       "</table>\n",
       "</div>"
      ],
      "text/plain": [
       "                                     site\n",
       "25075              www.abmecatronique.com\n",
       "13997                     groups.live.com\n",
       "42436  majeureliguefootball.wordpress.com\n",
       "30911           cdt46.media.tourinsoft.eu\n",
       "8104                  www.hdwallpapers.eu"
      ]
     },
     "metadata": {
      "tags": []
     },
     "execution_count": 6
    }
   ]
  },
  {
   "cell_type": "markdown",
   "metadata": {
    "id": "tZobaYZuT7cC",
    "colab_type": "text"
   },
   "source": [
    "Виділимо цільову змінну і об'єднаємо вибірки, щоб разом привести їх до розрідженого формату."
   ]
  },
  {
   "cell_type": "code",
   "metadata": {
    "id": "1b6NQLhlT7cE",
    "colab_type": "code",
    "colab": {},
    "executionInfo": {
     "status": "ok",
     "timestamp": 1600568523675,
     "user_tz": -180,
     "elapsed": 615,
     "user": {
      "displayName": "Москаленко В'ячеслав Васильович",
      "photoUrl": "https://lh3.googleusercontent.com/a-/AOh14GiN6Jzqki0z69x3j5PLOje08fXCxR7L_CW7QtyNXg=s64",
      "userId": "09799116143807457878"
     }
    }
   },
   "source": [
    "# наша цільова змінна\n",
    "y_train = train_df['target']\n",
    "\n",
    "# об'єднана таблиця вхідних даних\n",
    "full_df = pd.concat([train_df.drop('target', axis=1), test_df])\n",
    "\n",
    "# індекс, за яким будемо відокремлювати навчальну вибірку від тестової\n",
    "idx_split = train_df.shape[0]"
   ],
   "execution_count": 7,
   "outputs": []
  },
  {
   "cell_type": "markdown",
   "metadata": {
    "id": "DcuO-EB0T7cN",
    "colab_type": "text"
   },
   "source": [
    "Для самої першої моделі ми використовуємо лише відвідувані сайти в сесіях (але не будемо звертати увагу на часові ознаки). В основі такого вибору даних для моделей лежить така ідея: * у Еліс є свої улюблені сайти, і якщо ви ще побачите ці сайти в сесіях, тим вище ймовірність, що це сесія Еліс і навпаки. *\n",
    "\n",
    "Підготуємо дані, з усієї таблиці виберемо лише ознаки `site1, site2, ..., site10`. Нагадуємо, що пропущені значення замінені нулем. Ось як виглядатимуть перші рядки таблиць:"
   ]
  },
  {
   "cell_type": "code",
   "metadata": {
    "id": "Ah1VGxPDT7cP",
    "colab_type": "code",
    "colab": {
     "base_uri": "https://localhost:8080/",
     "height": 237
    },
    "executionInfo": {
     "status": "ok",
     "timestamp": 1600568525949,
     "user_tz": -180,
     "elapsed": 594,
     "user": {
      "displayName": "Москаленко В'ячеслав Васильович",
      "photoUrl": "https://lh3.googleusercontent.com/a-/AOh14GiN6Jzqki0z69x3j5PLOje08fXCxR7L_CW7QtyNXg=s64",
      "userId": "09799116143807457878"
     }
    },
    "outputId": "01cb599a-27ec-462f-a677-d58532b07121"
   },
   "source": [
    "# таблиця з індексами відвіданих сайтів в сесії\n",
    "full_sites = full_df[sites]\n",
    "full_sites.head()"
   ],
   "execution_count": 8,
   "outputs": [
    {
     "output_type": "execute_result",
     "data": {
      "text/html": [
       "<div>\n",
       "<style scoped>\n",
       "    .dataframe tbody tr th:only-of-type {\n",
       "        vertical-align: middle;\n",
       "    }\n",
       "\n",
       "    .dataframe tbody tr th {\n",
       "        vertical-align: top;\n",
       "    }\n",
       "\n",
       "    .dataframe thead th {\n",
       "        text-align: right;\n",
       "    }\n",
       "</style>\n",
       "<table border=\"1\" class=\"dataframe\">\n",
       "  <thead>\n",
       "    <tr style=\"text-align: right;\">\n",
       "      <th></th>\n",
       "      <th>site1</th>\n",
       "      <th>site2</th>\n",
       "      <th>site3</th>\n",
       "      <th>site4</th>\n",
       "      <th>site5</th>\n",
       "      <th>site6</th>\n",
       "      <th>site7</th>\n",
       "      <th>site8</th>\n",
       "      <th>site9</th>\n",
       "      <th>site10</th>\n",
       "    </tr>\n",
       "    <tr>\n",
       "      <th>session_id</th>\n",
       "      <th></th>\n",
       "      <th></th>\n",
       "      <th></th>\n",
       "      <th></th>\n",
       "      <th></th>\n",
       "      <th></th>\n",
       "      <th></th>\n",
       "      <th></th>\n",
       "      <th></th>\n",
       "      <th></th>\n",
       "    </tr>\n",
       "  </thead>\n",
       "  <tbody>\n",
       "    <tr>\n",
       "      <th>21669</th>\n",
       "      <td>56</td>\n",
       "      <td>55</td>\n",
       "      <td>0</td>\n",
       "      <td>0</td>\n",
       "      <td>0</td>\n",
       "      <td>0</td>\n",
       "      <td>0</td>\n",
       "      <td>0</td>\n",
       "      <td>0</td>\n",
       "      <td>0</td>\n",
       "    </tr>\n",
       "    <tr>\n",
       "      <th>54843</th>\n",
       "      <td>56</td>\n",
       "      <td>55</td>\n",
       "      <td>56</td>\n",
       "      <td>55</td>\n",
       "      <td>0</td>\n",
       "      <td>0</td>\n",
       "      <td>0</td>\n",
       "      <td>0</td>\n",
       "      <td>0</td>\n",
       "      <td>0</td>\n",
       "    </tr>\n",
       "    <tr>\n",
       "      <th>77292</th>\n",
       "      <td>946</td>\n",
       "      <td>946</td>\n",
       "      <td>951</td>\n",
       "      <td>946</td>\n",
       "      <td>946</td>\n",
       "      <td>945</td>\n",
       "      <td>948</td>\n",
       "      <td>784</td>\n",
       "      <td>949</td>\n",
       "      <td>946</td>\n",
       "    </tr>\n",
       "    <tr>\n",
       "      <th>114021</th>\n",
       "      <td>945</td>\n",
       "      <td>948</td>\n",
       "      <td>949</td>\n",
       "      <td>948</td>\n",
       "      <td>945</td>\n",
       "      <td>946</td>\n",
       "      <td>947</td>\n",
       "      <td>945</td>\n",
       "      <td>946</td>\n",
       "      <td>946</td>\n",
       "    </tr>\n",
       "    <tr>\n",
       "      <th>146670</th>\n",
       "      <td>947</td>\n",
       "      <td>950</td>\n",
       "      <td>948</td>\n",
       "      <td>947</td>\n",
       "      <td>950</td>\n",
       "      <td>952</td>\n",
       "      <td>946</td>\n",
       "      <td>951</td>\n",
       "      <td>946</td>\n",
       "      <td>947</td>\n",
       "    </tr>\n",
       "  </tbody>\n",
       "</table>\n",
       "</div>"
      ],
      "text/plain": [
       "            site1  site2  site3  site4  ...  site7  site8  site9  site10\n",
       "session_id                              ...                             \n",
       "21669          56     55      0      0  ...      0      0      0       0\n",
       "54843          56     55     56     55  ...      0      0      0       0\n",
       "77292         946    946    951    946  ...    948    784    949     946\n",
       "114021        945    948    949    948  ...    947    945    946     946\n",
       "146670        947    950    948    947  ...    946    951    946     947\n",
       "\n",
       "[5 rows x 10 columns]"
      ]
     },
     "metadata": {
      "tags": []
     },
     "execution_count": 8
    }
   ]
  },
  {
   "cell_type": "markdown",
   "metadata": {
    "id": "yIocdQ-BT7cb",
    "colab_type": "text"
   },
   "source": [
    "Сессии представляют собой последовательность индексов сайтов и данные в таком виде неудобны для линейных методов. В соответствии с нашей гипотезой (у Элис есть излюбленные сайты) надо преобразовать эту таблицу таким образом, чтобы каждому возможному сайту соответствовал свой отдельный признак (колонка), а его значение равнялось бы количеству посещений этого сайта в сессии. Это делается в две строчки:\n",
    "\n",
    "\n",
    "Сесії представляють собою послідовність індексів сайтів і дані в такому вигляді невдалі для лінійних методів. Відповідно до нашої гіпотези (у Еліс є улюблені сайти) необхідно перетворити цю таблицю таким чином, щоб кожен можливий веб-сайт відповідав своєму окремому призначенню (колонка), а його значення зростало за кількістю відвідувачів цього веб-сайту в сесіях. Це робиться в два рядки:"
   ]
  },
  {
   "cell_type": "code",
   "metadata": {
    "id": "VI3OsUzST7cc",
    "colab_type": "code",
    "colab": {},
    "executionInfo": {
     "status": "ok",
     "timestamp": 1600568531502,
     "user_tz": -180,
     "elapsed": 601,
     "user": {
      "displayName": "Москаленко В'ячеслав Васильович",
      "photoUrl": "https://lh3.googleusercontent.com/a-/AOh14GiN6Jzqki0z69x3j5PLOje08fXCxR7L_CW7QtyNXg=s64",
      "userId": "09799116143807457878"
     }
    }
   },
   "source": [
    "from scipy.sparse import csr_matrix"
   ],
   "execution_count": 9,
   "outputs": []
  },
  {
   "cell_type": "code",
   "metadata": {
    "id": "3Ll_cv4XT7ci",
    "colab_type": "code",
    "colab": {},
    "executionInfo": {
     "status": "ok",
     "timestamp": 1600568534099,
     "user_tz": -180,
     "elapsed": 547,
     "user": {
      "displayName": "Москаленко В'ячеслав Васильович",
      "photoUrl": "https://lh3.googleusercontent.com/a-/AOh14GiN6Jzqki0z69x3j5PLOje08fXCxR7L_CW7QtyNXg=s64",
      "userId": "09799116143807457878"
     }
    }
   },
   "source": [
    "csr_matrix?"
   ],
   "execution_count": 10,
   "outputs": []
  },
  {
   "cell_type": "code",
   "metadata": {
    "id": "soTapyJpT7co",
    "colab_type": "code",
    "colab": {},
    "executionInfo": {
     "status": "ok",
     "timestamp": 1600568536497,
     "user_tz": -180,
     "elapsed": 1093,
     "user": {
      "displayName": "Москаленко В'ячеслав Васильович",
      "photoUrl": "https://lh3.googleusercontent.com/a-/AOh14GiN6Jzqki0z69x3j5PLOje08fXCxR7L_CW7QtyNXg=s64",
      "userId": "09799116143807457878"
     }
    }
   },
   "source": [
    "# послідовність з індексами\n",
    "sites_flatten = full_sites.values.flatten()\n",
    "\n",
    "# шкана матриця\n",
    "full_sites_sparse = csr_matrix(([1] * sites_flatten.shape[0],\n",
    "                                sites_flatten,\n",
    "                                range(0, sites_flatten.shape[0] + 10, 10)))[:, 1:]"
   ],
   "execution_count": 11,
   "outputs": []
  },
  {
   "cell_type": "markdown",
   "metadata": {
    "id": "BUMiXftWT7cu",
    "colab_type": "text"
   },
   "source": [
    "Ще один плюс використання розріджених матриць у тому, що для них є спеціальні реалізації як матричних операцій, так і алгоритми машинного навчання, що дозволяє істотно прискорити операції за рахунок особливостей структур даних. Це стосується і логістичної регресії. Ось тепер у нас все готове для побудови наших перших моделей.\n",
    "\n",
    "### 2. Побудова першої моделі\n",
    "\n",
    "Отже, у нас є алгоритм та дані для нього, побудуйте нашу першу модель, використовуючи реалізацію [логістичної регресії] (http://scikit-learn.org/stable/modules/generated/sklearn.linear_model.LogisticRegression.html) з пакета ` sklearn` з параметрами за замовчуванням. Перші 90% даних будемо використовувати для навчання (навчальна вибірка, відсортована за часом), а також 10% для перевірки якості (validation).\n",
    "\n",
    "** Напишіть просту функцію, яка поверне якість моделей на вкладеній вибірці, і навчіть наш перший класифікатор **."
   ]
  },
  {
   "cell_type": "code",
   "metadata": {
    "id": "DS4Y6Zg4T7cv",
    "colab_type": "code",
    "colab": {}
   },
   "source": [
    "def get_auc_lr_valid(X, y, C=1.0, ratio = 0.9, seed=17):\n",
    "    '''\n",
    "    X, y – вибірка\n",
    "    ratio – у якому співвідношенні поділити вибірку\n",
    "    C, seed – коефіцієт регуляризації і random_state \n",
    "              логістичної регресії\n",
    "    '''\n",
    "    \n",
    "    # Ваш код тут"
   ],
   "execution_count": null,
   "outputs": []
  },
  {
   "cell_type": "markdown",
   "metadata": {
    "id": "drho7H3mT7c1",
    "colab_type": "text"
   },
   "source": [
    "**Подивіться, який отримано ROC AUC на відкладеній вибірці.**"
   ]
  },
  {
   "cell_type": "code",
   "metadata": {
    "id": "aZgYq5eGT7c2",
    "colab_type": "code",
    "colab": {}
   },
   "source": [
    "# Ваш код тут"
   ],
   "execution_count": null,
   "outputs": []
  },
  {
   "cell_type": "markdown",
   "metadata": {
    "id": "vOcbcJt7T7c7",
    "colab_type": "text"
   },
   "source": [
    "Будем вважати цю модель нашою першою відправною точкою (базовий рівень). Для побудови моделей для прогнозування на тестовій вибірці ** необхідно навчити модель заново вже на всій навчальній вибірці ** (покищо наша модель навчилася лише на частині даних), що підвищує її узагальнюючу здатність:"
   ]
  },
  {
   "cell_type": "code",
   "metadata": {
    "id": "caSGwpJNT7c8",
    "colab_type": "code",
    "colab": {}
   },
   "source": [
    "# функція для запису прогнозів в файлі\n",
    "def write_to_submission_file(predicted_labels, out_file,\n",
    "                             target='target', index_label=\"session_id\"):\n",
    "    predicted_df = pd.DataFrame(predicted_labels,\n",
    "                                index = np.arange(1, predicted_labels.shape[0] + 1),\n",
    "                                columns=[target])\n",
    "    predicted_df.to_csv(out_file, index_label=index_label)"
   ],
   "execution_count": null,
   "outputs": []
  },
  {
   "cell_type": "markdown",
   "metadata": {
    "id": "nnrpDV3UT7dE",
    "colab_type": "text"
   },
   "source": [
    "**Навчіть модель на всій вибірці, зробіть прогноз для тестової вибірки і покажіть результат**."
   ]
  },
  {
   "cell_type": "code",
   "metadata": {
    "id": "rO3SFJ87T7dF",
    "colab_type": "code",
    "colab": {}
   },
   "source": [
    "# Ваш код тут"
   ],
   "execution_count": null,
   "outputs": []
  },
  {
   "cell_type": "markdown",
   "metadata": {
    "id": "l4rdKvt6T7dL",
    "colab_type": "text"
   },
   "source": [
    "### 3. Покращення моделі, побудова нових ознак"
   ]
  },
  {
   "cell_type": "markdown",
   "metadata": {
    "id": "sWaNbxfnT7dM",
    "colab_type": "text"
   },
   "source": [
    "Створіть таку ознаку, яка буде представлят собою число формату ГГГГММ від тої дати, коли відбувалась сесія, наприклад 201407 -- 2014 рік і 7 месяц. Таким чином, ми будемо враховувати помісячний [линейный тренд](http://people.duke.edu/~rnau/411trend.htm) за весь період наданих даних."
   ]
  },
  {
   "cell_type": "code",
   "metadata": {
    "id": "2zT4tSJ0T7dN",
    "colab_type": "code",
    "colab": {}
   },
   "source": [
    "# Ваш код тут"
   ],
   "execution_count": null,
   "outputs": []
  },
  {
   "cell_type": "markdown",
   "metadata": {
    "id": "KXjVHoXTT7dT",
    "colab_type": "text"
   },
   "source": [
    "Додайте нову ознаку, попередньо нормалізуючи її за допомогою `StandardScaler`, і знову підрахуйте ROC AUC на відкладеній вибірці."
   ]
  },
  {
   "cell_type": "code",
   "metadata": {
    "id": "jQ1Fl8aNT7dU",
    "colab_type": "code",
    "colab": {}
   },
   "source": [
    "# Ваш код тут"
   ],
   "execution_count": null,
   "outputs": []
  },
  {
   "cell_type": "markdown",
   "metadata": {
    "id": "Tx1-wXJ8T7dY",
    "colab_type": "text"
   },
   "source": [
    "** Додайте дві нові ознаки: start_hour і morning. **\n",
    "\n",
    "Ознака `start_hour` - це час у якому почалася сесія (від 0 до 23), а бінарна оознака` morning` рівна 1, якщо сесія почалася вранці і 0, якщо сесія почалася пізніше (будемо вважати, що це ранок, якщо `start_hour рівний` 11 або менше).\n",
    "\n",
    "** Підрахуйте RUC AUC на відкладеній вибірці для вибірки з: **\n",
    "- сайтами, `start_month` і` start_hour`\n",
    "- сайтами, `start_month` і` morning`\n",
    "- сайтами, `start_month`,` start_hour` і `morning`"
   ]
  },
  {
   "cell_type": "code",
   "metadata": {
    "id": "RIwOQZ8_T7da",
    "colab_type": "code",
    "colab": {}
   },
   "source": [
    "# Ваш код тут"
   ],
   "execution_count": null,
   "outputs": []
  },
  {
   "cell_type": "markdown",
   "metadata": {
    "id": "BICIGCSsT7df",
    "colab_type": "text"
   },
   "source": [
    "### 4. Підбір коефіцієнта регуляризації\n",
    "\n",
    "Отже, ми ввели ознаки, які покращують якість нашої моделі у порівнянні з першим бейслайном. Чи можемо ми домогтися більшого значення метрики? Після того, як ми сформували навчальну та тестову вибірки, майже завжди має сенс підібрати оптимальні гіперпараметри - характеристики моделі, які не змінюються під час навчання. Наприклад, ви вивчали вирішальні дерева, глибина дерева це гіперпараметр, а ознака, за якому відбувається розгалуження і її значення - ні. У використовуваної нами логістичної регресії ваги кожної ознаки змінюються і під час навчання знаходяться їх оптимальні значення, а коефіцієнт регуляризації залишається постійним. Це той гіперпараметр, який ми зараз будемо оптимізувати.\n",
    "\n",
    "Порахуйте якість на відкладеній вибірці з коефіцієнтом регуляризації, який за замовчуванням `C = 1 ':"
   ]
  },
  {
   "cell_type": "code",
   "metadata": {
    "id": "zSd56_TtT7df",
    "colab_type": "code",
    "colab": {}
   },
   "source": [
    "# Ваш код тут"
   ],
   "execution_count": null,
   "outputs": []
  },
  {
   "cell_type": "markdown",
   "metadata": {
    "id": "VgyR4THVT7dm",
    "colab_type": "text"
   },
   "source": [
    "Постараємося побити цей результат за рахунок оптимізації коефіцієнта регуляризації. Візьмемо набір можливих значень C і для кожного з них порахуємо значення метрики на відкладеної вибірці.\n",
    "\n",
    "Знайдіть `C` з` np.logspace (-3, 1, 10) `, при якому ROC AUC на відкладеної вибірці максимальний."
   ]
  },
  {
   "cell_type": "code",
   "metadata": {
    "id": "NUex1oHvT7dm",
    "colab_type": "code",
    "colab": {}
   },
   "source": [
    "# Ваш код тут"
   ],
   "execution_count": null,
   "outputs": []
  },
  {
   "cell_type": "markdown",
   "metadata": {
    "id": "FA64y9S-T7ds",
    "colab_type": "text"
   },
   "source": [
    "Наконец, обучите модель с найденным оптимальным значением коэффициента регуляризации и с построенными признаками `start_hour`, `start_month` и `morning`. Если вы все сделали правильно и загрузите это решение, то повторите второй бенчмарк соревнования.\n",
    "\n",
    "Нарешті, навчіть модель зі знайденим оптимальним значенням коефіцієнта регуляризації і з побудованими ознаками `start_hour`,` start_month` і `morning`. "
   ]
  },
  {
   "cell_type": "code",
   "metadata": {
    "id": "gHKSaYGpT7dt",
    "colab_type": "code",
    "colab": {}
   },
   "source": [
    "# Ваш код тут"
   ],
   "execution_count": null,
   "outputs": []
  }
 ]
}