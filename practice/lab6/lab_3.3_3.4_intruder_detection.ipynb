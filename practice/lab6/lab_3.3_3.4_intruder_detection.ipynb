{
  "nbformat": 4,
  "nbformat_minor": 0,
  "metadata": {
    "kernelspec": {
      "display_name": "Python 3",
      "language": "python",
      "name": "python3"
    },
    "language_info": {
      "codemirror_mode": {
        "name": "ipython",
        "version": 3
      },
      "file_extension": ".py",
      "mimetype": "text/x-python",
      "name": "python",
      "nbconvert_exporter": "python",
      "pygments_lexer": "ipython3",
      "version": "3.6.8"
    },
    "colab": {
      "name": "lab_3.3_3.4_intruder_detection.ipynb",
      "provenance": [],
      "collapsed_sections": []
    }
  },
  "cells": [
    {
      "cell_type": "markdown",
      "metadata": {
        "id": "yxNOG2qiT7bb"
      },
      "source": [
        "### <Center> Лабораторна робота №6. <br> Ідентифікація користувача за допомогою логістичної регресії"
      ]
    },
    {
      "cell_type": "code",
      "metadata": {
        "id": "1_rN0IogT7be"
      },
      "source": [
        "import pickle\n",
        "import numpy as np\n",
        "import pandas as pd\n",
        "from tqdm import tqdm_notebook\n",
        "from scipy.sparse import csr_matrix, hstack\n",
        "from sklearn.preprocessing import StandardScaler\n",
        "from sklearn.metrics import roc_auc_score\n",
        "from sklearn.linear_model import LogisticRegression\n",
        "%matplotlib inline\n",
        "from matplotlib import pyplot as plt\n",
        "import seaborn as sns"
      ],
      "execution_count": 2,
      "outputs": []
    },
    {
      "cell_type": "markdown",
      "metadata": {
        "id": "4C5b5gRpT-Xz"
      },
      "source": [
        "Спочатку налаштуємо доступ до даних на google drive (якщо ви відкриваєте блокнот в google colab, а не на PC) шляхом монтування google drive"
      ]
    },
    {
      "cell_type": "code",
      "metadata": {
        "id": "iHWvb8rCUCT8"
      },
      "source": [
        "\n",
        "#Uncomment next sections if use in google collab\n",
        "!pip install google-colab\n",
        "!pip install pydrive\n"
      ],
      "execution_count": null,
      "outputs": []
    },
    {
      "cell_type": "code",
      "metadata": {
        "id": "YNqa9VexxgTF"
      },
      "source": [
        "from pydrive.auth import GoogleAuth\n",
        "from pydrive.drive import GoogleDrive\n",
        "from google.colab import auth\n",
        "from oauth2client.client import GoogleCredentials\n",
        "auth.authenticate_user()\n",
        "gauth = GoogleAuth()\n",
        "gauth.credentials = GoogleCredentials.get_application_default()\n",
        "drive = GoogleDrive(gauth)"
      ],
      "execution_count": 4,
      "outputs": []
    },
    {
      "cell_type": "code",
      "metadata": {
        "id": "4dOnT8pgUF_n"
      },
      "source": [
        "\n",
        "downloaded = drive.CreateFile({'id':\"1xsM59ar2cqvoC2wNpzT1Yd1bTD8Cyd6O\"})\n",
        "downloaded.GetContentFile('train_sessions.csv')\n",
        "\n",
        "downloaded = drive.CreateFile({'id':\"13MdleKzHiT4bkUzDsUrON37UXa4gYheY\"})\n",
        "downloaded.GetContentFile('test_sessions.csv')\n",
        "\n",
        "downloaded = drive.CreateFile({'id':\"1fBtf851dwyk9v2gVXIAtzq3JikHwiHig\"})\n",
        "downloaded.GetContentFile('site_dic.pkl')\n"
      ],
      "execution_count": 6,
      "outputs": []
    },
    {
      "cell_type": "markdown",
      "metadata": {
        "id": "iT_YKiR6T7br"
      },
      "source": [
        "### 1. Завантаження і перетворення даних\n",
        "Дані можна самостійно завантажити за посиланням [сторінка](https://inclass.kaggle.com/c/catch-me-if-you-can-intruder-detection-through-webpage-session-tracking2). Однак можна цього не робити, оскільки дані вже завантажені для проведення лабораторної роботи"
      ]
    },
    {
      "cell_type": "code",
      "metadata": {
        "id": "sK2cb4cWT7bw",
        "colab": {
          "base_uri": "https://localhost:8080/",
          "height": 344
        },
        "outputId": "bacddb16-bdb5-4d1d-a2cd-0e6c029a807c"
      },
      "source": [
        "# завантажимо навчальну і тестову вибірки\n",
        "train_df = pd.read_csv('train_sessions.csv',\n",
        "                       index_col='session_id')\n",
        "test_df = pd.read_csv('test_sessions.csv',\n",
        "                      index_col='session_id')\n",
        "\n",
        "# приведемо колонку time1, ..., time10 до часового формату\n",
        "times = ['time%s' % i for i in range(1, 11)]\n",
        "train_df[times] = train_df[times].apply(pd.to_datetime)\n",
        "test_df[times] = test_df[times].apply(pd.to_datetime)\n",
        "\n",
        "# відсортуємо дані за часом\n",
        "train_df = train_df.sort_values(by='time1')\n",
        "\n",
        "# подивимося на заголовок навчальної вибірки\n",
        "train_df.head()"
      ],
      "execution_count": 7,
      "outputs": [
        {
          "output_type": "execute_result",
          "data": {
            "text/html": [
              "<div>\n",
              "<style scoped>\n",
              "    .dataframe tbody tr th:only-of-type {\n",
              "        vertical-align: middle;\n",
              "    }\n",
              "\n",
              "    .dataframe tbody tr th {\n",
              "        vertical-align: top;\n",
              "    }\n",
              "\n",
              "    .dataframe thead th {\n",
              "        text-align: right;\n",
              "    }\n",
              "</style>\n",
              "<table border=\"1\" class=\"dataframe\">\n",
              "  <thead>\n",
              "    <tr style=\"text-align: right;\">\n",
              "      <th></th>\n",
              "      <th>site1</th>\n",
              "      <th>time1</th>\n",
              "      <th>site2</th>\n",
              "      <th>time2</th>\n",
              "      <th>site3</th>\n",
              "      <th>time3</th>\n",
              "      <th>site4</th>\n",
              "      <th>time4</th>\n",
              "      <th>site5</th>\n",
              "      <th>time5</th>\n",
              "      <th>site6</th>\n",
              "      <th>time6</th>\n",
              "      <th>site7</th>\n",
              "      <th>time7</th>\n",
              "      <th>site8</th>\n",
              "      <th>time8</th>\n",
              "      <th>site9</th>\n",
              "      <th>time9</th>\n",
              "      <th>site10</th>\n",
              "      <th>time10</th>\n",
              "      <th>target</th>\n",
              "    </tr>\n",
              "    <tr>\n",
              "      <th>session_id</th>\n",
              "      <th></th>\n",
              "      <th></th>\n",
              "      <th></th>\n",
              "      <th></th>\n",
              "      <th></th>\n",
              "      <th></th>\n",
              "      <th></th>\n",
              "      <th></th>\n",
              "      <th></th>\n",
              "      <th></th>\n",
              "      <th></th>\n",
              "      <th></th>\n",
              "      <th></th>\n",
              "      <th></th>\n",
              "      <th></th>\n",
              "      <th></th>\n",
              "      <th></th>\n",
              "      <th></th>\n",
              "      <th></th>\n",
              "      <th></th>\n",
              "      <th></th>\n",
              "    </tr>\n",
              "  </thead>\n",
              "  <tbody>\n",
              "    <tr>\n",
              "      <th>21669</th>\n",
              "      <td>56</td>\n",
              "      <td>2013-01-12 08:05:57</td>\n",
              "      <td>55.0</td>\n",
              "      <td>2013-01-12 08:05:57</td>\n",
              "      <td>NaN</td>\n",
              "      <td>NaT</td>\n",
              "      <td>NaN</td>\n",
              "      <td>NaT</td>\n",
              "      <td>NaN</td>\n",
              "      <td>NaT</td>\n",
              "      <td>NaN</td>\n",
              "      <td>NaT</td>\n",
              "      <td>NaN</td>\n",
              "      <td>NaT</td>\n",
              "      <td>NaN</td>\n",
              "      <td>NaT</td>\n",
              "      <td>NaN</td>\n",
              "      <td>NaT</td>\n",
              "      <td>NaN</td>\n",
              "      <td>NaT</td>\n",
              "      <td>0</td>\n",
              "    </tr>\n",
              "    <tr>\n",
              "      <th>54843</th>\n",
              "      <td>56</td>\n",
              "      <td>2013-01-12 08:37:23</td>\n",
              "      <td>55.0</td>\n",
              "      <td>2013-01-12 08:37:23</td>\n",
              "      <td>56.0</td>\n",
              "      <td>2013-01-12 09:07:07</td>\n",
              "      <td>55.0</td>\n",
              "      <td>2013-01-12 09:07:09</td>\n",
              "      <td>NaN</td>\n",
              "      <td>NaT</td>\n",
              "      <td>NaN</td>\n",
              "      <td>NaT</td>\n",
              "      <td>NaN</td>\n",
              "      <td>NaT</td>\n",
              "      <td>NaN</td>\n",
              "      <td>NaT</td>\n",
              "      <td>NaN</td>\n",
              "      <td>NaT</td>\n",
              "      <td>NaN</td>\n",
              "      <td>NaT</td>\n",
              "      <td>0</td>\n",
              "    </tr>\n",
              "    <tr>\n",
              "      <th>77292</th>\n",
              "      <td>946</td>\n",
              "      <td>2013-01-12 08:50:13</td>\n",
              "      <td>946.0</td>\n",
              "      <td>2013-01-12 08:50:14</td>\n",
              "      <td>951.0</td>\n",
              "      <td>2013-01-12 08:50:15</td>\n",
              "      <td>946.0</td>\n",
              "      <td>2013-01-12 08:50:15</td>\n",
              "      <td>946.0</td>\n",
              "      <td>2013-01-12 08:50:16</td>\n",
              "      <td>945.0</td>\n",
              "      <td>2013-01-12 08:50:16</td>\n",
              "      <td>948.0</td>\n",
              "      <td>2013-01-12 08:50:16</td>\n",
              "      <td>784.0</td>\n",
              "      <td>2013-01-12 08:50:16</td>\n",
              "      <td>949.0</td>\n",
              "      <td>2013-01-12 08:50:17</td>\n",
              "      <td>946.0</td>\n",
              "      <td>2013-01-12 08:50:17</td>\n",
              "      <td>0</td>\n",
              "    </tr>\n",
              "    <tr>\n",
              "      <th>114021</th>\n",
              "      <td>945</td>\n",
              "      <td>2013-01-12 08:50:17</td>\n",
              "      <td>948.0</td>\n",
              "      <td>2013-01-12 08:50:17</td>\n",
              "      <td>949.0</td>\n",
              "      <td>2013-01-12 08:50:18</td>\n",
              "      <td>948.0</td>\n",
              "      <td>2013-01-12 08:50:18</td>\n",
              "      <td>945.0</td>\n",
              "      <td>2013-01-12 08:50:18</td>\n",
              "      <td>946.0</td>\n",
              "      <td>2013-01-12 08:50:18</td>\n",
              "      <td>947.0</td>\n",
              "      <td>2013-01-12 08:50:19</td>\n",
              "      <td>945.0</td>\n",
              "      <td>2013-01-12 08:50:19</td>\n",
              "      <td>946.0</td>\n",
              "      <td>2013-01-12 08:50:19</td>\n",
              "      <td>946.0</td>\n",
              "      <td>2013-01-12 08:50:20</td>\n",
              "      <td>0</td>\n",
              "    </tr>\n",
              "    <tr>\n",
              "      <th>146670</th>\n",
              "      <td>947</td>\n",
              "      <td>2013-01-12 08:50:20</td>\n",
              "      <td>950.0</td>\n",
              "      <td>2013-01-12 08:50:20</td>\n",
              "      <td>948.0</td>\n",
              "      <td>2013-01-12 08:50:20</td>\n",
              "      <td>947.0</td>\n",
              "      <td>2013-01-12 08:50:21</td>\n",
              "      <td>950.0</td>\n",
              "      <td>2013-01-12 08:50:21</td>\n",
              "      <td>952.0</td>\n",
              "      <td>2013-01-12 08:50:21</td>\n",
              "      <td>946.0</td>\n",
              "      <td>2013-01-12 08:50:21</td>\n",
              "      <td>951.0</td>\n",
              "      <td>2013-01-12 08:50:22</td>\n",
              "      <td>946.0</td>\n",
              "      <td>2013-01-12 08:50:22</td>\n",
              "      <td>947.0</td>\n",
              "      <td>2013-01-12 08:50:22</td>\n",
              "      <td>0</td>\n",
              "    </tr>\n",
              "  </tbody>\n",
              "</table>\n",
              "</div>"
            ],
            "text/plain": [
              "            site1               time1  ...              time10 target\n",
              "session_id                             ...                           \n",
              "21669          56 2013-01-12 08:05:57  ...                 NaT      0\n",
              "54843          56 2013-01-12 08:37:23  ...                 NaT      0\n",
              "77292         946 2013-01-12 08:50:13  ... 2013-01-12 08:50:17      0\n",
              "114021        945 2013-01-12 08:50:17  ... 2013-01-12 08:50:20      0\n",
              "146670        947 2013-01-12 08:50:20  ... 2013-01-12 08:50:22      0\n",
              "\n",
              "[5 rows x 21 columns]"
            ]
          },
          "metadata": {
            "tags": []
          },
          "execution_count": 7
        }
      ]
    },
    {
      "cell_type": "markdown",
      "metadata": {
        "id": "7ycURxB3T7b5"
      },
      "source": [
        "В навчальній вибірці містяться наступні ознаки:\n",
        "    - site1 – індекс першого відвідування сайту в сесії\n",
        "    - time1 – час відвідування першого сайту в сесії\n",
        "    - ...\n",
        "    - site10 – індекс 10-го відвідування сайту в сесії\n",
        "    - time10 – час відвідування 10-го сайту в сесії\n",
        "    - target – цільова змінна, 1 для сесій Еліс, 0 для сесій інших користувачів\n",
        "    \n",
        "Сесії користувачів виділені таким чимном, щоб вони не можут бути довші півгодини чи 10 сайтів. Тобто сесія вважається закінченою або коли користувач відвідав 10 сайтів підряд або коли сесія зайняла за часом більше 30 хвилин.\n",
        "\n",
        "В таблиці зустрічаються пропущені значення, це значить, що сесія містить менше, ніж 10 сайтів. Замінимо пропущені значення нулями і приведемо ознаки до цільового типу. Також заванатажимо словник сайтів і подивимося, як він виглядає:"
      ]
    },
    {
      "cell_type": "code",
      "metadata": {
        "id": "Q82qF45IT7b7",
        "colab": {
          "base_uri": "https://localhost:8080/",
          "height": 224
        },
        "outputId": "cd65bf45-c2d9-400b-b1af-d13ffe1eb936"
      },
      "source": [
        "# приведемо колонки site1, ..., site10 до цілочислового формату і замінимо пропуски нулями\n",
        "sites = ['site%s' % i for i in range(1, 11)]\n",
        "train_df[sites] = train_df[sites].fillna(0).astype('int')\n",
        "test_df[sites] = test_df[sites].fillna(0).astype('int')\n",
        "\n",
        "# завантажимо словник сайтів\n",
        "with open(r\"site_dic.pkl\", \"rb\") as input_file:\n",
        "    site_dict = pickle.load(input_file)\n",
        "\n",
        "# датафрейм словника сайтів\n",
        "sites_dict_df = pd.DataFrame(list(site_dict.keys()), \n",
        "                          index=list(site_dict.values()), \n",
        "                          columns=['site'])\n",
        "print(u'всього сайтів:', sites_dict_df.shape[0])\n",
        "sites_dict_df.head()"
      ],
      "execution_count": 8,
      "outputs": [
        {
          "output_type": "stream",
          "text": [
            "всього сайтів: 48371\n"
          ],
          "name": "stdout"
        },
        {
          "output_type": "execute_result",
          "data": {
            "text/html": [
              "<div>\n",
              "<style scoped>\n",
              "    .dataframe tbody tr th:only-of-type {\n",
              "        vertical-align: middle;\n",
              "    }\n",
              "\n",
              "    .dataframe tbody tr th {\n",
              "        vertical-align: top;\n",
              "    }\n",
              "\n",
              "    .dataframe thead th {\n",
              "        text-align: right;\n",
              "    }\n",
              "</style>\n",
              "<table border=\"1\" class=\"dataframe\">\n",
              "  <thead>\n",
              "    <tr style=\"text-align: right;\">\n",
              "      <th></th>\n",
              "      <th>site</th>\n",
              "    </tr>\n",
              "  </thead>\n",
              "  <tbody>\n",
              "    <tr>\n",
              "      <th>25075</th>\n",
              "      <td>www.abmecatronique.com</td>\n",
              "    </tr>\n",
              "    <tr>\n",
              "      <th>13997</th>\n",
              "      <td>groups.live.com</td>\n",
              "    </tr>\n",
              "    <tr>\n",
              "      <th>42436</th>\n",
              "      <td>majeureliguefootball.wordpress.com</td>\n",
              "    </tr>\n",
              "    <tr>\n",
              "      <th>30911</th>\n",
              "      <td>cdt46.media.tourinsoft.eu</td>\n",
              "    </tr>\n",
              "    <tr>\n",
              "      <th>8104</th>\n",
              "      <td>www.hdwallpapers.eu</td>\n",
              "    </tr>\n",
              "  </tbody>\n",
              "</table>\n",
              "</div>"
            ],
            "text/plain": [
              "                                     site\n",
              "25075              www.abmecatronique.com\n",
              "13997                     groups.live.com\n",
              "42436  majeureliguefootball.wordpress.com\n",
              "30911           cdt46.media.tourinsoft.eu\n",
              "8104                  www.hdwallpapers.eu"
            ]
          },
          "metadata": {
            "tags": []
          },
          "execution_count": 8
        }
      ]
    },
    {
      "cell_type": "markdown",
      "metadata": {
        "id": "tZobaYZuT7cC"
      },
      "source": [
        "Виділимо цільову змінну і об'єднаємо вибірки, щоб разом привести їх до розрідженого формату."
      ]
    },
    {
      "cell_type": "code",
      "metadata": {
        "id": "1b6NQLhlT7cE"
      },
      "source": [
        "# наша цільова змінна\n",
        "y_train = train_df['target']\n",
        "\n",
        "# об'єднана таблиця вхідних даних\n",
        "full_df = pd.concat([train_df.drop('target', axis=1), test_df])\n",
        "\n",
        "# індекс, за яким будемо відокремлювати навчальну вибірку від тестової\n",
        "idx_split = train_df.shape[0]"
      ],
      "execution_count": 9,
      "outputs": []
    },
    {
      "cell_type": "markdown",
      "metadata": {
        "id": "DcuO-EB0T7cN"
      },
      "source": [
        "Для самої першої моделі ми використовуємо лише відвідувані сайти в сесіях (але не будемо звертати увагу на часові ознаки). В основі такого вибору даних для моделей лежить така ідея: * у Еліс є свої улюблені сайти, і якщо ви ще побачите ці сайти в сесіях, тим вище ймовірність, що це сесія Еліс і навпаки. *\n",
        "\n",
        "Підготуємо дані, з усієї таблиці виберемо лише ознаки `site1, site2, ..., site10`. Нагадуємо, що пропущені значення замінені нулем. Ось як виглядатимуть перші рядки таблиць:"
      ]
    },
    {
      "cell_type": "code",
      "metadata": {
        "id": "Ah1VGxPDT7cP",
        "colab": {
          "base_uri": "https://localhost:8080/",
          "height": 238
        },
        "outputId": "0d699bbb-e815-4340-fd42-cf02d1e02223"
      },
      "source": [
        "# таблиця з індексами відвіданих сайтів в сесії\n",
        "full_sites = full_df[sites]\n",
        "full_sites.head()"
      ],
      "execution_count": 10,
      "outputs": [
        {
          "output_type": "execute_result",
          "data": {
            "text/html": [
              "<div>\n",
              "<style scoped>\n",
              "    .dataframe tbody tr th:only-of-type {\n",
              "        vertical-align: middle;\n",
              "    }\n",
              "\n",
              "    .dataframe tbody tr th {\n",
              "        vertical-align: top;\n",
              "    }\n",
              "\n",
              "    .dataframe thead th {\n",
              "        text-align: right;\n",
              "    }\n",
              "</style>\n",
              "<table border=\"1\" class=\"dataframe\">\n",
              "  <thead>\n",
              "    <tr style=\"text-align: right;\">\n",
              "      <th></th>\n",
              "      <th>site1</th>\n",
              "      <th>site2</th>\n",
              "      <th>site3</th>\n",
              "      <th>site4</th>\n",
              "      <th>site5</th>\n",
              "      <th>site6</th>\n",
              "      <th>site7</th>\n",
              "      <th>site8</th>\n",
              "      <th>site9</th>\n",
              "      <th>site10</th>\n",
              "    </tr>\n",
              "    <tr>\n",
              "      <th>session_id</th>\n",
              "      <th></th>\n",
              "      <th></th>\n",
              "      <th></th>\n",
              "      <th></th>\n",
              "      <th></th>\n",
              "      <th></th>\n",
              "      <th></th>\n",
              "      <th></th>\n",
              "      <th></th>\n",
              "      <th></th>\n",
              "    </tr>\n",
              "  </thead>\n",
              "  <tbody>\n",
              "    <tr>\n",
              "      <th>21669</th>\n",
              "      <td>56</td>\n",
              "      <td>55</td>\n",
              "      <td>0</td>\n",
              "      <td>0</td>\n",
              "      <td>0</td>\n",
              "      <td>0</td>\n",
              "      <td>0</td>\n",
              "      <td>0</td>\n",
              "      <td>0</td>\n",
              "      <td>0</td>\n",
              "    </tr>\n",
              "    <tr>\n",
              "      <th>54843</th>\n",
              "      <td>56</td>\n",
              "      <td>55</td>\n",
              "      <td>56</td>\n",
              "      <td>55</td>\n",
              "      <td>0</td>\n",
              "      <td>0</td>\n",
              "      <td>0</td>\n",
              "      <td>0</td>\n",
              "      <td>0</td>\n",
              "      <td>0</td>\n",
              "    </tr>\n",
              "    <tr>\n",
              "      <th>77292</th>\n",
              "      <td>946</td>\n",
              "      <td>946</td>\n",
              "      <td>951</td>\n",
              "      <td>946</td>\n",
              "      <td>946</td>\n",
              "      <td>945</td>\n",
              "      <td>948</td>\n",
              "      <td>784</td>\n",
              "      <td>949</td>\n",
              "      <td>946</td>\n",
              "    </tr>\n",
              "    <tr>\n",
              "      <th>114021</th>\n",
              "      <td>945</td>\n",
              "      <td>948</td>\n",
              "      <td>949</td>\n",
              "      <td>948</td>\n",
              "      <td>945</td>\n",
              "      <td>946</td>\n",
              "      <td>947</td>\n",
              "      <td>945</td>\n",
              "      <td>946</td>\n",
              "      <td>946</td>\n",
              "    </tr>\n",
              "    <tr>\n",
              "      <th>146670</th>\n",
              "      <td>947</td>\n",
              "      <td>950</td>\n",
              "      <td>948</td>\n",
              "      <td>947</td>\n",
              "      <td>950</td>\n",
              "      <td>952</td>\n",
              "      <td>946</td>\n",
              "      <td>951</td>\n",
              "      <td>946</td>\n",
              "      <td>947</td>\n",
              "    </tr>\n",
              "  </tbody>\n",
              "</table>\n",
              "</div>"
            ],
            "text/plain": [
              "            site1  site2  site3  site4  ...  site7  site8  site9  site10\n",
              "session_id                              ...                             \n",
              "21669          56     55      0      0  ...      0      0      0       0\n",
              "54843          56     55     56     55  ...      0      0      0       0\n",
              "77292         946    946    951    946  ...    948    784    949     946\n",
              "114021        945    948    949    948  ...    947    945    946     946\n",
              "146670        947    950    948    947  ...    946    951    946     947\n",
              "\n",
              "[5 rows x 10 columns]"
            ]
          },
          "metadata": {
            "tags": []
          },
          "execution_count": 10
        }
      ]
    },
    {
      "cell_type": "markdown",
      "metadata": {
        "id": "yIocdQ-BT7cb"
      },
      "source": [
        "Сессии представляют собой последовательность индексов сайтов и данные в таком виде неудобны для линейных методов. В соответствии с нашей гипотезой (у Элис есть излюбленные сайты) надо преобразовать эту таблицу таким образом, чтобы каждому возможному сайту соответствовал свой отдельный признак (колонка), а его значение равнялось бы количеству посещений этого сайта в сессии. Это делается в две строчки:\n",
        "\n",
        "\n",
        "Сесії представляють собою послідовність індексів сайтів і дані в такому вигляді невдалі для лінійних методів. Відповідно до нашої гіпотези (у Еліс є улюблені сайти) необхідно перетворити цю таблицю таким чином, щоб кожен можливий веб-сайт відповідав своєму окремому призначенню (колонка), а його значення зростало за кількістю відвідувачів цього веб-сайту в сесіях. Це робиться в два рядки:"
      ]
    },
    {
      "cell_type": "code",
      "metadata": {
        "id": "soTapyJpT7co"
      },
      "source": [
        "# послідовність з індексами\n",
        "sites_flatten = full_sites.values.flatten()\n",
        "\n",
        "# шукана матриця\n",
        "full_sites_sparse = csr_matrix(([1] * sites_flatten.shape[0],\n",
        "                                sites_flatten,\n",
        "                                range(0, sites_flatten.shape[0] + 10, 10)))[:, 1:]"
      ],
      "execution_count": 11,
      "outputs": []
    },
    {
      "cell_type": "markdown",
      "metadata": {
        "id": "BUMiXftWT7cu"
      },
      "source": [
        "Ще один плюс використання розріджених матриць у тому, що для них є спеціальні реалізації як матричних операцій, так і алгоритми машинного навчання, що дозволяє істотно прискорити операції за рахунок особливостей структур даних. Це стосується і логістичної регресії. Ось тепер у нас все готове для побудови наших перших моделей.\n",
        "\n",
        "### 2. Побудова першої моделі\n",
        "\n",
        "Отже, у нас є алгоритм та дані для нього, побудуйте нашу першу модель, використовуючи реалізацію [логістичної регресії] (http://scikit-learn.org/stable/modules/generated/sklearn.linear_model.LogisticRegression.html) з пакета ` sklearn` з параметрами за замовчуванням. Перші 90% даних будемо використовувати для навчання (навчальна вибірка, відсортована за часом), а також 10% для перевірки якості (validation).\n",
        "\n",
        "** Напишіть просту функцію, яка поверне якість моделей на вкладеній вибірці, і навчіть наш перший класифікатор **."
      ]
    },
    {
      "cell_type": "code",
      "metadata": {
        "id": "DS4Y6Zg4T7cv"
      },
      "source": [
        "def get_auc_lr_valid(X, y, C=1.0, ratio = 0.9, seed=17):\n",
        "    '''\n",
        "    X, y – вибірка\n",
        "    ratio – у якому співвідношенні поділити вибірку\n",
        "    C, seed – коефіцієнт регуляризації і random_state \n",
        "              логістичної регресії\n",
        "    '''\n",
        "    # split train dataset\n",
        "    split_index = round(X.shape[0] * ratio)\n",
        "    train_X = X[:split_index, :]\n",
        "    test_X = X[split_index:, :]\n",
        "    train_Y = y[:split_index]\n",
        "    test_Y = y[split_index:]\n",
        "    # fit the model\n",
        "    model = LogisticRegression(C=C, random_state=seed, n_jobs=-1).fit(train_X, train_Y)\n",
        "    # calc roc auc score\n",
        "    class_probs = model.predict_proba(test_X)[:, 1]\n",
        "    return roc_auc_score(test_Y, class_probs)"
      ],
      "execution_count": 12,
      "outputs": []
    },
    {
      "cell_type": "markdown",
      "metadata": {
        "id": "drho7H3mT7c1"
      },
      "source": [
        "**Подивіться, який отримано ROC AUC на відкладеній вибірці.**"
      ]
    },
    {
      "cell_type": "code",
      "metadata": {
        "id": "aZgYq5eGT7c2",
        "colab": {
          "base_uri": "https://localhost:8080/"
        },
        "outputId": "0347ed0b-4397-4351-9a0b-1578afee24f8"
      },
      "source": [
        "train_matrix = full_sites_sparse[:idx_split, :]\n",
        "get_auc_lr_valid(train_matrix, y_train)"
      ],
      "execution_count": 13,
      "outputs": [
        {
          "output_type": "execute_result",
          "data": {
            "text/plain": [
              "0.919978947171379"
            ]
          },
          "metadata": {
            "tags": []
          },
          "execution_count": 13
        }
      ]
    },
    {
      "cell_type": "markdown",
      "metadata": {
        "id": "vOcbcJt7T7c7"
      },
      "source": [
        "Будем вважати цю модель нашою першою відправною точкою (базовий рівень). Для побудови моделей для прогнозування на тестовій вибірці ** необхідно навчити модель заново вже на всій навчальній вибірці ** (покищо наша модель навчилася лише на частині даних), що підвищує її узагальнюючу здатність:"
      ]
    },
    {
      "cell_type": "code",
      "metadata": {
        "id": "caSGwpJNT7c8"
      },
      "source": [
        "# функція для запису прогнозів в файлі\n",
        "def write_to_submission_file(predicted_labels, out_file,\n",
        "                             target='target', index_label=\"session_id\"):\n",
        "    predicted_df = pd.DataFrame(predicted_labels,\n",
        "                                index = np.arange(1, predicted_labels.shape[0] + 1),\n",
        "                                columns=[target])\n",
        "    predicted_df.to_csv(out_file, index_label=index_label)"
      ],
      "execution_count": 14,
      "outputs": []
    },
    {
      "cell_type": "markdown",
      "metadata": {
        "id": "nnrpDV3UT7dE"
      },
      "source": [
        "**Навчіть модель на всій вибірці, зробіть прогноз для тестової вибірки і покажіть результат**."
      ]
    },
    {
      "cell_type": "code",
      "metadata": {
        "id": "rO3SFJ87T7dF"
      },
      "source": [
        "test_matrix = full_sites_sparse[idx_split:, :]\n",
        "model = LogisticRegression(n_jobs=-1).fit(train_matrix, y_train)"
      ],
      "execution_count": 15,
      "outputs": []
    },
    {
      "cell_type": "code",
      "metadata": {
        "colab": {
          "base_uri": "https://localhost:8080/"
        },
        "id": "R8u-7Fg-vPF0",
        "outputId": "83747d41-2c63-45ca-f51b-e09f74b38717"
      },
      "source": [
        "# indices where target is 1\n",
        "predict_classes = model.predict(test_matrix)\n",
        "np.where(predict_classes == 1)"
      ],
      "execution_count": 16,
      "outputs": [
        {
          "output_type": "execute_result",
          "data": {
            "text/plain": [
              "(array([  425,   708,   808,  1296,  1395,  1489,  1704,  1977,  2364,\n",
              "         2458,  2622,  2900,  3945,  4300,  5246,  5475,  6530,  6968,\n",
              "         7245,  9686, 10109, 10347, 12334, 12512, 12684, 13269, 13986,\n",
              "        14405, 14459, 14590, 15027, 15136, 15268, 15340, 15937, 16066,\n",
              "        16238, 17392, 17931, 18848, 19076, 19572, 19842, 20324, 20716,\n",
              "        20782, 20866, 22612, 23117, 24976, 25303, 25372, 25422, 25439,\n",
              "        26377, 27512, 28453, 29330, 29489, 30918, 32113, 32458, 32466,\n",
              "        33068, 33304, 33910, 34295, 34484, 34639, 35420, 36707, 37075,\n",
              "        37272, 38242, 38652, 39563, 40529, 41098, 41117, 41822, 41824,\n",
              "        41953, 42031, 42944, 42955, 43103, 43172, 43512, 43543, 43635,\n",
              "        46300, 46511, 46885, 47891, 48084, 48662, 49309, 50632, 51062,\n",
              "        51245, 52819, 53103, 53427, 53859, 54518, 54591, 55100, 55124,\n",
              "        56237, 57230, 57529, 57645, 57711, 57961, 58662, 58777, 59582,\n",
              "        59775, 59777, 61519, 61703, 62485, 64257, 64713, 65235, 65348,\n",
              "        65524, 65888, 66095, 66476, 66660, 67013, 67022, 68438, 71219,\n",
              "        71572, 71617, 71775, 72708, 72771, 72926, 73208, 73864, 74820,\n",
              "        75094, 75125, 75721, 76724, 77218, 77258, 77680, 77750, 79612,\n",
              "        79667, 80226, 80228, 80775, 81134, 82020]),)"
            ]
          },
          "metadata": {
            "tags": []
          },
          "execution_count": 16
        }
      ]
    },
    {
      "cell_type": "code",
      "metadata": {
        "colab": {
          "base_uri": "https://localhost:8080/"
        },
        "id": "aI4im7EBvX4Y",
        "outputId": "1f94a887-3688-403a-f8f1-03f1b1d759de"
      },
      "source": [
        "# probability of classes\n",
        "classes_prob = model.predict_proba(test_matrix)\n",
        "classes_prob[:20]"
      ],
      "execution_count": 17,
      "outputs": [
        {
          "output_type": "execute_result",
          "data": {
            "text/plain": [
              "array([[9.97780236e-01, 2.21976363e-03],\n",
              "       [9.99999997e-01, 2.51896229e-09],\n",
              "       [9.99999994e-01, 6.16027591e-09],\n",
              "       [9.99999987e-01, 1.32268970e-08],\n",
              "       [9.99972709e-01, 2.72906695e-05],\n",
              "       [9.99848820e-01, 1.51180478e-04],\n",
              "       [9.99557621e-01, 4.42378701e-04],\n",
              "       [9.99898755e-01, 1.01245078e-04],\n",
              "       [9.99222544e-01, 7.77456105e-04],\n",
              "       [8.95049220e-01, 1.04950780e-01],\n",
              "       [9.99976202e-01, 2.37984922e-05],\n",
              "       [9.99904476e-01, 9.55242625e-05],\n",
              "       [9.99713261e-01, 2.86739456e-04],\n",
              "       [6.41011349e-01, 3.58988651e-01],\n",
              "       [9.99965289e-01, 3.47106166e-05],\n",
              "       [9.96168730e-01, 3.83127029e-03],\n",
              "       [9.84580165e-01, 1.54198348e-02],\n",
              "       [9.99971672e-01, 2.83279784e-05],\n",
              "       [9.99215706e-01, 7.84294328e-04],\n",
              "       [9.99999881e-01, 1.18946686e-07]])"
            ]
          },
          "metadata": {
            "tags": []
          },
          "execution_count": 17
        }
      ]
    },
    {
      "cell_type": "markdown",
      "metadata": {
        "id": "l4rdKvt6T7dL"
      },
      "source": [
        "### 3. Покращення моделі, побудова нових ознак"
      ]
    },
    {
      "cell_type": "markdown",
      "metadata": {
        "id": "sWaNbxfnT7dM"
      },
      "source": [
        "Створіть таку ознаку, яка буде представлят собою число формату ГГГГММ від тої дати, коли відбувалась сесія, наприклад 201407 -- 2014 рік і 7 месяц. Таким чином, ми будемо враховувати помісячний [линейный тренд](http://people.duke.edu/~rnau/411trend.htm) за весь період наданих даних."
      ]
    },
    {
      "cell_type": "code",
      "metadata": {
        "id": "2zT4tSJ0T7dN",
        "colab": {
          "base_uri": "https://localhost:8080/",
          "height": 238
        },
        "outputId": "081ca4ca-1142-484b-8bba-304e7b39b05b"
      },
      "source": [
        "# we can be exactly sure in existing of time at 'time1' column \n",
        "extra_features_df = pd.DataFrame(index=full_df.index)\n",
        "extra_features_df[\"start_month\"] = full_df[\"time1\"].apply(lambda time: time.year * 100 + time.month)\n",
        "extra_features_df.head()"
      ],
      "execution_count": 41,
      "outputs": [
        {
          "output_type": "execute_result",
          "data": {
            "text/html": [
              "<div>\n",
              "<style scoped>\n",
              "    .dataframe tbody tr th:only-of-type {\n",
              "        vertical-align: middle;\n",
              "    }\n",
              "\n",
              "    .dataframe tbody tr th {\n",
              "        vertical-align: top;\n",
              "    }\n",
              "\n",
              "    .dataframe thead th {\n",
              "        text-align: right;\n",
              "    }\n",
              "</style>\n",
              "<table border=\"1\" class=\"dataframe\">\n",
              "  <thead>\n",
              "    <tr style=\"text-align: right;\">\n",
              "      <th></th>\n",
              "      <th>start_month</th>\n",
              "    </tr>\n",
              "    <tr>\n",
              "      <th>session_id</th>\n",
              "      <th></th>\n",
              "    </tr>\n",
              "  </thead>\n",
              "  <tbody>\n",
              "    <tr>\n",
              "      <th>21669</th>\n",
              "      <td>201301</td>\n",
              "    </tr>\n",
              "    <tr>\n",
              "      <th>54843</th>\n",
              "      <td>201301</td>\n",
              "    </tr>\n",
              "    <tr>\n",
              "      <th>77292</th>\n",
              "      <td>201301</td>\n",
              "    </tr>\n",
              "    <tr>\n",
              "      <th>114021</th>\n",
              "      <td>201301</td>\n",
              "    </tr>\n",
              "    <tr>\n",
              "      <th>146670</th>\n",
              "      <td>201301</td>\n",
              "    </tr>\n",
              "  </tbody>\n",
              "</table>\n",
              "</div>"
            ],
            "text/plain": [
              "            start_month\n",
              "session_id             \n",
              "21669            201301\n",
              "54843            201301\n",
              "77292            201301\n",
              "114021           201301\n",
              "146670           201301"
            ]
          },
          "metadata": {
            "tags": []
          },
          "execution_count": 41
        }
      ]
    },
    {
      "cell_type": "markdown",
      "metadata": {
        "id": "KXjVHoXTT7dT"
      },
      "source": [
        "Додайте нову ознаку, попередньо нормалізуючи її за допомогою `StandardScaler`, і знову підрахуйте ROC AUC на відкладеній вибірці."
      ]
    },
    {
      "cell_type": "code",
      "metadata": {
        "id": "jQ1Fl8aNT7dU",
        "colab": {
          "base_uri": "https://localhost:8080/"
        },
        "outputId": "f3215710-0375-49d4-c22f-b463035415c6"
      },
      "source": [
        "start_month = extra_features_df[\"start_month\"].values[:idx_split].reshape(-1, 1)\n",
        "normalized_session_date = StandardScaler().fit_transform(start_month)\n",
        "train_matrix_with_session_date = csr_matrix(hstack((train_matrix, normalized_session_date)))\n",
        "get_auc_lr_valid(train_matrix_with_session_date, y_train)"
      ],
      "execution_count": 43,
      "outputs": [
        {
          "output_type": "execute_result",
          "data": {
            "text/plain": [
              "0.9196563464631973"
            ]
          },
          "metadata": {
            "tags": []
          },
          "execution_count": 43
        }
      ]
    },
    {
      "cell_type": "markdown",
      "metadata": {
        "id": "Tx1-wXJ8T7dY"
      },
      "source": [
        "** Додайте дві нові ознаки: start_hour і morning. **\n",
        "\n",
        "Ознака `start_hour` - це час у якому почалася сесія (від 0 до 23), а бінарна оознака` morning` рівна 1, якщо сесія почалася вранці і 0, якщо сесія почалася пізніше (будемо вважати, що це ранок, якщо `start_hour рівний` 11 або менше).\n",
        "\n",
        "** Підрахуйте RUC AUC на відкладеній вибірці для вибірки з: **\n",
        "- сайтами, `start_month` і` start_hour`\n",
        "- сайтами, `start_month` і` morning`\n",
        "- сайтами, `start_month`,` start_hour` і `morning`"
      ]
    },
    {
      "cell_type": "code",
      "metadata": {
        "id": "RIwOQZ8_T7da",
        "colab": {
          "base_uri": "https://localhost:8080/",
          "height": 238
        },
        "outputId": "a3494698-345f-4d12-c4a5-cf93d0a9e3c2"
      },
      "source": [
        "extra_features_df[\"start_hour\"] = full_df[\"time1\"].apply(lambda time: time.hour)\n",
        "extra_features_df[\"morning\"] = full_df[\"time1\"].apply(lambda time: 1 if time.hour <= 11 else 0)\n",
        "extra_features_df.head()"
      ],
      "execution_count": 44,
      "outputs": [
        {
          "output_type": "execute_result",
          "data": {
            "text/html": [
              "<div>\n",
              "<style scoped>\n",
              "    .dataframe tbody tr th:only-of-type {\n",
              "        vertical-align: middle;\n",
              "    }\n",
              "\n",
              "    .dataframe tbody tr th {\n",
              "        vertical-align: top;\n",
              "    }\n",
              "\n",
              "    .dataframe thead th {\n",
              "        text-align: right;\n",
              "    }\n",
              "</style>\n",
              "<table border=\"1\" class=\"dataframe\">\n",
              "  <thead>\n",
              "    <tr style=\"text-align: right;\">\n",
              "      <th></th>\n",
              "      <th>start_month</th>\n",
              "      <th>start_hour</th>\n",
              "      <th>morning</th>\n",
              "    </tr>\n",
              "    <tr>\n",
              "      <th>session_id</th>\n",
              "      <th></th>\n",
              "      <th></th>\n",
              "      <th></th>\n",
              "    </tr>\n",
              "  </thead>\n",
              "  <tbody>\n",
              "    <tr>\n",
              "      <th>21669</th>\n",
              "      <td>201301</td>\n",
              "      <td>8</td>\n",
              "      <td>1</td>\n",
              "    </tr>\n",
              "    <tr>\n",
              "      <th>54843</th>\n",
              "      <td>201301</td>\n",
              "      <td>8</td>\n",
              "      <td>1</td>\n",
              "    </tr>\n",
              "    <tr>\n",
              "      <th>77292</th>\n",
              "      <td>201301</td>\n",
              "      <td>8</td>\n",
              "      <td>1</td>\n",
              "    </tr>\n",
              "    <tr>\n",
              "      <th>114021</th>\n",
              "      <td>201301</td>\n",
              "      <td>8</td>\n",
              "      <td>1</td>\n",
              "    </tr>\n",
              "    <tr>\n",
              "      <th>146670</th>\n",
              "      <td>201301</td>\n",
              "      <td>8</td>\n",
              "      <td>1</td>\n",
              "    </tr>\n",
              "  </tbody>\n",
              "</table>\n",
              "</div>"
            ],
            "text/plain": [
              "            start_month  start_hour  morning\n",
              "session_id                                  \n",
              "21669            201301           8        1\n",
              "54843            201301           8        1\n",
              "77292            201301           8        1\n",
              "114021           201301           8        1\n",
              "146670           201301           8        1"
            ]
          },
          "metadata": {
            "tags": []
          },
          "execution_count": 44
        }
      ]
    },
    {
      "cell_type": "code",
      "metadata": {
        "id": "0Ke0R344PRPO"
      },
      "source": [
        "# Not to repeat code we will write functions for normalizing features and making train matrix\n",
        "def get_normalized_values(features):\n",
        "    data = np.array(features)\n",
        "    if len(data.shape) <= 1:\n",
        "        data = features.reshape(-1, 1)\n",
        "    normalized_features = StandardScaler().fit_transform(data)\n",
        "    return normalized_features"
      ],
      "execution_count": 26,
      "outputs": []
    },
    {
      "cell_type": "code",
      "metadata": {
        "id": "nrvvTD7LPGzg"
      },
      "source": [
        "def get_auc_lr_valid_with_extra_features(features):\n",
        "    normalized_data = get_normalized_values(features.values[:idx_split, :])\n",
        "    matrix_with_extra_features = csr_matrix(hstack((train_matrix, normalized_data)))\n",
        "    roc_auc_estimate = get_auc_lr_valid(matrix_with_extra_features, y_train)\n",
        "    return roc_auc_estimate"
      ],
      "execution_count": 48,
      "outputs": []
    },
    {
      "cell_type": "code",
      "metadata": {
        "colab": {
          "base_uri": "https://localhost:8080/"
        },
        "id": "M0VNaC9VTBTW",
        "outputId": "5d0785b7-30c8-4076-c732-4595687c2839"
      },
      "source": [
        "get_auc_lr_valid_with_extra_features(extra_features_df[[\"start_month\", \"start_hour\"]])"
      ],
      "execution_count": 49,
      "outputs": [
        {
          "output_type": "execute_result",
          "data": {
            "text/plain": [
              "0.9572375929307422"
            ]
          },
          "metadata": {
            "tags": []
          },
          "execution_count": 49
        }
      ]
    },
    {
      "cell_type": "code",
      "metadata": {
        "colab": {
          "base_uri": "https://localhost:8080/"
        },
        "id": "QZGjWSScTaPx",
        "outputId": "53b6cb40-5e0e-45ba-b0fd-a8485d1533ac"
      },
      "source": [
        "get_auc_lr_valid_with_extra_features(extra_features_df[[\"start_month\", \"morning\"]])"
      ],
      "execution_count": 50,
      "outputs": [
        {
          "output_type": "execute_result",
          "data": {
            "text/plain": [
              "0.9481406152631044"
            ]
          },
          "metadata": {
            "tags": []
          },
          "execution_count": 50
        }
      ]
    },
    {
      "cell_type": "code",
      "metadata": {
        "colab": {
          "base_uri": "https://localhost:8080/"
        },
        "id": "WOgX2yCZTy1x",
        "outputId": "9087e018-d806-45a3-8894-553e0c507e72"
      },
      "source": [
        "get_auc_lr_valid_with_extra_features(extra_features_df[[\"start_month\", \"morning\", \"start_hour\"]])"
      ],
      "execution_count": 30,
      "outputs": [
        {
          "output_type": "execute_result",
          "data": {
            "text/plain": [
              "0.958901318904009"
            ]
          },
          "metadata": {
            "tags": []
          },
          "execution_count": 30
        }
      ]
    },
    {
      "cell_type": "markdown",
      "metadata": {
        "id": "BICIGCSsT7df"
      },
      "source": [
        "### 4. Підбір коефіцієнта регуляризації\n",
        "\n",
        "Отже, ми ввели ознаки, які покращують якість нашої моделі у порівнянні з першим бейслайном. Чи можемо ми домогтися більшого значення метрики? Після того, як ми сформували навчальну та тестову вибірки, майже завжди має сенс підібрати оптимальні гіперпараметри - характеристики моделі, які не змінюються під час навчання. Наприклад, ви вивчали вирішальні дерева, глибина дерева це гіперпараметр, а ознака, за якому відбувається розгалуження і її значення - ні. У використовуваної нами логістичної регресії ваги кожної ознаки змінюються і під час навчання знаходяться їх оптимальні значення, а коефіцієнт регуляризації залишається постійним. Це той гіперпараметр, який ми зараз будемо оптимізувати.\n",
        "\n",
        "Порахуйте якість на відкладеній вибірці з коефіцієнтом регуляризації, який за замовчуванням `C = 1 ':"
      ]
    },
    {
      "cell_type": "code",
      "metadata": {
        "id": "zSd56_TtT7df",
        "colab": {
          "base_uri": "https://localhost:8080/"
        },
        "outputId": "ce3f39e7-436c-4aeb-9ecf-5bd225fccdfe"
      },
      "source": [
        "get_auc_lr_valid(train_matrix, y_train)"
      ],
      "execution_count": 31,
      "outputs": [
        {
          "output_type": "execute_result",
          "data": {
            "text/plain": [
              "0.9199789471713791"
            ]
          },
          "metadata": {
            "tags": []
          },
          "execution_count": 31
        }
      ]
    },
    {
      "cell_type": "markdown",
      "metadata": {
        "id": "VgyR4THVT7dm"
      },
      "source": [
        "Постараємося побити цей результат за рахунок оптимізації коефіцієнта регуляризації. Візьмемо набір можливих значень C і для кожного з них порахуємо значення метрики на відкладеної вибірці.\n",
        "\n",
        "Знайдіть `C` з` np.logspace (-3, 1, 10) `, при якому ROC AUC на відкладеної вибірці максимальний."
      ]
    },
    {
      "cell_type": "code",
      "metadata": {
        "id": "NUex1oHvT7dm"
      },
      "source": [
        "def compare(c_value):\n",
        "    if c_value < 0:\n",
        "      return 0\n",
        "    auc_value = get_auc_lr_valid(train_matrix, y_train, C=c_value)\n",
        "    print(f\"{auc_value} auc roc estimation with {c_value} value\")\n",
        "    return auc_value"
      ],
      "execution_count": 38,
      "outputs": []
    },
    {
      "cell_type": "code",
      "metadata": {
        "colab": {
          "base_uri": "https://localhost:8080/"
        },
        "id": "Hnf5dxzrZzZP",
        "outputId": "a41bcb79-48a2-4f28-fb82-abd6aa60b126"
      },
      "source": [
        "C_values = np.logspace(-1, 3, 10)\n",
        "optimal_C = max(C_values, key=compare)\n",
        "print(f\"{optimal_C} is the best C value\")"
      ],
      "execution_count": 40,
      "outputs": [
        {
          "output_type": "stream",
          "text": [
            "0.920034953190441 auc roc estimation with 0.1 value\n",
            "0.9200624278413017 auc roc estimation with 0.2782559402207124 value\n",
            "0.9194649296648938 auc roc estimation with 0.774263682681127 value\n",
            "0.9208957249443261 auc roc estimation with 2.1544346900318834 value\n",
            "0.9214924683226333 auc roc estimation with 5.994842503189409 value\n",
            "0.9207619747209059 auc roc estimation with 16.68100537200059 value\n",
            "0.9206528309155642 auc roc estimation with 46.41588833612777 value\n",
            "0.9208403227637446 auc roc estimation with 129.15496650148827 value\n",
            "0.9205705579226025 auc roc estimation with 359.38136638046257 value\n",
            "0.9201767042737272 auc roc estimation with 1000.0 value\n",
            "5.994842503189409 is the best C value\n"
          ],
          "name": "stdout"
        }
      ]
    },
    {
      "cell_type": "markdown",
      "metadata": {
        "id": "FA64y9S-T7ds"
      },
      "source": [
        "Наконец, обучите модель с найденным оптимальным значением коэффициента регуляризации и с построенными признаками `start_hour`, `start_month` и `morning`. Если вы все сделали правильно и загрузите это решение, то повторите второй бенчмарк соревнования.\n",
        "\n",
        "Нарешті, навчіть модель зі знайденим оптимальним значенням коефіцієнта регуляризації і з побудованими ознаками `start_hour`,` start_month` і `morning`. "
      ]
    },
    {
      "cell_type": "code",
      "metadata": {
        "id": "gHKSaYGpT7dt"
      },
      "source": [
        "\n",
        "def make_matrix(rows_slice):\n",
        "    extra_features = extra_features_df[[\"start_month\", \"morning\", \"start_hour\"]].values[rows_slice, :]\n",
        "    extra_normalized_features = get_normalized_values(extra_features)\n",
        "    final_matrix = csr_matrix(hstack((full_sites_sparse[rows_slice, :], extra_normalized_features)))\n",
        "    return final_matrix"
      ],
      "execution_count": 53,
      "outputs": []
    },
    {
      "cell_type": "code",
      "metadata": {
        "id": "_0aDgT_-lvy7"
      },
      "source": [
        "# preparing data\n",
        "final_train_matrix = make_matrix(slice(None, idx_split, 1))\n",
        "final_model = model = LogisticRegression(C=optimal_C, n_jobs=-1).fit(final_train_matrix, y_train)"
      ],
      "execution_count": 55,
      "outputs": []
    },
    {
      "cell_type": "code",
      "metadata": {
        "colab": {
          "base_uri": "https://localhost:8080/"
        },
        "id": "lTyIKgYdeO59",
        "outputId": "89adcbe1-260a-45da-cd3f-5f6ce950b4ca"
      },
      "source": [
        "final_test_matrix = make_matrix(slice(idx_split, None, 1))\n",
        "y_predicted = final_model.predict(final_test_matrix)\n",
        "write_to_submission_file(y_predicted, \"predicted_by_final_model.csv\")\n",
        "np.where(y_predicted == 1)"
      ],
      "execution_count": 58,
      "outputs": [
        {
          "output_type": "execute_result",
          "data": {
            "text/plain": [
              "(array([   44,    83,   346,   425,   708,   808,  1182,  1296,  1395,\n",
              "         1489,  1704,  1849,  1977,  2364,  2390,  2458,  2622,  2881,\n",
              "         2900,  3640,  3945,  4300,  4561,  4919,  5246,  5251,  5331,\n",
              "         5939,  6246,  6288,  6530,  6681,  6968,  7245,  7888,  7969,\n",
              "         7996,  8515,  8656,  9097,  9686,  9982, 10109, 10199, 10347,\n",
              "        10614, 12334, 12512, 12684, 13111, 13269, 13336, 13901, 13986,\n",
              "        14405, 14459, 14590, 14685, 15027, 15305, 15328, 15340, 15464,\n",
              "        15937, 16238, 16674, 17018, 17062, 17392, 17749, 17931, 18726,\n",
              "        18848, 19148, 19572, 19842, 19967, 20782, 20866, 20892, 21070,\n",
              "        22469, 22612, 23117, 24897, 24976, 25303, 25372, 25412, 25422,\n",
              "        25439, 25774, 25847, 26265, 26377, 26596, 27512, 27682, 27776,\n",
              "        28453, 29037, 29082, 29330, 29360, 29489, 30558, 30918, 31801,\n",
              "        32113, 32423, 32458, 32466, 32618, 32631, 33068, 33169, 33304,\n",
              "        33488, 33910, 34295, 34484, 34639, 35094, 35299, 35420, 35787,\n",
              "        35804, 35962, 36009, 36288, 36315, 36570, 36601, 36612, 36707,\n",
              "        37075, 37151, 37272, 38084, 38218, 38242, 38300, 38652, 38726,\n",
              "        38742, 40365, 40529, 40552, 40858, 41098, 41117, 41334, 41772,\n",
              "        41822, 41824, 41953, 42031, 42330, 42766, 42832, 42944, 43062,\n",
              "        43103, 43172, 43190, 43512, 43543, 43615, 43635, 43660, 44337,\n",
              "        44943, 46224, 46300, 46511, 46885, 47521, 47720, 47891, 48084,\n",
              "        48345, 48490, 48531, 48662, 49094, 49183, 49309, 49574, 49814,\n",
              "        50013, 50038, 50283, 50387, 50447, 50632, 50883, 51062, 51245,\n",
              "        52678, 52819, 52970, 53103, 53414, 53427, 53859, 54154, 54176,\n",
              "        54433, 54518, 54591, 55124, 55675, 55991, 56237, 56303, 57061,\n",
              "        57230, 57645, 57711, 57961, 58291, 58337, 58662, 58917, 59143,\n",
              "        59204, 59477, 59582, 59646, 59775, 59777, 60262, 60440, 60958,\n",
              "        60988, 61009, 61166, 61257, 61519, 61678, 61703, 62202, 62338,\n",
              "        63192, 63195, 63294, 63338, 63421, 64257, 64334, 64713, 64963,\n",
              "        65235, 65348, 65524, 65888, 66258, 66476, 66480, 66571, 66660,\n",
              "        66765, 66997, 67013, 67022, 67073, 68096, 68157, 68252, 68438,\n",
              "        68491, 68867, 69932, 70875, 71219, 71282, 71419, 71734, 71775,\n",
              "        72654, 72708, 72771, 72926, 73115, 73164, 73208, 73272, 73864,\n",
              "        74048, 74267, 74820, 75094, 75125, 75467, 75606, 75698, 75721,\n",
              "        76724, 76811, 76984, 77076, 77218, 77258, 77476, 77551, 77680,\n",
              "        77750, 78414, 78702, 78796, 78935, 79612, 79667, 80226, 80228,\n",
              "        80328, 80775, 80792, 81130, 81134, 81221, 82020, 82069, 82146]),)"
            ]
          },
          "metadata": {
            "tags": []
          },
          "execution_count": 58
        }
      ]
    },
    {
      "cell_type": "code",
      "metadata": {
        "colab": {
          "base_uri": "https://localhost:8080/"
        },
        "id": "IBTisfP2n0o8",
        "outputId": "520c3c8e-0656-445c-c331-d0d653738b7a"
      },
      "source": [
        "final_class_probs = final_model.predict_proba(final_test_matrix)[:, 1]\n",
        "write_to_submission_file(final_class_probs, \"final_classes_probabilities.csv\")\n",
        "final_class_probs[:20]"
      ],
      "execution_count": 60,
      "outputs": [
        {
          "output_type": "execute_result",
          "data": {
            "text/plain": [
              "array([4.76908432e-06, 3.84055536e-11, 2.90066332e-17, 1.55534571e-16,\n",
              "       3.42386938e-06, 2.46774599e-08, 1.02981546e-04, 4.70239939e-06,\n",
              "       2.14222677e-06, 1.08616756e-03, 1.29382256e-07, 3.58572331e-08,\n",
              "       5.43380362e-08, 8.05489179e-03, 4.21162998e-07, 5.10537814e-05,\n",
              "       3.13869354e-02, 1.30589908e-09, 5.34596407e-06, 1.94798196e-11])"
            ]
          },
          "metadata": {
            "tags": []
          },
          "execution_count": 60
        }
      ]
    }
  ]
}