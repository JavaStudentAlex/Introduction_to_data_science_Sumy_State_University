{
 "nbformat": 4,
 "nbformat_minor": 0,
 "metadata": {
  "anaconda-cloud": {},
  "kernelspec": {
   "display_name": "Python 3",
   "language": "python",
   "name": "python3"
  },
  "language_info": {
   "codemirror_mode": {
    "name": "ipython",
    "version": 3
   },
   "file_extension": ".py",
   "mimetype": "text/x-python",
   "name": "python",
   "nbconvert_exporter": "python",
   "pygments_lexer": "ipython3",
   "version": "3.6.8"
  },
  "colab": {
   "name": "lab_4.1_credit_scoring_random_forest.ipynb",
   "provenance": []
  }
 },
 "cells": [
  {
   "cell_type": "markdown",
   "metadata": {
    "id": "wqDS-cpgGnen"
   },
   "source": [
    "### <Center> Лабораторна робота №7. <br> Алгоритм випадкового лісу в задачі кредитного скорінгу"
   ]
  },
  {
   "cell_type": "markdown",
   "metadata": {
    "id": "GLXPeGA1Gnep"
   },
   "source": [
    "Необхідно розв'язати задачу кредитного скорінга \n",
    "\n",
    "Ознаки клієнта банку:\n",
    "- Age - вік (дійсночислова)\n",
    "- Income - місячний дохід (дійсночислова)\n",
    "- BalanceToCreditLimit - відношення балансу на кредитній картці до ліміту за кредитом (дійсночислова)\n",
    "- DIR - Debt-to-income Ratio (дійсночислова)\n",
    "- NumLoans - кылькість позичок і кредитних ліній\n",
    "- NumRealEstateLoans - кількість іпотек і позичок, пов'язаних з нерухомістю (натуральне число)\n",
    "- NumDependents - кількість членів сім'ї, яких утримує клієнт, без врахування самого клієнту (натуральне число)\n",
    "- Num30-59Delinquencies - кількість протермінувань виплат за кредитом від 30 до 59 днів (натуральне число)\n",
    "- Num60-89Delinquencies - кількість протермінувань виплат за кредитом від 60 до 89 дній (натуральне число)\n",
    "- Delinquent90 - чи були протермінування виплат за кредитом більше 90 днів (бінарний)"
   ]
  },
  {
   "cell_type": "code",
   "metadata": {
    "id": "W_E6_93fGnes"
   },
   "source": [
    "import numpy as np\n",
    "import pandas as pd\n",
    "from sklearn.tree import DecisionTreeClassifier\n",
    "from sklearn.ensemble import RandomForestClassifier\n",
    "from sklearn.model_selection import GridSearchCV\n",
    "from sklearn.metrics import roc_auc_score\n",
    "%matplotlib inline"
   ],
   "execution_count": 1,
   "outputs": []
  },
  {
   "cell_type": "code",
   "metadata": {
    "pycharm": {
     "name": "#%%\n"
    },
    "id": "uy-MDmOBykus"
   },
   "source": [
    "\"\"\"\n",
    "#Uncomment next sections if use in google collab\n",
    "!pip install google-colab\n",
    "!pip install pydrive\n",
    "\"\"\"\n"
   ],
   "execution_count": null,
   "outputs": []
  },
  {
   "cell_type": "code",
   "metadata": {
    "pycharm": {
     "name": "#%%\n"
    },
    "id": "usptfjcCykuu"
   },
   "source": [
    "\"\"\"\n",
    "from pydrive.auth import GoogleAuth\n",
    "from pydrive.drive import GoogleDrive\n",
    "from google.colab import auth\n",
    "from oauth2client.client import GoogleCredentials\n",
    "auth.authenticate_user()\n",
    "gauth = GoogleAuth()\n",
    "gauth.credentials = GoogleCredentials.get_application_default()\n",
    "drive = GoogleDrive(gauth)\n",
    "\"\"\"\n"
   ],
   "execution_count": 3,
   "outputs": []
  },
  {
   "cell_type": "code",
   "metadata": {
    "pycharm": {
     "name": "#%%\n"
    },
    "id": "WLKCaNdBykuv"
   },
   "source": [
    "\"\"\"\n",
    "downloaded = drive.CreateFile({'id':\"18dGpP5iaMmtjqnypqK5g1GpZ4cpct-9k\"})\n",
    "downloaded.GetContentFile('credit_scoring_train.csv')\n",
    "\n",
    "downloaded = drive.CreateFile({'id':\"1MPONmg-TxehkmcpfaERpWmfslQCqzGPH\"})\n",
    "downloaded.GetContentFile('credit_scoring_test.csv')\n",
    "\"\"\"\n"
   ],
   "execution_count": 4,
   "outputs": []
  },
  {
   "cell_type": "markdown",
   "metadata": {
    "id": "DxUHuV69Gnfb"
   },
   "source": [
    "Завантажимо дані з використанням pandas"
   ]
  },
  {
   "cell_type": "code",
   "metadata": {
    "id": "TsGU3tIqGnfe"
   },
   "source": [
    "train_df = pd.read_csv('credit_scoring_train.csv', index_col='client_id')\n",
    "test_df = pd.read_csv('credit_scoring_test.csv', index_col='client_id')"
   ],
   "execution_count": 5,
   "outputs": []
  },
  {
   "cell_type": "code",
   "metadata": {
    "id": "RmWclGvXGnfr"
   },
   "source": [
    "y = train_df['Delinquent90']\n",
    "train_df.drop('Delinquent90', axis=1, inplace=True)"
   ],
   "execution_count": 6,
   "outputs": []
  },
  {
   "cell_type": "code",
   "metadata": {
    "id": "bYL5plqRGnf0",
    "colab": {
     "base_uri": "https://localhost:8080/",
     "height": 238
    },
    "outputId": "cc797347-58ee-42df-eac8-d2cb7b9bf86e"
   },
   "source": [
    "train_df.head()"
   ],
   "execution_count": 7,
   "outputs": [
    {
     "output_type": "execute_result",
     "data": {
      "text/html": [
       "<div>\n",
       "<style scoped>\n",
       "    .dataframe tbody tr th:only-of-type {\n",
       "        vertical-align: middle;\n",
       "    }\n",
       "\n",
       "    .dataframe tbody tr th {\n",
       "        vertical-align: top;\n",
       "    }\n",
       "\n",
       "    .dataframe thead th {\n",
       "        text-align: right;\n",
       "    }\n",
       "</style>\n",
       "<table border=\"1\" class=\"dataframe\">\n",
       "  <thead>\n",
       "    <tr style=\"text-align: right;\">\n",
       "      <th></th>\n",
       "      <th>DIR</th>\n",
       "      <th>Age</th>\n",
       "      <th>NumLoans</th>\n",
       "      <th>NumRealEstateLoans</th>\n",
       "      <th>NumDependents</th>\n",
       "      <th>Num30-59Delinquencies</th>\n",
       "      <th>Num60-89Delinquencies</th>\n",
       "      <th>Income</th>\n",
       "      <th>BalanceToCreditLimit</th>\n",
       "    </tr>\n",
       "    <tr>\n",
       "      <th>client_id</th>\n",
       "      <th></th>\n",
       "      <th></th>\n",
       "      <th></th>\n",
       "      <th></th>\n",
       "      <th></th>\n",
       "      <th></th>\n",
       "      <th></th>\n",
       "      <th></th>\n",
       "      <th></th>\n",
       "    </tr>\n",
       "  </thead>\n",
       "  <tbody>\n",
       "    <tr>\n",
       "      <th>0</th>\n",
       "      <td>0.496289</td>\n",
       "      <td>49.1</td>\n",
       "      <td>13</td>\n",
       "      <td>0</td>\n",
       "      <td>0.0</td>\n",
       "      <td>2</td>\n",
       "      <td>0</td>\n",
       "      <td>5298.360639</td>\n",
       "      <td>0.387028</td>\n",
       "    </tr>\n",
       "    <tr>\n",
       "      <th>1</th>\n",
       "      <td>0.433567</td>\n",
       "      <td>48.0</td>\n",
       "      <td>9</td>\n",
       "      <td>2</td>\n",
       "      <td>2.0</td>\n",
       "      <td>1</td>\n",
       "      <td>0</td>\n",
       "      <td>6008.056256</td>\n",
       "      <td>0.234679</td>\n",
       "    </tr>\n",
       "    <tr>\n",
       "      <th>2</th>\n",
       "      <td>2206.731199</td>\n",
       "      <td>55.5</td>\n",
       "      <td>21</td>\n",
       "      <td>1</td>\n",
       "      <td>NaN</td>\n",
       "      <td>1</td>\n",
       "      <td>0</td>\n",
       "      <td>NaN</td>\n",
       "      <td>0.348227</td>\n",
       "    </tr>\n",
       "    <tr>\n",
       "      <th>3</th>\n",
       "      <td>886.132793</td>\n",
       "      <td>55.3</td>\n",
       "      <td>3</td>\n",
       "      <td>0</td>\n",
       "      <td>0.0</td>\n",
       "      <td>0</td>\n",
       "      <td>0</td>\n",
       "      <td>NaN</td>\n",
       "      <td>0.971930</td>\n",
       "    </tr>\n",
       "    <tr>\n",
       "      <th>4</th>\n",
       "      <td>0.000000</td>\n",
       "      <td>52.3</td>\n",
       "      <td>1</td>\n",
       "      <td>0</td>\n",
       "      <td>0.0</td>\n",
       "      <td>0</td>\n",
       "      <td>0</td>\n",
       "      <td>2504.613105</td>\n",
       "      <td>1.004350</td>\n",
       "    </tr>\n",
       "  </tbody>\n",
       "</table>\n",
       "</div>"
      ],
      "text/plain": [
       "                   DIR   Age  ...       Income  BalanceToCreditLimit\n",
       "client_id                     ...                                   \n",
       "0             0.496289  49.1  ...  5298.360639              0.387028\n",
       "1             0.433567  48.0  ...  6008.056256              0.234679\n",
       "2          2206.731199  55.5  ...          NaN              0.348227\n",
       "3           886.132793  55.3  ...          NaN              0.971930\n",
       "4             0.000000  52.3  ...  2504.613105              1.004350\n",
       "\n",
       "[5 rows x 9 columns]"
      ]
     },
     "metadata": {
      "tags": []
     },
     "execution_count": 7
    }
   ]
  },
  {
   "cell_type": "markdown",
   "metadata": {
    "id": "e8-DHitiGnf8"
   },
   "source": [
    "**Переглянемо кількість пропусків в кожній ознаці.**"
   ]
  },
  {
   "cell_type": "code",
   "metadata": {
    "id": "W1kZd0WgGnf-",
    "colab": {
     "base_uri": "https://localhost:8080/"
    },
    "outputId": "6b8ec5df-52a7-4308-fe9d-116bd2abc409"
   },
   "source": [
    "train_df.info()"
   ],
   "execution_count": 8,
   "outputs": [
    {
     "output_type": "stream",
     "text": [
      "<class 'pandas.core.frame.DataFrame'>\n",
      "Int64Index: 75000 entries, 0 to 74999\n",
      "Data columns (total 9 columns):\n",
      " #   Column                 Non-Null Count  Dtype  \n",
      "---  ------                 --------------  -----  \n",
      " 0   DIR                    75000 non-null  float64\n",
      " 1   Age                    75000 non-null  float64\n",
      " 2   NumLoans               75000 non-null  int64  \n",
      " 3   NumRealEstateLoans     75000 non-null  int64  \n",
      " 4   NumDependents          73084 non-null  float64\n",
      " 5   Num30-59Delinquencies  75000 non-null  int64  \n",
      " 6   Num60-89Delinquencies  75000 non-null  int64  \n",
      " 7   Income                 60153 non-null  float64\n",
      " 8   BalanceToCreditLimit   75000 non-null  float64\n",
      "dtypes: float64(5), int64(4)\n",
      "memory usage: 5.7 MB\n"
     ],
     "name": "stdout"
    }
   ]
  },
  {
   "cell_type": "code",
   "metadata": {
    "id": "S_Wp2H0_GngL",
    "colab": {
     "base_uri": "https://localhost:8080/"
    },
    "outputId": "08656c1e-a7b2-4067-8f43-a2012020f1d5"
   },
   "source": [
    "test_df.info()"
   ],
   "execution_count": 9,
   "outputs": [
    {
     "output_type": "stream",
     "text": [
      "<class 'pandas.core.frame.DataFrame'>\n",
      "Int64Index: 75000 entries, 75000 to 149999\n",
      "Data columns (total 9 columns):\n",
      " #   Column                 Non-Null Count  Dtype  \n",
      "---  ------                 --------------  -----  \n",
      " 0   DIR                    75000 non-null  float64\n",
      " 1   Age                    75000 non-null  float64\n",
      " 2   NumLoans               75000 non-null  int64  \n",
      " 3   NumRealEstateLoans     75000 non-null  int64  \n",
      " 4   NumDependents          72992 non-null  float64\n",
      " 5   Num30-59Delinquencies  75000 non-null  int64  \n",
      " 6   Num60-89Delinquencies  75000 non-null  int64  \n",
      " 7   Income                 60116 non-null  float64\n",
      " 8   BalanceToCreditLimit   75000 non-null  float64\n",
      "dtypes: float64(5), int64(4)\n",
      "memory usage: 5.7 MB\n"
     ],
     "name": "stdout"
    }
   ]
  },
  {
   "cell_type": "markdown",
   "metadata": {
    "id": "W_C3sZYtGngV"
   },
   "source": [
    "**Замінимо пропуски медіанними значеннями.**"
   ]
  },
  {
   "cell_type": "code",
   "metadata": {
    "id": "S7lgGW2-GngW"
   },
   "source": [
    "train_df['NumDependents'].fillna(train_df['NumDependents'].median(), inplace=True)\n",
    "train_df['Income'].fillna(train_df['Income'].median(), inplace=True)\n",
    "test_df['NumDependents'].fillna(test_df['NumDependents'].median(), inplace=True)\n",
    "test_df['Income'].fillna(test_df['Income'].median(), inplace=True)"
   ],
   "execution_count": 10,
   "outputs": []
  },
  {
   "cell_type": "markdown",
   "metadata": {
    "id": "fwFO0_psGngi"
   },
   "source": [
    "### Дерево рішень без налаштування параметрів"
   ]
  },
  {
   "cell_type": "markdown",
   "metadata": {
    "id": "-uvGAO1AGngj"
   },
   "source": [
    "**Обучите дерево решений максимальной глубины 3, используйте параметр random_state=17 для воспроизводимости результатов.**"
   ]
  },
  {
   "cell_type": "code",
   "metadata": {
    "id": "zWlV85XzGngk",
    "colab": {
     "base_uri": "https://localhost:8080/"
    },
    "outputId": "09457f82-5ec3-46d6-d0db-249df0a37cd4"
   },
   "source": [
    "first_tree = DecisionTreeClassifier(max_depth=3, random_state=17)\n",
    "first_tree.fit(train_df, y)"
   ],
   "execution_count": 11,
   "outputs": [
    {
     "output_type": "execute_result",
     "data": {
      "text/plain": [
       "DecisionTreeClassifier(ccp_alpha=0.0, class_weight=None, criterion='gini',\n",
       "                       max_depth=3, max_features=None, max_leaf_nodes=None,\n",
       "                       min_impurity_decrease=0.0, min_impurity_split=None,\n",
       "                       min_samples_leaf=1, min_samples_split=2,\n",
       "                       min_weight_fraction_leaf=0.0, presort='deprecated',\n",
       "                       random_state=17, splitter='best')"
      ]
     },
     "metadata": {
      "tags": []
     },
     "execution_count": 11
    }
   ]
  },
  {
   "cell_type": "markdown",
   "metadata": {
    "id": "MaddKxqHGngx"
   },
   "source": [
    "**Зробіть прогноз для тестової вибірки.**"
   ]
  },
  {
   "cell_type": "code",
   "metadata": {
    "id": "z9A2kAERGngz"
   },
   "source": [
    "first_tree_pred = first_tree.predict(test_df)"
   ],
   "execution_count": 12,
   "outputs": []
  },
  {
   "cell_type": "markdown",
   "metadata": {
    "id": "mtUk4SOHGng6"
   },
   "source": [
    "**Запишемо прогноз у файл.**"
   ]
  },
  {
   "cell_type": "code",
   "metadata": {
    "id": "ll0D-2umGng7"
   },
   "source": [
    "def write_to_submission_file(predicted_labels, out_file,\n",
    "                             target='Delinquent90', index_label=\"client_id\"):\n",
    "    # turn predictions into data frame and save as csv file\n",
    "    predicted_df = pd.DataFrame(predicted_labels,\n",
    "                                index = np.arange(75000, \n",
    "                                                  predicted_labels.shape[0] + 75000),\n",
    "                                columns=[target])\n",
    "    predicted_df.to_csv(out_file, index_label=index_label)"
   ],
   "execution_count": 13,
   "outputs": []
  },
  {
   "cell_type": "code",
   "metadata": {
    "id": "AY2WdpufGnhG"
   },
   "source": [
    "write_to_submission_file(first_tree_pred, 'credit_scoring_first_tree.csv')"
   ],
   "execution_count": 14,
   "outputs": []
  },
  {
   "cell_type": "markdown",
   "metadata": {
    "id": "KZdtq_s6GnhP"
   },
   "source": [
    "**Якщо прогнозувати ймовірності дефолту для клієнтів тестової вибірки, результат буде набагато кращим.**"
   ]
  },
  {
   "cell_type": "code",
   "metadata": {
    "id": "JQarmKohGnhR"
   },
   "source": [
    "first_tree_pred_probs = first_tree.predict_proba(test_df)[:, 1]"
   ],
   "execution_count": 15,
   "outputs": []
  },
  {
   "cell_type": "code",
   "metadata": {
    "id": "k70JJmnvGnhZ"
   },
   "source": [
    "write_to_submission_file(first_tree_pred_probs, \"default_probabilities.csv\")"
   ],
   "execution_count": 16,
   "outputs": []
  },
  {
   "cell_type": "markdown",
   "metadata": {
    "id": "wZY3eqLtGnhg"
   },
   "source": [
    "## Дерево рішень без налаштування параметрів за допомогою GridSearch"
   ]
  },
  {
   "cell_type": "markdown",
   "metadata": {
    "id": "ahM0td-DGnhi"
   },
   "source": [
    "**Налаштуйте параметри дерева за допомогою `GridSearhCV`, подивіться на кращу комбінацію параметрів і середню якість на 5-кратній крос-валідації. Використовуйте параметр `random_state=17` (для відтворюваності результатів), не забувайте про розпаралелювання (`n_jobs=-1`).**"
   ]
  },
  {
   "cell_type": "code",
   "metadata": {
    "id": "s-veex_8Gnhi",
    "colab": {
     "base_uri": "https://localhost:8080/"
    },
    "outputId": "14ff3164-97c9-4ff5-9cdf-d7522a97cfdc"
   },
   "source": [
    "tree_params = {'max_depth': list(range(3, 8)), \n",
    "               'min_samples_leaf': list(range(5, 13))}\n",
    "tree_model = DecisionTreeClassifier(random_state=17)\n",
    "locally_best_tree = GridSearchCV(tree_model, tree_params, n_jobs=-1)\n",
    "locally_best_tree.fit(train_df, y)"
   ],
   "execution_count": 17,
   "outputs": [
    {
     "output_type": "execute_result",
     "data": {
      "text/plain": [
       "GridSearchCV(cv=None, error_score=nan,\n",
       "             estimator=DecisionTreeClassifier(ccp_alpha=0.0, class_weight=None,\n",
       "                                              criterion='gini', max_depth=None,\n",
       "                                              max_features=None,\n",
       "                                              max_leaf_nodes=None,\n",
       "                                              min_impurity_decrease=0.0,\n",
       "                                              min_impurity_split=None,\n",
       "                                              min_samples_leaf=1,\n",
       "                                              min_samples_split=2,\n",
       "                                              min_weight_fraction_leaf=0.0,\n",
       "                                              presort='deprecated',\n",
       "                                              random_state=17,\n",
       "                                              splitter='best'),\n",
       "             iid='deprecated', n_jobs=-1,\n",
       "             param_grid={'max_depth': [3, 4, 5, 6, 7],\n",
       "                         'min_samples_leaf': [5, 6, 7, 8, 9, 10, 11, 12]},\n",
       "             pre_dispatch='2*n_jobs', refit=True, return_train_score=False,\n",
       "             scoring=None, verbose=0)"
      ]
     },
     "metadata": {
      "tags": []
     },
     "execution_count": 17
    }
   ]
  },
  {
   "cell_type": "code",
   "metadata": {
    "id": "-ZJ1wT3_Gnhn",
    "colab": {
     "base_uri": "https://localhost:8080/"
    },
    "outputId": "adeec2ae-873c-42d4-e257-8bce627c42bf"
   },
   "source": [
    "locally_best_tree.best_params_, round(locally_best_tree.best_score_, 3)"
   ],
   "execution_count": 18,
   "outputs": [
    {
     "output_type": "execute_result",
     "data": {
      "text/plain": [
       "({'max_depth': 5, 'min_samples_leaf': 11}, 0.935)"
      ]
     },
     "metadata": {
      "tags": []
     },
     "execution_count": 18
    }
   ]
  },
  {
   "cell_type": "markdown",
   "metadata": {
    "id": "MPWxpQimGnhr"
   },
   "source": [
    "**Зробіть прогноз для тестової вибірки.**"
   ]
  },
  {
   "cell_type": "code",
   "metadata": {
    "id": "AaLhNyuSGnhs"
   },
   "source": [
    "tuned_tree_prediction = locally_best_tree.predict(test_df)"
   ],
   "execution_count": 19,
   "outputs": []
  },
  {
   "cell_type": "code",
   "metadata": {
    "id": "YK7Jj2iCGnhw"
   },
   "source": [
    "write_to_submission_file(tuned_tree_prediction, \"tuned_tree_predict.csv\")"
   ],
   "execution_count": 21,
   "outputs": []
  },
  {
   "cell_type": "markdown",
   "metadata": {
    "id": "bLhN34VJGnh0"
   },
   "source": [
    "### Випадковий ліс без настройки параметрів"
   ]
  },
  {
   "cell_type": "markdown",
   "metadata": {
    "id": "ekTU53tTGnh0"
   },
   "source": [
    "**Навчіть випадковий ліс з дерев необмеженої глибини, використовуйте параметр `random_state=17` для відтворюваності результатів.**"
   ]
  },
  {
   "cell_type": "code",
   "metadata": {
    "id": "6vBh7AIeGnh1",
    "colab": {
     "base_uri": "https://localhost:8080/"
    },
    "outputId": "58c0c528-b31d-4b48-e580-f18db03e4d36"
   },
   "source": [
    "first_forest = RandomForestClassifier(random_state=17)\n",
    "first_forest.fit(train_df, y)"
   ],
   "execution_count": 22,
   "outputs": [
    {
     "output_type": "execute_result",
     "data": {
      "text/plain": [
       "RandomForestClassifier(bootstrap=True, ccp_alpha=0.0, class_weight=None,\n",
       "                       criterion='gini', max_depth=None, max_features='auto',\n",
       "                       max_leaf_nodes=None, max_samples=None,\n",
       "                       min_impurity_decrease=0.0, min_impurity_split=None,\n",
       "                       min_samples_leaf=1, min_samples_split=2,\n",
       "                       min_weight_fraction_leaf=0.0, n_estimators=100,\n",
       "                       n_jobs=None, oob_score=False, random_state=17, verbose=0,\n",
       "                       warm_start=False)"
      ]
     },
     "metadata": {
      "tags": []
     },
     "execution_count": 22
    }
   ]
  },
  {
   "cell_type": "code",
   "metadata": {
    "id": "WKXntmdVGniJ"
   },
   "source": [
    "first_forest_pred = first_forest.predict(train_df)"
   ],
   "execution_count": 23,
   "outputs": []
  },
  {
   "cell_type": "markdown",
   "metadata": {
    "id": "RGFZNbQ-GniP"
   },
   "source": [
    "**Зробіть прогноз для тестової вибірки.**"
   ]
  },
  {
   "cell_type": "code",
   "metadata": {
    "id": "yM9F3hOMGniP"
   },
   "source": [
    "write_to_submission_file(first_forest_pred, \"first_forest_prediction.csv\")"
   ],
   "execution_count": 24,
   "outputs": []
  },
  {
   "cell_type": "markdown",
   "metadata": {
    "id": "d6dQY6kzGniU"
   },
   "source": [
    "### Випадковий ліс з налаштуванням параметрів"
   ]
  },
  {
   "cell_type": "markdown",
   "metadata": {
    "id": "qWh_7kXUGniV"
   },
   "source": [
    "**Налаштуйте параметр `max_features` лісу за допомогою `GridSearhCV`, подивіться на кращу комбінацію параметрів і середню якість на 5-кратній крос-валідації. Використовуйте параметр random_state=17 (для відтворюваності результатів), не забувайте про розпаралелювання (n_jobs=-1).**"
   ]
  },
  {
   "cell_type": "code",
   "metadata": {
    "id": "CpAI2yk7GniX",
    "colab": {
     "base_uri": "https://localhost:8080/"
    },
    "outputId": "3acf8b4a-3b73-42af-9072-c8348dd6e453"
   },
   "source": [
    "%%time\n",
    "forest_params = {'max_features': np.linspace(.3, 1, 7)}\n",
    "forest_model = RandomForestClassifier(random_state=17)\n",
    "locally_best_forest = GridSearchCV(forest_model, forest_params, n_jobs=-1)\n",
    "locally_best_forest.fit(train_df, y)"
   ],
   "execution_count": 25,
   "outputs": [
    {
     "output_type": "stream",
     "text": [
      "CPU times: user 12.6 s, sys: 165 ms, total: 12.8 s\n",
      "Wall time: 9min 43s\n"
     ],
     "name": "stdout"
    }
   ]
  },
  {
   "cell_type": "code",
   "metadata": {
    "id": "jQ0EJ38RGnib",
    "colab": {
     "base_uri": "https://localhost:8080/"
    },
    "outputId": "08eaca16-abe3-4100-c2be-08b6c3bb339b"
   },
   "source": [
    "locally_best_forest.best_params_, round(locally_best_forest.best_score_, 3)"
   ],
   "execution_count": 26,
   "outputs": [
    {
     "output_type": "execute_result",
     "data": {
      "text/plain": [
       "({'max_features': 0.3}, 0.934)"
      ]
     },
     "metadata": {
      "tags": []
     },
     "execution_count": 26
    }
   ]
  },
  {
   "cell_type": "code",
   "metadata": {
    "id": "DvLp4AmMGnie"
   },
   "source": [
    "tuned_forest_pred = locally_best_forest.predict(test_df)"
   ],
   "execution_count": 28,
   "outputs": []
  },
  {
   "cell_type": "code",
   "metadata": {
    "id": "kdqVPlunGnik"
   },
   "source": [
    "write_to_submission_file(tuned_forest_pred, \"tuned_forest_prediction.csv\")"
   ],
   "execution_count": 29,
   "outputs": []
  },
  {
   "cell_type": "markdown",
   "metadata": {
    "id": "UwUlp8WXGnir"
   },
   "source": [
    "**Подивіться, як налаштований випадковий ліс оцінює важливість ознак за їх впливом на цільову ознаку. Подайте результати в наглядному вигляді за допомогою `DataFrame`.**"
   ]
  },
  {
   "cell_type": "code",
   "metadata": {
    "id": "v_VQ8fq6Gnis",
    "colab": {
     "base_uri": "https://localhost:8080/",
     "height": 332
    },
    "outputId": "377e61f4-e8a9-49f4-a120-c3f003b97c37"
   },
   "source": [
    "pd.DataFrame(locally_best_forest.best_estimator_.feature_importances_, index=train_df.columns, columns=[\"Importance\"]).sort_values(by=\"Importance\", ascending=False)"
   ],
   "execution_count": 38,
   "outputs": [
    {
     "output_type": "execute_result",
     "data": {
      "text/html": [
       "<div>\n",
       "<style scoped>\n",
       "    .dataframe tbody tr th:only-of-type {\n",
       "        vertical-align: middle;\n",
       "    }\n",
       "\n",
       "    .dataframe tbody tr th {\n",
       "        vertical-align: top;\n",
       "    }\n",
       "\n",
       "    .dataframe thead th {\n",
       "        text-align: right;\n",
       "    }\n",
       "</style>\n",
       "<table border=\"1\" class=\"dataframe\">\n",
       "  <thead>\n",
       "    <tr style=\"text-align: right;\">\n",
       "      <th></th>\n",
       "      <th>Importance</th>\n",
       "    </tr>\n",
       "  </thead>\n",
       "  <tbody>\n",
       "    <tr>\n",
       "      <th>BalanceToCreditLimit</th>\n",
       "      <td>0.225384</td>\n",
       "    </tr>\n",
       "    <tr>\n",
       "      <th>DIR</th>\n",
       "      <td>0.170093</td>\n",
       "    </tr>\n",
       "    <tr>\n",
       "      <th>Age</th>\n",
       "      <td>0.160560</td>\n",
       "    </tr>\n",
       "    <tr>\n",
       "      <th>Income</th>\n",
       "      <td>0.150816</td>\n",
       "    </tr>\n",
       "    <tr>\n",
       "      <th>NumLoans</th>\n",
       "      <td>0.093227</td>\n",
       "    </tr>\n",
       "    <tr>\n",
       "      <th>Num60-89Delinquencies</th>\n",
       "      <td>0.065174</td>\n",
       "    </tr>\n",
       "    <tr>\n",
       "      <th>Num30-59Delinquencies</th>\n",
       "      <td>0.063074</td>\n",
       "    </tr>\n",
       "    <tr>\n",
       "      <th>NumDependents</th>\n",
       "      <td>0.038709</td>\n",
       "    </tr>\n",
       "    <tr>\n",
       "      <th>NumRealEstateLoans</th>\n",
       "      <td>0.032962</td>\n",
       "    </tr>\n",
       "  </tbody>\n",
       "</table>\n",
       "</div>"
      ],
      "text/plain": [
       "                       Importance\n",
       "BalanceToCreditLimit     0.225384\n",
       "DIR                      0.170093\n",
       "Age                      0.160560\n",
       "Income                   0.150816\n",
       "NumLoans                 0.093227\n",
       "Num60-89Delinquencies    0.065174\n",
       "Num30-59Delinquencies    0.063074\n",
       "NumDependents            0.038709\n",
       "NumRealEstateLoans       0.032962"
      ]
     },
     "metadata": {
      "tags": []
     },
     "execution_count": 38
    }
   ]
  },
  {
   "cell_type": "markdown",
   "metadata": {
    "id": "RNjv8N-XGnix"
   },
   "source": [
    "**Як правило збільшення кількості дерев тільки покращує результат. Так що на останок навчіть випадковий ліс з 300 дерев зі знайденими кращими параметрами. Це може зайняти декілька хвилин.**"
   ]
  },
  {
   "cell_type": "code",
   "metadata": {
    "id": "huZdz7ORGnix",
    "colab": {
     "base_uri": "https://localhost:8080/"
    },
    "outputId": "22a86984-6282-4e2a-bea1-7df90c7a4b9e"
   },
   "source": [
    "%%time\n",
    "final_forest = RandomForestClassifier(n_estimators=300, random_state=17, **locally_best_tree.best_params_)\n",
    "final_forest.fit(train_df, y)\n",
    "final_forest_pred_prob = final_forest.predict_proba(test_df)[:, 1]\n",
    "write_to_submission_file(final_forest_pred_prob, 'credit_scoring_probabilities_final_forest.csv')\n"
   ],
   "execution_count": 40,
   "outputs": [
    {
     "output_type": "stream",
     "text": [
      "CPU times: user 19.4 s, sys: 167 ms, total: 19.5 s\n",
      "Wall time: 19.6 s\n"
     ],
     "name": "stdout"
    }
   ]
  }
 ]
}