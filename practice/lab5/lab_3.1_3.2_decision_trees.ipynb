{
 "nbformat": 4,
 "nbformat_minor": 0,
 "metadata": {
  "kernelspec": {
   "display_name": "Python 3",
   "language": "python",
   "name": "python3"
  },
  "language_info": {
   "codemirror_mode": {
    "name": "ipython",
    "version": 3
   },
   "file_extension": ".py",
   "mimetype": "text/x-python",
   "name": "python",
   "nbconvert_exporter": "python",
   "pygments_lexer": "ipython3",
   "version": "3.6.8"
  },
  "colab": {
   "name": "lab5_decision_trees.ipynb",
   "provenance": [],
   "collapsed_sections": []
  }
 },
 "cells": [
  {
   "cell_type": "markdown",
   "metadata": {
    "id": "OFRIsGMHGJcR"
   },
   "source": [
    "### <Center> Лабораторна робота №5. <br> Аналіз демографічних даних\n",
    "\n",
    "**У завданні Вам пропонується навчити і налаштувати дерева і (при бажанні) випадковий ліс в завданні класифікації на даних Adult сховища UCI.**"
   ]
  },
  {
   "cell_type": "markdown",
   "metadata": {
    "id": "yDvdaI2rGJcU"
   },
   "source": [
    "Підключаємо необхідні бібліотеки"
   ]
  },
  {
   "cell_type": "code",
   "metadata": {
    "id": "XC4DtKDeGJcX"
   },
   "source": [
    "%matplotlib inline\n",
    "from matplotlib import pyplot as plt\n",
    "plt.rcParams['figure.figsize'] = (10, 8)\n",
    "import seaborn as sns\n",
    "import numpy as np\n",
    "import pandas as pd\n",
    "from sklearn.preprocessing import LabelEncoder\n",
    "import collections\n",
    "from sklearn.model_selection import GridSearchCV\n",
    "from sklearn import preprocessing\n",
    "from sklearn.tree import DecisionTreeClassifier, export_graphviz\n",
    "from sklearn.ensemble import RandomForestClassifier\n",
    "from sklearn.metrics import accuracy_score"
   ],
   "execution_count": 123,
   "outputs": []
  },
  {
   "cell_type": "markdown",
   "metadata": {
    "id": "YhGAaOI3GUL5"
   },
   "source": [
    "Спочатку налаштуємо доступ до даних на google drive (якщо ви відкриваєте блокнот в google colab, а не на PC) шляхом монтування google drive\n"
   ]
  },
  {
   "cell_type": "code",
   "metadata": {
    "id": "ELRHT71aGS4C",
    "outputId": "f8a83935-d378-4328-d811-a08f63f3e224",
    "colab": {
     "base_uri": "https://localhost:8080/",
     "height": 1000
    }
   },
   "source": [
    "\"\"\"\n",
    "#Uncomment next sections if use in google collab\n",
    "!pip install google-colab\n",
    "!pip install pydrive\n",
    "\"\"\""
   ],
   "execution_count": 82,
   "outputs": [
    {
     "output_type": "stream",
     "text": [
      "Requirement already satisfied: google-colab in /usr/local/lib/python3.6/dist-packages (1.0.0)\n",
      "Requirement already satisfied: ipykernel~=4.10 in /usr/local/lib/python3.6/dist-packages (from google-colab) (4.10.1)\n",
      "Requirement already satisfied: requests~=2.23.0 in /usr/local/lib/python3.6/dist-packages (from google-colab) (2.23.0)\n",
      "Requirement already satisfied: pandas~=1.1.0; python_version >= \"3.0\" in /usr/local/lib/python3.6/dist-packages (from google-colab) (1.1.2)\n",
      "Requirement already satisfied: google-auth~=1.17.2 in /usr/local/lib/python3.6/dist-packages (from google-colab) (1.17.2)\n",
      "Requirement already satisfied: notebook~=5.3.0; python_version >= \"3.0\" in /usr/local/lib/python3.6/dist-packages (from google-colab) (5.3.1)\n",
      "Requirement already satisfied: six~=1.15.0 in /usr/local/lib/python3.6/dist-packages (from google-colab) (1.15.0)\n",
      "Requirement already satisfied: portpicker~=1.3.1 in /usr/local/lib/python3.6/dist-packages (from google-colab) (1.3.1)\n",
      "Requirement already satisfied: ipython~=5.5.0 in /usr/local/lib/python3.6/dist-packages (from google-colab) (5.5.0)\n",
      "Requirement already satisfied: tornado~=5.1.0; python_version >= \"3.0\" in /usr/local/lib/python3.6/dist-packages (from google-colab) (5.1.1)\n",
      "Requirement already satisfied: jupyter-client in /usr/local/lib/python3.6/dist-packages (from ipykernel~=4.10->google-colab) (5.3.5)\n",
      "Requirement already satisfied: traitlets>=4.1.0 in /usr/local/lib/python3.6/dist-packages (from ipykernel~=4.10->google-colab) (4.3.3)\n",
      "Requirement already satisfied: urllib3!=1.25.0,!=1.25.1,<1.26,>=1.21.1 in /usr/local/lib/python3.6/dist-packages (from requests~=2.23.0->google-colab) (1.24.3)\n",
      "Requirement already satisfied: certifi>=2017.4.17 in /usr/local/lib/python3.6/dist-packages (from requests~=2.23.0->google-colab) (2020.6.20)\n",
      "Requirement already satisfied: idna<3,>=2.5 in /usr/local/lib/python3.6/dist-packages (from requests~=2.23.0->google-colab) (2.10)\n",
      "Requirement already satisfied: chardet<4,>=3.0.2 in /usr/local/lib/python3.6/dist-packages (from requests~=2.23.0->google-colab) (3.0.4)\n",
      "Requirement already satisfied: pytz>=2017.2 in /usr/local/lib/python3.6/dist-packages (from pandas~=1.1.0; python_version >= \"3.0\"->google-colab) (2018.9)\n",
      "Requirement already satisfied: numpy>=1.15.4 in /usr/local/lib/python3.6/dist-packages (from pandas~=1.1.0; python_version >= \"3.0\"->google-colab) (1.18.5)\n",
      "Requirement already satisfied: python-dateutil>=2.7.3 in /usr/local/lib/python3.6/dist-packages (from pandas~=1.1.0; python_version >= \"3.0\"->google-colab) (2.8.1)\n",
      "Requirement already satisfied: rsa<5,>=3.1.4; python_version >= \"3\" in /usr/local/lib/python3.6/dist-packages (from google-auth~=1.17.2->google-colab) (4.6)\n",
      "Requirement already satisfied: setuptools>=40.3.0 in /usr/local/lib/python3.6/dist-packages (from google-auth~=1.17.2->google-colab) (50.3.0)\n",
      "Requirement already satisfied: pyasn1-modules>=0.2.1 in /usr/local/lib/python3.6/dist-packages (from google-auth~=1.17.2->google-colab) (0.2.8)\n",
      "Requirement already satisfied: cachetools<5.0,>=2.0.0 in /usr/local/lib/python3.6/dist-packages (from google-auth~=1.17.2->google-colab) (4.1.1)\n",
      "Requirement already satisfied: ipython-genutils in /usr/local/lib/python3.6/dist-packages (from notebook~=5.3.0; python_version >= \"3.0\"->google-colab) (0.2.0)\n",
      "Requirement already satisfied: jupyter-core>=4.4.0 in /usr/local/lib/python3.6/dist-packages (from notebook~=5.3.0; python_version >= \"3.0\"->google-colab) (4.6.3)\n",
      "Requirement already satisfied: terminado>=0.8.1 in /usr/local/lib/python3.6/dist-packages (from notebook~=5.3.0; python_version >= \"3.0\"->google-colab) (0.9.1)\n",
      "Requirement already satisfied: jinja2 in /usr/local/lib/python3.6/dist-packages (from notebook~=5.3.0; python_version >= \"3.0\"->google-colab) (2.11.2)\n",
      "Requirement already satisfied: nbformat in /usr/local/lib/python3.6/dist-packages (from notebook~=5.3.0; python_version >= \"3.0\"->google-colab) (5.0.7)\n",
      "Requirement already satisfied: nbconvert in /usr/local/lib/python3.6/dist-packages (from notebook~=5.3.0; python_version >= \"3.0\"->google-colab) (5.6.1)\n",
      "Requirement already satisfied: Send2Trash in /usr/local/lib/python3.6/dist-packages (from notebook~=5.3.0; python_version >= \"3.0\"->google-colab) (1.5.0)\n",
      "Requirement already satisfied: pygments in /usr/local/lib/python3.6/dist-packages (from ipython~=5.5.0->google-colab) (2.6.1)\n",
      "Requirement already satisfied: pexpect; sys_platform != \"win32\" in /usr/local/lib/python3.6/dist-packages (from ipython~=5.5.0->google-colab) (4.8.0)\n",
      "Requirement already satisfied: pickleshare in /usr/local/lib/python3.6/dist-packages (from ipython~=5.5.0->google-colab) (0.7.5)\n",
      "Requirement already satisfied: simplegeneric>0.8 in /usr/local/lib/python3.6/dist-packages (from ipython~=5.5.0->google-colab) (0.8.1)\n",
      "Requirement already satisfied: prompt-toolkit<2.0.0,>=1.0.4 in /usr/local/lib/python3.6/dist-packages (from ipython~=5.5.0->google-colab) (1.0.18)\n",
      "Requirement already satisfied: decorator in /usr/local/lib/python3.6/dist-packages (from ipython~=5.5.0->google-colab) (4.4.2)\n",
      "Requirement already satisfied: pyzmq>=13 in /usr/local/lib/python3.6/dist-packages (from jupyter-client->ipykernel~=4.10->google-colab) (19.0.2)\n",
      "Requirement already satisfied: pyasn1>=0.1.3 in /usr/local/lib/python3.6/dist-packages (from rsa<5,>=3.1.4; python_version >= \"3\"->google-auth~=1.17.2->google-colab) (0.4.8)\n",
      "Requirement already satisfied: ptyprocess; os_name != \"nt\" in /usr/local/lib/python3.6/dist-packages (from terminado>=0.8.1->notebook~=5.3.0; python_version >= \"3.0\"->google-colab) (0.6.0)\n",
      "Requirement already satisfied: MarkupSafe>=0.23 in /usr/local/lib/python3.6/dist-packages (from jinja2->notebook~=5.3.0; python_version >= \"3.0\"->google-colab) (1.1.1)\n",
      "Requirement already satisfied: jsonschema!=2.5.0,>=2.4 in /usr/local/lib/python3.6/dist-packages (from nbformat->notebook~=5.3.0; python_version >= \"3.0\"->google-colab) (2.6.0)\n",
      "Requirement already satisfied: pandocfilters>=1.4.1 in /usr/local/lib/python3.6/dist-packages (from nbconvert->notebook~=5.3.0; python_version >= \"3.0\"->google-colab) (1.4.2)\n",
      "Requirement already satisfied: testpath in /usr/local/lib/python3.6/dist-packages (from nbconvert->notebook~=5.3.0; python_version >= \"3.0\"->google-colab) (0.4.4)\n",
      "Requirement already satisfied: bleach in /usr/local/lib/python3.6/dist-packages (from nbconvert->notebook~=5.3.0; python_version >= \"3.0\"->google-colab) (3.2.1)\n",
      "Requirement already satisfied: defusedxml in /usr/local/lib/python3.6/dist-packages (from nbconvert->notebook~=5.3.0; python_version >= \"3.0\"->google-colab) (0.6.0)\n",
      "Requirement already satisfied: entrypoints>=0.2.2 in /usr/local/lib/python3.6/dist-packages (from nbconvert->notebook~=5.3.0; python_version >= \"3.0\"->google-colab) (0.3)\n",
      "Requirement already satisfied: mistune<2,>=0.8.1 in /usr/local/lib/python3.6/dist-packages (from nbconvert->notebook~=5.3.0; python_version >= \"3.0\"->google-colab) (0.8.4)\n",
      "Requirement already satisfied: wcwidth in /usr/local/lib/python3.6/dist-packages (from prompt-toolkit<2.0.0,>=1.0.4->ipython~=5.5.0->google-colab) (0.2.5)\n",
      "Requirement already satisfied: packaging in /usr/local/lib/python3.6/dist-packages (from bleach->nbconvert->notebook~=5.3.0; python_version >= \"3.0\"->google-colab) (20.4)\n",
      "Requirement already satisfied: webencodings in /usr/local/lib/python3.6/dist-packages (from bleach->nbconvert->notebook~=5.3.0; python_version >= \"3.0\"->google-colab) (0.5.1)\n",
      "Requirement already satisfied: pyparsing>=2.0.2 in /usr/local/lib/python3.6/dist-packages (from packaging->bleach->nbconvert->notebook~=5.3.0; python_version >= \"3.0\"->google-colab) (2.4.7)\n",
      "Requirement already satisfied: pydrive in /usr/local/lib/python3.6/dist-packages (1.3.1)\n",
      "Requirement already satisfied: google-api-python-client>=1.2 in /usr/local/lib/python3.6/dist-packages (from pydrive) (1.7.12)\n",
      "Requirement already satisfied: oauth2client>=4.0.0 in /usr/local/lib/python3.6/dist-packages (from pydrive) (4.1.3)\n",
      "Requirement already satisfied: PyYAML>=3.0 in /usr/local/lib/python3.6/dist-packages (from pydrive) (3.13)\n",
      "Requirement already satisfied: uritemplate<4dev,>=3.0.0 in /usr/local/lib/python3.6/dist-packages (from google-api-python-client>=1.2->pydrive) (3.0.1)\n",
      "Requirement already satisfied: google-auth>=1.4.1 in /usr/local/lib/python3.6/dist-packages (from google-api-python-client>=1.2->pydrive) (1.17.2)\n",
      "Requirement already satisfied: httplib2<1dev,>=0.17.0 in /usr/local/lib/python3.6/dist-packages (from google-api-python-client>=1.2->pydrive) (0.17.4)\n",
      "Requirement already satisfied: google-auth-httplib2>=0.0.3 in /usr/local/lib/python3.6/dist-packages (from google-api-python-client>=1.2->pydrive) (0.0.4)\n",
      "Requirement already satisfied: six<2dev,>=1.6.1 in /usr/local/lib/python3.6/dist-packages (from google-api-python-client>=1.2->pydrive) (1.15.0)\n",
      "Requirement already satisfied: pyasn1-modules>=0.0.5 in /usr/local/lib/python3.6/dist-packages (from oauth2client>=4.0.0->pydrive) (0.2.8)\n",
      "Requirement already satisfied: pyasn1>=0.1.7 in /usr/local/lib/python3.6/dist-packages (from oauth2client>=4.0.0->pydrive) (0.4.8)\n",
      "Requirement already satisfied: rsa>=3.1.4 in /usr/local/lib/python3.6/dist-packages (from oauth2client>=4.0.0->pydrive) (4.6)\n",
      "Requirement already satisfied: setuptools>=40.3.0 in /usr/local/lib/python3.6/dist-packages (from google-auth>=1.4.1->google-api-python-client>=1.2->pydrive) (50.3.0)\n",
      "Requirement already satisfied: cachetools<5.0,>=2.0.0 in /usr/local/lib/python3.6/dist-packages (from google-auth>=1.4.1->google-api-python-client>=1.2->pydrive) (4.1.1)\n"
     ],
     "name": "stdout"
    }
   ]
  },
  {
   "cell_type": "code",
   "metadata": {
    "pycharm": {
     "name": "#%%\n"
    },
    "id": "cf2Rki7VEN_1"
   },
   "source": [
    "\"\"\"\n",
    "from pydrive.auth import GoogleAuth\n",
    "from pydrive.drive import GoogleDrive\n",
    "from google.colab import auth\n",
    "from oauth2client.client import GoogleCredentials\n",
    "auth.authenticate_user()\n",
    "gauth = GoogleAuth()\n",
    "gauth.credentials = GoogleCredentials.get_application_default()\n",
    "drive = GoogleDrive(gauth)\n",
    "\"\"\"\n"
   ],
   "execution_count": 83,
   "outputs": []
  },
  {
   "cell_type": "code",
   "metadata": {
    "id": "sH-9qe6tGYba"
   },
   "source": [
    "\"\"\"\n",
    "downloaded = drive.CreateFile({'id':\"1b5pT05biONY-ebaIWgAme6xs3oNX78ms\"})\n",
    "downloaded.GetContentFile('adult_train.csv')\n",
    "\n",
    "downloaded = drive.CreateFile({'id':\"1bjLw-ZTBP9Kr6_4e2LdCyJUrc4NT4ztD\"})\n",
    "downloaded.GetContentFile('adult_test.csv')\n",
    "\"\"\""
   ],
   "execution_count": 84,
   "outputs": []
  },
  {
   "cell_type": "markdown",
   "metadata": {
    "id": "maH2N1hpGJck"
   },
   "source": [
    "**Опис набору даних**"
   ]
  },
  {
   "cell_type": "markdown",
   "metadata": {
    "id": "WkuDcmJkGJcn"
   },
   "source": [
    " **[Набір] (http://archive.ics.uci.edu/ml/machine-learning-databases/adult) даних UCI Adult** (качати не треба, все є в репозиторії): класифікація людей за допомогою демографічних даних для прогнозування чи заробляє людина більш \\ $ 50 000 в рік.\n",
    "\n",
    "Опис ознак:\n",
    "\n",
    "**Age** - вік, кількісний ознака\n",
    "\n",
    "**Workclass** - тип роботодавця, кількісний ознака\n",
    "\n",
    "**fnlwgt** - підсумковий вага об'єкта, кількісний ознака\n",
    "\n",
    "**Education** - рівень освіти, якісної ознаки\n",
    "\n",
    "**Education_Num** - кількість років навчання, кількісний ознака\n",
    "\n",
    "**Martial_Status** - сімейний стан, категоріальний ознака\n",
    "\n",
    "**Occupation** - професія, категоріальний ознака\n",
    "\n",
    "**Relationship** - тип сімейних відносин, категоріальний ознака\n",
    "\n",
    "**Race** - раса, категоріальний ознака\n",
    "\n",
    "**Sex** - підлогу, якісна ознака\n",
    "\n",
    "**Capital_Gain** - приріст капіталу, кількісний ознака\n",
    "\n",
    "**Capital_Loss** - втрати капіталу, кількісний ознака\n",
    "\n",
    "**Hours_per_week** - кількість годин роботи в тиждень, кількісний ознака\n",
    "\n",
    "**Country** - країна, категоріальний ознака\n",
    "   \n",
    "Цільова змінна: **Target** - рівень заробітку, категоріальна (бінарна) ознака"
   ]
  },
  {
   "cell_type": "markdown",
   "metadata": {
    "id": "hSwcNuQjGJco"
   },
   "source": [
    "**Зчитуємо навчальну і тестову вибірки.**"
   ]
  },
  {
   "cell_type": "code",
   "metadata": {
    "id": "gxIgFBqEGJcq"
   },
   "source": [
    "data_train = pd.read_csv('adult_train.csv', sep=';')"
   ],
   "execution_count": 85,
   "outputs": []
  },
  {
   "cell_type": "code",
   "metadata": {
    "id": "aINREWreGJcx",
    "outputId": "f62b96ee-8934-427d-acb4-cc3e9e5a18da",
    "colab": {
     "base_uri": "https://localhost:8080/",
     "height": 197
    }
   },
   "source": [
    "data_train.tail()"
   ],
   "execution_count": 86,
   "outputs": [
    {
     "output_type": "execute_result",
     "data": {
      "text/html": [
       "<div>\n",
       "<style scoped>\n",
       "    .dataframe tbody tr th:only-of-type {\n",
       "        vertical-align: middle;\n",
       "    }\n",
       "\n",
       "    .dataframe tbody tr th {\n",
       "        vertical-align: top;\n",
       "    }\n",
       "\n",
       "    .dataframe thead th {\n",
       "        text-align: right;\n",
       "    }\n",
       "</style>\n",
       "<table border=\"1\" class=\"dataframe\">\n",
       "  <thead>\n",
       "    <tr style=\"text-align: right;\">\n",
       "      <th></th>\n",
       "      <th>Age</th>\n",
       "      <th>Workclass</th>\n",
       "      <th>fnlwgt</th>\n",
       "      <th>Education</th>\n",
       "      <th>Education_Num</th>\n",
       "      <th>Martial_Status</th>\n",
       "      <th>Occupation</th>\n",
       "      <th>Relationship</th>\n",
       "      <th>Race</th>\n",
       "      <th>Sex</th>\n",
       "      <th>Capital_Gain</th>\n",
       "      <th>Capital_Loss</th>\n",
       "      <th>Hours_per_week</th>\n",
       "      <th>Country</th>\n",
       "      <th>Target</th>\n",
       "    </tr>\n",
       "  </thead>\n",
       "  <tbody>\n",
       "    <tr>\n",
       "      <th>32556</th>\n",
       "      <td>27</td>\n",
       "      <td>Private</td>\n",
       "      <td>257302</td>\n",
       "      <td>Assoc-acdm</td>\n",
       "      <td>12</td>\n",
       "      <td>Married-civ-spouse</td>\n",
       "      <td>Tech-support</td>\n",
       "      <td>Wife</td>\n",
       "      <td>White</td>\n",
       "      <td>Female</td>\n",
       "      <td>0</td>\n",
       "      <td>0</td>\n",
       "      <td>38</td>\n",
       "      <td>United-States</td>\n",
       "      <td>&lt;=50K</td>\n",
       "    </tr>\n",
       "    <tr>\n",
       "      <th>32557</th>\n",
       "      <td>40</td>\n",
       "      <td>Private</td>\n",
       "      <td>154374</td>\n",
       "      <td>HS-grad</td>\n",
       "      <td>9</td>\n",
       "      <td>Married-civ-spouse</td>\n",
       "      <td>Machine-op-inspct</td>\n",
       "      <td>Husband</td>\n",
       "      <td>White</td>\n",
       "      <td>Male</td>\n",
       "      <td>0</td>\n",
       "      <td>0</td>\n",
       "      <td>40</td>\n",
       "      <td>United-States</td>\n",
       "      <td>&gt;50K</td>\n",
       "    </tr>\n",
       "    <tr>\n",
       "      <th>32558</th>\n",
       "      <td>58</td>\n",
       "      <td>Private</td>\n",
       "      <td>151910</td>\n",
       "      <td>HS-grad</td>\n",
       "      <td>9</td>\n",
       "      <td>Widowed</td>\n",
       "      <td>Adm-clerical</td>\n",
       "      <td>Unmarried</td>\n",
       "      <td>White</td>\n",
       "      <td>Female</td>\n",
       "      <td>0</td>\n",
       "      <td>0</td>\n",
       "      <td>40</td>\n",
       "      <td>United-States</td>\n",
       "      <td>&lt;=50K</td>\n",
       "    </tr>\n",
       "    <tr>\n",
       "      <th>32559</th>\n",
       "      <td>22</td>\n",
       "      <td>Private</td>\n",
       "      <td>201490</td>\n",
       "      <td>HS-grad</td>\n",
       "      <td>9</td>\n",
       "      <td>Never-married</td>\n",
       "      <td>Adm-clerical</td>\n",
       "      <td>Own-child</td>\n",
       "      <td>White</td>\n",
       "      <td>Male</td>\n",
       "      <td>0</td>\n",
       "      <td>0</td>\n",
       "      <td>20</td>\n",
       "      <td>United-States</td>\n",
       "      <td>&lt;=50K</td>\n",
       "    </tr>\n",
       "    <tr>\n",
       "      <th>32560</th>\n",
       "      <td>52</td>\n",
       "      <td>Self-emp-inc</td>\n",
       "      <td>287927</td>\n",
       "      <td>HS-grad</td>\n",
       "      <td>9</td>\n",
       "      <td>Married-civ-spouse</td>\n",
       "      <td>Exec-managerial</td>\n",
       "      <td>Wife</td>\n",
       "      <td>White</td>\n",
       "      <td>Female</td>\n",
       "      <td>15024</td>\n",
       "      <td>0</td>\n",
       "      <td>40</td>\n",
       "      <td>United-States</td>\n",
       "      <td>&gt;50K</td>\n",
       "    </tr>\n",
       "  </tbody>\n",
       "</table>\n",
       "</div>"
      ],
      "text/plain": [
       "       Age      Workclass  fnlwgt  ... Hours_per_week         Country  Target\n",
       "32556   27        Private  257302  ...             38   United-States   <=50K\n",
       "32557   40        Private  154374  ...             40   United-States    >50K\n",
       "32558   58        Private  151910  ...             40   United-States   <=50K\n",
       "32559   22        Private  201490  ...             20   United-States   <=50K\n",
       "32560   52   Self-emp-inc  287927  ...             40   United-States    >50K\n",
       "\n",
       "[5 rows x 15 columns]"
      ]
     },
     "metadata": {
      "tags": []
     },
     "execution_count": 86
    }
   ]
  },
  {
   "cell_type": "code",
   "metadata": {
    "id": "XZvo3UTUGJc6"
   },
   "source": [
    "data_test = pd.read_csv('adult_test.csv', sep=';')"
   ],
   "execution_count": 87,
   "outputs": []
  },
  {
   "cell_type": "code",
   "metadata": {
    "id": "uGJ03S9oGJdB",
    "outputId": "aa2ab44c-1a44-4f43-9f04-07976b004968",
    "colab": {
     "base_uri": "https://localhost:8080/",
     "height": 197
    }
   },
   "source": [
    "data_test.tail()"
   ],
   "execution_count": 88,
   "outputs": [
    {
     "output_type": "execute_result",
     "data": {
      "text/html": [
       "<div>\n",
       "<style scoped>\n",
       "    .dataframe tbody tr th:only-of-type {\n",
       "        vertical-align: middle;\n",
       "    }\n",
       "\n",
       "    .dataframe tbody tr th {\n",
       "        vertical-align: top;\n",
       "    }\n",
       "\n",
       "    .dataframe thead th {\n",
       "        text-align: right;\n",
       "    }\n",
       "</style>\n",
       "<table border=\"1\" class=\"dataframe\">\n",
       "  <thead>\n",
       "    <tr style=\"text-align: right;\">\n",
       "      <th></th>\n",
       "      <th>Age</th>\n",
       "      <th>Workclass</th>\n",
       "      <th>fnlwgt</th>\n",
       "      <th>Education</th>\n",
       "      <th>Education_Num</th>\n",
       "      <th>Martial_Status</th>\n",
       "      <th>Occupation</th>\n",
       "      <th>Relationship</th>\n",
       "      <th>Race</th>\n",
       "      <th>Sex</th>\n",
       "      <th>Capital_Gain</th>\n",
       "      <th>Capital_Loss</th>\n",
       "      <th>Hours_per_week</th>\n",
       "      <th>Country</th>\n",
       "      <th>Target</th>\n",
       "    </tr>\n",
       "  </thead>\n",
       "  <tbody>\n",
       "    <tr>\n",
       "      <th>16277</th>\n",
       "      <td>39</td>\n",
       "      <td>Private</td>\n",
       "      <td>215419.0</td>\n",
       "      <td>Bachelors</td>\n",
       "      <td>13.0</td>\n",
       "      <td>Divorced</td>\n",
       "      <td>Prof-specialty</td>\n",
       "      <td>Not-in-family</td>\n",
       "      <td>White</td>\n",
       "      <td>Female</td>\n",
       "      <td>0.0</td>\n",
       "      <td>0.0</td>\n",
       "      <td>36.0</td>\n",
       "      <td>United-States</td>\n",
       "      <td>&lt;=50K.</td>\n",
       "    </tr>\n",
       "    <tr>\n",
       "      <th>16278</th>\n",
       "      <td>64</td>\n",
       "      <td>NaN</td>\n",
       "      <td>321403.0</td>\n",
       "      <td>HS-grad</td>\n",
       "      <td>9.0</td>\n",
       "      <td>Widowed</td>\n",
       "      <td>NaN</td>\n",
       "      <td>Other-relative</td>\n",
       "      <td>Black</td>\n",
       "      <td>Male</td>\n",
       "      <td>0.0</td>\n",
       "      <td>0.0</td>\n",
       "      <td>40.0</td>\n",
       "      <td>United-States</td>\n",
       "      <td>&lt;=50K.</td>\n",
       "    </tr>\n",
       "    <tr>\n",
       "      <th>16279</th>\n",
       "      <td>38</td>\n",
       "      <td>Private</td>\n",
       "      <td>374983.0</td>\n",
       "      <td>Bachelors</td>\n",
       "      <td>13.0</td>\n",
       "      <td>Married-civ-spouse</td>\n",
       "      <td>Prof-specialty</td>\n",
       "      <td>Husband</td>\n",
       "      <td>White</td>\n",
       "      <td>Male</td>\n",
       "      <td>0.0</td>\n",
       "      <td>0.0</td>\n",
       "      <td>50.0</td>\n",
       "      <td>United-States</td>\n",
       "      <td>&lt;=50K.</td>\n",
       "    </tr>\n",
       "    <tr>\n",
       "      <th>16280</th>\n",
       "      <td>44</td>\n",
       "      <td>Private</td>\n",
       "      <td>83891.0</td>\n",
       "      <td>Bachelors</td>\n",
       "      <td>13.0</td>\n",
       "      <td>Divorced</td>\n",
       "      <td>Adm-clerical</td>\n",
       "      <td>Own-child</td>\n",
       "      <td>Asian-Pac-Islander</td>\n",
       "      <td>Male</td>\n",
       "      <td>5455.0</td>\n",
       "      <td>0.0</td>\n",
       "      <td>40.0</td>\n",
       "      <td>United-States</td>\n",
       "      <td>&lt;=50K.</td>\n",
       "    </tr>\n",
       "    <tr>\n",
       "      <th>16281</th>\n",
       "      <td>35</td>\n",
       "      <td>Self-emp-inc</td>\n",
       "      <td>182148.0</td>\n",
       "      <td>Bachelors</td>\n",
       "      <td>13.0</td>\n",
       "      <td>Married-civ-spouse</td>\n",
       "      <td>Exec-managerial</td>\n",
       "      <td>Husband</td>\n",
       "      <td>White</td>\n",
       "      <td>Male</td>\n",
       "      <td>0.0</td>\n",
       "      <td>0.0</td>\n",
       "      <td>60.0</td>\n",
       "      <td>United-States</td>\n",
       "      <td>&gt;50K.</td>\n",
       "    </tr>\n",
       "  </tbody>\n",
       "</table>\n",
       "</div>"
      ],
      "text/plain": [
       "      Age      Workclass    fnlwgt  ... Hours_per_week         Country   Target\n",
       "16277  39        Private  215419.0  ...           36.0   United-States   <=50K.\n",
       "16278  64            NaN  321403.0  ...           40.0   United-States   <=50K.\n",
       "16279  38        Private  374983.0  ...           50.0   United-States   <=50K.\n",
       "16280  44        Private   83891.0  ...           40.0   United-States   <=50K.\n",
       "16281  35   Self-emp-inc  182148.0  ...           60.0   United-States    >50K.\n",
       "\n",
       "[5 rows x 15 columns]"
      ]
     },
     "metadata": {
      "tags": []
     },
     "execution_count": 88
    }
   ]
  },
  {
   "cell_type": "code",
   "metadata": {
    "id": "E4TUSVJyGJdJ"
   },
   "source": [
    "# необхідно прибрати рядки з неправильними мітками в тестовій вибірці\n",
    "data_test = data_test[(data_test['Target'] == ' >50K.') \n",
    "                      | (data_test['Target']==' <=50K.')]\n",
    "\n",
    "# перекодуємо target в числове поле\n",
    "data_train.at[data_train['Target'] == ' <=50K', 'Target'] = 0\n",
    "data_train.at[data_train['Target'] == ' >50K', 'Target'] = 1\n",
    "\n",
    "data_test.at[data_test['Target'] == ' <=50K.', 'Target'] = 0\n",
    "data_test.at[data_test['Target'] == ' >50K.', 'Target'] = 1"
   ],
   "execution_count": 89,
   "outputs": []
  },
  {
   "cell_type": "markdown",
   "metadata": {
    "id": "c8H3IEIWGJdO"
   },
   "source": [
    "**Первинний аналіз даних.**"
   ]
  },
  {
   "cell_type": "code",
   "metadata": {
    "id": "D4AUwYuDGJdP",
    "outputId": "4232afb0-6096-40f9-8590-88ea20706346",
    "colab": {
     "base_uri": "https://localhost:8080/",
     "height": 497
    }
   },
   "source": [
    "data_test.describe(include='all').T"
   ],
   "execution_count": 90,
   "outputs": [
    {
     "output_type": "execute_result",
     "data": {
      "text/html": [
       "<div>\n",
       "<style scoped>\n",
       "    .dataframe tbody tr th:only-of-type {\n",
       "        vertical-align: middle;\n",
       "    }\n",
       "\n",
       "    .dataframe tbody tr th {\n",
       "        vertical-align: top;\n",
       "    }\n",
       "\n",
       "    .dataframe thead th {\n",
       "        text-align: right;\n",
       "    }\n",
       "</style>\n",
       "<table border=\"1\" class=\"dataframe\">\n",
       "  <thead>\n",
       "    <tr style=\"text-align: right;\">\n",
       "      <th></th>\n",
       "      <th>count</th>\n",
       "      <th>unique</th>\n",
       "      <th>top</th>\n",
       "      <th>freq</th>\n",
       "      <th>mean</th>\n",
       "      <th>std</th>\n",
       "      <th>min</th>\n",
       "      <th>25%</th>\n",
       "      <th>50%</th>\n",
       "      <th>75%</th>\n",
       "      <th>max</th>\n",
       "    </tr>\n",
       "  </thead>\n",
       "  <tbody>\n",
       "    <tr>\n",
       "      <th>Age</th>\n",
       "      <td>16281</td>\n",
       "      <td>73</td>\n",
       "      <td>35</td>\n",
       "      <td>461</td>\n",
       "      <td>NaN</td>\n",
       "      <td>NaN</td>\n",
       "      <td>NaN</td>\n",
       "      <td>NaN</td>\n",
       "      <td>NaN</td>\n",
       "      <td>NaN</td>\n",
       "      <td>NaN</td>\n",
       "    </tr>\n",
       "    <tr>\n",
       "      <th>Workclass</th>\n",
       "      <td>15318</td>\n",
       "      <td>8</td>\n",
       "      <td>Private</td>\n",
       "      <td>11210</td>\n",
       "      <td>NaN</td>\n",
       "      <td>NaN</td>\n",
       "      <td>NaN</td>\n",
       "      <td>NaN</td>\n",
       "      <td>NaN</td>\n",
       "      <td>NaN</td>\n",
       "      <td>NaN</td>\n",
       "    </tr>\n",
       "    <tr>\n",
       "      <th>fnlwgt</th>\n",
       "      <td>16281</td>\n",
       "      <td>NaN</td>\n",
       "      <td>NaN</td>\n",
       "      <td>NaN</td>\n",
       "      <td>189436</td>\n",
       "      <td>105715</td>\n",
       "      <td>13492</td>\n",
       "      <td>116736</td>\n",
       "      <td>177831</td>\n",
       "      <td>238384</td>\n",
       "      <td>1.4904e+06</td>\n",
       "    </tr>\n",
       "    <tr>\n",
       "      <th>Education</th>\n",
       "      <td>16281</td>\n",
       "      <td>16</td>\n",
       "      <td>HS-grad</td>\n",
       "      <td>5283</td>\n",
       "      <td>NaN</td>\n",
       "      <td>NaN</td>\n",
       "      <td>NaN</td>\n",
       "      <td>NaN</td>\n",
       "      <td>NaN</td>\n",
       "      <td>NaN</td>\n",
       "      <td>NaN</td>\n",
       "    </tr>\n",
       "    <tr>\n",
       "      <th>Education_Num</th>\n",
       "      <td>16281</td>\n",
       "      <td>NaN</td>\n",
       "      <td>NaN</td>\n",
       "      <td>NaN</td>\n",
       "      <td>10.0729</td>\n",
       "      <td>2.56755</td>\n",
       "      <td>1</td>\n",
       "      <td>9</td>\n",
       "      <td>10</td>\n",
       "      <td>12</td>\n",
       "      <td>16</td>\n",
       "    </tr>\n",
       "    <tr>\n",
       "      <th>Martial_Status</th>\n",
       "      <td>16281</td>\n",
       "      <td>7</td>\n",
       "      <td>Married-civ-spouse</td>\n",
       "      <td>7403</td>\n",
       "      <td>NaN</td>\n",
       "      <td>NaN</td>\n",
       "      <td>NaN</td>\n",
       "      <td>NaN</td>\n",
       "      <td>NaN</td>\n",
       "      <td>NaN</td>\n",
       "      <td>NaN</td>\n",
       "    </tr>\n",
       "    <tr>\n",
       "      <th>Occupation</th>\n",
       "      <td>15315</td>\n",
       "      <td>14</td>\n",
       "      <td>Prof-specialty</td>\n",
       "      <td>2032</td>\n",
       "      <td>NaN</td>\n",
       "      <td>NaN</td>\n",
       "      <td>NaN</td>\n",
       "      <td>NaN</td>\n",
       "      <td>NaN</td>\n",
       "      <td>NaN</td>\n",
       "      <td>NaN</td>\n",
       "    </tr>\n",
       "    <tr>\n",
       "      <th>Relationship</th>\n",
       "      <td>16281</td>\n",
       "      <td>6</td>\n",
       "      <td>Husband</td>\n",
       "      <td>6523</td>\n",
       "      <td>NaN</td>\n",
       "      <td>NaN</td>\n",
       "      <td>NaN</td>\n",
       "      <td>NaN</td>\n",
       "      <td>NaN</td>\n",
       "      <td>NaN</td>\n",
       "      <td>NaN</td>\n",
       "    </tr>\n",
       "    <tr>\n",
       "      <th>Race</th>\n",
       "      <td>16281</td>\n",
       "      <td>5</td>\n",
       "      <td>White</td>\n",
       "      <td>13946</td>\n",
       "      <td>NaN</td>\n",
       "      <td>NaN</td>\n",
       "      <td>NaN</td>\n",
       "      <td>NaN</td>\n",
       "      <td>NaN</td>\n",
       "      <td>NaN</td>\n",
       "      <td>NaN</td>\n",
       "    </tr>\n",
       "    <tr>\n",
       "      <th>Sex</th>\n",
       "      <td>16281</td>\n",
       "      <td>2</td>\n",
       "      <td>Male</td>\n",
       "      <td>10860</td>\n",
       "      <td>NaN</td>\n",
       "      <td>NaN</td>\n",
       "      <td>NaN</td>\n",
       "      <td>NaN</td>\n",
       "      <td>NaN</td>\n",
       "      <td>NaN</td>\n",
       "      <td>NaN</td>\n",
       "    </tr>\n",
       "    <tr>\n",
       "      <th>Capital_Gain</th>\n",
       "      <td>16281</td>\n",
       "      <td>NaN</td>\n",
       "      <td>NaN</td>\n",
       "      <td>NaN</td>\n",
       "      <td>1081.91</td>\n",
       "      <td>7583.94</td>\n",
       "      <td>0</td>\n",
       "      <td>0</td>\n",
       "      <td>0</td>\n",
       "      <td>0</td>\n",
       "      <td>99999</td>\n",
       "    </tr>\n",
       "    <tr>\n",
       "      <th>Capital_Loss</th>\n",
       "      <td>16281</td>\n",
       "      <td>NaN</td>\n",
       "      <td>NaN</td>\n",
       "      <td>NaN</td>\n",
       "      <td>87.8993</td>\n",
       "      <td>403.105</td>\n",
       "      <td>0</td>\n",
       "      <td>0</td>\n",
       "      <td>0</td>\n",
       "      <td>0</td>\n",
       "      <td>3770</td>\n",
       "    </tr>\n",
       "    <tr>\n",
       "      <th>Hours_per_week</th>\n",
       "      <td>16281</td>\n",
       "      <td>NaN</td>\n",
       "      <td>NaN</td>\n",
       "      <td>NaN</td>\n",
       "      <td>40.3922</td>\n",
       "      <td>12.4793</td>\n",
       "      <td>1</td>\n",
       "      <td>40</td>\n",
       "      <td>40</td>\n",
       "      <td>45</td>\n",
       "      <td>99</td>\n",
       "    </tr>\n",
       "    <tr>\n",
       "      <th>Country</th>\n",
       "      <td>16007</td>\n",
       "      <td>40</td>\n",
       "      <td>United-States</td>\n",
       "      <td>14662</td>\n",
       "      <td>NaN</td>\n",
       "      <td>NaN</td>\n",
       "      <td>NaN</td>\n",
       "      <td>NaN</td>\n",
       "      <td>NaN</td>\n",
       "      <td>NaN</td>\n",
       "      <td>NaN</td>\n",
       "    </tr>\n",
       "    <tr>\n",
       "      <th>Target</th>\n",
       "      <td>16281</td>\n",
       "      <td>2</td>\n",
       "      <td>0</td>\n",
       "      <td>12435</td>\n",
       "      <td>NaN</td>\n",
       "      <td>NaN</td>\n",
       "      <td>NaN</td>\n",
       "      <td>NaN</td>\n",
       "      <td>NaN</td>\n",
       "      <td>NaN</td>\n",
       "      <td>NaN</td>\n",
       "    </tr>\n",
       "  </tbody>\n",
       "</table>\n",
       "</div>"
      ],
      "text/plain": [
       "                count unique                  top  ...     50%     75%         max\n",
       "Age             16281     73                   35  ...     NaN     NaN         NaN\n",
       "Workclass       15318      8              Private  ...     NaN     NaN         NaN\n",
       "fnlwgt          16281    NaN                  NaN  ...  177831  238384  1.4904e+06\n",
       "Education       16281     16              HS-grad  ...     NaN     NaN         NaN\n",
       "Education_Num   16281    NaN                  NaN  ...      10      12          16\n",
       "Martial_Status  16281      7   Married-civ-spouse  ...     NaN     NaN         NaN\n",
       "Occupation      15315     14       Prof-specialty  ...     NaN     NaN         NaN\n",
       "Relationship    16281      6              Husband  ...     NaN     NaN         NaN\n",
       "Race            16281      5                White  ...     NaN     NaN         NaN\n",
       "Sex             16281      2                 Male  ...     NaN     NaN         NaN\n",
       "Capital_Gain    16281    NaN                  NaN  ...       0       0       99999\n",
       "Capital_Loss    16281    NaN                  NaN  ...       0       0        3770\n",
       "Hours_per_week  16281    NaN                  NaN  ...      40      45          99\n",
       "Country         16007     40        United-States  ...     NaN     NaN         NaN\n",
       "Target          16281      2                    0  ...     NaN     NaN         NaN\n",
       "\n",
       "[15 rows x 11 columns]"
      ]
     },
     "metadata": {
      "tags": []
     },
     "execution_count": 90
    }
   ]
  },
  {
   "cell_type": "code",
   "metadata": {
    "id": "UKmsQA_7GJdU",
    "outputId": "8e042d2c-b5ad-4cce-8dbd-013bd21cd4dc",
    "colab": {
     "base_uri": "https://localhost:8080/",
     "height": 70
    }
   },
   "source": [
    "data_train['Target'].value_counts()"
   ],
   "execution_count": 91,
   "outputs": [
    {
     "output_type": "execute_result",
     "data": {
      "text/plain": [
       "0    24720\n",
       "1     7841\n",
       "Name: Target, dtype: int64"
      ]
     },
     "metadata": {
      "tags": []
     },
     "execution_count": 91
    }
   ]
  },
  {
   "cell_type": "code",
   "metadata": {
    "id": "OTqMH1T8GJdb",
    "outputId": "9f17ab41-73b4-4cda-f2be-e3140cabbbb7",
    "colab": {
     "base_uri": "https://localhost:8080/",
     "height": 1000
    }
   },
   "source": [
    "fig = plt.figure(figsize=(25, 15))\n",
    "cols = 5\n",
    "rows = np.ceil(float(data_train.shape[1]) / cols)\n",
    "for i, column in enumerate(data_train.columns):\n",
    "    ax = fig.add_subplot(rows, cols, i + 1)\n",
    "    ax.set_title(column)\n",
    "    if data_train.dtypes[column] == np.object:\n",
    "        data_train[column].value_counts().plot(kind=\"bar\", axes=ax)\n",
    "    else:\n",
    "        data_train[column].hist(axes=ax)\n",
    "        plt.xticks(rotation=\"vertical\")\n",
    "plt.subplots_adjust(hspace=0.7, wspace=0.2)"
   ],
   "execution_count": 92,
   "outputs": [
    {
     "output_type": "display_data",
     "data": {
      "image/png": "[encoded data removed]",
      "text/plain": [
       "<Figure size 1800x1080 with 15 Axes>"
      ]
     },
     "metadata": {
      "tags": [],
      "needs_background": "light"
     }
    }
   ]
  },
  {
   "cell_type": "markdown",
   "metadata": {
    "id": "AHxVZ6FeGJdg"
   },
   "source": [
    "**Перевіряємо типи даних**"
   ]
  },
  {
   "cell_type": "code",
   "metadata": {
    "id": "SBTS7k2VGJdi",
    "outputId": "b3138ab7-db97-4119-fd5b-1829cb1feb72",
    "colab": {
     "base_uri": "https://localhost:8080/",
     "height": 301
    }
   },
   "source": [
    "data_train.dtypes"
   ],
   "execution_count": 93,
   "outputs": [
    {
     "output_type": "execute_result",
     "data": {
      "text/plain": [
       "Age                int64\n",
       "Workclass         object\n",
       "fnlwgt             int64\n",
       "Education         object\n",
       "Education_Num      int64\n",
       "Martial_Status    object\n",
       "Occupation        object\n",
       "Relationship      object\n",
       "Race              object\n",
       "Sex               object\n",
       "Capital_Gain       int64\n",
       "Capital_Loss       int64\n",
       "Hours_per_week     int64\n",
       "Country           object\n",
       "Target            object\n",
       "dtype: object"
      ]
     },
     "metadata": {
      "tags": []
     },
     "execution_count": 93
    }
   ]
  },
  {
   "cell_type": "code",
   "metadata": {
    "id": "c_1308dMGJdp",
    "outputId": "0c9884e6-0fe0-4f20-af0c-d0c81361e213",
    "colab": {
     "base_uri": "https://localhost:8080/",
     "height": 301
    }
   },
   "source": [
    "data_test.dtypes"
   ],
   "execution_count": 94,
   "outputs": [
    {
     "output_type": "execute_result",
     "data": {
      "text/plain": [
       "Age                object\n",
       "Workclass          object\n",
       "fnlwgt            float64\n",
       "Education          object\n",
       "Education_Num     float64\n",
       "Martial_Status     object\n",
       "Occupation         object\n",
       "Relationship       object\n",
       "Race               object\n",
       "Sex                object\n",
       "Capital_Gain      float64\n",
       "Capital_Loss      float64\n",
       "Hours_per_week    float64\n",
       "Country            object\n",
       "Target             object\n",
       "dtype: object"
      ]
     },
     "metadata": {
      "tags": []
     },
     "execution_count": 94
    }
   ]
  },
  {
   "cell_type": "markdown",
   "metadata": {
    "id": "oawRTFPMGJdy"
   },
   "source": [
    "З'ясувалося, що в тесті вік віднесений до типу object, необхідно це виправити."
   ]
  },
  {
   "cell_type": "code",
   "metadata": {
    "id": "puaTob-JGJd0"
   },
   "source": [
    "data_test['Age'] = data_test['Age'].astype(int)"
   ],
   "execution_count": 95,
   "outputs": []
  },
  {
   "cell_type": "markdown",
   "metadata": {
    "id": "yoFOyDP3GJd6"
   },
   "source": [
    "Також наведемо показники типу float в int для відповідності train і test вибірок."
   ]
  },
  {
   "cell_type": "code",
   "metadata": {
    "id": "0YTr6ePeGJd8"
   },
   "source": [
    "data_test['fnlwgt'] = data_test['fnlwgt'].astype(int)\n",
    "data_test['Education_Num'] = data_test['Education_Num'].astype(int)\n",
    "data_test['Capital_Gain'] = data_test['Capital_Gain'].astype(int)\n",
    "data_test['Capital_Loss'] = data_test['Capital_Loss'].astype(int)\n",
    "data_test['Hours_per_week'] = data_test['Hours_per_week'].astype(int)"
   ],
   "execution_count": 96,
   "outputs": []
  },
  {
   "cell_type": "markdown",
   "metadata": {
    "id": "Vn-2FULuGJeC"
   },
   "source": [
    "**Заповнимо пропуски в кількісних полях медіанним значенням, а в категоріальних -  значенням, що найчастіше зустрічається**"
   ]
  },
  {
   "cell_type": "code",
   "metadata": {
    "id": "Bs_K_yuAGJeD",
    "outputId": "446c87a8-ea52-451a-e164-43be1ab3cbf0",
    "colab": {
     "base_uri": "https://localhost:8080/",
     "height": 87
    }
   },
   "source": [
    "# виділимо в вибірках категоріальні і числові поля\n",
    "\n",
    "categorical_columns_train = [c for c in data_train.columns \n",
    "                             if data_train[c].dtype.name == 'object']\n",
    "numerical_columns_train = [c for c in data_train.columns \n",
    "                           if data_train[c].dtype.name != 'object']\n",
    "\n",
    "categorical_columns_test = [c for c in data_test.columns \n",
    "                            if data_test[c].dtype.name == 'object']\n",
    "numerical_columns_test = [c for c in data_test.columns \n",
    "                          if data_test[c].dtype.name != 'object']\n",
    "\n",
    "print('categorical_columns_test:', categorical_columns_test)\n",
    "print('categorical_columns_train:', categorical_columns_train)\n",
    "print('numerical_columns_test:', numerical_columns_test)\n",
    "print('numerical_columns_train:', numerical_columns_train)"
   ],
   "execution_count": 97,
   "outputs": [
    {
     "output_type": "stream",
     "text": [
      "categorical_columns_test: ['Workclass', 'Education', 'Martial_Status', 'Occupation', 'Relationship', 'Race', 'Sex', 'Country', 'Target']\n",
      "categorical_columns_train: ['Workclass', 'Education', 'Martial_Status', 'Occupation', 'Relationship', 'Race', 'Sex', 'Country', 'Target']\n",
      "numerical_columns_test: ['Age', 'fnlwgt', 'Education_Num', 'Capital_Gain', 'Capital_Loss', 'Hours_per_week']\n",
      "numerical_columns_train: ['Age', 'fnlwgt', 'Education_Num', 'Capital_Gain', 'Capital_Loss', 'Hours_per_week']\n"
     ],
     "name": "stdout"
    }
   ]
  },
  {
   "cell_type": "code",
   "metadata": {
    "id": "M-tSMg7fGJeI"
   },
   "source": [
    "# заповнимо пропуски\n",
    "\n",
    "for c in categorical_columns_train:\n",
    "    data_train[c] = data_train[c].fillna(data_train[c].mode())\n",
    "for c in categorical_columns_test:\n",
    "    data_test[c] = data_test[c].fillna(data_train[c].mode())\n",
    "    \n",
    "for c in numerical_columns_train:\n",
    "    data_train[c] = data_train[c].fillna(data_train[c].median())\n",
    "for c in numerical_columns_test:\n",
    "    data_test[c] = data_test[c].fillna(data_train[c].median())    "
   ],
   "execution_count": 98,
   "outputs": []
  },
  {
   "cell_type": "markdown",
   "metadata": {
    "id": "-Og8eI7SGJeN"
   },
   "source": [
    "**Кодуємо категоріальні ознаки 'Workclass', 'Education', 'Martial_Status', 'Occupation', 'Relationship', 'Race', 'Sex', 'Country'. Це можна зробити за допомогою методу `pandas get_dummies`.**"
   ]
  },
  {
   "cell_type": "code",
   "metadata": {
    "id": "M6V5nR1JGJeO"
   },
   "source": [
    "data_train = pd.concat([data_train, pd.get_dummies(data_train['Workclass'], \n",
    "                                                   prefix=\"Workclass\"),\n",
    "                      pd.get_dummies(data_train['Education'], prefix=\"Education\"),\n",
    "                      pd.get_dummies(data_train['Martial_Status'], prefix=\"Martial_Status\"),\n",
    "                      pd.get_dummies(data_train['Occupation'], prefix=\"Occupation\"),\n",
    "                      pd.get_dummies(data_train['Relationship'], prefix=\"Relationship\"),\n",
    "                      pd.get_dummies(data_train['Race'], prefix=\"Race\"),\n",
    "                      pd.get_dummies(data_train['Sex'], prefix=\"Sex\"),\n",
    "                      pd.get_dummies(data_train['Country'], prefix=\"Country\")],\n",
    "                     axis=1)\n",
    "\n",
    "data_test = pd.concat([data_test, pd.get_dummies(data_test['Workclass'], prefix=\"Workclass\"),\n",
    "                      pd.get_dummies(data_test['Education'], prefix=\"Education\"),\n",
    "                      pd.get_dummies(data_test['Martial_Status'], prefix=\"Martial_Status\"),\n",
    "                      pd.get_dummies(data_test['Occupation'], prefix=\"Occupation\"),\n",
    "                      pd.get_dummies(data_test['Relationship'], prefix=\"Relationship\"),\n",
    "                      pd.get_dummies(data_test['Race'], prefix=\"Race\"),\n",
    "                      pd.get_dummies(data_test['Sex'], prefix=\"Sex\"),\n",
    "                      pd.get_dummies(data_test['Country'], prefix=\"Country\")],\n",
    "                     axis=1)"
   ],
   "execution_count": 99,
   "outputs": []
  },
  {
   "cell_type": "code",
   "metadata": {
    "id": "8uDz-NSiGJeT"
   },
   "source": [
    "data_train.drop(['Workclass', 'Education', 'Martial_Status',\n",
    "                 'Occupation', 'Relationship', 'Race', 'Sex', 'Country'],\n",
    "                axis=1, inplace=True)\n",
    "data_test.drop(['Workclass', 'Education', 'Martial_Status', 'Occupation', \n",
    "                'Relationship', 'Race', 'Sex', 'Country'],\n",
    "               axis=1, inplace=True)"
   ],
   "execution_count": 100,
   "outputs": []
  },
  {
   "cell_type": "code",
   "metadata": {
    "id": "Radh57FLGJeY",
    "outputId": "0a3fd62f-49d8-4010-872c-4abe1f31ecf3",
    "colab": {
     "base_uri": "https://localhost:8080/",
     "height": 406
    }
   },
   "source": [
    "data_test.describe(include='all').T"
   ],
   "execution_count": 101,
   "outputs": [
    {
     "output_type": "execute_result",
     "data": {
      "text/html": [
       "<div>\n",
       "<style scoped>\n",
       "    .dataframe tbody tr th:only-of-type {\n",
       "        vertical-align: middle;\n",
       "    }\n",
       "\n",
       "    .dataframe tbody tr th {\n",
       "        vertical-align: top;\n",
       "    }\n",
       "\n",
       "    .dataframe thead th {\n",
       "        text-align: right;\n",
       "    }\n",
       "</style>\n",
       "<table border=\"1\" class=\"dataframe\">\n",
       "  <thead>\n",
       "    <tr style=\"text-align: right;\">\n",
       "      <th></th>\n",
       "      <th>count</th>\n",
       "      <th>mean</th>\n",
       "      <th>std</th>\n",
       "      <th>min</th>\n",
       "      <th>25%</th>\n",
       "      <th>50%</th>\n",
       "      <th>75%</th>\n",
       "      <th>max</th>\n",
       "    </tr>\n",
       "  </thead>\n",
       "  <tbody>\n",
       "    <tr>\n",
       "      <th>Age</th>\n",
       "      <td>16281.0</td>\n",
       "      <td>38.767459</td>\n",
       "      <td>13.849187</td>\n",
       "      <td>17.0</td>\n",
       "      <td>28.0</td>\n",
       "      <td>37.0</td>\n",
       "      <td>48.0</td>\n",
       "      <td>90.0</td>\n",
       "    </tr>\n",
       "    <tr>\n",
       "      <th>fnlwgt</th>\n",
       "      <td>16281.0</td>\n",
       "      <td>189435.677784</td>\n",
       "      <td>105714.907671</td>\n",
       "      <td>13492.0</td>\n",
       "      <td>116736.0</td>\n",
       "      <td>177831.0</td>\n",
       "      <td>238384.0</td>\n",
       "      <td>1490400.0</td>\n",
       "    </tr>\n",
       "    <tr>\n",
       "      <th>Education_Num</th>\n",
       "      <td>16281.0</td>\n",
       "      <td>10.072907</td>\n",
       "      <td>2.567545</td>\n",
       "      <td>1.0</td>\n",
       "      <td>9.0</td>\n",
       "      <td>10.0</td>\n",
       "      <td>12.0</td>\n",
       "      <td>16.0</td>\n",
       "    </tr>\n",
       "    <tr>\n",
       "      <th>Capital_Gain</th>\n",
       "      <td>16281.0</td>\n",
       "      <td>1081.905104</td>\n",
       "      <td>7583.935968</td>\n",
       "      <td>0.0</td>\n",
       "      <td>0.0</td>\n",
       "      <td>0.0</td>\n",
       "      <td>0.0</td>\n",
       "      <td>99999.0</td>\n",
       "    </tr>\n",
       "    <tr>\n",
       "      <th>Capital_Loss</th>\n",
       "      <td>16281.0</td>\n",
       "      <td>87.899269</td>\n",
       "      <td>403.105286</td>\n",
       "      <td>0.0</td>\n",
       "      <td>0.0</td>\n",
       "      <td>0.0</td>\n",
       "      <td>0.0</td>\n",
       "      <td>3770.0</td>\n",
       "    </tr>\n",
       "    <tr>\n",
       "      <th>...</th>\n",
       "      <td>...</td>\n",
       "      <td>...</td>\n",
       "      <td>...</td>\n",
       "      <td>...</td>\n",
       "      <td>...</td>\n",
       "      <td>...</td>\n",
       "      <td>...</td>\n",
       "      <td>...</td>\n",
       "    </tr>\n",
       "    <tr>\n",
       "      <th>Country_ Thailand</th>\n",
       "      <td>16281.0</td>\n",
       "      <td>0.000737</td>\n",
       "      <td>0.027140</td>\n",
       "      <td>0.0</td>\n",
       "      <td>0.0</td>\n",
       "      <td>0.0</td>\n",
       "      <td>0.0</td>\n",
       "      <td>1.0</td>\n",
       "    </tr>\n",
       "    <tr>\n",
       "      <th>Country_ Trinadad&amp;Tobago</th>\n",
       "      <td>16281.0</td>\n",
       "      <td>0.000491</td>\n",
       "      <td>0.022162</td>\n",
       "      <td>0.0</td>\n",
       "      <td>0.0</td>\n",
       "      <td>0.0</td>\n",
       "      <td>0.0</td>\n",
       "      <td>1.0</td>\n",
       "    </tr>\n",
       "    <tr>\n",
       "      <th>Country_ United-States</th>\n",
       "      <td>16281.0</td>\n",
       "      <td>0.900559</td>\n",
       "      <td>0.299262</td>\n",
       "      <td>0.0</td>\n",
       "      <td>1.0</td>\n",
       "      <td>1.0</td>\n",
       "      <td>1.0</td>\n",
       "      <td>1.0</td>\n",
       "    </tr>\n",
       "    <tr>\n",
       "      <th>Country_ Vietnam</th>\n",
       "      <td>16281.0</td>\n",
       "      <td>0.001167</td>\n",
       "      <td>0.034143</td>\n",
       "      <td>0.0</td>\n",
       "      <td>0.0</td>\n",
       "      <td>0.0</td>\n",
       "      <td>0.0</td>\n",
       "      <td>1.0</td>\n",
       "    </tr>\n",
       "    <tr>\n",
       "      <th>Country_ Yugoslavia</th>\n",
       "      <td>16281.0</td>\n",
       "      <td>0.000430</td>\n",
       "      <td>0.020731</td>\n",
       "      <td>0.0</td>\n",
       "      <td>0.0</td>\n",
       "      <td>0.0</td>\n",
       "      <td>0.0</td>\n",
       "      <td>1.0</td>\n",
       "    </tr>\n",
       "  </tbody>\n",
       "</table>\n",
       "<p>105 rows × 8 columns</p>\n",
       "</div>"
      ],
      "text/plain": [
       "                            count           mean  ...       75%        max\n",
       "Age                       16281.0      38.767459  ...      48.0       90.0\n",
       "fnlwgt                    16281.0  189435.677784  ...  238384.0  1490400.0\n",
       "Education_Num             16281.0      10.072907  ...      12.0       16.0\n",
       "Capital_Gain              16281.0    1081.905104  ...       0.0    99999.0\n",
       "Capital_Loss              16281.0      87.899269  ...       0.0     3770.0\n",
       "...                           ...            ...  ...       ...        ...\n",
       "Country_ Thailand         16281.0       0.000737  ...       0.0        1.0\n",
       "Country_ Trinadad&Tobago  16281.0       0.000491  ...       0.0        1.0\n",
       "Country_ United-States    16281.0       0.900559  ...       1.0        1.0\n",
       "Country_ Vietnam          16281.0       0.001167  ...       0.0        1.0\n",
       "Country_ Yugoslavia       16281.0       0.000430  ...       0.0        1.0\n",
       "\n",
       "[105 rows x 8 columns]"
      ]
     },
     "metadata": {
      "tags": []
     },
     "execution_count": 101
    }
   ]
  },
  {
   "cell_type": "code",
   "metadata": {
    "id": "rsfnbjQkGJed",
    "outputId": "dbba2418-794a-4822-acaa-cb91ad6d17ab",
    "colab": {
     "base_uri": "https://localhost:8080/",
     "height": 34
    }
   },
   "source": [
    "set(data_train.columns) - set(data_test.columns)"
   ],
   "execution_count": 102,
   "outputs": [
    {
     "output_type": "execute_result",
     "data": {
      "text/plain": [
       "{'Country_ Holand-Netherlands'}"
      ]
     },
     "metadata": {
      "tags": []
     },
     "execution_count": 102
    }
   ]
  },
  {
   "cell_type": "code",
   "metadata": {
    "id": "1_u8ik5CGJej",
    "outputId": "f9315d3c-eb4f-4f08-f585-fe5640ecd3e9",
    "colab": {
     "base_uri": "https://localhost:8080/",
     "height": 34
    }
   },
   "source": [
    "data_train.shape, data_test.shape"
   ],
   "execution_count": 103,
   "outputs": [
    {
     "output_type": "execute_result",
     "data": {
      "text/plain": [
       "((32561, 106), (16281, 105))"
      ]
     },
     "metadata": {
      "tags": []
     },
     "execution_count": 103
    }
   ]
  },
  {
   "cell_type": "markdown",
   "metadata": {
    "id": "Qhu7scfmGJeo"
   },
   "source": [
    "**У тестовій вибірці не виявилося Голландії. Заведемо необхідну ознаку з нулів.**"
   ]
  },
  {
   "cell_type": "code",
   "metadata": {
    "id": "eg31PumxGJep"
   },
   "source": [
    "data_test['Country_ Holand-Netherlands'] = np.zeros([data_test.shape[0], 1])"
   ],
   "execution_count": 104,
   "outputs": []
  },
  {
   "cell_type": "code",
   "metadata": {
    "id": "9sZCzP-jGJeu",
    "outputId": "24b04a95-d89b-4ec9-9ec9-99a0012b4079",
    "colab": {
     "base_uri": "https://localhost:8080/",
     "height": 34
    }
   },
   "source": [
    "set(data_train.columns) - set(data_test.columns)"
   ],
   "execution_count": 105,
   "outputs": [
    {
     "output_type": "execute_result",
     "data": {
      "text/plain": [
       "set()"
      ]
     },
     "metadata": {
      "tags": []
     },
     "execution_count": 105
    }
   ]
  },
  {
   "cell_type": "code",
   "metadata": {
    "id": "anfam9SLGJez",
    "outputId": "945647de-a321-463c-fd79-376d1a3a0129",
    "colab": {
     "base_uri": "https://localhost:8080/",
     "height": 206
    }
   },
   "source": [
    "data_train.head(2)"
   ],
   "execution_count": 106,
   "outputs": [
    {
     "output_type": "execute_result",
     "data": {
      "text/html": [
       "<div>\n",
       "<style scoped>\n",
       "    .dataframe tbody tr th:only-of-type {\n",
       "        vertical-align: middle;\n",
       "    }\n",
       "\n",
       "    .dataframe tbody tr th {\n",
       "        vertical-align: top;\n",
       "    }\n",
       "\n",
       "    .dataframe thead th {\n",
       "        text-align: right;\n",
       "    }\n",
       "</style>\n",
       "<table border=\"1\" class=\"dataframe\">\n",
       "  <thead>\n",
       "    <tr style=\"text-align: right;\">\n",
       "      <th></th>\n",
       "      <th>Age</th>\n",
       "      <th>fnlwgt</th>\n",
       "      <th>Education_Num</th>\n",
       "      <th>Capital_Gain</th>\n",
       "      <th>Capital_Loss</th>\n",
       "      <th>Hours_per_week</th>\n",
       "      <th>Target</th>\n",
       "      <th>Workclass_ Federal-gov</th>\n",
       "      <th>Workclass_ Local-gov</th>\n",
       "      <th>Workclass_ Never-worked</th>\n",
       "      <th>Workclass_ Private</th>\n",
       "      <th>Workclass_ Self-emp-inc</th>\n",
       "      <th>Workclass_ Self-emp-not-inc</th>\n",
       "      <th>Workclass_ State-gov</th>\n",
       "      <th>Workclass_ Without-pay</th>\n",
       "      <th>Education_ 10th</th>\n",
       "      <th>Education_ 11th</th>\n",
       "      <th>Education_ 12th</th>\n",
       "      <th>Education_ 1st-4th</th>\n",
       "      <th>Education_ 5th-6th</th>\n",
       "      <th>Education_ 7th-8th</th>\n",
       "      <th>Education_ 9th</th>\n",
       "      <th>Education_ Assoc-acdm</th>\n",
       "      <th>Education_ Assoc-voc</th>\n",
       "      <th>Education_ Bachelors</th>\n",
       "      <th>Education_ Doctorate</th>\n",
       "      <th>Education_ HS-grad</th>\n",
       "      <th>Education_ Masters</th>\n",
       "      <th>Education_ Preschool</th>\n",
       "      <th>Education_ Prof-school</th>\n",
       "      <th>Education_ Some-college</th>\n",
       "      <th>Martial_Status_ Divorced</th>\n",
       "      <th>Martial_Status_ Married-AF-spouse</th>\n",
       "      <th>Martial_Status_ Married-civ-spouse</th>\n",
       "      <th>Martial_Status_ Married-spouse-absent</th>\n",
       "      <th>Martial_Status_ Never-married</th>\n",
       "      <th>Martial_Status_ Separated</th>\n",
       "      <th>Martial_Status_ Widowed</th>\n",
       "      <th>Occupation_ Adm-clerical</th>\n",
       "      <th>Occupation_ Armed-Forces</th>\n",
       "      <th>...</th>\n",
       "      <th>Country_ Canada</th>\n",
       "      <th>Country_ China</th>\n",
       "      <th>Country_ Columbia</th>\n",
       "      <th>Country_ Cuba</th>\n",
       "      <th>Country_ Dominican-Republic</th>\n",
       "      <th>Country_ Ecuador</th>\n",
       "      <th>Country_ El-Salvador</th>\n",
       "      <th>Country_ England</th>\n",
       "      <th>Country_ France</th>\n",
       "      <th>Country_ Germany</th>\n",
       "      <th>Country_ Greece</th>\n",
       "      <th>Country_ Guatemala</th>\n",
       "      <th>Country_ Haiti</th>\n",
       "      <th>Country_ Holand-Netherlands</th>\n",
       "      <th>Country_ Honduras</th>\n",
       "      <th>Country_ Hong</th>\n",
       "      <th>Country_ Hungary</th>\n",
       "      <th>Country_ India</th>\n",
       "      <th>Country_ Iran</th>\n",
       "      <th>Country_ Ireland</th>\n",
       "      <th>Country_ Italy</th>\n",
       "      <th>Country_ Jamaica</th>\n",
       "      <th>Country_ Japan</th>\n",
       "      <th>Country_ Laos</th>\n",
       "      <th>Country_ Mexico</th>\n",
       "      <th>Country_ Nicaragua</th>\n",
       "      <th>Country_ Outlying-US(Guam-USVI-etc)</th>\n",
       "      <th>Country_ Peru</th>\n",
       "      <th>Country_ Philippines</th>\n",
       "      <th>Country_ Poland</th>\n",
       "      <th>Country_ Portugal</th>\n",
       "      <th>Country_ Puerto-Rico</th>\n",
       "      <th>Country_ Scotland</th>\n",
       "      <th>Country_ South</th>\n",
       "      <th>Country_ Taiwan</th>\n",
       "      <th>Country_ Thailand</th>\n",
       "      <th>Country_ Trinadad&amp;Tobago</th>\n",
       "      <th>Country_ United-States</th>\n",
       "      <th>Country_ Vietnam</th>\n",
       "      <th>Country_ Yugoslavia</th>\n",
       "    </tr>\n",
       "  </thead>\n",
       "  <tbody>\n",
       "    <tr>\n",
       "      <th>0</th>\n",
       "      <td>39</td>\n",
       "      <td>77516</td>\n",
       "      <td>13</td>\n",
       "      <td>2174</td>\n",
       "      <td>0</td>\n",
       "      <td>40</td>\n",
       "      <td>0</td>\n",
       "      <td>0</td>\n",
       "      <td>0</td>\n",
       "      <td>0</td>\n",
       "      <td>0</td>\n",
       "      <td>0</td>\n",
       "      <td>0</td>\n",
       "      <td>1</td>\n",
       "      <td>0</td>\n",
       "      <td>0</td>\n",
       "      <td>0</td>\n",
       "      <td>0</td>\n",
       "      <td>0</td>\n",
       "      <td>0</td>\n",
       "      <td>0</td>\n",
       "      <td>0</td>\n",
       "      <td>0</td>\n",
       "      <td>0</td>\n",
       "      <td>1</td>\n",
       "      <td>0</td>\n",
       "      <td>0</td>\n",
       "      <td>0</td>\n",
       "      <td>0</td>\n",
       "      <td>0</td>\n",
       "      <td>0</td>\n",
       "      <td>0</td>\n",
       "      <td>0</td>\n",
       "      <td>0</td>\n",
       "      <td>0</td>\n",
       "      <td>1</td>\n",
       "      <td>0</td>\n",
       "      <td>0</td>\n",
       "      <td>1</td>\n",
       "      <td>0</td>\n",
       "      <td>...</td>\n",
       "      <td>0</td>\n",
       "      <td>0</td>\n",
       "      <td>0</td>\n",
       "      <td>0</td>\n",
       "      <td>0</td>\n",
       "      <td>0</td>\n",
       "      <td>0</td>\n",
       "      <td>0</td>\n",
       "      <td>0</td>\n",
       "      <td>0</td>\n",
       "      <td>0</td>\n",
       "      <td>0</td>\n",
       "      <td>0</td>\n",
       "      <td>0</td>\n",
       "      <td>0</td>\n",
       "      <td>0</td>\n",
       "      <td>0</td>\n",
       "      <td>0</td>\n",
       "      <td>0</td>\n",
       "      <td>0</td>\n",
       "      <td>0</td>\n",
       "      <td>0</td>\n",
       "      <td>0</td>\n",
       "      <td>0</td>\n",
       "      <td>0</td>\n",
       "      <td>0</td>\n",
       "      <td>0</td>\n",
       "      <td>0</td>\n",
       "      <td>0</td>\n",
       "      <td>0</td>\n",
       "      <td>0</td>\n",
       "      <td>0</td>\n",
       "      <td>0</td>\n",
       "      <td>0</td>\n",
       "      <td>0</td>\n",
       "      <td>0</td>\n",
       "      <td>0</td>\n",
       "      <td>1</td>\n",
       "      <td>0</td>\n",
       "      <td>0</td>\n",
       "    </tr>\n",
       "    <tr>\n",
       "      <th>1</th>\n",
       "      <td>50</td>\n",
       "      <td>83311</td>\n",
       "      <td>13</td>\n",
       "      <td>0</td>\n",
       "      <td>0</td>\n",
       "      <td>13</td>\n",
       "      <td>0</td>\n",
       "      <td>0</td>\n",
       "      <td>0</td>\n",
       "      <td>0</td>\n",
       "      <td>0</td>\n",
       "      <td>0</td>\n",
       "      <td>1</td>\n",
       "      <td>0</td>\n",
       "      <td>0</td>\n",
       "      <td>0</td>\n",
       "      <td>0</td>\n",
       "      <td>0</td>\n",
       "      <td>0</td>\n",
       "      <td>0</td>\n",
       "      <td>0</td>\n",
       "      <td>0</td>\n",
       "      <td>0</td>\n",
       "      <td>0</td>\n",
       "      <td>1</td>\n",
       "      <td>0</td>\n",
       "      <td>0</td>\n",
       "      <td>0</td>\n",
       "      <td>0</td>\n",
       "      <td>0</td>\n",
       "      <td>0</td>\n",
       "      <td>0</td>\n",
       "      <td>0</td>\n",
       "      <td>1</td>\n",
       "      <td>0</td>\n",
       "      <td>0</td>\n",
       "      <td>0</td>\n",
       "      <td>0</td>\n",
       "      <td>0</td>\n",
       "      <td>0</td>\n",
       "      <td>...</td>\n",
       "      <td>0</td>\n",
       "      <td>0</td>\n",
       "      <td>0</td>\n",
       "      <td>0</td>\n",
       "      <td>0</td>\n",
       "      <td>0</td>\n",
       "      <td>0</td>\n",
       "      <td>0</td>\n",
       "      <td>0</td>\n",
       "      <td>0</td>\n",
       "      <td>0</td>\n",
       "      <td>0</td>\n",
       "      <td>0</td>\n",
       "      <td>0</td>\n",
       "      <td>0</td>\n",
       "      <td>0</td>\n",
       "      <td>0</td>\n",
       "      <td>0</td>\n",
       "      <td>0</td>\n",
       "      <td>0</td>\n",
       "      <td>0</td>\n",
       "      <td>0</td>\n",
       "      <td>0</td>\n",
       "      <td>0</td>\n",
       "      <td>0</td>\n",
       "      <td>0</td>\n",
       "      <td>0</td>\n",
       "      <td>0</td>\n",
       "      <td>0</td>\n",
       "      <td>0</td>\n",
       "      <td>0</td>\n",
       "      <td>0</td>\n",
       "      <td>0</td>\n",
       "      <td>0</td>\n",
       "      <td>0</td>\n",
       "      <td>0</td>\n",
       "      <td>0</td>\n",
       "      <td>1</td>\n",
       "      <td>0</td>\n",
       "      <td>0</td>\n",
       "    </tr>\n",
       "  </tbody>\n",
       "</table>\n",
       "<p>2 rows × 106 columns</p>\n",
       "</div>"
      ],
      "text/plain": [
       "   Age  fnlwgt  ...  Country_ Vietnam  Country_ Yugoslavia\n",
       "0   39   77516  ...                 0                    0\n",
       "1   50   83311  ...                 0                    0\n",
       "\n",
       "[2 rows x 106 columns]"
      ]
     },
     "metadata": {
      "tags": []
     },
     "execution_count": 106
    }
   ]
  },
  {
   "cell_type": "code",
   "metadata": {
    "id": "EOljP04vGJe2",
    "outputId": "6cdc6fca-a2f2-41d9-cc87-a9cc3c979271",
    "colab": {
     "base_uri": "https://localhost:8080/",
     "height": 206
    }
   },
   "source": [
    "data_test.head(2)"
   ],
   "execution_count": 107,
   "outputs": [
    {
     "output_type": "execute_result",
     "data": {
      "text/html": [
       "<div>\n",
       "<style scoped>\n",
       "    .dataframe tbody tr th:only-of-type {\n",
       "        vertical-align: middle;\n",
       "    }\n",
       "\n",
       "    .dataframe tbody tr th {\n",
       "        vertical-align: top;\n",
       "    }\n",
       "\n",
       "    .dataframe thead th {\n",
       "        text-align: right;\n",
       "    }\n",
       "</style>\n",
       "<table border=\"1\" class=\"dataframe\">\n",
       "  <thead>\n",
       "    <tr style=\"text-align: right;\">\n",
       "      <th></th>\n",
       "      <th>Age</th>\n",
       "      <th>fnlwgt</th>\n",
       "      <th>Education_Num</th>\n",
       "      <th>Capital_Gain</th>\n",
       "      <th>Capital_Loss</th>\n",
       "      <th>Hours_per_week</th>\n",
       "      <th>Target</th>\n",
       "      <th>Workclass_ Federal-gov</th>\n",
       "      <th>Workclass_ Local-gov</th>\n",
       "      <th>Workclass_ Never-worked</th>\n",
       "      <th>Workclass_ Private</th>\n",
       "      <th>Workclass_ Self-emp-inc</th>\n",
       "      <th>Workclass_ Self-emp-not-inc</th>\n",
       "      <th>Workclass_ State-gov</th>\n",
       "      <th>Workclass_ Without-pay</th>\n",
       "      <th>Education_ 10th</th>\n",
       "      <th>Education_ 11th</th>\n",
       "      <th>Education_ 12th</th>\n",
       "      <th>Education_ 1st-4th</th>\n",
       "      <th>Education_ 5th-6th</th>\n",
       "      <th>Education_ 7th-8th</th>\n",
       "      <th>Education_ 9th</th>\n",
       "      <th>Education_ Assoc-acdm</th>\n",
       "      <th>Education_ Assoc-voc</th>\n",
       "      <th>Education_ Bachelors</th>\n",
       "      <th>Education_ Doctorate</th>\n",
       "      <th>Education_ HS-grad</th>\n",
       "      <th>Education_ Masters</th>\n",
       "      <th>Education_ Preschool</th>\n",
       "      <th>Education_ Prof-school</th>\n",
       "      <th>Education_ Some-college</th>\n",
       "      <th>Martial_Status_ Divorced</th>\n",
       "      <th>Martial_Status_ Married-AF-spouse</th>\n",
       "      <th>Martial_Status_ Married-civ-spouse</th>\n",
       "      <th>Martial_Status_ Married-spouse-absent</th>\n",
       "      <th>Martial_Status_ Never-married</th>\n",
       "      <th>Martial_Status_ Separated</th>\n",
       "      <th>Martial_Status_ Widowed</th>\n",
       "      <th>Occupation_ Adm-clerical</th>\n",
       "      <th>Occupation_ Armed-Forces</th>\n",
       "      <th>...</th>\n",
       "      <th>Country_ Canada</th>\n",
       "      <th>Country_ China</th>\n",
       "      <th>Country_ Columbia</th>\n",
       "      <th>Country_ Cuba</th>\n",
       "      <th>Country_ Dominican-Republic</th>\n",
       "      <th>Country_ Ecuador</th>\n",
       "      <th>Country_ El-Salvador</th>\n",
       "      <th>Country_ England</th>\n",
       "      <th>Country_ France</th>\n",
       "      <th>Country_ Germany</th>\n",
       "      <th>Country_ Greece</th>\n",
       "      <th>Country_ Guatemala</th>\n",
       "      <th>Country_ Haiti</th>\n",
       "      <th>Country_ Honduras</th>\n",
       "      <th>Country_ Hong</th>\n",
       "      <th>Country_ Hungary</th>\n",
       "      <th>Country_ India</th>\n",
       "      <th>Country_ Iran</th>\n",
       "      <th>Country_ Ireland</th>\n",
       "      <th>Country_ Italy</th>\n",
       "      <th>Country_ Jamaica</th>\n",
       "      <th>Country_ Japan</th>\n",
       "      <th>Country_ Laos</th>\n",
       "      <th>Country_ Mexico</th>\n",
       "      <th>Country_ Nicaragua</th>\n",
       "      <th>Country_ Outlying-US(Guam-USVI-etc)</th>\n",
       "      <th>Country_ Peru</th>\n",
       "      <th>Country_ Philippines</th>\n",
       "      <th>Country_ Poland</th>\n",
       "      <th>Country_ Portugal</th>\n",
       "      <th>Country_ Puerto-Rico</th>\n",
       "      <th>Country_ Scotland</th>\n",
       "      <th>Country_ South</th>\n",
       "      <th>Country_ Taiwan</th>\n",
       "      <th>Country_ Thailand</th>\n",
       "      <th>Country_ Trinadad&amp;Tobago</th>\n",
       "      <th>Country_ United-States</th>\n",
       "      <th>Country_ Vietnam</th>\n",
       "      <th>Country_ Yugoslavia</th>\n",
       "      <th>Country_ Holand-Netherlands</th>\n",
       "    </tr>\n",
       "  </thead>\n",
       "  <tbody>\n",
       "    <tr>\n",
       "      <th>1</th>\n",
       "      <td>25</td>\n",
       "      <td>226802</td>\n",
       "      <td>7</td>\n",
       "      <td>0</td>\n",
       "      <td>0</td>\n",
       "      <td>40</td>\n",
       "      <td>0</td>\n",
       "      <td>0</td>\n",
       "      <td>0</td>\n",
       "      <td>0</td>\n",
       "      <td>1</td>\n",
       "      <td>0</td>\n",
       "      <td>0</td>\n",
       "      <td>0</td>\n",
       "      <td>0</td>\n",
       "      <td>0</td>\n",
       "      <td>1</td>\n",
       "      <td>0</td>\n",
       "      <td>0</td>\n",
       "      <td>0</td>\n",
       "      <td>0</td>\n",
       "      <td>0</td>\n",
       "      <td>0</td>\n",
       "      <td>0</td>\n",
       "      <td>0</td>\n",
       "      <td>0</td>\n",
       "      <td>0</td>\n",
       "      <td>0</td>\n",
       "      <td>0</td>\n",
       "      <td>0</td>\n",
       "      <td>0</td>\n",
       "      <td>0</td>\n",
       "      <td>0</td>\n",
       "      <td>0</td>\n",
       "      <td>0</td>\n",
       "      <td>1</td>\n",
       "      <td>0</td>\n",
       "      <td>0</td>\n",
       "      <td>0</td>\n",
       "      <td>0</td>\n",
       "      <td>...</td>\n",
       "      <td>0</td>\n",
       "      <td>0</td>\n",
       "      <td>0</td>\n",
       "      <td>0</td>\n",
       "      <td>0</td>\n",
       "      <td>0</td>\n",
       "      <td>0</td>\n",
       "      <td>0</td>\n",
       "      <td>0</td>\n",
       "      <td>0</td>\n",
       "      <td>0</td>\n",
       "      <td>0</td>\n",
       "      <td>0</td>\n",
       "      <td>0</td>\n",
       "      <td>0</td>\n",
       "      <td>0</td>\n",
       "      <td>0</td>\n",
       "      <td>0</td>\n",
       "      <td>0</td>\n",
       "      <td>0</td>\n",
       "      <td>0</td>\n",
       "      <td>0</td>\n",
       "      <td>0</td>\n",
       "      <td>0</td>\n",
       "      <td>0</td>\n",
       "      <td>0</td>\n",
       "      <td>0</td>\n",
       "      <td>0</td>\n",
       "      <td>0</td>\n",
       "      <td>0</td>\n",
       "      <td>0</td>\n",
       "      <td>0</td>\n",
       "      <td>0</td>\n",
       "      <td>0</td>\n",
       "      <td>0</td>\n",
       "      <td>0</td>\n",
       "      <td>1</td>\n",
       "      <td>0</td>\n",
       "      <td>0</td>\n",
       "      <td>0.0</td>\n",
       "    </tr>\n",
       "    <tr>\n",
       "      <th>2</th>\n",
       "      <td>38</td>\n",
       "      <td>89814</td>\n",
       "      <td>9</td>\n",
       "      <td>0</td>\n",
       "      <td>0</td>\n",
       "      <td>50</td>\n",
       "      <td>0</td>\n",
       "      <td>0</td>\n",
       "      <td>0</td>\n",
       "      <td>0</td>\n",
       "      <td>1</td>\n",
       "      <td>0</td>\n",
       "      <td>0</td>\n",
       "      <td>0</td>\n",
       "      <td>0</td>\n",
       "      <td>0</td>\n",
       "      <td>0</td>\n",
       "      <td>0</td>\n",
       "      <td>0</td>\n",
       "      <td>0</td>\n",
       "      <td>0</td>\n",
       "      <td>0</td>\n",
       "      <td>0</td>\n",
       "      <td>0</td>\n",
       "      <td>0</td>\n",
       "      <td>0</td>\n",
       "      <td>1</td>\n",
       "      <td>0</td>\n",
       "      <td>0</td>\n",
       "      <td>0</td>\n",
       "      <td>0</td>\n",
       "      <td>0</td>\n",
       "      <td>0</td>\n",
       "      <td>1</td>\n",
       "      <td>0</td>\n",
       "      <td>0</td>\n",
       "      <td>0</td>\n",
       "      <td>0</td>\n",
       "      <td>0</td>\n",
       "      <td>0</td>\n",
       "      <td>...</td>\n",
       "      <td>0</td>\n",
       "      <td>0</td>\n",
       "      <td>0</td>\n",
       "      <td>0</td>\n",
       "      <td>0</td>\n",
       "      <td>0</td>\n",
       "      <td>0</td>\n",
       "      <td>0</td>\n",
       "      <td>0</td>\n",
       "      <td>0</td>\n",
       "      <td>0</td>\n",
       "      <td>0</td>\n",
       "      <td>0</td>\n",
       "      <td>0</td>\n",
       "      <td>0</td>\n",
       "      <td>0</td>\n",
       "      <td>0</td>\n",
       "      <td>0</td>\n",
       "      <td>0</td>\n",
       "      <td>0</td>\n",
       "      <td>0</td>\n",
       "      <td>0</td>\n",
       "      <td>0</td>\n",
       "      <td>0</td>\n",
       "      <td>0</td>\n",
       "      <td>0</td>\n",
       "      <td>0</td>\n",
       "      <td>0</td>\n",
       "      <td>0</td>\n",
       "      <td>0</td>\n",
       "      <td>0</td>\n",
       "      <td>0</td>\n",
       "      <td>0</td>\n",
       "      <td>0</td>\n",
       "      <td>0</td>\n",
       "      <td>0</td>\n",
       "      <td>1</td>\n",
       "      <td>0</td>\n",
       "      <td>0</td>\n",
       "      <td>0.0</td>\n",
       "    </tr>\n",
       "  </tbody>\n",
       "</table>\n",
       "<p>2 rows × 106 columns</p>\n",
       "</div>"
      ],
      "text/plain": [
       "   Age  fnlwgt  ...  Country_ Yugoslavia  Country_ Holand-Netherlands\n",
       "1   25  226802  ...                    0                          0.0\n",
       "2   38   89814  ...                    0                          0.0\n",
       "\n",
       "[2 rows x 106 columns]"
      ]
     },
     "metadata": {
      "tags": []
     },
     "execution_count": 107
    }
   ]
  },
  {
   "cell_type": "code",
   "metadata": {
    "id": "ErsR5z2qGJe8"
   },
   "source": [
    "X_train=data_train.drop(['Target'], axis=1)\n",
    "y_train = data_train['Target']\n",
    "\n",
    "X_test=data_test.drop(['Target'], axis=1)\n",
    "y_test = data_test['Target']"
   ],
   "execution_count": 108,
   "outputs": []
  },
  {
   "cell_type": "markdown",
   "metadata": {
    "id": "uIgoRueQGJe-"
   },
   "source": [
    "## Дерево рішень без налаштування параметрів"
   ]
  },
  {
   "cell_type": "markdown",
   "metadata": {
    "id": "aFPzvjmmGJfA"
   },
   "source": [
    "**Навчіть на наявній вибірці дерево рішень (`DecisionTreeClassifier`) максимальної глибини 3 і отримайте якість на тесті. Використовуйте параметр `random_state` = 17 для відтворюваності результатів.**"
   ]
  },
  {
   "cell_type": "code",
   "metadata": {
    "id": "K23bJXiOGJfA",
    "outputId": "37935f06-7b65-4a07-d027-42cb4421f02e",
    "colab": {
     "base_uri": "https://localhost:8080/",
     "height": 123
    }
   },
   "source": [
    "tree = DecisionTreeClassifier(max_depth=3, random_state=17)\n",
    "tree.fit(X_train, y_train)"
   ],
   "execution_count": 112,
   "outputs": [
    {
     "output_type": "execute_result",
     "data": {
      "text/plain": [
       "DecisionTreeClassifier(ccp_alpha=0.0, class_weight=None, criterion='gini',\n",
       "                       max_depth=3, max_features=None, max_leaf_nodes=None,\n",
       "                       min_impurity_decrease=0.0, min_impurity_split=None,\n",
       "                       min_samples_leaf=1, min_samples_split=2,\n",
       "                       min_weight_fraction_leaf=0.0, presort='deprecated',\n",
       "                       random_state=17, splitter='best')"
      ]
     },
     "metadata": {
      "tags": []
     },
     "execution_count": 112
    }
   ]
  },
  {
   "cell_type": "markdown",
   "metadata": {
    "id": "pXNJWcP-GJfE"
   },
   "source": [
    "**Зробіть за допомогою отриманої моделі прогноз для тестової вибірки.**"
   ]
  },
  {
   "cell_type": "code",
   "metadata": {
    "id": "tkvD3oXxGJfF"
   },
   "source": [
    "y_pred = tree.predict(X_test)"
   ],
   "execution_count": 113,
   "outputs": []
  },
  {
   "cell_type": "code",
   "metadata": {
    "id": "7wn5Xu_ZGJfJ",
    "outputId": "12133722-c64e-4666-eddb-422e8188027f",
    "colab": {
     "base_uri": "https://localhost:8080/",
     "height": 34
    }
   },
   "source": [
    "accuracy = accuracy_score(y_test, y_pred)\n",
    "accuracy"
   ],
   "execution_count": 114,
   "outputs": [
    {
     "output_type": "execute_result",
     "data": {
      "text/plain": [
       "0.8447884036607088"
      ]
     },
     "metadata": {
      "tags": []
     },
     "execution_count": 114
    }
   ]
  },
  {
   "cell_type": "markdown",
   "metadata": {
    "id": "8gwFfjKrGJfP"
   },
   "source": [
    "<font color='red'>Питання 6.  </font> Яка частка правильних відповідей дерева рішень на тестовій вибірці при максимальній глибині дерева = 3 і random_state = 17?"
   ]
  },
  {
   "cell_type": "markdown",
   "metadata": {
    "id": "pwsMWSP9GJfQ"
   },
   "source": [
    "## Дерево рішень з налаштуванням параметрів"
   ]
  },
  {
   "cell_type": "markdown",
   "metadata": {
    "id": "C4WbcaEpGJfQ"
   },
   "source": [
    "**Навчіть на наявній вибірці дерево рішень (`DecisionTreeClassifier`, знову` random_state` = 17). Максимальну глибину налаштуйте на крос-валідації за допомогою `GridSearchCV`. Проведіть 5-кратну крос-валідацію**"
   ]
  },
  {
   "cell_type": "code",
   "metadata": {
    "id": "G4bjRyirGJfQ",
    "outputId": "186b33f2-8305-4784-ec0b-e7df77c8a1f5",
    "colab": {
     "base_uri": "https://localhost:8080/",
     "height": 301
    }
   },
   "source": [
    "tree_params = {'max_depth': range(2,11)}\n",
    "random_tree = DecisionTreeClassifier(random_state=17)\n",
    "\n",
    "locally_best_tree = GridSearchCV(estimator=random_tree, param_grid=tree_params ,cv=None)                  \n",
    "\n",
    "locally_best_tree.fit(X_train, y_train)"
   ],
   "execution_count": 116,
   "outputs": [
    {
     "output_type": "execute_result",
     "data": {
      "text/plain": [
       "GridSearchCV(cv=None, error_score=nan,\n",
       "             estimator=DecisionTreeClassifier(ccp_alpha=0.0, class_weight=None,\n",
       "                                              criterion='gini', max_depth=None,\n",
       "                                              max_features=None,\n",
       "                                              max_leaf_nodes=None,\n",
       "                                              min_impurity_decrease=0.0,\n",
       "                                              min_impurity_split=None,\n",
       "                                              min_samples_leaf=1,\n",
       "                                              min_samples_split=2,\n",
       "                                              min_weight_fraction_leaf=0.0,\n",
       "                                              presort='deprecated',\n",
       "                                              random_state=17,\n",
       "                                              splitter='best'),\n",
       "             iid='deprecated', n_jobs=None,\n",
       "             param_grid={'max_depth': range(2, 11)}, pre_dispatch='2*n_jobs',\n",
       "             refit=True, return_train_score=False, scoring=None, verbose=0)"
      ]
     },
     "metadata": {
      "tags": []
     },
     "execution_count": 116
    }
   ]
  },
  {
   "cell_type": "code",
   "metadata": {
    "id": "iumaeu2wGJfU",
    "outputId": "715d7996-9796-4e97-f783-c340a6872cf8",
    "colab": {
     "base_uri": "https://localhost:8080/",
     "height": 52
    }
   },
   "source": [
    "print(\"Best params:\", locally_best_tree.best_params_)\n",
    "print(\"Best cross validaton score\", locally_best_tree.best_score_)"
   ],
   "execution_count": 117,
   "outputs": [
    {
     "output_type": "stream",
     "text": [
      "Best params: {'max_depth': 9}\n",
      "Best cross validaton score 0.8562698879315647\n"
     ],
     "name": "stdout"
    }
   ]
  },
  {
   "cell_type": "markdown",
   "metadata": {
    "id": "CJqorol4GJfa"
   },
   "source": [
    "**Навчіть на наявній вибірці дерево рішень максимальної глибини 9 (це краще значення `max_depth` в моєму випадку) та оцініть частку правильних відповідей на тесті. Використовуйте параметр random_state = 17 для відтворюваності результатів.**"
   ]
  },
  {
   "cell_type": "code",
   "metadata": {
    "id": "hpt16y9bGJfc",
    "outputId": "9dba6db3-1aa4-402c-fdf0-d46007d33496",
    "colab": {
     "base_uri": "https://localhost:8080/",
     "height": 34
    }
   },
   "source": [
    "tuned_tree = DecisionTreeClassifier(max_depth=9, random_state=17)\n",
    "tuned_tree.fit(X_train, y_train)\n",
    "tuned_tree_predictions = tuned_tree.predict(X_test)\n",
    "accuracy_score_tuned_tree = accuracy_score(y_test, y_pred)\n",
    "accuracy_score_tuned_tree"
   ],
   "execution_count": 124,
   "outputs": [
    {
     "output_type": "execute_result",
     "data": {
      "text/plain": [
       "0.8447884036607088"
      ]
     },
     "metadata": {
      "tags": []
     },
     "execution_count": 124
    }
   ]
  },
  {
   "cell_type": "markdown",
   "metadata": {
    "id": "3qwh4yU6GJfh"
   },
   "source": [
    "<font color='red'>Питання 7.  </font> Яка частка правильних відповідей дерева рішень на тестовій вибірці при максимальній глибині дерева = 9 і random_state = 17?"
   ]
  },
  {
   "cell_type": "markdown",
   "metadata": {
    "id": "pRQZ8UghGJfi"
   },
   "source": [
    "## 2.3. Випадковий ліс без налаштування параметрів (опціонально) ¶"
   ]
  },
  {
   "cell_type": "markdown",
   "metadata": {
    "id": "Z2_O0GZaGJfk"
   },
   "source": [
    "**Навчіть на наявній вибірці випадковий ліс (`RandomForestClassifier`), число дерев зробіть рівним ста, а` random_state` = 17.**"
   ]
  },
  {
   "cell_type": "code",
   "metadata": {
    "id": "mWsAl5QUGJfk",
    "outputId": "382ffa96-d288-49a8-d182-bc879e4044bf",
    "colab": {
     "base_uri": "https://localhost:8080/",
     "height": 158
    }
   },
   "source": [
    "rf = RandomForestClassifier(n_estimators=100, random_state=17)\n",
    "rf.fit(X_train, y_train)"
   ],
   "execution_count": 125,
   "outputs": [
    {
     "output_type": "execute_result",
     "data": {
      "text/plain": [
       "RandomForestClassifier(bootstrap=True, ccp_alpha=0.0, class_weight=None,\n",
       "                       criterion='gini', max_depth=None, max_features='auto',\n",
       "                       max_leaf_nodes=None, max_samples=None,\n",
       "                       min_impurity_decrease=0.0, min_impurity_split=None,\n",
       "                       min_samples_leaf=1, min_samples_split=2,\n",
       "                       min_weight_fraction_leaf=0.0, n_estimators=100,\n",
       "                       n_jobs=None, oob_score=False, random_state=17, verbose=0,\n",
       "                       warm_start=False)"
      ]
     },
     "metadata": {
      "tags": []
     },
     "execution_count": 125
    }
   ]
  },
  {
   "cell_type": "markdown",
   "metadata": {
    "id": "Ad7JGpOwGJfo"
   },
   "source": [
    "**Зробіть за допомогою отриманої моделі прогноз для тестової вибірки.**"
   ]
  },
  {
   "cell_type": "code",
   "metadata": {
    "id": "KzFhUDpMGJfo"
   },
   "source": [
    "forest_predictions = rf.predict(X_test)"
   ],
   "execution_count": 126,
   "outputs": []
  },
  {
   "cell_type": "code",
   "metadata": {
    "id": "KfoFHaLpGJfr",
    "outputId": "beb76b44-40f8-4e30-d6ab-3de5c4c7322e",
    "colab": {
     "base_uri": "https://localhost:8080/",
     "height": 34
    }
   },
   "source": [
    "rand_forest_accuracy = accuracy_score(y_test, forest_predictions)\n",
    "rand_forest_accuracy"
   ],
   "execution_count": 127,
   "outputs": [
    {
     "output_type": "execute_result",
     "data": {
      "text/plain": [
       "0.8576254529820035"
      ]
     },
     "metadata": {
      "tags": []
     },
     "execution_count": 127
    }
   ]
  },
  {
   "cell_type": "markdown",
   "metadata": {
    "id": "LmIJiE8LGJfu"
   },
   "source": [
    "## 2.4. Випадковий ліс з налаштуванням параметрів "
   ]
  },
  {
   "cell_type": "markdown",
   "metadata": {
    "id": "lkJhRvJhGJfv"
   },
   "source": [
    "**Навчіть на наявній вибірці випадковий ліс (`RandomForestClassifier`). Максимальну глибину і максимальне число ознак для кожного дерева налаштуйте за допомогою GridSearchCV.**"
   ]
  },
  {
   "cell_type": "code",
   "metadata": {
    "id": "miOYZmilGJfx",
    "outputId": "5871ecdc-cef7-4026-d38f-e7f23c7d210e",
    "colab": {
     "base_uri": "https://localhost:8080/",
     "height": 372
    }
   },
   "source": [
    "forest = RandomForestClassifier(n_estimators=100, random_state=17)\n",
    "forest_params = {'max_depth': range(10, 21),\n",
    "                'max_features': range(5, 105, 10)}\n",
    "\n",
    "locally_best_forest = GridSearchCV(estimator=forest, param_grid=forest_params)\n",
    "\n",
    "locally_best_forest.fit(X_train, y_train)"
   ],
   "execution_count": 128,
   "outputs": [
    {
     "output_type": "execute_result",
     "data": {
      "text/plain": [
       "GridSearchCV(cv=None, error_score=nan,\n",
       "             estimator=RandomForestClassifier(bootstrap=True, ccp_alpha=0.0,\n",
       "                                              class_weight=None,\n",
       "                                              criterion='gini', max_depth=None,\n",
       "                                              max_features='auto',\n",
       "                                              max_leaf_nodes=None,\n",
       "                                              max_samples=None,\n",
       "                                              min_impurity_decrease=0.0,\n",
       "                                              min_impurity_split=None,\n",
       "                                              min_samples_leaf=1,\n",
       "                                              min_samples_split=2,\n",
       "                                              min_weight_fraction_leaf=0.0,\n",
       "                                              n_estimators=100, n_jobs=None,\n",
       "                                              oob_score=False, random_state=17,\n",
       "                                              verbose=0, warm_start=False),\n",
       "             iid='deprecated', n_jobs=None,\n",
       "             param_grid={'max_depth': range(10, 21),\n",
       "                         'max_features': range(5, 105, 10)},\n",
       "             pre_dispatch='2*n_jobs', refit=True, return_train_score=False,\n",
       "             scoring=None, verbose=0)"
      ]
     },
     "metadata": {
      "tags": []
     },
     "execution_count": 128
    }
   ]
  },
  {
   "cell_type": "code",
   "metadata": {
    "id": "ekiBR-LKGJfz",
    "outputId": "d5200d53-5343-49ba-d38f-c68351141195",
    "colab": {
     "base_uri": "https://localhost:8080/",
     "height": 52
    }
   },
   "source": [
    "print(\"Best params:\", locally_best_forest.best_params_)\n",
    "print(\"Best cross validaton score\", locally_best_forest.best_score_)"
   ],
   "execution_count": 129,
   "outputs": [
    {
     "output_type": "stream",
     "text": [
      "Best params: {'max_depth': 14, 'max_features': 55}\n",
      "Best cross validaton score 0.8653606649864136\n"
     ],
     "name": "stdout"
    }
   ]
  },
  {
   "cell_type": "markdown",
   "metadata": {
    "id": "veRRfSFjGJf3"
   },
   "source": [
    "**Зробіть за допомогою отриманої моделі прогноз для тестової вибірки.**"
   ]
  },
  {
   "cell_type": "code",
   "metadata": {
    "id": "1bCiXrJaGJf3",
    "outputId": "8b4b050b-64be-4b46-c834-7c6fd83b31fb",
    "colab": {
     "base_uri": "https://localhost:8080/",
     "height": 34
    }
   },
   "source": [
    "tuned_forest_predictions = locally_best_forest.predict(X_test)\n",
    "best_model_accuracy = accuracy_score(y_test, tuned_forest_predictions)\n",
    "best_model_accuracy"
   ],
   "execution_count": 130,
   "outputs": [
    {
     "output_type": "execute_result",
     "data": {
      "text/plain": [
       "0.8654873779251888"
      ]
     },
     "metadata": {
      "tags": []
     },
     "execution_count": 130
    }
   ]
  }
 ]
}