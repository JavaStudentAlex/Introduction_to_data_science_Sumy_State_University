{
 "nbformat": 4,
 "nbformat_minor": 0,
 "metadata": {
  "kernelspec": {
   "display_name": "Python 3",
   "language": "python",
   "name": "python3"
  },
  "language_info": {
   "codemirror_mode": {
    "name": "ipython",
    "version": 3
   },
   "file_extension": ".py",
   "mimetype": "text/x-python",
   "name": "python",
   "nbconvert_exporter": "python",
   "pygments_lexer": "ipython3",
   "version": "3.6.8"
  },
  "colab": {
   "name": "lab3_visual_habr.ipynb",
   "provenance": [],
   "collapsed_sections": []
  }
 },
 "cells": [
  {
   "cell_type": "markdown",
   "metadata": {
    "id": "UP4_-mc6_m_9"
   },
   "source": [
    "# <center>Лабораторна робота №3. <br> Візуальний аналіз даних про публікації на сайті Хабрахабр</center>\n",
    "\n",
    "**Заповніть код в клітинках**"
   ]
  },
  {
   "cell_type": "code",
   "metadata": {
    "id": "AnQhYorI_nAA"
   },
   "source": [
    "import pandas as pd\n",
    "%matplotlib inline\n",
    "import seaborn as sns\n",
    "import matplotlib.pyplot as plt"
   ],
   "execution_count": 1,
   "outputs": []
  },
  {
   "cell_type": "markdown",
   "metadata": {
    "id": "_KU719Y0_nAM"
   },
   "source": [
    "## Завантаження і знайомство з даними\n",
    "\n",
    "Для роботи вам знадобляться поепердньо оброблені дані з платформи kaggle (https://www.kaggle.com/c/howpop-habrahabr-favs)."
   ]
  },
  {
   "cell_type": "markdown",
   "metadata": {
    "id": "7xo0nPN8_sD6"
   },
   "source": [
    "Доступ до даних на google drive, якщо ви відкриваєте блокнот в google colab, а не на PC, можна отримати шляхом монтування google drive"
   ]
  },
  {
   "cell_type": "code",
   "execution_count": null,
   "outputs": [],
   "source": [
    "\"\"\"\n",
    "Uncomment next sections if use google collabs\n",
    "!pip install google-colab\n",
    "!pip install pydrive\n",
    "\"\"\""
   ],
   "metadata": {
    "collapsed": false,
    "pycharm": {
     "name": "#%%\n"
    }
   }
  },
  {
   "cell_type": "code",
   "metadata": {
    "id": "gMeQDcSACGrl"
   },
   "source": [
    "\"\"\"\n",
    "from pydrive.auth import GoogleAuth\n",
    "from pydrive.drive import GoogleDrive\n",
    "from google.colab import auth\n",
    "from oauth2client.client import GoogleCredentials\n",
    "auth.authenticate_user()\n",
    "gauth = GoogleAuth()\n",
    "gauth.credentials = GoogleCredentials.get_application_default()\n",
    "drive = GoogleDrive(gauth)\n",
    "\"\"\""
   ],
   "execution_count": 3,
   "outputs": []
  },
  {
   "cell_type": "code",
   "metadata": {
    "id": "ujF-Bw4sCKlG"
   },
   "source": [
    "\"\"\"\n",
    "downloaded = drive.CreateFile({'id':\"16Wj6nzdFU_HGBuWWlQK70rrajmX7FjsJ\"})\n",
    "downloaded.GetContentFile('howpop_train.csv')\n",
    "\"\"\"\n"
   ],
   "execution_count": 4,
   "outputs": []
  },
  {
   "cell_type": "code",
   "metadata": {
    "id": "tH8-oKWI_nAR"
   },
   "source": [
    "#df = pd.read_csv('howpop_train.csv')\n",
    "df = pd.read_csv('howpop_train.csv')"
   ],
   "execution_count": 5,
   "outputs": []
  },
  {
   "cell_type": "code",
   "metadata": {
    "id": "jNk5yhaE_nAY",
    "outputId": "f28805e7-f806-4f20-efc5-0eeabb92c348",
    "colab": {
     "base_uri": "https://localhost:8080/",
     "height": 34
    }
   },
   "source": [
    "df.shape"
   ],
   "execution_count": 6,
   "outputs": [
    {
     "output_type": "execute_result",
     "data": {
      "text/plain": [
       "(134137, 17)"
      ]
     },
     "metadata": {
      "tags": []
     },
     "execution_count": 6
    }
   ]
  },
  {
   "cell_type": "code",
   "metadata": {
    "id": "9_W7oCkE_nAh",
    "outputId": "f3d8574d-afd5-4319-bafe-9752c7be4e87",
    "colab": {
     "base_uri": "https://localhost:8080/",
     "height": 576
    }
   },
   "source": [
    "df.head(3).T"
   ],
   "execution_count": 7,
   "outputs": [
    {
     "output_type": "execute_result",
     "data": {
      "text/html": [
       "<div>\n",
       "<style scoped>\n",
       "    .dataframe tbody tr th:only-of-type {\n",
       "        vertical-align: middle;\n",
       "    }\n",
       "\n",
       "    .dataframe tbody tr th {\n",
       "        vertical-align: top;\n",
       "    }\n",
       "\n",
       "    .dataframe thead th {\n",
       "        text-align: right;\n",
       "    }\n",
       "</style>\n",
       "<table border=\"1\" class=\"dataframe\">\n",
       "  <thead>\n",
       "    <tr style=\"text-align: right;\">\n",
       "      <th></th>\n",
       "      <th>0</th>\n",
       "      <th>1</th>\n",
       "      <th>2</th>\n",
       "    </tr>\n",
       "  </thead>\n",
       "  <tbody>\n",
       "    <tr>\n",
       "      <th>url</th>\n",
       "      <td>https://habrahabr.ru/post/18284/</td>\n",
       "      <td>https://habrahabr.ru/post/18285/</td>\n",
       "      <td>https://habrahabr.ru/post/18286/</td>\n",
       "    </tr>\n",
       "    <tr>\n",
       "      <th>domain</th>\n",
       "      <td>habrahabr.ru</td>\n",
       "      <td>habrahabr.ru</td>\n",
       "      <td>habrahabr.ru</td>\n",
       "    </tr>\n",
       "    <tr>\n",
       "      <th>post_id</th>\n",
       "      <td>18284</td>\n",
       "      <td>18285</td>\n",
       "      <td>18286</td>\n",
       "    </tr>\n",
       "    <tr>\n",
       "      <th>published</th>\n",
       "      <td>2008-01-01 18:19:00</td>\n",
       "      <td>2008-01-01 18:30:00</td>\n",
       "      <td>2008-01-01 18:34:00</td>\n",
       "    </tr>\n",
       "    <tr>\n",
       "      <th>author</th>\n",
       "      <td>@Tapac</td>\n",
       "      <td>@DezmASter</td>\n",
       "      <td>@DezmASter</td>\n",
       "    </tr>\n",
       "    <tr>\n",
       "      <th>flow</th>\n",
       "      <td>develop</td>\n",
       "      <td>design</td>\n",
       "      <td>design</td>\n",
       "    </tr>\n",
       "    <tr>\n",
       "      <th>polling</th>\n",
       "      <td>False</td>\n",
       "      <td>False</td>\n",
       "      <td>False</td>\n",
       "    </tr>\n",
       "    <tr>\n",
       "      <th>content_len</th>\n",
       "      <td>4305</td>\n",
       "      <td>7344</td>\n",
       "      <td>8431</td>\n",
       "    </tr>\n",
       "    <tr>\n",
       "      <th>title</th>\n",
       "      <td>Новогодний подарок блоггерам — WordPress 2.3.2</td>\n",
       "      <td>Сумасшедшие яйца, или сервис для отслеживания ...</td>\n",
       "      <td>Сумасшедшие яйца, или сервис для отслеживания ...</td>\n",
       "    </tr>\n",
       "    <tr>\n",
       "      <th>comments</th>\n",
       "      <td>0</td>\n",
       "      <td>1</td>\n",
       "      <td>47</td>\n",
       "    </tr>\n",
       "    <tr>\n",
       "      <th>favs</th>\n",
       "      <td>0</td>\n",
       "      <td>1</td>\n",
       "      <td>72</td>\n",
       "    </tr>\n",
       "    <tr>\n",
       "      <th>views</th>\n",
       "      <td>236</td>\n",
       "      <td>353</td>\n",
       "      <td>1200</td>\n",
       "    </tr>\n",
       "    <tr>\n",
       "      <th>votes_plus</th>\n",
       "      <td>0</td>\n",
       "      <td>1</td>\n",
       "      <td>45</td>\n",
       "    </tr>\n",
       "    <tr>\n",
       "      <th>votes_minus</th>\n",
       "      <td>0</td>\n",
       "      <td>0</td>\n",
       "      <td>5</td>\n",
       "    </tr>\n",
       "    <tr>\n",
       "      <th>views_lognorm</th>\n",
       "      <td>-0.792687</td>\n",
       "      <td>-0.485214</td>\n",
       "      <td>0.44609</td>\n",
       "    </tr>\n",
       "    <tr>\n",
       "      <th>favs_lognorm</th>\n",
       "      <td>-1.34407</td>\n",
       "      <td>-0.831946</td>\n",
       "      <td>1.79402</td>\n",
       "    </tr>\n",
       "    <tr>\n",
       "      <th>comments_lognorm</th>\n",
       "      <td>-2.43687</td>\n",
       "      <td>-1.87319</td>\n",
       "      <td>0.574656</td>\n",
       "    </tr>\n",
       "  </tbody>\n",
       "</table>\n",
       "</div>"
      ],
      "text/plain": [
       "                                                               0  ...                                                  2\n",
       "url                             https://habrahabr.ru/post/18284/  ...                   https://habrahabr.ru/post/18286/\n",
       "domain                                              habrahabr.ru  ...                                       habrahabr.ru\n",
       "post_id                                                    18284  ...                                              18286\n",
       "published                                    2008-01-01 18:19:00  ...                                2008-01-01 18:34:00\n",
       "author                                                    @Tapac  ...                                         @DezmASter\n",
       "flow                                                     develop  ...                                             design\n",
       "polling                                                    False  ...                                              False\n",
       "content_len                                                 4305  ...                                               8431\n",
       "title             Новогодний подарок блоггерам — WordPress 2.3.2  ...  Сумасшедшие яйца, или сервис для отслеживания ...\n",
       "comments                                                       0  ...                                                 47\n",
       "favs                                                           0  ...                                                 72\n",
       "views                                                        236  ...                                               1200\n",
       "votes_plus                                                     0  ...                                                 45\n",
       "votes_minus                                                    0  ...                                                  5\n",
       "views_lognorm                                          -0.792687  ...                                            0.44609\n",
       "favs_lognorm                                            -1.34407  ...                                            1.79402\n",
       "comments_lognorm                                        -2.43687  ...                                           0.574656\n",
       "\n",
       "[17 rows x 3 columns]"
      ]
     },
     "metadata": {
      "tags": []
     },
     "execution_count": 7
    }
   ]
  },
  {
   "cell_type": "markdown",
   "metadata": {
    "id": "eES4W9eF_nAp"
   },
   "source": [
    "Позбавимося відразу від змінних, назви яких закінчуються на `_lognorm` (потрібні для змагань на Kaggle). Виберемо їх за допомогою `filter()` і видаимо `drop`-ом:"
   ]
  },
  {
   "cell_type": "code",
   "metadata": {
    "id": "606b5QB__nAr"
   },
   "source": [
    "df.drop(filter(lambda c: c.endswith('_lognorm'), df.columns), \n",
    "        axis = 1,       # axis = 1: столвбці \n",
    "        inplace = True) # позбавляє від необхідності зберігати датасет"
   ],
   "execution_count": 8,
   "outputs": []
  },
  {
   "cell_type": "code",
   "metadata": {
    "id": "EaCgc7tF_nA1",
    "outputId": "bc16b8f1-91a8-4680-a85f-dad17d65f9df",
    "colab": {
     "base_uri": "https://localhost:8080/",
     "height": 266
    }
   },
   "source": [
    "df.describe().T"
   ],
   "execution_count": 9,
   "outputs": [
    {
     "output_type": "execute_result",
     "data": {
      "text/html": [
       "<div>\n",
       "<style scoped>\n",
       "    .dataframe tbody tr th:only-of-type {\n",
       "        vertical-align: middle;\n",
       "    }\n",
       "\n",
       "    .dataframe tbody tr th {\n",
       "        vertical-align: top;\n",
       "    }\n",
       "\n",
       "    .dataframe thead th {\n",
       "        text-align: right;\n",
       "    }\n",
       "</style>\n",
       "<table border=\"1\" class=\"dataframe\">\n",
       "  <thead>\n",
       "    <tr style=\"text-align: right;\">\n",
       "      <th></th>\n",
       "      <th>count</th>\n",
       "      <th>mean</th>\n",
       "      <th>std</th>\n",
       "      <th>min</th>\n",
       "      <th>25%</th>\n",
       "      <th>50%</th>\n",
       "      <th>75%</th>\n",
       "      <th>max</th>\n",
       "    </tr>\n",
       "  </thead>\n",
       "  <tbody>\n",
       "    <tr>\n",
       "      <th>post_id</th>\n",
       "      <td>134137.0</td>\n",
       "      <td>181307.054265</td>\n",
       "      <td>81766.350702</td>\n",
       "      <td>18284.0</td>\n",
       "      <td>115565.0</td>\n",
       "      <td>182666.0</td>\n",
       "      <td>257401.0</td>\n",
       "      <td>314088.0</td>\n",
       "    </tr>\n",
       "    <tr>\n",
       "      <th>content_len</th>\n",
       "      <td>134137.0</td>\n",
       "      <td>7516.929699</td>\n",
       "      <td>8724.771640</td>\n",
       "      <td>1.0</td>\n",
       "      <td>2179.0</td>\n",
       "      <td>4949.0</td>\n",
       "      <td>9858.0</td>\n",
       "      <td>352471.0</td>\n",
       "    </tr>\n",
       "    <tr>\n",
       "      <th>comments</th>\n",
       "      <td>134137.0</td>\n",
       "      <td>39.625994</td>\n",
       "      <td>62.398958</td>\n",
       "      <td>0.0</td>\n",
       "      <td>7.0</td>\n",
       "      <td>19.0</td>\n",
       "      <td>48.0</td>\n",
       "      <td>2266.0</td>\n",
       "    </tr>\n",
       "    <tr>\n",
       "      <th>favs</th>\n",
       "      <td>134137.0</td>\n",
       "      <td>71.999866</td>\n",
       "      <td>145.854135</td>\n",
       "      <td>0.0</td>\n",
       "      <td>8.0</td>\n",
       "      <td>27.0</td>\n",
       "      <td>78.0</td>\n",
       "      <td>8718.0</td>\n",
       "    </tr>\n",
       "    <tr>\n",
       "      <th>views</th>\n",
       "      <td>134137.0</td>\n",
       "      <td>16631.013084</td>\n",
       "      <td>31479.819691</td>\n",
       "      <td>3.0</td>\n",
       "      <td>2100.0</td>\n",
       "      <td>7600.0</td>\n",
       "      <td>18700.0</td>\n",
       "      <td>1730000.0</td>\n",
       "    </tr>\n",
       "    <tr>\n",
       "      <th>votes_plus</th>\n",
       "      <td>133566.0</td>\n",
       "      <td>35.536888</td>\n",
       "      <td>42.461073</td>\n",
       "      <td>0.0</td>\n",
       "      <td>11.0</td>\n",
       "      <td>22.0</td>\n",
       "      <td>45.0</td>\n",
       "      <td>1466.0</td>\n",
       "    </tr>\n",
       "    <tr>\n",
       "      <th>votes_minus</th>\n",
       "      <td>133566.0</td>\n",
       "      <td>8.050035</td>\n",
       "      <td>11.398282</td>\n",
       "      <td>0.0</td>\n",
       "      <td>2.0</td>\n",
       "      <td>5.0</td>\n",
       "      <td>10.0</td>\n",
       "      <td>445.0</td>\n",
       "    </tr>\n",
       "  </tbody>\n",
       "</table>\n",
       "</div>"
      ],
      "text/plain": [
       "                count           mean  ...       75%        max\n",
       "post_id      134137.0  181307.054265  ...  257401.0   314088.0\n",
       "content_len  134137.0    7516.929699  ...    9858.0   352471.0\n",
       "comments     134137.0      39.625994  ...      48.0     2266.0\n",
       "favs         134137.0      71.999866  ...      78.0     8718.0\n",
       "views        134137.0   16631.013084  ...   18700.0  1730000.0\n",
       "votes_plus   133566.0      35.536888  ...      45.0     1466.0\n",
       "votes_minus  133566.0       8.050035  ...      10.0      445.0\n",
       "\n",
       "[7 rows x 8 columns]"
      ]
     },
     "metadata": {
      "tags": []
     },
     "execution_count": 9
    }
   ]
  },
  {
   "cell_type": "code",
   "metadata": {
    "id": "s-PmEBcZ_nA9",
    "outputId": "f5c7cbb6-2b9c-4bb7-b87d-f77ea84e9a03",
    "colab": {
     "base_uri": "https://localhost:8080/",
     "height": 266
    }
   },
   "source": [
    "df.describe(include = ['object', 'bool'] # бінарні і категоріальні змінні\n",
    "           ).T"
   ],
   "execution_count": 10,
   "outputs": [
    {
     "output_type": "execute_result",
     "data": {
      "text/html": [
       "<div>\n",
       "<style scoped>\n",
       "    .dataframe tbody tr th:only-of-type {\n",
       "        vertical-align: middle;\n",
       "    }\n",
       "\n",
       "    .dataframe tbody tr th {\n",
       "        vertical-align: top;\n",
       "    }\n",
       "\n",
       "    .dataframe thead th {\n",
       "        text-align: right;\n",
       "    }\n",
       "</style>\n",
       "<table border=\"1\" class=\"dataframe\">\n",
       "  <thead>\n",
       "    <tr style=\"text-align: right;\">\n",
       "      <th></th>\n",
       "      <th>count</th>\n",
       "      <th>unique</th>\n",
       "      <th>top</th>\n",
       "      <th>freq</th>\n",
       "    </tr>\n",
       "  </thead>\n",
       "  <tbody>\n",
       "    <tr>\n",
       "      <th>url</th>\n",
       "      <td>134137</td>\n",
       "      <td>134137</td>\n",
       "      <td>https://habrahabr.ru/post/44783/</td>\n",
       "      <td>1</td>\n",
       "    </tr>\n",
       "    <tr>\n",
       "      <th>domain</th>\n",
       "      <td>134137</td>\n",
       "      <td>2</td>\n",
       "      <td>habrahabr.ru</td>\n",
       "      <td>97048</td>\n",
       "    </tr>\n",
       "    <tr>\n",
       "      <th>published</th>\n",
       "      <td>134137</td>\n",
       "      <td>130291</td>\n",
       "      <td>2011-06-14 15:52:00</td>\n",
       "      <td>39</td>\n",
       "    </tr>\n",
       "    <tr>\n",
       "      <th>author</th>\n",
       "      <td>97657</td>\n",
       "      <td>22077</td>\n",
       "      <td>@alizar</td>\n",
       "      <td>5292</td>\n",
       "    </tr>\n",
       "    <tr>\n",
       "      <th>flow</th>\n",
       "      <td>97048</td>\n",
       "      <td>6</td>\n",
       "      <td>develop</td>\n",
       "      <td>53318</td>\n",
       "    </tr>\n",
       "    <tr>\n",
       "      <th>polling</th>\n",
       "      <td>134137</td>\n",
       "      <td>2</td>\n",
       "      <td>False</td>\n",
       "      <td>129412</td>\n",
       "    </tr>\n",
       "    <tr>\n",
       "      <th>title</th>\n",
       "      <td>134137</td>\n",
       "      <td>133628</td>\n",
       "      <td>Интересные события, произошедшие в выходные</td>\n",
       "      <td>56</td>\n",
       "    </tr>\n",
       "  </tbody>\n",
       "</table>\n",
       "</div>"
      ],
      "text/plain": [
       "            count  unique                                          top    freq\n",
       "url        134137  134137             https://habrahabr.ru/post/44783/       1\n",
       "domain     134137       2                                 habrahabr.ru   97048\n",
       "published  134137  130291                          2011-06-14 15:52:00      39\n",
       "author      97657   22077                                      @alizar    5292\n",
       "flow        97048       6                                      develop   53318\n",
       "polling    134137       2                                        False  129412\n",
       "title      134137  133628  Интересные события, произошедшие в выходные      56"
      ]
     },
     "metadata": {
      "tags": []
     },
     "execution_count": 10
    }
   ]
  },
  {
   "cell_type": "code",
   "metadata": {
    "id": "Sc8cQ9zS_nBB"
   },
   "source": [
    "# налаштування зовнішнього вигляду графіків в seaborn\n",
    "sns.set_style(\"dark\")\n",
    "sns.set_palette(\"RdBu\")\n",
    "sns.set_context(\"notebook\", font_scale = 1.5, \n",
    "                rc = { \"figure.figsize\" : (15, 5), \"axes.titlesize\" : 18 })"
   ],
   "execution_count": 11,
   "outputs": []
  },
  {
   "cell_type": "markdown",
   "metadata": {
    "id": "a2K437mx_nBG"
   },
   "source": [
    "Стовбець **`published`** (час публікації) містить рядки. Щоб ми мали змогу працювати з цими даними як з датою/часом публікації, приведемо їх до типу `datetime`:"
   ]
  },
  {
   "cell_type": "code",
   "metadata": {
    "id": "kQqoQTXQ_nBH",
    "outputId": "cc063136-4ab0-4667-bd05-18b36f26d9cb",
    "colab": {
     "base_uri": "https://localhost:8080/",
     "height": 51
    }
   },
   "source": [
    "print(df.published.dtype)\n",
    "df['published'] = pd.to_datetime(df.published, yearfirst = True)\n",
    "print(df.published.dtype)"
   ],
   "execution_count": 12,
   "outputs": [
    {
     "output_type": "stream",
     "text": [
      "object\n",
      "datetime64[ns]\n"
     ],
     "name": "stdout"
    }
   ]
  },
  {
   "cell_type": "markdown",
   "metadata": {
    "id": "HzKELme7_nBO"
   },
   "source": [
    "Створимо декілька стовбців на основі даних про час публікації:"
   ]
  },
  {
   "cell_type": "code",
   "metadata": {
    "id": "lAgeZ8Om_nBP",
    "outputId": "3a5f5d42-2000-4f8f-e6d5-cb383e8389f8",
    "colab": {
     "base_uri": "https://localhost:8080/",
     "height": 513
    }
   },
   "source": [
    "df['year'] = [d.year for d in df.published]\n",
    "df['month'] = [d.month for d in df.published]\n",
    "\n",
    "df['dayofweek'] = [d.isoweekday() for d in df.published]\n",
    "df['hour'] = [d.hour for d in df.published]\n",
    "df.head()"
   ],
   "execution_count": 13,
   "outputs": [
    {
     "output_type": "execute_result",
     "data": {
      "text/html": [
       "<div>\n",
       "<style scoped>\n",
       "    .dataframe tbody tr th:only-of-type {\n",
       "        vertical-align: middle;\n",
       "    }\n",
       "\n",
       "    .dataframe tbody tr th {\n",
       "        vertical-align: top;\n",
       "    }\n",
       "\n",
       "    .dataframe thead th {\n",
       "        text-align: right;\n",
       "    }\n",
       "</style>\n",
       "<table border=\"1\" class=\"dataframe\">\n",
       "  <thead>\n",
       "    <tr style=\"text-align: right;\">\n",
       "      <th></th>\n",
       "      <th>url</th>\n",
       "      <th>domain</th>\n",
       "      <th>post_id</th>\n",
       "      <th>published</th>\n",
       "      <th>author</th>\n",
       "      <th>flow</th>\n",
       "      <th>polling</th>\n",
       "      <th>content_len</th>\n",
       "      <th>title</th>\n",
       "      <th>comments</th>\n",
       "      <th>favs</th>\n",
       "      <th>views</th>\n",
       "      <th>votes_plus</th>\n",
       "      <th>votes_minus</th>\n",
       "      <th>year</th>\n",
       "      <th>month</th>\n",
       "      <th>dayofweek</th>\n",
       "      <th>hour</th>\n",
       "    </tr>\n",
       "  </thead>\n",
       "  <tbody>\n",
       "    <tr>\n",
       "      <th>0</th>\n",
       "      <td>https://habrahabr.ru/post/18284/</td>\n",
       "      <td>habrahabr.ru</td>\n",
       "      <td>18284</td>\n",
       "      <td>2008-01-01 18:19:00</td>\n",
       "      <td>@Tapac</td>\n",
       "      <td>develop</td>\n",
       "      <td>False</td>\n",
       "      <td>4305</td>\n",
       "      <td>Новогодний подарок блоггерам — WordPress 2.3.2</td>\n",
       "      <td>0</td>\n",
       "      <td>0</td>\n",
       "      <td>236</td>\n",
       "      <td>0.0</td>\n",
       "      <td>0.0</td>\n",
       "      <td>2008</td>\n",
       "      <td>1</td>\n",
       "      <td>2</td>\n",
       "      <td>18</td>\n",
       "    </tr>\n",
       "    <tr>\n",
       "      <th>1</th>\n",
       "      <td>https://habrahabr.ru/post/18285/</td>\n",
       "      <td>habrahabr.ru</td>\n",
       "      <td>18285</td>\n",
       "      <td>2008-01-01 18:30:00</td>\n",
       "      <td>@DezmASter</td>\n",
       "      <td>design</td>\n",
       "      <td>False</td>\n",
       "      <td>7344</td>\n",
       "      <td>Сумасшедшие яйца, или сервис для отслеживания ...</td>\n",
       "      <td>1</td>\n",
       "      <td>1</td>\n",
       "      <td>353</td>\n",
       "      <td>1.0</td>\n",
       "      <td>0.0</td>\n",
       "      <td>2008</td>\n",
       "      <td>1</td>\n",
       "      <td>2</td>\n",
       "      <td>18</td>\n",
       "    </tr>\n",
       "    <tr>\n",
       "      <th>2</th>\n",
       "      <td>https://habrahabr.ru/post/18286/</td>\n",
       "      <td>habrahabr.ru</td>\n",
       "      <td>18286</td>\n",
       "      <td>2008-01-01 18:34:00</td>\n",
       "      <td>@DezmASter</td>\n",
       "      <td>design</td>\n",
       "      <td>False</td>\n",
       "      <td>8431</td>\n",
       "      <td>Сумасшедшие яйца, или сервис для отслеживания ...</td>\n",
       "      <td>47</td>\n",
       "      <td>72</td>\n",
       "      <td>1200</td>\n",
       "      <td>45.0</td>\n",
       "      <td>5.0</td>\n",
       "      <td>2008</td>\n",
       "      <td>1</td>\n",
       "      <td>2</td>\n",
       "      <td>18</td>\n",
       "    </tr>\n",
       "    <tr>\n",
       "      <th>3</th>\n",
       "      <td>https://habrahabr.ru/post/18291/</td>\n",
       "      <td>habrahabr.ru</td>\n",
       "      <td>18291</td>\n",
       "      <td>2008-01-02 01:32:00</td>\n",
       "      <td>@Taoorus</td>\n",
       "      <td>design</td>\n",
       "      <td>False</td>\n",
       "      <td>5662</td>\n",
       "      <td>Сглаживание шрифтов, и субпиксельная отрисовка</td>\n",
       "      <td>102</td>\n",
       "      <td>36</td>\n",
       "      <td>5700</td>\n",
       "      <td>72.0</td>\n",
       "      <td>3.0</td>\n",
       "      <td>2008</td>\n",
       "      <td>1</td>\n",
       "      <td>3</td>\n",
       "      <td>1</td>\n",
       "    </tr>\n",
       "    <tr>\n",
       "      <th>4</th>\n",
       "      <td>https://geektimes.ru/post/18294/</td>\n",
       "      <td>geektimes.ru</td>\n",
       "      <td>18294</td>\n",
       "      <td>2008-01-02 14:34:00</td>\n",
       "      <td>@dennydo</td>\n",
       "      <td>NaN</td>\n",
       "      <td>False</td>\n",
       "      <td>3706</td>\n",
       "      <td>Почему мне не нравится iPhone</td>\n",
       "      <td>230</td>\n",
       "      <td>6</td>\n",
       "      <td>1400</td>\n",
       "      <td>73.0</td>\n",
       "      <td>15.0</td>\n",
       "      <td>2008</td>\n",
       "      <td>1</td>\n",
       "      <td>3</td>\n",
       "      <td>14</td>\n",
       "    </tr>\n",
       "  </tbody>\n",
       "</table>\n",
       "</div>"
      ],
      "text/plain": [
       "                                url        domain  ...  dayofweek hour\n",
       "0  https://habrahabr.ru/post/18284/  habrahabr.ru  ...          2   18\n",
       "1  https://habrahabr.ru/post/18285/  habrahabr.ru  ...          2   18\n",
       "2  https://habrahabr.ru/post/18286/  habrahabr.ru  ...          2   18\n",
       "3  https://habrahabr.ru/post/18291/  habrahabr.ru  ...          3    1\n",
       "4  https://geektimes.ru/post/18294/  geektimes.ru  ...          3   14\n",
       "\n",
       "[5 rows x 18 columns]"
      ]
     },
     "metadata": {
      "tags": []
     },
     "execution_count": 13
    }
   ]
  },
  {
   "cell_type": "markdown",
   "metadata": {
    "id": "CbOHwHVa_nBV"
   },
   "source": [
    "-----\n",
    "Відтепер Ваша черга. В кожному пункті пропонується побудувати картинку і з її допомогою відповісти на питання. Звичано, можна спробувати відповісти на всі питання лише використовуючи Pandas, без картинок, але ми радимо Вам потренуватися будувати (красиві) візуалізації.   "
   ]
  },
  {
   "cell_type": "markdown",
   "metadata": {
    "id": "l20FaR1c_nBW"
   },
   "source": [
    "## 1\\. В якому місяці (і якого року) було більше всього публікацій?\n",
    "\n",
    "* березень 2016\n",
    "* березень 2015\n",
    "* квітень 2015\n",
    "* квітень 2016"
   ]
  },
  {
   "cell_type": "code",
   "metadata": {
    "id": "7pC9AuSbWwEs",
    "outputId": "aba02563-20ad-4b03-b0df-8476c19511c3",
    "colab": {
     "base_uri": "https://localhost:8080/",
     "height": 1000
    }
   },
   "source": [
    "plt.figure(figsize=(30, 30))\n",
    "ax = sns.barplot(x=\"post_id\", y=\"month\", hue=\"year\", estimator=len, data=df, orient=\"h\")\n",
    "ax.set(ylabel=\"Months\", xlabel=\"Overall posts\")"
   ],
   "execution_count": 14,
   "outputs": [
    {
     "output_type": "execute_result",
     "data": {
      "text/plain": [
       "[Text(0, 0.5, 'Months'), Text(0.5, 0, 'Overall posts')]"
      ]
     },
     "metadata": {
      "tags": []
     },
     "execution_count": 14
    },
    {
     "output_type": "display_data",
     "data": {
      "image/png": "[encoded data removed]",
      "text/plain": [
       "<Figure size 2160x2160 with 1 Axes>"
      ]
     },
     "metadata": {
      "tags": []
     }
    }
   ]
  },
  {
   "cell_type": "code",
   "metadata": {
    "id": "T-Qc5DbhOlyi",
    "outputId": "2ac604ee-d0ed-4b19-c2d8-bf088f7db29c",
    "colab": {
     "base_uri": "https://localhost:8080/",
     "height": 34
    },
    "pycharm": {
     "name": "#%%\n"
    }
   },
   "source": [
    "# find year and month\n",
    "months_years_count = pd.crosstab(df[\"month\"], df[\"year\"])\n",
    "max_year = months_years_count.max(0).idxmax()\n",
    "max_month = months_years_count.max(1).idxmax()\n",
    "max_year, max_month"
   ],
   "execution_count": 15,
   "outputs": [
    {
     "output_type": "execute_result",
     "data": {
      "text/plain": [
       "(2015, 3)"
      ]
     },
     "metadata": {
      "tags": []
     },
     "execution_count": 15
    }
   ]
  },
  {
   "cell_type": "markdown",
   "metadata": {
    "id": "1_NWYkJ-_nBe",
    "pycharm": {
     "name": "#%% md\n"
    }
   },
   "source": [
    "## 2\\. Проаналізуйте публікації в месяці з попереднього питання\n",
    "\n",
    "Виберіть один чи декілька варіантів:\n",
    "\n",
    "* Один чи декілька днів сильно виділяються із загальної картини\n",
    "* На хабрі _завжди_ більше статей, ніж на гіктаймсі\n",
    "* По суботам на гіктаймс і на хабрахабр публікують приблизно одинакову кількість статей\n",
    "\n",
    "Підказки: побудуйте графік залежності числа публікацій від дня; використовуйте параметр `hue`; не переймайтесь сильно з відповідями і не шукайте прихованого змісту :)"
   ]
  },
  {
   "cell_type": "code",
   "metadata": {
    "id": "63aEjU-3_nBg",
    "outputId": "f2bb3b95-1bb0-425c-eb30-277ed41c4491",
    "colab": {
     "base_uri": "https://localhost:8080/",
     "height": 233
    },
    "pycharm": {
     "name": "#%%\n"
    }
   },
   "source": [
    "# choose pulications from chosen month and year\n",
    "chosen_posts = df[(df[\"month\"] == max_month) & (df[\"year\"] == max_year)]\n",
    "chosen_posts.head(2)"
   ],
   "execution_count": 16,
   "outputs": [
    {
     "output_type": "execute_result",
     "data": {
      "text/html": [
       "<div>\n",
       "<style scoped>\n",
       "    .dataframe tbody tr th:only-of-type {\n",
       "        vertical-align: middle;\n",
       "    }\n",
       "\n",
       "    .dataframe tbody tr th {\n",
       "        vertical-align: top;\n",
       "    }\n",
       "\n",
       "    .dataframe thead th {\n",
       "        text-align: right;\n",
       "    }\n",
       "</style>\n",
       "<table border=\"1\" class=\"dataframe\">\n",
       "  <thead>\n",
       "    <tr style=\"text-align: right;\">\n",
       "      <th></th>\n",
       "      <th>url</th>\n",
       "      <th>domain</th>\n",
       "      <th>post_id</th>\n",
       "      <th>published</th>\n",
       "      <th>author</th>\n",
       "      <th>flow</th>\n",
       "      <th>polling</th>\n",
       "      <th>content_len</th>\n",
       "      <th>title</th>\n",
       "      <th>comments</th>\n",
       "      <th>favs</th>\n",
       "      <th>views</th>\n",
       "      <th>votes_plus</th>\n",
       "      <th>votes_minus</th>\n",
       "      <th>year</th>\n",
       "      <th>month</th>\n",
       "      <th>dayofweek</th>\n",
       "      <th>hour</th>\n",
       "    </tr>\n",
       "  </thead>\n",
       "  <tbody>\n",
       "    <tr>\n",
       "      <th>97666</th>\n",
       "      <td>https://habrahabr.ru/post/251783/</td>\n",
       "      <td>habrahabr.ru</td>\n",
       "      <td>251783</td>\n",
       "      <td>2015-03-01 00:00:00</td>\n",
       "      <td>@SLY_G</td>\n",
       "      <td>develop</td>\n",
       "      <td>False</td>\n",
       "      <td>49647</td>\n",
       "      <td>Введение в разработку слайд-шоу на JavaScript</td>\n",
       "      <td>6</td>\n",
       "      <td>375</td>\n",
       "      <td>42900</td>\n",
       "      <td>15.0</td>\n",
       "      <td>4.0</td>\n",
       "      <td>2015</td>\n",
       "      <td>3</td>\n",
       "      <td>7</td>\n",
       "      <td>0</td>\n",
       "    </tr>\n",
       "    <tr>\n",
       "      <th>97667</th>\n",
       "      <td>https://habrahabr.ru/company/kolibrios/blog/23...</td>\n",
       "      <td>habrahabr.ru</td>\n",
       "      <td>239033</td>\n",
       "      <td>2015-03-01 00:09:00</td>\n",
       "      <td>NaN</td>\n",
       "      <td>develop</td>\n",
       "      <td>False</td>\n",
       "      <td>8581</td>\n",
       "      <td>Дайджест KolibriOS #7: как мы зиму перезимовали</td>\n",
       "      <td>14</td>\n",
       "      <td>22</td>\n",
       "      <td>17600</td>\n",
       "      <td>36.0</td>\n",
       "      <td>2.0</td>\n",
       "      <td>2015</td>\n",
       "      <td>3</td>\n",
       "      <td>7</td>\n",
       "      <td>0</td>\n",
       "    </tr>\n",
       "  </tbody>\n",
       "</table>\n",
       "</div>"
      ],
      "text/plain": [
       "                                                     url  ... hour\n",
       "97666                  https://habrahabr.ru/post/251783/  ...    0\n",
       "97667  https://habrahabr.ru/company/kolibrios/blog/23...  ...    0\n",
       "\n",
       "[2 rows x 18 columns]"
      ]
     },
     "metadata": {
      "tags": []
     },
     "execution_count": 16
    }
   ]
  },
  {
   "cell_type": "code",
   "metadata": {
    "id": "pDgOPlnYT51Z",
    "outputId": "5e5df41b-7b8c-4d31-877c-371c5f4332fe",
    "colab": {
     "base_uri": "https://localhost:8080/",
     "height": 913
    }
   },
   "source": [
    "# joined plot for all answers\n",
    "plt.figure(figsize=(15, 15))\n",
    "ax = sns.barplot(x=\"post_id\", y=\"dayofweek\", hue=\"domain\", estimator=len, data=chosen_posts, orient=\"h\")\n",
    "ax.set(ylabel=\"Days of week\", xlabel=\"Number of posts\")\n",
    "\n",
    "# 1 - True(Saturdays), 2 - True, 3 - True"
   ],
   "execution_count": 17,
   "outputs": [
    {
     "output_type": "execute_result",
     "data": {
      "text/plain": [
       "[Text(0, 0.5, 'Days of week'), Text(0.5, 0, 'Number of posts')]"
      ]
     },
     "metadata": {
      "tags": []
     },
     "execution_count": 17
    },
    {
     "output_type": "display_data",
     "data": {
      "image/png": "[encoded data removed]",
      "text/plain": [
       "<Figure size 1080x1080 with 1 Axes>"
      ]
     },
     "metadata": {
      "tags": []
     }
    }
   ]
  },
  {
   "cell_type": "markdown",
   "metadata": {
    "id": "FEWed0kj_nBl"
   },
   "source": [
    "## 3\\. Коли найкраще всього опублікувати статтю?\n",
    "\n",
    "* Більш всього переглядів набирають статті, опубліковані в 12 годин дня\n",
    "* В опублікованих о 10-й ранку постів більше всього коментарів\n",
    "* Більше всього переглядів набирають статтті, опубліковані в 6 годин ранку\n",
    "* Максимальне число коментарів на гіктаймсі набрала стаття, опублікована в 9 годин вечора\n",
    "* На хабрі денні статті комментують частіше, ніж вечірні"
   ]
  },
  {
   "cell_type": "code",
   "metadata": {
    "id": "YTq9Lggz_nBl",
    "outputId": "082c8de6-7a9a-452d-ded6-5f586f72237a",
    "colab": {
     "base_uri": "https://localhost:8080/",
     "height": 913
    }
   },
   "source": [
    "plt.figure(figsize=(15, 15))\n",
    "ax = sns.barplot(x=\"comments\", y=\"hour\", data=df, orient=\"h\", estimator=sum)\n",
    "ax.set(xlabel=\"Number of comments\", ylabel=\"Hour of the day\")"
   ],
   "execution_count": 18,
   "outputs": [
    {
     "output_type": "execute_result",
     "data": {
      "text/plain": [
       "[Text(0, 0.5, 'Hour of the day'), Text(0.5, 0, 'Number of comments')]"
      ]
     },
     "metadata": {
      "tags": []
     },
     "execution_count": 18
    },
    {
     "output_type": "display_data",
     "data": {
      "image/png": "[encoded data removed]",
      "text/plain": [
       "<Figure size 1080x1080 with 1 Axes>"
      ]
     },
     "metadata": {
      "tags": []
     }
    }
   ]
  },
  {
   "cell_type": "code",
   "metadata": {
    "id": "7XI6x8yQgU8V",
    "outputId": "c9bbe83b-d490-4ee1-abca-d93f18a4a6ce",
    "colab": {
     "base_uri": "https://localhost:8080/",
     "height": 913
    },
    "pycharm": {
     "name": "#%%\n"
    }
   },
   "source": [
    "plt.figure(figsize=(15, 15))\n",
    "ax = sns.barplot(x=\"views\", y=\"hour\", data=df, orient=\"h\", estimator=sum)\n",
    "ax.set(xlabel=\"Number of views\", ylabel=\"Hour of the day\")"
   ],
   "execution_count": 19,
   "outputs": [
    {
     "output_type": "execute_result",
     "data": {
      "text/plain": [
       "[Text(0, 0.5, 'Hour of the day'), Text(0.5, 0, 'Number of views')]"
      ]
     },
     "metadata": {
      "tags": []
     },
     "execution_count": 19
    },
    {
     "output_type": "display_data",
     "data": {
      "image/png": "[encoded data removed]",
      "text/plain": [
       "<Figure size 1080x1080 with 1 Axes>"
      ]
     },
     "metadata": {
      "tags": []
     }
    }
   ]
  },
  {
   "cell_type": "markdown",
   "metadata": {
    "id": "N80irREy_nBs",
    "pycharm": {
     "name": "#%% md\n"
    }
   },
   "source": [
    "## 4\\. Кого з топ-20 авторів частіше всього мінусують?\n",
    "\n",
    "* @Mordatyj\n",
    "* @Mithgol\n",
    "* @alizar\n",
    "* @ilya42"
   ]
  },
  {
   "cell_type": "code",
   "execution_count": null,
   "outputs": [],
   "source": [
    "authors = [\"@Mordatyj\", \"@Mithgol\", \"@alizar\", \"@ilya42\"]\n",
    "chosen_author_posts = df[df[\"author\"].isin(authors)]\n",
    "chosen_author_posts.head(2)"
   ],
   "metadata": {
    "collapsed": false,
    "pycharm": {
     "name": "#%%\n"
    }
   }
  },
  {
   "cell_type": "code",
   "execution_count": null,
   "outputs": [],
   "source": [
    "plt.figure(figsize=(15, 15))\n",
    "ax = sns.barplot(x=\"votes_minus\", y=\"author\", data=chosen_author_posts, orient=\"h\", estimator=sum)\n",
    "ax.set(xlabel=\"Minuses overall\", ylabel=\"Authors\")"
   ],
   "metadata": {
    "collapsed": false,
    "pycharm": {
     "name": "#%%\n"
    }
   }
  },
  {
   "cell_type": "markdown",
   "source": [
    "## 5\\. Порівняйте суботи і понеділки\n",
    "\n",
    "Чи правда, що по суботам автори пишуть в основному вдень, а по понедількам — в основному вечером?"
   ],
   "metadata": {
    "collapsed": false
   }
  },
  {
   "cell_type": "code",
   "execution_count": null,
   "outputs": [],
   "source": [
    "days = [1,6] # monday=1, saturday=6\n",
    "chosen_posts_days = df[df[\"dayofweek\"].isin(days)]\n",
    "chosen_posts_days.head(2)"
   ],
   "metadata": {
    "collapsed": false,
    "pycharm": {
     "name": "#%%\n"
    }
   }
  },
  {
   "cell_type": "code",
   "execution_count": null,
   "outputs": [],
   "source": [
    "plt.figure(figsize=(15, 15))\n",
    "ax = sns.barplot(x=\"post_id\", y=\"dayofweek\", hue=\"hour\", data=chosen_posts_days, orient=\"h\", estimator=len)\n",
    "ax.set(xlabel=\"Posts overall\", ylabel=\"Days of week\")"
   ],
   "metadata": {
    "collapsed": false,
    "pycharm": {
     "name": "#%%\n"
    }
   }
  },
  {
   "cell_type": "code",
   "metadata": {
    "id": "Oc-es4-0_nBs",
    "outputId": "69a0cee5-01e0-421c-c069-24bfdd9cfa36",
    "colab": {
     "base_uri": "https://localhost:8080/",
     "height": 216
    }
   },
   "source": [
    "plt.figure(figsize=(15, 15))\n",
    "ax = sns.barplot(x=\"post_id\", y=\"dayofweek\", hue=\"hour\", data=chosen_posts_days, orient=\"h\", estimator=len)\n",
    "ax.set(xlabel=\"Posts overall\", ylabel=\"Days of week\")"
   ],
   "execution_count": 20,
   "outputs": [
    {
     "output_type": "execute_result",
     "data": {
      "text/html": [
       "<div>\n",
       "<style scoped>\n",
       "    .dataframe tbody tr th:only-of-type {\n",
       "        vertical-align: middle;\n",
       "    }\n",
       "\n",
       "    .dataframe tbody tr th {\n",
       "        vertical-align: top;\n",
       "    }\n",
       "\n",
       "    .dataframe thead th {\n",
       "        text-align: right;\n",
       "    }\n",
       "</style>\n",
       "<table border=\"1\" class=\"dataframe\">\n",
       "  <thead>\n",
       "    <tr style=\"text-align: right;\">\n",
       "      <th></th>\n",
       "      <th>url</th>\n",
       "      <th>domain</th>\n",
       "      <th>post_id</th>\n",
       "      <th>published</th>\n",
       "      <th>author</th>\n",
       "      <th>flow</th>\n",
       "      <th>polling</th>\n",
       "      <th>content_len</th>\n",
       "      <th>title</th>\n",
       "      <th>comments</th>\n",
       "      <th>favs</th>\n",
       "      <th>views</th>\n",
       "      <th>votes_plus</th>\n",
       "      <th>votes_minus</th>\n",
       "      <th>year</th>\n",
       "      <th>month</th>\n",
       "      <th>dayofweek</th>\n",
       "      <th>hour</th>\n",
       "    </tr>\n",
       "  </thead>\n",
       "  <tbody>\n",
       "    <tr>\n",
       "      <th>66</th>\n",
       "      <td>https://geektimes.ru/post/18472/</td>\n",
       "      <td>geektimes.ru</td>\n",
       "      <td>18472</td>\n",
       "      <td>2008-01-09 15:35:00</td>\n",
       "      <td>@alizar</td>\n",
       "      <td>NaN</td>\n",
       "      <td>False</td>\n",
       "      <td>2399</td>\n",
       "      <td>Мифические животные как бренды</td>\n",
       "      <td>37</td>\n",
       "      <td>4</td>\n",
       "      <td>956</td>\n",
       "      <td>22.0</td>\n",
       "      <td>2.0</td>\n",
       "      <td>2008</td>\n",
       "      <td>1</td>\n",
       "      <td>3</td>\n",
       "      <td>15</td>\n",
       "    </tr>\n",
       "    <tr>\n",
       "      <th>69</th>\n",
       "      <td>https://habrahabr.ru/post/18477/</td>\n",
       "      <td>habrahabr.ru</td>\n",
       "      <td>18477</td>\n",
       "      <td>2008-01-09 16:50:00</td>\n",
       "      <td>@alizar</td>\n",
       "      <td>design</td>\n",
       "      <td>False</td>\n",
       "      <td>1586</td>\n",
       "      <td>В Китае вводят государственные лицензии для се...</td>\n",
       "      <td>3</td>\n",
       "      <td>0</td>\n",
       "      <td>211</td>\n",
       "      <td>2.0</td>\n",
       "      <td>1.0</td>\n",
       "      <td>2008</td>\n",
       "      <td>1</td>\n",
       "      <td>3</td>\n",
       "      <td>16</td>\n",
       "    </tr>\n",
       "  </tbody>\n",
       "</table>\n",
       "</div>"
      ],
      "text/plain": [
       "                                 url        domain  ...  dayofweek hour\n",
       "66  https://geektimes.ru/post/18472/  geektimes.ru  ...          3   15\n",
       "69  https://habrahabr.ru/post/18477/  habrahabr.ru  ...          3   16\n",
       "\n",
       "[2 rows x 18 columns]"
      ]
     },
     "metadata": {
      "tags": []
     },
     "execution_count": 20
    }
   ]
  },
  {
   "cell_type": "code",
   "metadata": {
    "id": "fLqWBY7651Jj",
    "outputId": "8c66cdc4-e803-47fc-8c7e-c06a022b27cd",
    "colab": {
     "base_uri": "https://localhost:8080/",
     "height": 913
    }
   },
   "source": [
    "plt.figure(figsize=(15, 15))\n",
    "ax = sns.barplot(x=\"votes_minus\", y=\"author\", data=chosen_author_posts, orient=\"h\", estimator=sum)\n",
    "ax.set(xlabel=\"Minuses overall\", ylabel=\"Authors\")"
   ],
   "execution_count": 21,
   "outputs": [
    {
     "output_type": "execute_result",
     "data": {
      "text/plain": [
       "[Text(0, 0.5, 'Authors'), Text(0.5, 0, 'Minuses overall')]"
      ]
     },
     "metadata": {
      "tags": []
     },
     "execution_count": 21
    },
    {
     "output_type": "display_data",
     "data": {
      "image/png": "[encoded data removed]",
      "text/plain": [
       "<Figure size 1080x1080 with 1 Axes>"
      ]
     },
     "metadata": {
      "tags": []
     }
    }
   ]
  },
  {
   "cell_type": "markdown",
   "metadata": {
    "id": "0E-ApUAa_nBx"
   },
   "source": [
    "## 5\\. Порівняйте суботи і понеділки\n",
    "\n",
    "Чи правда, що по суботам автори пишуть в основному вдень, а по понедількам — в основному вечером?"
   ]
  },
  {
   "cell_type": "code",
   "metadata": {
    "id": "Jj6zjXS8_nBy",
    "outputId": "654a4616-6094-47cc-e85d-a75913ef9575",
    "colab": {
     "base_uri": "https://localhost:8080/",
     "height": 230
    }
   },
   "source": [
    "days = [1,6] # monday=1, saturday=6\n",
    "chosen_posts_days = df[df[\"dayofweek\"].isin(days)]\n",
    "chosen_posts_days.head(2)"
   ],
   "execution_count": 22,
   "outputs": [
    {
     "output_type": "execute_result",
     "data": {
      "text/html": [
       "<div>\n",
       "<style scoped>\n",
       "    .dataframe tbody tr th:only-of-type {\n",
       "        vertical-align: middle;\n",
       "    }\n",
       "\n",
       "    .dataframe tbody tr th {\n",
       "        vertical-align: top;\n",
       "    }\n",
       "\n",
       "    .dataframe thead th {\n",
       "        text-align: right;\n",
       "    }\n",
       "</style>\n",
       "<table border=\"1\" class=\"dataframe\">\n",
       "  <thead>\n",
       "    <tr style=\"text-align: right;\">\n",
       "      <th></th>\n",
       "      <th>url</th>\n",
       "      <th>domain</th>\n",
       "      <th>post_id</th>\n",
       "      <th>published</th>\n",
       "      <th>author</th>\n",
       "      <th>flow</th>\n",
       "      <th>polling</th>\n",
       "      <th>content_len</th>\n",
       "      <th>title</th>\n",
       "      <th>comments</th>\n",
       "      <th>favs</th>\n",
       "      <th>views</th>\n",
       "      <th>votes_plus</th>\n",
       "      <th>votes_minus</th>\n",
       "      <th>year</th>\n",
       "      <th>month</th>\n",
       "      <th>dayofweek</th>\n",
       "      <th>hour</th>\n",
       "    </tr>\n",
       "  </thead>\n",
       "  <tbody>\n",
       "    <tr>\n",
       "      <th>24</th>\n",
       "      <td>https://habrahabr.ru/post/18349/</td>\n",
       "      <td>habrahabr.ru</td>\n",
       "      <td>18349</td>\n",
       "      <td>2008-01-05 13:10:00</td>\n",
       "      <td>@calg0n</td>\n",
       "      <td>admin</td>\n",
       "      <td>False</td>\n",
       "      <td>1301</td>\n",
       "      <td>Установка драйвера для видяхи NVIDIA в Ubuntu ...</td>\n",
       "      <td>18</td>\n",
       "      <td>2</td>\n",
       "      <td>656</td>\n",
       "      <td>8.0</td>\n",
       "      <td>5.0</td>\n",
       "      <td>2008</td>\n",
       "      <td>1</td>\n",
       "      <td>6</td>\n",
       "      <td>13</td>\n",
       "    </tr>\n",
       "    <tr>\n",
       "      <th>25</th>\n",
       "      <td>https://habrahabr.ru/post/18356/</td>\n",
       "      <td>habrahabr.ru</td>\n",
       "      <td>18356</td>\n",
       "      <td>2008-01-05 17:26:00</td>\n",
       "      <td>@agl666</td>\n",
       "      <td>misc</td>\n",
       "      <td>False</td>\n",
       "      <td>1037</td>\n",
       "      <td>Скрытие всей ветки комментариев если родительс...</td>\n",
       "      <td>6</td>\n",
       "      <td>0</td>\n",
       "      <td>158</td>\n",
       "      <td>6.0</td>\n",
       "      <td>3.0</td>\n",
       "      <td>2008</td>\n",
       "      <td>1</td>\n",
       "      <td>6</td>\n",
       "      <td>17</td>\n",
       "    </tr>\n",
       "  </tbody>\n",
       "</table>\n",
       "</div>"
      ],
      "text/plain": [
       "                                 url        domain  ...  dayofweek hour\n",
       "24  https://habrahabr.ru/post/18349/  habrahabr.ru  ...          6   13\n",
       "25  https://habrahabr.ru/post/18356/  habrahabr.ru  ...          6   17\n",
       "\n",
       "[2 rows x 18 columns]"
      ]
     },
     "metadata": {
      "tags": []
     },
     "execution_count": 22
    }
   ]
  },
  {
   "cell_type": "code",
   "metadata": {
    "id": "UuECvrJu7Gel",
    "outputId": "d7b12172-590e-4ad5-c92b-ea4cde48e2c8",
    "colab": {
     "base_uri": "https://localhost:8080/",
     "height": 913
    }
   },
   "source": [
    "plt.figure(figsize=(15, 15))\n",
    "ax = sns.barplot(x=\"post_id\", y=\"dayofweek\", hue=\"hour\", data=chosen_posts_days, orient=\"h\", estimator=len)\n",
    "ax.set(xlabel=\"Posts overall\", ylabel=\"Days of week\")"
   ],
   "execution_count": 23,
   "outputs": [
    {
     "output_type": "execute_result",
     "data": {
      "text/plain": [
       "[Text(0, 0.5, 'Days of week'), Text(0.5, 0, 'Posts overall')]"
      ]
     },
     "metadata": {
      "tags": []
     },
     "execution_count": 23
    },
    {
     "output_type": "display_data",
     "data": {
      "image/png": "[encoded data removed]",
      "text/plain": [
       "<Figure size 1080x1080 with 1 Axes>"
      ]
     },
     "metadata": {
      "tags": []
     }
    }
   ]
  }
 ]
}