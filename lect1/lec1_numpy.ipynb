{
 "nbformat": 4,
 "nbformat_minor": 0,
 "metadata": {
  "anaconda-cloud": {},
  "kernelspec": {
   "display_name": "Python 3",
   "language": "python",
   "name": "python3"
  },
  "language_info": {
   "codemirror_mode": {
    "name": "ipython",
    "version": 3
   },
   "file_extension": ".py",
   "mimetype": "text/x-python",
   "name": "python",
   "nbconvert_exporter": "python",
   "pygments_lexer": "ipython3",
   "version": "3.6.8"
  },
  "name": "lesson5_part1_NumPy.ipynb",
  "colab": {
   "name": "lec1_numpy.ipynb",
   "provenance": [],
   "collapsed_sections": []
  }
 },
 "cells": [
  {
   "cell_type": "markdown",
   "metadata": {
    "id": "9NyeTBRqc1ZD",
    "colab_type": "text"
   },
   "source": [
    "# <center>1. Первинний аналіз даних з Pandas</center>\n",
    "## <center>1.1 Робота з векторами в бібліотеці NumPy</center>"
   ]
  },
  {
   "cell_type": "markdown",
   "metadata": {
    "id": "o2rv-264c1ZG",
    "colab_type": "text"
   },
   "source": [
    "**Numpy** - це бібліотека Python для обчислювально ефективних операцій з багатовимірними масивами, призначена в основному для наукових обчислень."
   ]
  },
  {
   "cell_type": "code",
   "metadata": {
    "id": "OLgri3xfc1ZJ",
    "colab_type": "code",
    "colab": {}
   },
   "source": [
    "import numpy as np\n"
   ],
   "execution_count": null,
   "outputs": []
  },
  {
   "cell_type": "code",
   "metadata": {
    "id": "C5tQS4NTc4CH",
    "colab_type": "code",
    "colab": {}
   },
   "source": [
    ""
   ],
   "execution_count": null,
   "outputs": []
  },
  {
   "cell_type": "code",
   "metadata": {
    "id": "egy6wT6Bc1ZW",
    "colab_type": "code",
    "colab": {
     "base_uri": "https://localhost:8080/",
     "height": 36
    },
    "executionInfo": {
     "status": "ok",
     "timestamp": 1599003051594,
     "user_tz": -180,
     "elapsed": 799,
     "user": {
      "displayName": "Москаленко В'ячеслав Васильович",
      "photoUrl": "https://lh3.googleusercontent.com/a-/AOh14GiN6Jzqki0z69x3j5PLOje08fXCxR7L_CW7QtyNXg=s64",
      "userId": "09799116143807457878"
     }
    },
    "outputId": "5fbb4ed6-5f74-4c5b-ac83-94d45caaa21b"
   },
   "source": [
    "a = np.array([0, 1, 2, 3])\n",
    "a"
   ],
   "execution_count": null,
   "outputs": [
    {
     "output_type": "execute_result",
     "data": {
      "text/plain": [
       "array([0, 1, 2, 3])"
      ]
     },
     "metadata": {
      "tags": []
     },
     "execution_count": 72
    }
   ]
  },
  {
   "cell_type": "markdown",
   "metadata": {
    "id": "-VthgrFKc1Zf",
    "colab_type": "text"
   },
   "source": [
    "Такий масив може містити:\n",
    "- значення фізичних величин в різні моменти часу при моделюванні\n",
    "- значення сигналу, виміряного пристроєм\n",
    "- інтенсивності пікселів \n",
    "- 3D координати об'єктів, отримані, наприклад, при МРТ\n",
    "- ...\n"
   ]
  },
  {
   "cell_type": "markdown",
   "metadata": {
    "id": "byJw5uJac1Zi",
    "colab_type": "text"
   },
   "source": [
    "**Навіщо NumPy:** Ефективність базових операцій \n"
   ]
  },
  {
   "cell_type": "code",
   "metadata": {
    "id": "Sz9Az80pc1Zk",
    "colab_type": "code",
    "colab": {}
   },
   "source": [
    "L = range(1000)"
   ],
   "execution_count": null,
   "outputs": []
  },
  {
   "cell_type": "code",
   "metadata": {
    "id": "WtN3ImlBc1Zq",
    "colab_type": "code",
    "colab": {
     "base_uri": "https://localhost:8080/",
     "height": 36
    },
    "executionInfo": {
     "status": "ok",
     "timestamp": 1599004999478,
     "user_tz": -180,
     "elapsed": 1733,
     "user": {
      "displayName": "Москаленко В'ячеслав Васильович",
      "photoUrl": "https://lh3.googleusercontent.com/a-/AOh14GiN6Jzqki0z69x3j5PLOje08fXCxR7L_CW7QtyNXg=s64",
      "userId": "09799116143807457878"
     }
    },
    "outputId": "6db9ed5f-689a-45a2-cc89-46a1646e85b2"
   },
   "source": [
    "%timeit [i**2 for i in L]"
   ],
   "execution_count": 92,
   "outputs": [
    {
     "output_type": "stream",
     "text": [
      "1000 loops, best of 3: 258 µs per loop\n"
     ],
     "name": "stdout"
    }
   ]
  },
  {
   "cell_type": "code",
   "metadata": {
    "id": "MPiSsGbKc1Zz",
    "colab_type": "code",
    "colab": {},
    "executionInfo": {
     "status": "ok",
     "timestamp": 1599005007650,
     "user_tz": -180,
     "elapsed": 786,
     "user": {
      "displayName": "Москаленко В'ячеслав Васильович",
      "photoUrl": "https://lh3.googleusercontent.com/a-/AOh14GiN6Jzqki0z69x3j5PLOje08fXCxR7L_CW7QtyNXg=s64",
      "userId": "09799116143807457878"
     }
    }
   },
   "source": [
    "a = np.arange(1000)"
   ],
   "execution_count": 93,
   "outputs": []
  },
  {
   "cell_type": "code",
   "metadata": {
    "id": "0kDkvgiuc1Z6",
    "colab_type": "code",
    "colab": {
     "base_uri": "https://localhost:8080/",
     "height": 54
    },
    "executionInfo": {
     "status": "ok",
     "timestamp": 1599005015579,
     "user_tz": -180,
     "elapsed": 6695,
     "user": {
      "displayName": "Москаленко В'ячеслав Васильович",
      "photoUrl": "https://lh3.googleusercontent.com/a-/AOh14GiN6Jzqki0z69x3j5PLOje08fXCxR7L_CW7QtyNXg=s64",
      "userId": "09799116143807457878"
     }
    },
    "outputId": "3c6b1860-bffa-4766-ccb0-aead8118d0d7"
   },
   "source": [
    "%timeit a**2"
   ],
   "execution_count": 94,
   "outputs": [
    {
     "output_type": "stream",
     "text": [
      "The slowest run took 92.24 times longer than the fastest. This could mean that an intermediate result is being cached.\n",
      "1000000 loops, best of 3: 1.46 µs per loop\n"
     ],
     "name": "stdout"
    }
   ]
  },
  {
   "cell_type": "markdown",
   "metadata": {
    "id": "DKNNSsLSc1aB",
    "colab_type": "text"
   },
   "source": [
    "Інтерактивна справка\n"
   ]
  },
  {
   "cell_type": "code",
   "metadata": {
    "id": "9gSNuiEGc1aC",
    "colab_type": "code",
    "colab": {},
    "executionInfo": {
     "status": "ok",
     "timestamp": 1599005048089,
     "user_tz": -180,
     "elapsed": 656,
     "user": {
      "displayName": "Москаленко В'ячеслав Васильович",
      "photoUrl": "https://lh3.googleusercontent.com/a-/AOh14GiN6Jzqki0z69x3j5PLOje08fXCxR7L_CW7QtyNXg=s64",
      "userId": "09799116143807457878"
     }
    }
   },
   "source": [
    "?np.array"
   ],
   "execution_count": 95,
   "outputs": []
  },
  {
   "cell_type": "markdown",
   "metadata": {
    "id": "ln1iL82Yc1aH",
    "colab_type": "text"
   },
   "source": [
    "пошук в документації\n"
   ]
  },
  {
   "cell_type": "code",
   "metadata": {
    "id": "HC3A8EIQc1aI",
    "colab_type": "code",
    "colab": {
     "base_uri": "https://localhost:8080/",
     "height": 1000
    },
    "executionInfo": {
     "status": "ok",
     "timestamp": 1599005080305,
     "user_tz": -180,
     "elapsed": 647,
     "user": {
      "displayName": "Москаленко В'ячеслав Васильович",
      "photoUrl": "https://lh3.googleusercontent.com/a-/AOh14GiN6Jzqki0z69x3j5PLOje08fXCxR7L_CW7QtyNXg=s64",
      "userId": "09799116143807457878"
     }
    },
    "outputId": "94f224a8-16ef-4d0b-b201-9c1fa4f882cf"
   },
   "source": [
    "np.lookfor('create array') "
   ],
   "execution_count": 96,
   "outputs": [
    {
     "output_type": "stream",
     "text": [
      "Search results for 'create array'\n",
      "---------------------------------\n",
      "numpy.array\n",
      "    Create an array.\n",
      "numpy.memmap\n",
      "    Create a memory-map to an array stored in a *binary* file on disk.\n",
      "numpy.diagflat\n",
      "    Create a two-dimensional array with the flattened input as a diagonal.\n",
      "numpy.fromiter\n",
      "    Create a new 1-dimensional array from an iterable object.\n",
      "numpy.partition\n",
      "    Return a partitioned copy of an array.\n",
      "numpy.ctypeslib.as_array\n",
      "    Create a numpy array from a ctypes array or POINTER.\n",
      "numpy.ma.diagflat\n",
      "    Create a two-dimensional array with the flattened input as a diagonal.\n",
      "numpy.ma.make_mask\n",
      "    Create a boolean mask from an array.\n",
      "numpy.lib.Arrayterator\n",
      "    Buffered iterator for big arrays.\n",
      "numpy.ctypeslib.as_ctypes\n",
      "    Create and return a ctypes object from a numpy array.  Actually\n",
      "numpy.ma.mrecords.fromarrays\n",
      "    Creates a mrecarray from a (flat) list of masked arrays.\n",
      "numpy.ma.mvoid.__new__\n",
      "    Create a new masked array from scratch.\n",
      "numpy.ma.MaskedArray.__new__\n",
      "    Create a new masked array from scratch.\n",
      "numpy.ma.mrecords.fromtextfile\n",
      "    Creates a mrecarray from data stored in the file `filename`.\n",
      "numpy.asarray\n",
      "    Convert the input to an array.\n",
      "numpy.ndarray\n",
      "    ndarray(shape, dtype=float, buffer=None, offset=0,\n",
      "numpy.recarray\n",
      "    Construct an ndarray that allows field access using attributes.\n",
      "numpy.chararray\n",
      "    chararray(shape, itemsize=1, unicode=False, buffer=None, offset=0,\n",
      "numpy.exp\n",
      "    Calculate the exponential of all elements in the input array.\n",
      "numpy.pad\n",
      "    Pad an array.\n",
      "numpy.asanyarray\n",
      "    Convert the input to an ndarray, but pass ndarray subclasses through.\n",
      "numpy.cbrt\n",
      "    Return the cube-root of an array, element-wise.\n",
      "numpy.copy\n",
      "    Return an array copy of the given object.\n",
      "numpy.diag\n",
      "    Extract a diagonal or construct a diagonal array.\n",
      "numpy.exp2\n",
      "    Calculate `2**p` for all `p` in the input array.\n",
      "numpy.fmax\n",
      "    Element-wise maximum of array elements.\n",
      "numpy.fmin\n",
      "    Element-wise minimum of array elements.\n",
      "numpy.load\n",
      "    Load arrays or pickled objects from ``.npy``, ``.npz`` or pickled files.\n",
      "numpy.modf\n",
      "    Return the fractional and integral parts of an array, element-wise.\n",
      "numpy.rint\n",
      "    Round elements of the array to the nearest integer.\n",
      "numpy.sort\n",
      "    Return a sorted copy of an array.\n",
      "numpy.sqrt\n",
      "    Return the non-negative square-root of an array, element-wise.\n",
      "numpy.array_equiv\n",
      "    Returns True if input arrays are shape consistent and all elements equal.\n",
      "numpy.dtype\n",
      "    Create a data type object.\n",
      "numpy.expm1\n",
      "    Calculate ``exp(x) - 1`` for all elements in the array.\n",
      "numpy.isnan\n",
      "    Test element-wise for NaN and return result as a boolean array.\n",
      "numpy.isnat\n",
      "    Test element-wise for NaT (not a time) and return result as a boolean array.\n",
      "numpy.log10\n",
      "    Return the base 10 logarithm of the input array, element-wise.\n",
      "numpy.log1p\n",
      "    Return the natural logarithm of one plus the input array, element-wise.\n",
      "numpy.power\n",
      "    First array elements raised to powers from second array, element-wise.\n",
      "numpy.ufunc\n",
      "    Functions that operate element by element on whole arrays.\n",
      "numpy.choose\n",
      "    Construct an array from an index array and a set of arrays to choose from.\n",
      "numpy.nditer\n",
      "    Efficient multi-dimensional iterator object to iterate over arrays.\n",
      "numpy.maximum\n",
      "    Element-wise maximum of array elements.\n",
      "numpy.minimum\n",
      "    Element-wise minimum of array elements.\n",
      "numpy.swapaxes\n",
      "    Interchange two axes of an array.\n",
      "numpy.full_like\n",
      "    Return a full array with the same shape and type as a given array.\n",
      "numpy.ones_like\n",
      "    Return an array of ones with the same shape and type as a given array.\n",
      "numpy.bitwise_or\n",
      "    Compute the bit-wise OR of two arrays element-wise.\n",
      "numpy.empty_like\n",
      "    Return a new array with the same shape and type as a given array.\n",
      "numpy.zeros_like\n",
      "    Return an array of zeros with the same shape and type as a given array.\n",
      "numpy.asarray_chkfinite\n",
      "    Convert the input to an array, checking for NaNs or Infs.\n",
      "numpy.bitwise_and\n",
      "    Compute the bit-wise AND of two arrays element-wise.\n",
      "numpy.bitwise_xor\n",
      "    Compute the bit-wise XOR of two arrays element-wise.\n",
      "numpy.float_power\n",
      "    First array elements raised to powers from second array, element-wise.\n",
      "numpy.ma.exp\n",
      "    Calculate the exponential of all elements in the input array.\n",
      "numpy.diag_indices\n",
      "    Return the indices to access the main diagonal of an array.\n",
      "numpy.nested_iters\n",
      "    Create nditers for use in nested loops\n",
      "numpy.ma.sqrt\n",
      "    Return the non-negative square-root of an array, element-wise.\n",
      "numpy.ma.log10\n",
      "    Return the base 10 logarithm of the input array, element-wise.\n",
      "numpy.chararray.tolist\n",
      "    a.tolist()\n",
      "numpy.put_along_axis\n",
      "    Put values into the destination array by matching 1d index and data slices.\n",
      "numpy.ma.choose\n",
      "    Use an index array to construct a new array from a set of choices.\n",
      "numpy.ma.maximum\n",
      "    Element-wise maximum of array elements.\n",
      "numpy.ma.minimum\n",
      "    Element-wise minimum of array elements.\n",
      "numpy.ma.mrecords.MaskedRecords.__new__\n",
      "    Create a new masked array from scratch.\n",
      "numpy.savez_compressed\n",
      "    Save several arrays into a single file in compressed ``.npz`` format.\n",
      "numpy.matlib.rand\n",
      "    Return a matrix of random values with given shape.\n",
      "numpy.datetime_as_string\n",
      "    Convert an array of datetimes into an array of strings.\n",
      "numpy.ma.bitwise_or\n",
      "    Compute the bit-wise OR of two arrays element-wise.\n",
      "numpy.ma.bitwise_and\n",
      "    Compute the bit-wise AND of two arrays element-wise.\n",
      "numpy.ma.bitwise_xor\n",
      "    Compute the bit-wise XOR of two arrays element-wise.\n",
      "numpy.ma.make_mask_none\n",
      "    Return a boolean mask of the given shape, filled with False.\n",
      "numpy.ma.tests.test_subclassing.MSubArray.__new__\n",
      "    Create a new masked array from scratch.\n",
      "numpy.core._multiarray_umath.clip\n",
      "    Clip (limit) the values in an array.\n",
      "numpy.core.tests.test_overrides._new_duck_type_and_implements\n",
      "    Create a duck array type and implements functions.\n",
      "numpy.ma.tests.test_subclassing.SubMaskedArray.__new__\n",
      "    Create a new masked array from scratch.\n",
      "numpy.ma.mrecords.fromrecords\n",
      "    Creates a MaskedRecords from a list of records.\n",
      "numpy.core._multiarray_umath.empty_like\n",
      "    Return a new array with the same shape and type as a given array.\n",
      "numpy.f2py.tests.test_array_from_pyobj.Array.has_shared_memory\n",
      "    Check that created array shares data with input array.\n",
      "numpy.core._dtype._construction_repr\n",
      "    Creates a string repr of the dtype, excluding the 'dtype()' part\n",
      "numpy.abs\n",
      "    Calculate the absolute value element-wise.\n",
      "numpy.add\n",
      "    Add arguments element-wise.\n",
      "numpy.cos\n",
      "    Cosine element-wise.\n",
      "numpy.log\n",
      "    Natural logarithm, element-wise.\n",
      "numpy.mod\n",
      "    Return element-wise remainder of division.\n",
      "numpy.lib.recfunctions.require_fields\n",
      "    Casts a structured array to a new dtype using assignment by field-name.\n",
      "numpy.sin\n",
      "    Trigonometric sine, element-wise.\n",
      "numpy.tan\n",
      "    Compute tangent element-wise.\n",
      "numpy.ceil\n",
      "    Return the ceiling of the input, element-wise.\n",
      "numpy.conj\n",
      "    Return the complex conjugate, element-wise.\n",
      "numpy.cosh\n",
      "    Hyperbolic cosine, element-wise.\n",
      "numpy.fabs\n",
      "    Compute the absolute values element-wise.\n",
      "numpy.fmod\n",
      "    Return the element-wise remainder of division.\n",
      "numpy.less\n",
      "    Return the truth value of (x1 < x2) element-wise.\n",
      "numpy.log2\n",
      "    Base-2 logarithm of `x`.\n",
      "numpy.sign\n",
      "    Returns an element-wise indication of the sign of a number.\n",
      "numpy.sinh\n",
      "    Hyperbolic sine, element-wise.\n",
      "numpy.tanh\n",
      "    Compute hyperbolic tangent element-wise.\n",
      "numpy.equal\n",
      "    Return (x1 == x2) element-wise.\n",
      "numpy.core._multiarray_umath.datetime_as_string\n",
      "    Convert an array of datetimes into an array of strings.\n",
      "numpy.floor\n",
      "    Return the floor of the input, element-wise.\n",
      "numpy.frexp\n",
      "    Decompose the elements of x into mantissa and twos exponent.\n",
      "numpy.hypot\n",
      "    Given the \"legs\" of a right triangle, return its hypotenuse.\n",
      "numpy.isinf\n",
      "    Test element-wise for positive or negative infinity.\n",
      "numpy.ldexp\n",
      "    Returns x1 * 2**x2, element-wise.\n",
      "numpy.trunc\n",
      "    Return the truncated value of the input, element-wise.\n",
      "numpy.arccos\n",
      "    Trigonometric inverse cosine, element-wise.\n",
      "numpy.arcsin\n",
      "    Inverse sine, element-wise.\n",
      "numpy.arctan\n",
      "    Trigonometric inverse tangent, element-wise.\n",
      "numpy.around\n",
      "    Evenly round to the given number of decimals.\n",
      "numpy.divide\n",
      "    Returns a true division of the inputs, element-wise.\n",
      "numpy.divmod\n",
      "    Return element-wise quotient and remainder simultaneously.\n",
      "numpy.source\n",
      "    Print or write to a file the source code for a NumPy object.\n",
      "numpy.square\n",
      "    Return the element-wise square of the input.\n",
      "numpy.arccosh\n",
      "    Inverse hyperbolic cosine, element-wise.\n",
      "numpy.arcsinh\n",
      "    Inverse hyperbolic sine element-wise.\n",
      "numpy.arctan2\n",
      "    Element-wise arc tangent of ``x1/x2`` choosing the quadrant correctly.\n",
      "numpy.arctanh\n",
      "    Inverse hyperbolic tangent element-wise.\n",
      "numpy.deg2rad\n",
      "    Convert angles from degrees to radians.\n",
      "numpy.degrees\n",
      "    Convert angles from radians to degrees.\n",
      "numpy.greater\n",
      "    Return the truth value of (x1 > x2) element-wise.\n",
      "numpy.rad2deg\n",
      "    Convert angles from radians to degrees.\n",
      "numpy.radians\n",
      "    Convert angles from degrees to radians.\n",
      "numpy.signbit\n",
      "    Returns element-wise True where signbit is set (less than zero).\n",
      "numpy.spacing\n",
      "    Return the distance between x and the nearest adjacent number.\n",
      "numpy.copysign\n",
      "    Change the sign of x1 to that of x2, element-wise.\n",
      "numpy.diagonal\n",
      "    Return specified diagonals.\n",
      "numpy.isfinite\n",
      "    Test element-wise for finiteness (not infinity or not Not a Number).\n",
      "numpy.multiply\n",
      "    Multiply arguments element-wise.\n",
      "numpy.negative\n",
      "    Numerical negative, element-wise.\n",
      "numpy.subtract\n",
      "    Subtract arguments, element-wise.\n",
      "numpy.heaviside\n",
      "    Compute the Heaviside step function.\n",
      "numpy.logaddexp\n",
      "    Logarithm of the sum of exponentiations of the inputs.\n",
      "numpy.nextafter\n",
      "    Return the next floating-point value after x1 towards x2, element-wise.\n",
      "numpy.not_equal\n",
      "    Return (x1 != x2) element-wise.\n",
      "numpy.left_shift\n",
      "    Shift the bits of an integer to the left.\n",
      "numpy.less_equal\n",
      "    Return the truth value of (x1 =< x2) element-wise.\n",
      "numpy.logaddexp2\n",
      "    Logarithm of the sum of exponentiations of the inputs in base-2.\n",
      "numpy.logical_or\n",
      "    Compute the truth value of x1 OR x2 element-wise.\n",
      "numpy.nan_to_num\n",
      "    Replace NaN with zero and infinity with large finite numbers (default\n",
      "numpy.reciprocal\n",
      "    Return the reciprocal of the argument, element-wise.\n",
      "numpy.bitwise_not\n",
      "    Compute bit-wise inversion, or bit-wise NOT, element-wise.\n",
      "numpy.einsum_path\n",
      "    Evaluates the lowest cost contraction order for an einsum expression by\n",
      "numpy.histogram2d\n",
      "    Compute the bi-dimensional histogram of two data samples.\n",
      "numpy.logical_and\n",
      "    Compute the truth value of x1 AND x2 element-wise.\n",
      "numpy.logical_not\n",
      "    Compute the truth value of NOT x element-wise.\n",
      "numpy.logical_xor\n",
      "    Compute the truth value of x1 XOR x2, element-wise.\n",
      "numpy.right_shift\n",
      "    Shift the bits of an integer to the right.\n",
      "numpy.ma.abs\n",
      "    Calculate the absolute value element-wise.\n",
      "numpy.ma.add\n",
      "    Add arguments element-wise.\n",
      "numpy.ma.cos\n",
      "    Cosine element-wise.\n",
      "numpy.ma.log\n",
      "    Natural logarithm, element-wise.\n",
      "numpy.ma.mod\n",
      "    Return element-wise remainder of division.\n",
      "numpy.ma.sin\n",
      "    Trigonometric sine, element-wise.\n",
      "numpy.ma.tan\n",
      "    Compute tangent element-wise.\n",
      "numpy.floor_divide\n",
      "    Return the largest integer smaller or equal to the division of the inputs.\n",
      "numpy.ma.ceil\n",
      "    Return the ceiling of the input, element-wise.\n",
      "numpy.ma.cosh\n",
      "    Hyperbolic cosine, element-wise.\n",
      "numpy.fft.ifft\n",
      "    Compute the one-dimensional inverse discrete Fourier Transform.\n",
      "numpy.ma.fabs\n",
      "    Compute the absolute values element-wise.\n",
      "numpy.ma.fmod\n",
      "    Return the element-wise remainder of division.\n",
      "numpy.ma.less\n",
      "    Return the truth value of (x1 < x2) element-wise.\n",
      "numpy.ma.log2\n",
      "    Base-2 logarithm of `x`.\n",
      "numpy.ma.sinh\n",
      "    Hyperbolic sine, element-wise.\n",
      "numpy.ma.tanh\n",
      "    Compute hyperbolic tangent element-wise.\n",
      "numpy.greater_equal\n",
      "    Return the truth value of (x1 >= x2) element-wise.\n",
      "numpy.fft.ifftn\n",
      "    Compute the N-dimensional inverse discrete Fourier Transform.\n",
      "numpy.ma.equal\n",
      "    Return (x1 == x2) element-wise.\n",
      "numpy.ma.floor\n",
      "    Return the floor of the input, element-wise.\n",
      "numpy.ma.hypot\n",
      "    Given the \"legs\" of a right triangle, return its hypotenuse.\n",
      "numpy.busdaycalendar\n",
      "    A business day calendar object that efficiently stores information\n",
      "numpy.ma.arccos\n",
      "    Trigonometric inverse cosine, element-wise.\n",
      "numpy.ma.arcsin\n",
      "    Inverse sine, element-wise.\n",
      "numpy.ma.arctan\n",
      "    Trigonometric inverse tangent, element-wise.\n",
      "numpy.ma.divide\n",
      "    Returns a true division of the inputs, element-wise.\n",
      "numpy.lib.recfunctions.unstructured_to_structured\n",
      "    Converts and n-D unstructured array into an (n-1)-D structured array.\n",
      "numpy.ma.arccosh\n",
      "    Inverse hyperbolic cosine, element-wise.\n",
      "numpy.ma.arcsinh\n",
      "    Inverse hyperbolic sine element-wise.\n",
      "numpy.ma.arctan2\n",
      "    Element-wise arc tangent of ``x1/x2`` choosing the quadrant correctly.\n",
      "numpy.ma.arctanh\n",
      "    Inverse hyperbolic tangent element-wise.\n",
      "numpy.ma.greater\n",
      "    Return the truth value of (x1 > x2) element-wise.\n",
      "numpy.ma.multiply\n",
      "    Multiply arguments element-wise.\n",
      "numpy.ma.negative\n",
      "    Numerical negative, element-wise.\n",
      "numpy.ma.subtract\n",
      "    Subtract arguments, element-wise.\n",
      "numpy.ma.tests.test_subclassing.SubArray\n",
      "    ndarray(shape, dtype=float, buffer=None, offset=0,\n",
      "numpy.ma.conjugate\n",
      "    Return the complex conjugate, element-wise.\n",
      "numpy.ma.not_equal\n",
      "    Return (x1 != x2) element-wise.\n",
      "numpy.ma.remainder\n",
      "    Return element-wise remainder of division.\n",
      "numpy.ma.empty_like\n",
      "    empty_like(prototype, dtype=None, order='K', subok=True, shape=None)\n",
      "numpy.ma.less_equal\n",
      "    Return the truth value of (x1 =< x2) element-wise.\n",
      "numpy.ma.logical_or\n",
      "    Compute the truth value of x1 OR x2 element-wise.\n",
      "numpy.ma.logical_and\n",
      "    Compute the truth value of x1 AND x2 element-wise.\n",
      "numpy.ma.logical_not\n",
      "    Compute the truth value of NOT x element-wise.\n",
      "numpy.ma.logical_xor\n",
      "    Compute the truth value of x1 XOR x2, element-wise.\n",
      "numpy.ma.true_divide\n",
      "    Returns a true division of the inputs, element-wise.\n",
      "numpy.ma.floor_divide\n",
      "    Return the largest integer smaller or equal to the division of the inputs.\n",
      "numpy.ma.greater_equal\n",
      "    Return the truth value of (x1 >= x2) element-wise.\n",
      "numpy.core.tests.test_function_base.PhysicalQuantity2\n",
      "    ndarray(shape, dtype=float, buffer=None, offset=0,\n",
      "numpy.lib.tests.test_stride_tricks.SimpleSubClass\n",
      "    ndarray(shape, dtype=float, buffer=None, offset=0,\n",
      "numpy.core.tests.test_numeric.TestKeepdims.sub_array\n",
      "    ndarray(shape, dtype=float, buffer=None, offset=0,\n",
      "numpy.ma.tests.test_subclassing.ComplicatedSubArray\n",
      "    ndarray(shape, dtype=float, buffer=None, offset=0,\n",
      "numpy.lib.tests.test_stride_tricks.VerySimpleSubClass\n",
      "    ndarray(shape, dtype=float, buffer=None, offset=0,\n",
      "numpy.core.tests.test_multiarray.TestArrayPriority.Foo\n",
      "    ndarray(shape, dtype=float, buffer=None, offset=0,\n",
      "numpy.core.tests.test_multiarray.TestArrayPriority.Bar\n",
      "    ndarray(shape, dtype=float, buffer=None, offset=0,\n",
      "numpy.testing._gen_alignment_data\n",
      "    generator producing data with different alignment and offsets\n",
      "numpy.random.RandomState.rand\n",
      "    Random values in a given shape."
     ],
     "name": "stdout"
    }
   ]
  },
  {
   "cell_type": "code",
   "metadata": {
    "id": "NFR7GW6_c1aP",
    "colab_type": "code",
    "colab": {},
    "executionInfo": {
     "status": "ok",
     "timestamp": 1599005119035,
     "user_tz": -180,
     "elapsed": 596,
     "user": {
      "displayName": "Москаленко В'ячеслав Васильович",
      "photoUrl": "https://lh3.googleusercontent.com/a-/AOh14GiN6Jzqki0z69x3j5PLOje08fXCxR7L_CW7QtyNXg=s64",
      "userId": "09799116143807457878"
     }
    }
   },
   "source": [
    "np.con*?"
   ],
   "execution_count": 97,
   "outputs": []
  },
  {
   "cell_type": "markdown",
   "metadata": {
    "id": "C_8nSxMYc1aU",
    "colab_type": "text"
   },
   "source": [
    "#### Бібліотеку принято імпортувати так"
   ]
  },
  {
   "cell_type": "code",
   "metadata": {
    "id": "OMVlQ_tWc1aV",
    "colab_type": "code",
    "colab": {}
   },
   "source": [
    "import numpy as np"
   ],
   "execution_count": null,
   "outputs": []
  },
  {
   "cell_type": "markdown",
   "metadata": {
    "id": "3qNR6hMTc1aa",
    "colab_type": "text"
   },
   "source": [
    "## Створення масивів"
   ]
  },
  {
   "cell_type": "markdown",
   "metadata": {
    "id": "adSPyCmsc1ab",
    "colab_type": "text"
   },
   "source": [
    "* **1-D**:\n"
   ]
  },
  {
   "cell_type": "code",
   "metadata": {
    "id": "yN-HhGOMc1ac",
    "colab_type": "code",
    "colab": {
     "base_uri": "https://localhost:8080/",
     "height": 36
    },
    "executionInfo": {
     "status": "ok",
     "timestamp": 1599005154968,
     "user_tz": -180,
     "elapsed": 1721,
     "user": {
      "displayName": "Москаленко В'ячеслав Васильович",
      "photoUrl": "https://lh3.googleusercontent.com/a-/AOh14GiN6Jzqki0z69x3j5PLOje08fXCxR7L_CW7QtyNXg=s64",
      "userId": "09799116143807457878"
     }
    },
    "outputId": "e5d33c0b-5e3a-4e7b-9d97-0a40292e8eb1"
   },
   "source": [
    "a = np.array([0, 1, 2, 3])\n",
    "a"
   ],
   "execution_count": 98,
   "outputs": [
    {
     "output_type": "execute_result",
     "data": {
      "text/plain": [
       "array([0, 1, 2, 3])"
      ]
     },
     "metadata": {
      "tags": []
     },
     "execution_count": 98
    }
   ]
  },
  {
   "cell_type": "code",
   "metadata": {
    "id": "8v5y5tH6c1ak",
    "colab_type": "code",
    "colab": {
     "base_uri": "https://localhost:8080/",
     "height": 36
    },
    "executionInfo": {
     "status": "ok",
     "timestamp": 1599005158621,
     "user_tz": -180,
     "elapsed": 1723,
     "user": {
      "displayName": "Москаленко В'ячеслав Васильович",
      "photoUrl": "https://lh3.googleusercontent.com/a-/AOh14GiN6Jzqki0z69x3j5PLOje08fXCxR7L_CW7QtyNXg=s64",
      "userId": "09799116143807457878"
     }
    },
    "outputId": "e8dbcc2d-86f1-4cf0-ffc1-f4baa846a054"
   },
   "source": [
    "a.ndim"
   ],
   "execution_count": 99,
   "outputs": [
    {
     "output_type": "execute_result",
     "data": {
      "text/plain": [
       "1"
      ]
     },
     "metadata": {
      "tags": []
     },
     "execution_count": 99
    }
   ]
  },
  {
   "cell_type": "code",
   "metadata": {
    "id": "eF5GuNhsc1ao",
    "colab_type": "code",
    "colab": {
     "base_uri": "https://localhost:8080/",
     "height": 36
    },
    "executionInfo": {
     "status": "ok",
     "timestamp": 1599005164656,
     "user_tz": -180,
     "elapsed": 1129,
     "user": {
      "displayName": "Москаленко В'ячеслав Васильович",
      "photoUrl": "https://lh3.googleusercontent.com/a-/AOh14GiN6Jzqki0z69x3j5PLOje08fXCxR7L_CW7QtyNXg=s64",
      "userId": "09799116143807457878"
     }
    },
    "outputId": "dee9f0b1-8e5f-415e-e60c-daabe6171321"
   },
   "source": [
    "a.shape"
   ],
   "execution_count": 100,
   "outputs": [
    {
     "output_type": "execute_result",
     "data": {
      "text/plain": [
       "(4,)"
      ]
     },
     "metadata": {
      "tags": []
     },
     "execution_count": 100
    }
   ]
  },
  {
   "cell_type": "code",
   "metadata": {
    "id": "SMc-ZYqBc1au",
    "colab_type": "code",
    "colab": {
     "base_uri": "https://localhost:8080/",
     "height": 36
    },
    "executionInfo": {
     "status": "ok",
     "timestamp": 1599005175775,
     "user_tz": -180,
     "elapsed": 1100,
     "user": {
      "displayName": "Москаленко В'ячеслав Васильович",
      "photoUrl": "https://lh3.googleusercontent.com/a-/AOh14GiN6Jzqki0z69x3j5PLOje08fXCxR7L_CW7QtyNXg=s64",
      "userId": "09799116143807457878"
     }
    },
    "outputId": "2e152bf0-72b0-4362-e8c8-3a384e0ec0a1"
   },
   "source": [
    "len(a)"
   ],
   "execution_count": 101,
   "outputs": [
    {
     "output_type": "execute_result",
     "data": {
      "text/plain": [
       "4"
      ]
     },
     "metadata": {
      "tags": []
     },
     "execution_count": 101
    }
   ]
  },
  {
   "cell_type": "markdown",
   "metadata": {
    "id": "8_0b8kM5c1a0",
    "colab_type": "text"
   },
   "source": [
    "* **2-D, 3-D, ...**:\n"
   ]
  },
  {
   "cell_type": "code",
   "metadata": {
    "id": "BRorvDkic1a0",
    "colab_type": "code",
    "colab": {
     "base_uri": "https://localhost:8080/",
     "height": 54
    },
    "executionInfo": {
     "status": "ok",
     "timestamp": 1599005206790,
     "user_tz": -180,
     "elapsed": 1383,
     "user": {
      "displayName": "Москаленко В'ячеслав Васильович",
      "photoUrl": "https://lh3.googleusercontent.com/a-/AOh14GiN6Jzqki0z69x3j5PLOje08fXCxR7L_CW7QtyNXg=s64",
      "userId": "09799116143807457878"
     }
    },
    "outputId": "17166fdd-caa7-4269-bc5c-f49284e1bf4a"
   },
   "source": [
    "b = np.array([[0, 1, 2], [3, 4, 5]])    # 2 x 3 array\n",
    "b"
   ],
   "execution_count": 104,
   "outputs": [
    {
     "output_type": "execute_result",
     "data": {
      "text/plain": [
       "array([[0, 1, 2],\n",
       "       [3, 4, 5]])"
      ]
     },
     "metadata": {
      "tags": []
     },
     "execution_count": 104
    }
   ]
  },
  {
   "cell_type": "code",
   "metadata": {
    "id": "dFJUcRIGc1a5",
    "colab_type": "code",
    "colab": {
     "base_uri": "https://localhost:8080/",
     "height": 36
    },
    "executionInfo": {
     "status": "ok",
     "timestamp": 1599005211277,
     "user_tz": -180,
     "elapsed": 1145,
     "user": {
      "displayName": "Москаленко В'ячеслав Васильович",
      "photoUrl": "https://lh3.googleusercontent.com/a-/AOh14GiN6Jzqki0z69x3j5PLOje08fXCxR7L_CW7QtyNXg=s64",
      "userId": "09799116143807457878"
     }
    },
    "outputId": "553cbdf9-2678-49f6-e21c-6705f9fac245"
   },
   "source": [
    "b.ndim"
   ],
   "execution_count": 105,
   "outputs": [
    {
     "output_type": "execute_result",
     "data": {
      "text/plain": [
       "2"
      ]
     },
     "metadata": {
      "tags": []
     },
     "execution_count": 105
    }
   ]
  },
  {
   "cell_type": "code",
   "metadata": {
    "id": "9drsz0n3c1a9",
    "colab_type": "code",
    "colab": {
     "base_uri": "https://localhost:8080/",
     "height": 36
    },
    "executionInfo": {
     "status": "ok",
     "timestamp": 1599003407987,
     "user_tz": -180,
     "elapsed": 638,
     "user": {
      "displayName": "Москаленко В'ячеслав Васильович",
      "photoUrl": "https://lh3.googleusercontent.com/a-/AOh14GiN6Jzqki0z69x3j5PLOje08fXCxR7L_CW7QtyNXg=s64",
      "userId": "09799116143807457878"
     }
    },
    "outputId": "77252976-96c7-4c33-ae53-7c455bfe142b"
   },
   "source": [
    "b.shape"
   ],
   "execution_count": null,
   "outputs": [
    {
     "output_type": "execute_result",
     "data": {
      "text/plain": [
       "(2, 3)"
      ]
     },
     "metadata": {
      "tags": []
     },
     "execution_count": 89
    }
   ]
  },
  {
   "cell_type": "code",
   "metadata": {
    "id": "844TSbhsc1bC",
    "colab_type": "code",
    "colab": {
     "base_uri": "https://localhost:8080/",
     "height": 36
    },
    "executionInfo": {
     "status": "ok",
     "timestamp": 1599005232729,
     "user_tz": -180,
     "elapsed": 643,
     "user": {
      "displayName": "Москаленко В'ячеслав Васильович",
      "photoUrl": "https://lh3.googleusercontent.com/a-/AOh14GiN6Jzqki0z69x3j5PLOje08fXCxR7L_CW7QtyNXg=s64",
      "userId": "09799116143807457878"
     }
    },
    "outputId": "3a7bafc1-c5af-4581-eb5a-6f1bacae66a4"
   },
   "source": [
    "len(b)     # returns the size of the first dimension"
   ],
   "execution_count": 106,
   "outputs": [
    {
     "output_type": "execute_result",
     "data": {
      "text/plain": [
       "2"
      ]
     },
     "metadata": {
      "tags": []
     },
     "execution_count": 106
    }
   ]
  },
  {
   "cell_type": "code",
   "metadata": {
    "id": "enV1mZtUc1bH",
    "colab_type": "code",
    "colab": {
     "base_uri": "https://localhost:8080/",
     "height": 111
    },
    "executionInfo": {
     "status": "ok",
     "timestamp": 1599005244374,
     "user_tz": -180,
     "elapsed": 716,
     "user": {
      "displayName": "Москаленко В'ячеслав Васильович",
      "photoUrl": "https://lh3.googleusercontent.com/a-/AOh14GiN6Jzqki0z69x3j5PLOje08fXCxR7L_CW7QtyNXg=s64",
      "userId": "09799116143807457878"
     }
    },
    "outputId": "2284e6ae-fae0-4193-a502-2aa1b5fa43e9"
   },
   "source": [
    "c = np.array([[[1], [2]], [[3], [4]]])\n",
    "c"
   ],
   "execution_count": 107,
   "outputs": [
    {
     "output_type": "execute_result",
     "data": {
      "text/plain": [
       "array([[[1],\n",
       "        [2]],\n",
       "\n",
       "       [[3],\n",
       "        [4]]])"
      ]
     },
     "metadata": {
      "tags": []
     },
     "execution_count": 107
    }
   ]
  },
  {
   "cell_type": "code",
   "metadata": {
    "id": "fPJSfaX8c1bN",
    "colab_type": "code",
    "colab": {
     "base_uri": "https://localhost:8080/",
     "height": 36
    },
    "executionInfo": {
     "status": "ok",
     "timestamp": 1599005246979,
     "user_tz": -180,
     "elapsed": 647,
     "user": {
      "displayName": "Москаленко В'ячеслав Васильович",
      "photoUrl": "https://lh3.googleusercontent.com/a-/AOh14GiN6Jzqki0z69x3j5PLOje08fXCxR7L_CW7QtyNXg=s64",
      "userId": "09799116143807457878"
     }
    },
    "outputId": "ade04a29-099f-49a0-dcea-c988e4f23600"
   },
   "source": [
    "c.shape"
   ],
   "execution_count": 108,
   "outputs": [
    {
     "output_type": "execute_result",
     "data": {
      "text/plain": [
       "(2, 2, 1)"
      ]
     },
     "metadata": {
      "tags": []
     },
     "execution_count": 108
    }
   ]
  },
  {
   "cell_type": "markdown",
   "metadata": {
    "id": "orNV779xc1bR",
    "colab_type": "text"
   },
   "source": [
    "## Методи для створення масивів"
   ]
  },
  {
   "cell_type": "markdown",
   "metadata": {
    "id": "mOj4kU9tc1bR",
    "colab_type": "text"
   },
   "source": [
    "На практиці ми рідко додаємо елементи по одному\n"
   ]
  },
  {
   "cell_type": "markdown",
   "metadata": {
    "id": "-RSpoJYFc1bR",
    "colab_type": "text"
   },
   "source": [
    "- Рівномірно розподілені елементи:\n"
   ]
  },
  {
   "cell_type": "code",
   "metadata": {
    "id": "ftFMKK6Yc1bT",
    "colab_type": "code",
    "colab": {
     "base_uri": "https://localhost:8080/",
     "height": 36
    },
    "executionInfo": {
     "status": "ok",
     "timestamp": 1599005268590,
     "user_tz": -180,
     "elapsed": 629,
     "user": {
      "displayName": "Москаленко В'ячеслав Васильович",
      "photoUrl": "https://lh3.googleusercontent.com/a-/AOh14GiN6Jzqki0z69x3j5PLOje08fXCxR7L_CW7QtyNXg=s64",
      "userId": "09799116143807457878"
     }
    },
    "outputId": "0536c0e4-afdb-43b0-c0c1-5295a72bfb0a"
   },
   "source": [
    "a = np.arange(10) # 0 .. n-1  (!)\n",
    "a"
   ],
   "execution_count": 109,
   "outputs": [
    {
     "output_type": "execute_result",
     "data": {
      "text/plain": [
       "array([0, 1, 2, 3, 4, 5, 6, 7, 8, 9])"
      ]
     },
     "metadata": {
      "tags": []
     },
     "execution_count": 109
    }
   ]
  },
  {
   "cell_type": "code",
   "metadata": {
    "id": "NxCQop-qc1bY",
    "colab_type": "code",
    "colab": {
     "base_uri": "https://localhost:8080/",
     "height": 36
    },
    "executionInfo": {
     "status": "ok",
     "timestamp": 1599005294822,
     "user_tz": -180,
     "elapsed": 614,
     "user": {
      "displayName": "Москаленко В'ячеслав Васильович",
      "photoUrl": "https://lh3.googleusercontent.com/a-/AOh14GiN6Jzqki0z69x3j5PLOje08fXCxR7L_CW7QtyNXg=s64",
      "userId": "09799116143807457878"
     }
    },
    "outputId": "015b9994-65de-485b-f088-b7259d7745c8"
   },
   "source": [
    "b = np.arange(1, 9, 2) # start, end (exclusive), step\n",
    "b"
   ],
   "execution_count": 110,
   "outputs": [
    {
     "output_type": "execute_result",
     "data": {
      "text/plain": [
       "array([1, 3, 5, 7])"
      ]
     },
     "metadata": {
      "tags": []
     },
     "execution_count": 110
    }
   ]
  },
  {
   "cell_type": "markdown",
   "metadata": {
    "id": "FEWZw7t5c1bh",
    "colab_type": "text"
   },
   "source": [
    "- за числом елементів:\n"
   ]
  },
  {
   "cell_type": "code",
   "metadata": {
    "id": "stGhDkhdc1bi",
    "colab_type": "code",
    "colab": {
     "base_uri": "https://localhost:8080/",
     "height": 36
    },
    "executionInfo": {
     "status": "ok",
     "timestamp": 1599005332260,
     "user_tz": -180,
     "elapsed": 612,
     "user": {
      "displayName": "Москаленко В'ячеслав Васильович",
      "photoUrl": "https://lh3.googleusercontent.com/a-/AOh14GiN6Jzqki0z69x3j5PLOje08fXCxR7L_CW7QtyNXg=s64",
      "userId": "09799116143807457878"
     }
    },
    "outputId": "88750caa-b5d4-44dd-c767-512558e33815"
   },
   "source": [
    "c = np.linspace(0, 1, 6)   # start, end, num-points\n",
    "c"
   ],
   "execution_count": 111,
   "outputs": [
    {
     "output_type": "execute_result",
     "data": {
      "text/plain": [
       "array([0. , 0.2, 0.4, 0.6, 0.8, 1. ])"
      ]
     },
     "metadata": {
      "tags": []
     },
     "execution_count": 111
    }
   ]
  },
  {
   "cell_type": "code",
   "metadata": {
    "id": "e-zdbKlEc1bn",
    "colab_type": "code",
    "colab": {
     "base_uri": "https://localhost:8080/",
     "height": 36
    },
    "executionInfo": {
     "status": "ok",
     "timestamp": 1599005344352,
     "user_tz": -180,
     "elapsed": 644,
     "user": {
      "displayName": "Москаленко В'ячеслав Васильович",
      "photoUrl": "https://lh3.googleusercontent.com/a-/AOh14GiN6Jzqki0z69x3j5PLOje08fXCxR7L_CW7QtyNXg=s64",
      "userId": "09799116143807457878"
     }
    },
    "outputId": "6a3e8bb3-32c2-464b-bd59-249e47720575"
   },
   "source": [
    "d = np.linspace(0, 1, 5, endpoint=False)\n",
    "d"
   ],
   "execution_count": 112,
   "outputs": [
    {
     "output_type": "execute_result",
     "data": {
      "text/plain": [
       "array([0. , 0.2, 0.4, 0.6, 0.8])"
      ]
     },
     "metadata": {
      "tags": []
     },
     "execution_count": 112
    }
   ]
  },
  {
   "cell_type": "markdown",
   "metadata": {
    "id": "Vh_qAWadc1br",
    "colab_type": "text"
   },
   "source": [
    "- Масиви, що часто зустрічаються:\n"
   ]
  },
  {
   "cell_type": "code",
   "metadata": {
    "id": "JhS14DYCc1bs",
    "colab_type": "code",
    "colab": {
     "base_uri": "https://localhost:8080/",
     "height": 73
    },
    "executionInfo": {
     "status": "ok",
     "timestamp": 1599005375714,
     "user_tz": -180,
     "elapsed": 612,
     "user": {
      "displayName": "Москаленко В'ячеслав Васильович",
      "photoUrl": "https://lh3.googleusercontent.com/a-/AOh14GiN6Jzqki0z69x3j5PLOje08fXCxR7L_CW7QtyNXg=s64",
      "userId": "09799116143807457878"
     }
    },
    "outputId": "f0c765fc-b8a3-4bba-f101-96a7458de35f"
   },
   "source": [
    "a = np.ones((3, 3))  # reminder: (3, 3) is a tuple\n",
    "a"
   ],
   "execution_count": 113,
   "outputs": [
    {
     "output_type": "execute_result",
     "data": {
      "text/plain": [
       "array([[1., 1., 1.],\n",
       "       [1., 1., 1.],\n",
       "       [1., 1., 1.]])"
      ]
     },
     "metadata": {
      "tags": []
     },
     "execution_count": 113
    }
   ]
  },
  {
   "cell_type": "code",
   "metadata": {
    "id": "8l-XnzZsc1bz",
    "colab_type": "code",
    "colab": {
     "base_uri": "https://localhost:8080/",
     "height": 54
    },
    "executionInfo": {
     "status": "ok",
     "timestamp": 1599005380934,
     "user_tz": -180,
     "elapsed": 712,
     "user": {
      "displayName": "Москаленко В'ячеслав Васильович",
      "photoUrl": "https://lh3.googleusercontent.com/a-/AOh14GiN6Jzqki0z69x3j5PLOje08fXCxR7L_CW7QtyNXg=s64",
      "userId": "09799116143807457878"
     }
    },
    "outputId": "cfe8b19a-0c0e-4f48-ecdc-8c799888fa5b"
   },
   "source": [
    "b = np.zeros((2, 2))\n",
    "b"
   ],
   "execution_count": 114,
   "outputs": [
    {
     "output_type": "execute_result",
     "data": {
      "text/plain": [
       "array([[0., 0.],\n",
       "       [0., 0.]])"
      ]
     },
     "metadata": {
      "tags": []
     },
     "execution_count": 114
    }
   ]
  },
  {
   "cell_type": "code",
   "metadata": {
    "id": "eSQD-Wm1c1b2",
    "colab_type": "code",
    "colab": {
     "base_uri": "https://localhost:8080/",
     "height": 73
    },
    "executionInfo": {
     "status": "ok",
     "timestamp": 1599005392694,
     "user_tz": -180,
     "elapsed": 630,
     "user": {
      "displayName": "Москаленко В'ячеслав Васильович",
      "photoUrl": "https://lh3.googleusercontent.com/a-/AOh14GiN6Jzqki0z69x3j5PLOje08fXCxR7L_CW7QtyNXg=s64",
      "userId": "09799116143807457878"
     }
    },
    "outputId": "905a3b26-d7af-4370-df61-b9a21c7a61da"
   },
   "source": [
    "c = np.eye(3)\n",
    "c"
   ],
   "execution_count": 115,
   "outputs": [
    {
     "output_type": "execute_result",
     "data": {
      "text/plain": [
       "array([[1., 0., 0.],\n",
       "       [0., 1., 0.],\n",
       "       [0., 0., 1.]])"
      ]
     },
     "metadata": {
      "tags": []
     },
     "execution_count": 115
    }
   ]
  },
  {
   "cell_type": "code",
   "metadata": {
    "id": "ChTHovT0c1b6",
    "colab_type": "code",
    "colab": {
     "base_uri": "https://localhost:8080/",
     "height": 92
    },
    "executionInfo": {
     "status": "ok",
     "timestamp": 1599005415979,
     "user_tz": -180,
     "elapsed": 614,
     "user": {
      "displayName": "Москаленко В'ячеслав Васильович",
      "photoUrl": "https://lh3.googleusercontent.com/a-/AOh14GiN6Jzqki0z69x3j5PLOje08fXCxR7L_CW7QtyNXg=s64",
      "userId": "09799116143807457878"
     }
    },
    "outputId": "467856f2-5127-40dc-8e78-2c6261fad1d0"
   },
   "source": [
    "d = np.diag(np.array([1, 2, 3, 4]))\n",
    "d"
   ],
   "execution_count": 116,
   "outputs": [
    {
     "output_type": "execute_result",
     "data": {
      "text/plain": [
       "array([[1, 0, 0, 0],\n",
       "       [0, 2, 0, 0],\n",
       "       [0, 0, 3, 0],\n",
       "       [0, 0, 0, 4]])"
      ]
     },
     "metadata": {
      "tags": []
     },
     "execution_count": 116
    }
   ]
  },
  {
   "cell_type": "markdown",
   "metadata": {
    "id": "LgWi1letc1b_",
    "colab_type": "text"
   },
   "source": [
    "* `np.random` генерація випадкових чисел (Mersenne Twister PRNG):"
   ]
  },
  {
   "cell_type": "code",
   "metadata": {
    "id": "rzpCHGbLc1b_",
    "colab_type": "code",
    "colab": {
     "base_uri": "https://localhost:8080/",
     "height": 36
    },
    "executionInfo": {
     "status": "ok",
     "timestamp": 1598993853991,
     "user_tz": -180,
     "elapsed": 700,
     "user": {
      "displayName": "Москаленко В'ячеслав Васильович",
      "photoUrl": "https://lh3.googleusercontent.com/a-/AOh14GiN6Jzqki0z69x3j5PLOje08fXCxR7L_CW7QtyNXg=s64",
      "userId": "09799116143807457878"
     }
    },
    "outputId": "2226fa93-7d65-477b-d740-669231e86e0f"
   },
   "source": [
    "a = np.random.rand(4)       # uniform in [0, 1]\n",
    "a  "
   ],
   "execution_count": null,
   "outputs": [
    {
     "output_type": "execute_result",
     "data": {
      "text/plain": [
       "array([0.50755507, 0.0211933 , 0.43352176, 0.44631306])"
      ]
     },
     "metadata": {
      "tags": []
     },
     "execution_count": 30
    }
   ]
  },
  {
   "cell_type": "code",
   "metadata": {
    "id": "R_0P1l_8c1cD",
    "colab_type": "code",
    "colab": {
     "base_uri": "https://localhost:8080/",
     "height": 36
    },
    "executionInfo": {
     "status": "ok",
     "timestamp": 1599005450505,
     "user_tz": -180,
     "elapsed": 648,
     "user": {
      "displayName": "Москаленко В'ячеслав Васильович",
      "photoUrl": "https://lh3.googleusercontent.com/a-/AOh14GiN6Jzqki0z69x3j5PLOje08fXCxR7L_CW7QtyNXg=s64",
      "userId": "09799116143807457878"
     }
    },
    "outputId": "fca0c2ed-2848-493e-c0e6-4c3c5023bb01"
   },
   "source": [
    "b = np.random.randn(4)      # Gaussian\n",
    "b  "
   ],
   "execution_count": 117,
   "outputs": [
    {
     "output_type": "execute_result",
     "data": {
      "text/plain": [
       "array([-1.31386475,  0.88462238,  0.88131804,  1.70957306])"
      ]
     },
     "metadata": {
      "tags": []
     },
     "execution_count": 117
    }
   ]
  },
  {
   "cell_type": "code",
   "metadata": {
    "id": "kPal4tlmc1cH",
    "colab_type": "code",
    "colab": {}
   },
   "source": [
    "np.random.seed(1234)        # Setting the random seed"
   ],
   "execution_count": null,
   "outputs": []
  },
  {
   "cell_type": "markdown",
   "metadata": {
    "id": "PcnXh4_Bc1cK",
    "colab_type": "text"
   },
   "source": [
    "## Основні типи даних NumPy"
   ]
  },
  {
   "cell_type": "markdown",
   "metadata": {
    "id": "K7PQls5Sc1cM",
    "colab_type": "text"
   },
   "source": [
    "Точка після числа означає, що це тип даних `float64`\n"
   ]
  },
  {
   "cell_type": "code",
   "metadata": {
    "id": "fgAjMTSgc1cN",
    "colab_type": "code",
    "colab": {
     "base_uri": "https://localhost:8080/",
     "height": 36
    },
    "executionInfo": {
     "status": "ok",
     "timestamp": 1598993864401,
     "user_tz": -180,
     "elapsed": 660,
     "user": {
      "displayName": "Москаленко В'ячеслав Васильович",
      "photoUrl": "https://lh3.googleusercontent.com/a-/AOh14GiN6Jzqki0z69x3j5PLOje08fXCxR7L_CW7QtyNXg=s64",
      "userId": "09799116143807457878"
     }
    },
    "outputId": "5848bcac-e5ef-4475-9253-8d2bcbd558d2"
   },
   "source": [
    "a = np.array([1, 2, 3])\n",
    "a.dtype"
   ],
   "execution_count": null,
   "outputs": [
    {
     "output_type": "execute_result",
     "data": {
      "text/plain": [
       "dtype('int64')"
      ]
     },
     "metadata": {
      "tags": []
     },
     "execution_count": 33
    }
   ]
  },
  {
   "cell_type": "code",
   "metadata": {
    "id": "v10II_9rc1cR",
    "colab_type": "code",
    "colab": {
     "base_uri": "https://localhost:8080/",
     "height": 36
    },
    "executionInfo": {
     "status": "ok",
     "timestamp": 1598993867654,
     "user_tz": -180,
     "elapsed": 776,
     "user": {
      "displayName": "Москаленко В'ячеслав Васильович",
      "photoUrl": "https://lh3.googleusercontent.com/a-/AOh14GiN6Jzqki0z69x3j5PLOje08fXCxR7L_CW7QtyNXg=s64",
      "userId": "09799116143807457878"
     }
    },
    "outputId": "770dbf25-b88c-4e4c-ff43-593a1e141bbe"
   },
   "source": [
    "b = np.array([1., 2., 3.])\n",
    "b.dtype"
   ],
   "execution_count": null,
   "outputs": [
    {
     "output_type": "execute_result",
     "data": {
      "text/plain": [
       "dtype('float64')"
      ]
     },
     "metadata": {
      "tags": []
     },
     "execution_count": 34
    }
   ]
  },
  {
   "cell_type": "markdown",
   "metadata": {
    "id": "0gn4-48tc1cV",
    "colab_type": "text"
   },
   "source": [
    "Можна задати тип даних явно. За замовчуванням- `float64`"
   ]
  },
  {
   "cell_type": "code",
   "metadata": {
    "id": "x7f7g9wrc1cV",
    "colab_type": "code",
    "colab": {
     "base_uri": "https://localhost:8080/",
     "height": 36
    },
    "executionInfo": {
     "status": "ok",
     "timestamp": 1598993870682,
     "user_tz": -180,
     "elapsed": 655,
     "user": {
      "displayName": "Москаленко В'ячеслав Васильович",
      "photoUrl": "https://lh3.googleusercontent.com/a-/AOh14GiN6Jzqki0z69x3j5PLOje08fXCxR7L_CW7QtyNXg=s64",
      "userId": "09799116143807457878"
     }
    },
    "outputId": "0b4684c0-8329-4830-959c-0da9b35399fb"
   },
   "source": [
    "c = np.array([1, 2, 3], dtype=float)\n",
    "c.dtype"
   ],
   "execution_count": null,
   "outputs": [
    {
     "output_type": "execute_result",
     "data": {
      "text/plain": [
       "dtype('float64')"
      ]
     },
     "metadata": {
      "tags": []
     },
     "execution_count": 35
    }
   ]
  },
  {
   "cell_type": "code",
   "metadata": {
    "id": "iZlcO2guc1cY",
    "colab_type": "code",
    "colab": {
     "base_uri": "https://localhost:8080/",
     "height": 36
    },
    "executionInfo": {
     "status": "ok",
     "timestamp": 1598993873060,
     "user_tz": -180,
     "elapsed": 727,
     "user": {
      "displayName": "Москаленко В'ячеслав Васильович",
      "photoUrl": "https://lh3.googleusercontent.com/a-/AOh14GiN6Jzqki0z69x3j5PLOje08fXCxR7L_CW7QtyNXg=s64",
      "userId": "09799116143807457878"
     }
    },
    "outputId": "301795cb-749f-4246-d627-c71bffd78e0d"
   },
   "source": [
    "a = np.ones((3, 3))\n",
    "a.dtype"
   ],
   "execution_count": null,
   "outputs": [
    {
     "output_type": "execute_result",
     "data": {
      "text/plain": [
       "dtype('float64')"
      ]
     },
     "metadata": {
      "tags": []
     },
     "execution_count": 36
    }
   ]
  },
  {
   "cell_type": "markdown",
   "metadata": {
    "id": "qR_kVD1bc1cb",
    "colab_type": "text"
   },
   "source": [
    "Інші типи даних:"
   ]
  },
  {
   "cell_type": "markdown",
   "metadata": {
    "id": "wcbbl_kmc1cb",
    "colab_type": "text"
   },
   "source": [
    "- Комплексні числа\n"
   ]
  },
  {
   "cell_type": "code",
   "metadata": {
    "id": "l157X7W0c1cc",
    "colab_type": "code",
    "colab": {
     "base_uri": "https://localhost:8080/",
     "height": 36
    },
    "executionInfo": {
     "status": "ok",
     "timestamp": 1598993877088,
     "user_tz": -180,
     "elapsed": 665,
     "user": {
      "displayName": "Москаленко В'ячеслав Васильович",
      "photoUrl": "https://lh3.googleusercontent.com/a-/AOh14GiN6Jzqki0z69x3j5PLOje08fXCxR7L_CW7QtyNXg=s64",
      "userId": "09799116143807457878"
     }
    },
    "outputId": "fb3b1bd0-5dfd-44ed-e0a8-2bd5644d0f99"
   },
   "source": [
    "d = np.array([1+2j, 3+4j, 5+6*1j])\n",
    "d.dtype"
   ],
   "execution_count": null,
   "outputs": [
    {
     "output_type": "execute_result",
     "data": {
      "text/plain": [
       "dtype('complex128')"
      ]
     },
     "metadata": {
      "tags": []
     },
     "execution_count": 37
    }
   ]
  },
  {
   "cell_type": "markdown",
   "metadata": {
    "id": "88dlSmE9c1cf",
    "colab_type": "text"
   },
   "source": [
    " - Bool\n"
   ]
  },
  {
   "cell_type": "code",
   "metadata": {
    "id": "YcLbOq5Oc1cf",
    "colab_type": "code",
    "colab": {
     "base_uri": "https://localhost:8080/",
     "height": 36
    },
    "executionInfo": {
     "status": "ok",
     "timestamp": 1598993879673,
     "user_tz": -180,
     "elapsed": 645,
     "user": {
      "displayName": "Москаленко В'ячеслав Васильович",
      "photoUrl": "https://lh3.googleusercontent.com/a-/AOh14GiN6Jzqki0z69x3j5PLOje08fXCxR7L_CW7QtyNXg=s64",
      "userId": "09799116143807457878"
     }
    },
    "outputId": "af5f12cb-b6e0-494b-8427-34c9485731d0"
   },
   "source": [
    "e = np.array([True, False, False, True])\n",
    "e.dtype"
   ],
   "execution_count": null,
   "outputs": [
    {
     "output_type": "execute_result",
     "data": {
      "text/plain": [
       "dtype('bool')"
      ]
     },
     "metadata": {
      "tags": []
     },
     "execution_count": 38
    }
   ]
  },
  {
   "cell_type": "markdown",
   "metadata": {
    "id": "fnFT5-Dcc1cj",
    "colab_type": "text"
   },
   "source": [
    "- Рядки\n",
    "\n",
    "На рядки пам'ять виділяється \"жадібно\" - за максимальною кількістю літер в рядку. \n",
    "В цьому прикладі на кожен рядок виділяється по 7 літер, і тип даних - 'S7'"
   ]
  },
  {
   "cell_type": "code",
   "metadata": {
    "id": "DZZvcPbRc1cj",
    "colab_type": "code",
    "colab": {
     "base_uri": "https://localhost:8080/",
     "height": 36
    },
    "executionInfo": {
     "status": "ok",
     "timestamp": 1598993882991,
     "user_tz": -180,
     "elapsed": 650,
     "user": {
      "displayName": "Москаленко В'ячеслав Васильович",
      "photoUrl": "https://lh3.googleusercontent.com/a-/AOh14GiN6Jzqki0z69x3j5PLOje08fXCxR7L_CW7QtyNXg=s64",
      "userId": "09799116143807457878"
     }
    },
    "outputId": "f69daffb-a900-4a15-cd47-6ba92813a16e"
   },
   "source": [
    "f = np.array(['Bonjour', 'Hello', 'Hallo',])\n",
    "f.dtype     # <--- strings containing max. 7 letters"
   ],
   "execution_count": null,
   "outputs": [
    {
     "output_type": "execute_result",
     "data": {
      "text/plain": [
       "dtype('<U7')"
      ]
     },
     "metadata": {
      "tags": []
     },
     "execution_count": 39
    }
   ]
  },
  {
   "cell_type": "markdown",
   "metadata": {
    "id": "bIcRk-2-c1cn",
    "colab_type": "text"
   },
   "source": [
    "## Основи візуалізації"
   ]
  },
  {
   "cell_type": "markdown",
   "metadata": {
    "id": "lwZTEXu-c1co",
    "colab_type": "text"
   },
   "source": [
    "$ ipython notebook --pylab=inline"
   ]
  },
  {
   "cell_type": "markdown",
   "metadata": {
    "id": "YHkO2lOQc1co",
    "colab_type": "text"
   },
   "source": [
    "Або з notebook:"
   ]
  },
  {
   "cell_type": "code",
   "metadata": {
    "id": "qkc8iVShc1cp",
    "colab_type": "code",
    "colab": {
     "base_uri": "https://localhost:8080/",
     "height": 36
    },
    "executionInfo": {
     "status": "ok",
     "timestamp": 1599005637539,
     "user_tz": -180,
     "elapsed": 666,
     "user": {
      "displayName": "Москаленко В'ячеслав Васильович",
      "photoUrl": "https://lh3.googleusercontent.com/a-/AOh14GiN6Jzqki0z69x3j5PLOje08fXCxR7L_CW7QtyNXg=s64",
      "userId": "09799116143807457878"
     }
    },
    "outputId": "d59b2da7-b5f3-4ad9-f1ad-355c25b914a7"
   },
   "source": [
    "%pylab inline"
   ],
   "execution_count": 118,
   "outputs": [
    {
     "output_type": "stream",
     "text": [
      "Populating the interactive namespace from numpy and matplotlib\n"
     ],
     "name": "stdout"
    }
   ]
  },
  {
   "cell_type": "markdown",
   "metadata": {
    "id": "qEJASpS0c1c6",
    "colab_type": "text"
   },
   "source": [
    "Параметр `inline` говорить серверу IPython про те, що результати будуть відображатися в самій зошиті, а не в новому вікні.\n"
   ]
  },
  {
   "cell_type": "markdown",
   "metadata": {
    "id": "uJ6dSTKqc1c7",
    "colab_type": "text"
   },
   "source": [
    "Імпортуємо *Matplotlib*\n"
   ]
  },
  {
   "cell_type": "code",
   "metadata": {
    "id": "I_4NRm7Zc1c7",
    "colab_type": "code",
    "colab": {},
    "executionInfo": {
     "status": "ok",
     "timestamp": 1599005642133,
     "user_tz": -180,
     "elapsed": 682,
     "user": {
      "displayName": "Москаленко В'ячеслав Васильович",
      "photoUrl": "https://lh3.googleusercontent.com/a-/AOh14GiN6Jzqki0z69x3j5PLOje08fXCxR7L_CW7QtyNXg=s64",
      "userId": "09799116143807457878"
     }
    }
   },
   "source": [
    "import matplotlib.pyplot as plt  # the tidy way"
   ],
   "execution_count": 119,
   "outputs": []
  },
  {
   "cell_type": "code",
   "metadata": {
    "id": "RsmaDqeOc1c-",
    "colab_type": "code",
    "colab": {
     "base_uri": "https://localhost:8080/",
     "height": 265
    },
    "executionInfo": {
     "status": "ok",
     "timestamp": 1599005645214,
     "user_tz": -180,
     "elapsed": 721,
     "user": {
      "displayName": "Москаленко В'ячеслав Васильович",
      "photoUrl": "https://lh3.googleusercontent.com/a-/AOh14GiN6Jzqki0z69x3j5PLOje08fXCxR7L_CW7QtyNXg=s64",
      "userId": "09799116143807457878"
     }
    },
    "outputId": "06631121-9431-4b41-b01b-0d7714df7456"
   },
   "source": [
    "x = np.linspace(0, 3, 20)\n",
    "y = np.linspace(0, 9, 20)\n",
    "plt.plot(x, y)       # line plot    \n",
    "plt.show()           # <-- shows the plot (not needed with pylab) "
   ],
   "execution_count": 120,
   "outputs": [
    {
     "output_type": "display_data",
     "data": {
      "image/png": "[encoded data removed]",
      "text/plain": [
       "<Figure size 432x288 with 1 Axes>"
      ]
     },
     "metadata": {
      "tags": [],
      "needs_background": "light"
     }
    }
   ]
  },
  {
   "cell_type": "markdown",
   "metadata": {
    "id": "cfGAyAR6c1dC",
    "colab_type": "text"
   },
   "source": [
    "Або з використанням *pylab*:\n"
   ]
  },
  {
   "cell_type": "code",
   "metadata": {
    "id": "Zy72WD3Xc1dC",
    "colab_type": "code",
    "colab": {
     "base_uri": "https://localhost:8080/",
     "height": 284
    },
    "executionInfo": {
     "status": "ok",
     "timestamp": 1598993904241,
     "user_tz": -180,
     "elapsed": 658,
     "user": {
      "displayName": "Москаленко В'ячеслав Васильович",
      "photoUrl": "https://lh3.googleusercontent.com/a-/AOh14GiN6Jzqki0z69x3j5PLOje08fXCxR7L_CW7QtyNXg=s64",
      "userId": "09799116143807457878"
     }
    },
    "outputId": "e911ab0e-b14d-424c-a326-28ccbcd3dd95"
   },
   "source": [
    "plot(x, y)       # line plot    "
   ],
   "execution_count": null,
   "outputs": [
    {
     "output_type": "execute_result",
     "data": {
      "text/plain": [
       "[<matplotlib.lines.Line2D at 0x7fa164027f60>]"
      ]
     },
     "metadata": {
      "tags": []
     },
     "execution_count": 43
    },
    {
     "output_type": "display_data",
     "data": {
      "image/png": "[encoded data removed]",
      "text/plain": [
       "<Figure size 432x288 with 1 Axes>"
      ]
     },
     "metadata": {
      "tags": [],
      "needs_background": "light"
     }
    }
   ]
  },
  {
   "cell_type": "markdown",
   "metadata": {
    "id": "Y4JJxKg3c1dF",
    "colab_type": "text"
   },
   "source": [
    "Використання `import matplotlib.pyplot as plt` рекомендується для скриптів, а` pylab` - в зошитах IPython."
   ]
  },
  {
   "cell_type": "markdown",
   "metadata": {
    "id": "DOdzSpIlc1dF",
    "colab_type": "text"
   },
   "source": [
    "- Відображення одновимірних масивів:\n"
   ]
  },
  {
   "cell_type": "code",
   "metadata": {
    "id": "D94OZKSLc1dG",
    "colab_type": "code",
    "colab": {
     "base_uri": "https://localhost:8080/",
     "height": 284
    },
    "executionInfo": {
     "status": "ok",
     "timestamp": 1598993908951,
     "user_tz": -180,
     "elapsed": 1098,
     "user": {
      "displayName": "Москаленко В'ячеслав Васильович",
      "photoUrl": "https://lh3.googleusercontent.com/a-/AOh14GiN6Jzqki0z69x3j5PLOje08fXCxR7L_CW7QtyNXg=s64",
      "userId": "09799116143807457878"
     }
    },
    "outputId": "b1843f8a-fdb1-4ae6-a70e-dd24c3429441"
   },
   "source": [
    "x = np.linspace(0, 3, 20)\n",
    "y = np.linspace(0, 9, 20)\n",
    "plt.plot(x, y)       # line plot    "
   ],
   "execution_count": null,
   "outputs": [
    {
     "output_type": "execute_result",
     "data": {
      "text/plain": [
       "[<matplotlib.lines.Line2D at 0x7fa163c839b0>]"
      ]
     },
     "metadata": {
      "tags": []
     },
     "execution_count": 44
    },
    {
     "output_type": "display_data",
     "data": {
      "image/png": "[encoded data removed]",
      "text/plain": [
       "<Figure size 432x288 with 1 Axes>"
      ]
     },
     "metadata": {
      "tags": [],
      "needs_background": "light"
     }
    }
   ]
  },
  {
   "cell_type": "code",
   "metadata": {
    "id": "FQjjOMJOc1dJ",
    "colab_type": "code",
    "colab": {
     "base_uri": "https://localhost:8080/",
     "height": 284
    },
    "executionInfo": {
     "status": "ok",
     "timestamp": 1598993912266,
     "user_tz": -180,
     "elapsed": 659,
     "user": {
      "displayName": "Москаленко В'ячеслав Васильович",
      "photoUrl": "https://lh3.googleusercontent.com/a-/AOh14GiN6Jzqki0z69x3j5PLOje08fXCxR7L_CW7QtyNXg=s64",
      "userId": "09799116143807457878"
     }
    },
    "outputId": "df4e3c58-9cb4-4b21-88a2-4c515faf891a"
   },
   "source": [
    "plt.plot(x, y, 'o')  # dot plot    "
   ],
   "execution_count": null,
   "outputs": [
    {
     "output_type": "execute_result",
     "data": {
      "text/plain": [
       "[<matplotlib.lines.Line2D at 0x7fa163d380b8>]"
      ]
     },
     "metadata": {
      "tags": []
     },
     "execution_count": 45
    },
    {
     "output_type": "display_data",
     "data": {
      "image/png": "[encoded data removed]",
      "text/plain": [
       "<Figure size 432x288 with 1 Axes>"
      ]
     },
     "metadata": {
      "tags": [],
      "needs_background": "light"
     }
    }
   ]
  },
  {
   "cell_type": "markdown",
   "metadata": {
    "id": "Dst_Xw0Bc1dN",
    "colab_type": "text"
   },
   "source": [
    "- Відображення двохвимірних масивів (наприклад, зображень):\n"
   ]
  },
  {
   "cell_type": "code",
   "metadata": {
    "id": "6P2C89ebc1dN",
    "colab_type": "code",
    "colab": {
     "base_uri": "https://localhost:8080/",
     "height": 285
    },
    "executionInfo": {
     "status": "ok",
     "timestamp": 1599005675914,
     "user_tz": -180,
     "elapsed": 1047,
     "user": {
      "displayName": "Москаленко В'ячеслав Васильович",
      "photoUrl": "https://lh3.googleusercontent.com/a-/AOh14GiN6Jzqki0z69x3j5PLOje08fXCxR7L_CW7QtyNXg=s64",
      "userId": "09799116143807457878"
     }
    },
    "outputId": "be2cd429-c982-44c8-c2b3-9af5ae3b16aa"
   },
   "source": [
    "image = np.random.rand(30, 30)\n",
    "plt.imshow(image, cmap=plt.cm.hot)    \n",
    "plt.colorbar()    "
   ],
   "execution_count": 121,
   "outputs": [
    {
     "output_type": "execute_result",
     "data": {
      "text/plain": [
       "<matplotlib.colorbar.Colorbar at 0x7fa162e709b0>"
      ]
     },
     "metadata": {
      "tags": []
     },
     "execution_count": 121
    },
    {
     "output_type": "display_data",
     "data": {
      "image/png": "[encoded data removed]",
      "text/plain": [
       "<Figure size 432x288 with 2 Axes>"
      ]
     },
     "metadata": {
      "tags": [],
      "needs_background": "light"
     }
    }
   ]
  },
  {
   "cell_type": "markdown",
   "metadata": {
    "id": "PjDP7hN4c1dR",
    "colab_type": "text"
   },
   "source": [
    "## Індексування масивів і зрізи"
   ]
  },
  {
   "cell_type": "markdown",
   "metadata": {
    "id": "Pn5taPyIc1dS",
    "colab_type": "text"
   },
   "source": [
    "В цілому так само, як з вбудованими послідовностями Python (наприклад, як зі списками).\n"
   ]
  },
  {
   "cell_type": "code",
   "metadata": {
    "id": "XNMIDdsDc1dS",
    "colab_type": "code",
    "colab": {
     "base_uri": "https://localhost:8080/",
     "height": 36
    },
    "executionInfo": {
     "status": "ok",
     "timestamp": 1598993922532,
     "user_tz": -180,
     "elapsed": 660,
     "user": {
      "displayName": "Москаленко В'ячеслав Васильович",
      "photoUrl": "https://lh3.googleusercontent.com/a-/AOh14GiN6Jzqki0z69x3j5PLOje08fXCxR7L_CW7QtyNXg=s64",
      "userId": "09799116143807457878"
     }
    },
    "outputId": "54817130-3966-4cdb-f623-cb99b4c5725c"
   },
   "source": [
    "a = np.arange(10)\n",
    "a"
   ],
   "execution_count": null,
   "outputs": [
    {
     "output_type": "execute_result",
     "data": {
      "text/plain": [
       "array([0, 1, 2, 3, 4, 5, 6, 7, 8, 9])"
      ]
     },
     "metadata": {
      "tags": []
     },
     "execution_count": 47
    }
   ]
  },
  {
   "cell_type": "code",
   "metadata": {
    "id": "oEqDR3FNc1dV",
    "colab_type": "code",
    "colab": {
     "base_uri": "https://localhost:8080/",
     "height": 36
    },
    "executionInfo": {
     "status": "ok",
     "timestamp": 1598993926310,
     "user_tz": -180,
     "elapsed": 791,
     "user": {
      "displayName": "Москаленко В'ячеслав Васильович",
      "photoUrl": "https://lh3.googleusercontent.com/a-/AOh14GiN6Jzqki0z69x3j5PLOje08fXCxR7L_CW7QtyNXg=s64",
      "userId": "09799116143807457878"
     }
    },
    "outputId": "cdf12cd4-6ba6-4845-a18a-dde08d91b593"
   },
   "source": [
    "a[0], a[2], a[-1]"
   ],
   "execution_count": null,
   "outputs": [
    {
     "output_type": "execute_result",
     "data": {
      "text/plain": [
       "(0, 2, 9)"
      ]
     },
     "metadata": {
      "tags": []
     },
     "execution_count": 48
    }
   ]
  },
  {
   "cell_type": "markdown",
   "metadata": {
    "id": "79Doza2uc1dX",
    "colab_type": "text"
   },
   "source": [
    "Працює і популярний в Python спосіб відображення масиву:\n"
   ]
  },
  {
   "cell_type": "code",
   "metadata": {
    "id": "_q8zBMosc1dY",
    "colab_type": "code",
    "colab": {
     "base_uri": "https://localhost:8080/",
     "height": 36
    },
    "executionInfo": {
     "status": "ok",
     "timestamp": 1598993929572,
     "user_tz": -180,
     "elapsed": 615,
     "user": {
      "displayName": "Москаленко В'ячеслав Васильович",
      "photoUrl": "https://lh3.googleusercontent.com/a-/AOh14GiN6Jzqki0z69x3j5PLOje08fXCxR7L_CW7QtyNXg=s64",
      "userId": "09799116143807457878"
     }
    },
    "outputId": "f9e3f5c8-0a44-4f08-db26-7c91731d5f63"
   },
   "source": [
    "a[::-1]"
   ],
   "execution_count": null,
   "outputs": [
    {
     "output_type": "execute_result",
     "data": {
      "text/plain": [
       "array([9, 8, 7, 6, 5, 4, 3, 2, 1, 0])"
      ]
     },
     "metadata": {
      "tags": []
     },
     "execution_count": 49
    }
   ]
  },
  {
   "cell_type": "markdown",
   "metadata": {
    "id": "dTqp_TZBc1db",
    "colab_type": "text"
   },
   "source": [
    "Для багатовимірних масивів індекси - це кортежі цілих чисел"
   ]
  },
  {
   "cell_type": "code",
   "metadata": {
    "id": "Xk_N8dXuc1db",
    "colab_type": "code",
    "colab": {
     "base_uri": "https://localhost:8080/",
     "height": 73
    },
    "executionInfo": {
     "status": "ok",
     "timestamp": 1599005759449,
     "user_tz": -180,
     "elapsed": 652,
     "user": {
      "displayName": "Москаленко В'ячеслав Васильович",
      "photoUrl": "https://lh3.googleusercontent.com/a-/AOh14GiN6Jzqki0z69x3j5PLOje08fXCxR7L_CW7QtyNXg=s64",
      "userId": "09799116143807457878"
     }
    },
    "outputId": "a64c75a5-0f6e-4dac-af67-57a590065b31"
   },
   "source": [
    "a = np.diag(np.arange(3))\n",
    "a"
   ],
   "execution_count": 122,
   "outputs": [
    {
     "output_type": "execute_result",
     "data": {
      "text/plain": [
       "array([[0, 0, 0],\n",
       "       [0, 1, 0],\n",
       "       [0, 0, 2]])"
      ]
     },
     "metadata": {
      "tags": []
     },
     "execution_count": 122
    }
   ]
  },
  {
   "cell_type": "code",
   "metadata": {
    "id": "4fie_XaDc1df",
    "colab_type": "code",
    "colab": {
     "base_uri": "https://localhost:8080/",
     "height": 36
    },
    "executionInfo": {
     "status": "ok",
     "timestamp": 1599005779996,
     "user_tz": -180,
     "elapsed": 963,
     "user": {
      "displayName": "Москаленко В'ячеслав Васильович",
      "photoUrl": "https://lh3.googleusercontent.com/a-/AOh14GiN6Jzqki0z69x3j5PLOje08fXCxR7L_CW7QtyNXg=s64",
      "userId": "09799116143807457878"
     }
    },
    "outputId": "77230b36-a504-40f8-da52-b356252ed048"
   },
   "source": [
    "a[1, 1]"
   ],
   "execution_count": 124,
   "outputs": [
    {
     "output_type": "execute_result",
     "data": {
      "text/plain": [
       "1"
      ]
     },
     "metadata": {
      "tags": []
     },
     "execution_count": 124
    }
   ]
  },
  {
   "cell_type": "code",
   "metadata": {
    "id": "pyRAP-EGc1dh",
    "colab_type": "code",
    "colab": {
     "base_uri": "https://localhost:8080/",
     "height": 73
    },
    "executionInfo": {
     "status": "ok",
     "timestamp": 1599005808185,
     "user_tz": -180,
     "elapsed": 629,
     "user": {
      "displayName": "Москаленко В'ячеслав Васильович",
      "photoUrl": "https://lh3.googleusercontent.com/a-/AOh14GiN6Jzqki0z69x3j5PLOje08fXCxR7L_CW7QtyNXg=s64",
      "userId": "09799116143807457878"
     }
    },
    "outputId": "4be90b11-f176-4176-dffd-a227e3083d3f"
   },
   "source": [
    "a[2, 1] = 10 # third line, second column\n",
    "a"
   ],
   "execution_count": 125,
   "outputs": [
    {
     "output_type": "execute_result",
     "data": {
      "text/plain": [
       "array([[ 0,  0,  0],\n",
       "       [ 0,  1,  0],\n",
       "       [ 0, 10,  2]])"
      ]
     },
     "metadata": {
      "tags": []
     },
     "execution_count": 125
    }
   ]
  },
  {
   "cell_type": "code",
   "metadata": {
    "id": "QVnhod-Gc1dk",
    "colab_type": "code",
    "colab": {
     "base_uri": "https://localhost:8080/",
     "height": 36
    },
    "executionInfo": {
     "status": "ok",
     "timestamp": 1599005817419,
     "user_tz": -180,
     "elapsed": 601,
     "user": {
      "displayName": "Москаленко В'ячеслав Васильович",
      "photoUrl": "https://lh3.googleusercontent.com/a-/AOh14GiN6Jzqki0z69x3j5PLOje08fXCxR7L_CW7QtyNXg=s64",
      "userId": "09799116143807457878"
     }
    },
    "outputId": "324f2b9f-170f-4011-c66b-fbfae2cca369"
   },
   "source": [
    "a[1]"
   ],
   "execution_count": 126,
   "outputs": [
    {
     "output_type": "execute_result",
     "data": {
      "text/plain": [
       "array([0, 1, 0])"
      ]
     },
     "metadata": {
      "tags": []
     },
     "execution_count": 126
    }
   ]
  },
  {
   "cell_type": "markdown",
   "metadata": {
    "id": "rNeV-sN_c1dm",
    "colab_type": "text"
   },
   "source": [
    "**Зрізи**"
   ]
  },
  {
   "cell_type": "code",
   "metadata": {
    "id": "u8SzCSS-c1dm",
    "colab_type": "code",
    "colab": {
     "base_uri": "https://localhost:8080/",
     "height": 36
    },
    "executionInfo": {
     "status": "ok",
     "timestamp": 1599005836776,
     "user_tz": -180,
     "elapsed": 612,
     "user": {
      "displayName": "Москаленко В'ячеслав Васильович",
      "photoUrl": "https://lh3.googleusercontent.com/a-/AOh14GiN6Jzqki0z69x3j5PLOje08fXCxR7L_CW7QtyNXg=s64",
      "userId": "09799116143807457878"
     }
    },
    "outputId": "9254ac89-aa9b-4434-85bd-3e0d5ca7d89c"
   },
   "source": [
    "a = np.arange(10)\n",
    "a"
   ],
   "execution_count": 127,
   "outputs": [
    {
     "output_type": "execute_result",
     "data": {
      "text/plain": [
       "array([0, 1, 2, 3, 4, 5, 6, 7, 8, 9])"
      ]
     },
     "metadata": {
      "tags": []
     },
     "execution_count": 127
    }
   ]
  },
  {
   "cell_type": "code",
   "metadata": {
    "id": "aNMNzyfoc1do",
    "colab_type": "code",
    "colab": {},
    "outputId": "c6e27436-3ab9-424e-beb8-8cee302c82d7"
   },
   "source": [
    "a[2:9:3] # [start:end:step]"
   ],
   "execution_count": null,
   "outputs": [
    {
     "output_type": "execute_result",
     "data": {
      "text/plain": [
       "array([2, 5, 8])"
      ]
     },
     "metadata": {
      "tags": []
     },
     "execution_count": 54
    }
   ]
  },
  {
   "cell_type": "markdown",
   "metadata": {
    "id": "1UviC1zcc1dr",
    "colab_type": "text"
   },
   "source": [
    "Останній індекс не включається"
   ]
  },
  {
   "cell_type": "code",
   "metadata": {
    "id": "oBYQLJ6Zc1dr",
    "colab_type": "code",
    "colab": {
     "base_uri": "https://localhost:8080/",
     "height": 36
    },
    "executionInfo": {
     "status": "ok",
     "timestamp": 1598993947519,
     "user_tz": -180,
     "elapsed": 665,
     "user": {
      "displayName": "Москаленко В'ячеслав Васильович",
      "photoUrl": "https://lh3.googleusercontent.com/a-/AOh14GiN6Jzqki0z69x3j5PLOje08fXCxR7L_CW7QtyNXg=s64",
      "userId": "09799116143807457878"
     }
    },
    "outputId": "45f2fc3c-bc6f-4088-d1ed-d801852b5fc0"
   },
   "source": [
    "a[:4]"
   ],
   "execution_count": null,
   "outputs": [
    {
     "output_type": "execute_result",
     "data": {
      "text/plain": [
       "array([0, 1, 2, 3])"
      ]
     },
     "metadata": {
      "tags": []
     },
     "execution_count": 55
    }
   ]
  },
  {
   "cell_type": "markdown",
   "metadata": {
    "id": "qdNcm5AHc1du",
    "colab_type": "text"
   },
   "source": [
    "За замовчуванням \\`start\\` -  0,\n",
    "\\`end\\` - індекс останнього елемента, \\`step\\` - 1:\n"
   ]
  },
  {
   "cell_type": "code",
   "metadata": {
    "id": "Pt6clm-Bc1du",
    "colab_type": "code",
    "colab": {
     "base_uri": "https://localhost:8080/",
     "height": 36
    },
    "executionInfo": {
     "status": "ok",
     "timestamp": 1598993951318,
     "user_tz": -180,
     "elapsed": 771,
     "user": {
      "displayName": "Москаленко В'ячеслав Васильович",
      "photoUrl": "https://lh3.googleusercontent.com/a-/AOh14GiN6Jzqki0z69x3j5PLOje08fXCxR7L_CW7QtyNXg=s64",
      "userId": "09799116143807457878"
     }
    },
    "outputId": "03965c3f-fb79-43b7-9910-11d9ae34b137"
   },
   "source": [
    "a[1:3]"
   ],
   "execution_count": null,
   "outputs": [
    {
     "output_type": "execute_result",
     "data": {
      "text/plain": [
       "array([1, 2])"
      ]
     },
     "metadata": {
      "tags": []
     },
     "execution_count": 56
    }
   ]
  },
  {
   "cell_type": "code",
   "metadata": {
    "id": "BC86JQ6Vc1dx",
    "colab_type": "code",
    "colab": {
     "base_uri": "https://localhost:8080/",
     "height": 36
    },
    "executionInfo": {
     "status": "ok",
     "timestamp": 1599005938965,
     "user_tz": -180,
     "elapsed": 662,
     "user": {
      "displayName": "Москаленко В'ячеслав Васильович",
      "photoUrl": "https://lh3.googleusercontent.com/a-/AOh14GiN6Jzqki0z69x3j5PLOje08fXCxR7L_CW7QtyNXg=s64",
      "userId": "09799116143807457878"
     }
    },
    "outputId": "c65b9aeb-8bd8-4ffb-ba33-f6e5e1557c39"
   },
   "source": [
    "a[::2]"
   ],
   "execution_count": 128,
   "outputs": [
    {
     "output_type": "execute_result",
     "data": {
      "text/plain": [
       "array([0, 2, 4, 6, 8])"
      ]
     },
     "metadata": {
      "tags": []
     },
     "execution_count": 128
    }
   ]
  },
  {
   "cell_type": "code",
   "metadata": {
    "id": "ujVmITkKc1dy",
    "colab_type": "code",
    "colab": {
     "base_uri": "https://localhost:8080/",
     "height": 36
    },
    "executionInfo": {
     "status": "ok",
     "timestamp": 1599005946720,
     "user_tz": -180,
     "elapsed": 656,
     "user": {
      "displayName": "Москаленко В'ячеслав Васильович",
      "photoUrl": "https://lh3.googleusercontent.com/a-/AOh14GiN6Jzqki0z69x3j5PLOje08fXCxR7L_CW7QtyNXg=s64",
      "userId": "09799116143807457878"
     }
    },
    "outputId": "db0b17d5-409d-4dc3-fd25-66eac3a07b46"
   },
   "source": [
    "a[3:]"
   ],
   "execution_count": 129,
   "outputs": [
    {
     "output_type": "execute_result",
     "data": {
      "text/plain": [
       "array([3, 4, 5, 6, 7, 8, 9])"
      ]
     },
     "metadata": {
      "tags": []
     },
     "execution_count": 129
    }
   ]
  },
  {
   "cell_type": "markdown",
   "metadata": {
    "id": "VkSDP5mzc1d0",
    "colab_type": "text"
   },
   "source": [
    "Можна поєднувати присвоювання і сріз:\n"
   ]
  },
  {
   "cell_type": "code",
   "metadata": {
    "id": "N3FPH4wPc1d0",
    "colab_type": "code",
    "colab": {
     "base_uri": "https://localhost:8080/",
     "height": 36
    },
    "executionInfo": {
     "status": "ok",
     "timestamp": 1598993970767,
     "user_tz": -180,
     "elapsed": 702,
     "user": {
      "displayName": "Москаленко В'ячеслав Васильович",
      "photoUrl": "https://lh3.googleusercontent.com/a-/AOh14GiN6Jzqki0z69x3j5PLOje08fXCxR7L_CW7QtyNXg=s64",
      "userId": "09799116143807457878"
     }
    },
    "outputId": "1d04e126-cb54-417a-e04e-d67a03f06adb"
   },
   "source": [
    "a = np.arange(10)\n",
    "a[5:] = 10\n",
    "a"
   ],
   "execution_count": null,
   "outputs": [
    {
     "output_type": "execute_result",
     "data": {
      "text/plain": [
       "array([ 0,  1,  2,  3,  4, 10, 10, 10, 10, 10])"
      ]
     },
     "metadata": {
      "tags": []
     },
     "execution_count": 59
    }
   ]
  },
  {
   "cell_type": "code",
   "metadata": {
    "id": "4OrqAXtEc1d4",
    "colab_type": "code",
    "colab": {
     "base_uri": "https://localhost:8080/",
     "height": 36
    },
    "executionInfo": {
     "status": "ok",
     "timestamp": 1598993973495,
     "user_tz": -180,
     "elapsed": 661,
     "user": {
      "displayName": "Москаленко В'ячеслав Васильович",
      "photoUrl": "https://lh3.googleusercontent.com/a-/AOh14GiN6Jzqki0z69x3j5PLOje08fXCxR7L_CW7QtyNXg=s64",
      "userId": "09799116143807457878"
     }
    },
    "outputId": "590a3e69-cc83-48c2-d3bc-0d3c29367b9c"
   },
   "source": [
    "b = np.arange(5)\n",
    "a[5:] = b[::-1]\n",
    "a"
   ],
   "execution_count": null,
   "outputs": [
    {
     "output_type": "execute_result",
     "data": {
      "text/plain": [
       "array([0, 1, 2, 3, 4, 4, 3, 2, 1, 0])"
      ]
     },
     "metadata": {
      "tags": []
     },
     "execution_count": 60
    }
   ]
  },
  {
   "cell_type": "markdown",
   "metadata": {
    "id": "jToEXzi5c1d6",
    "colab_type": "text"
   },
   "source": [
    "## Індексація масками"
   ]
  },
  {
   "cell_type": "code",
   "metadata": {
    "id": "3UDzbQ1zc1d6",
    "colab_type": "code",
    "colab": {
     "base_uri": "https://localhost:8080/",
     "height": 73
    },
    "executionInfo": {
     "status": "ok",
     "timestamp": 1599005961763,
     "user_tz": -180,
     "elapsed": 659,
     "user": {
      "displayName": "Москаленко В'ячеслав Васильович",
      "photoUrl": "https://lh3.googleusercontent.com/a-/AOh14GiN6Jzqki0z69x3j5PLOje08fXCxR7L_CW7QtyNXg=s64",
      "userId": "09799116143807457878"
     }
    },
    "outputId": "07852e7e-6c88-4064-8bc0-8ef814ae0db4"
   },
   "source": [
    "np.random.seed(3)\n",
    "a = np.random.random_integers(0, 20, 15)  #low, high, size\n",
    "a"
   ],
   "execution_count": 130,
   "outputs": [
    {
     "output_type": "stream",
     "text": [
      "/usr/local/lib/python3.6/dist-packages/ipykernel_launcher.py:2: DeprecationWarning: This function is deprecated. Please call randint(0, 20 + 1) instead\n",
      "  \n"
     ],
     "name": "stderr"
    },
    {
     "output_type": "execute_result",
     "data": {
      "text/plain": [
       "array([10,  3,  8,  0, 19, 10, 11,  9, 10,  6,  0, 20, 12,  7, 14])"
      ]
     },
     "metadata": {
      "tags": []
     },
     "execution_count": 130
    }
   ]
  },
  {
   "cell_type": "code",
   "metadata": {
    "id": "IkOqsVNic1d9",
    "colab_type": "code",
    "colab": {
     "base_uri": "https://localhost:8080/",
     "height": 54
    },
    "executionInfo": {
     "status": "ok",
     "timestamp": 1599005980513,
     "user_tz": -180,
     "elapsed": 650,
     "user": {
      "displayName": "Москаленко В'ячеслав Васильович",
      "photoUrl": "https://lh3.googleusercontent.com/a-/AOh14GiN6Jzqki0z69x3j5PLOje08fXCxR7L_CW7QtyNXg=s64",
      "userId": "09799116143807457878"
     }
    },
    "outputId": "96f6798d-1627-4b94-ba6e-1c45687aa69f"
   },
   "source": [
    "(a % 3 == 0)"
   ],
   "execution_count": 131,
   "outputs": [
    {
     "output_type": "execute_result",
     "data": {
      "text/plain": [
       "array([False,  True, False,  True, False, False, False,  True, False,\n",
       "        True,  True, False,  True, False, False])"
      ]
     },
     "metadata": {
      "tags": []
     },
     "execution_count": 131
    }
   ]
  },
  {
   "cell_type": "code",
   "metadata": {
    "id": "ghLdUmw9c1eF",
    "colab_type": "code",
    "colab": {
     "base_uri": "https://localhost:8080/",
     "height": 36
    },
    "executionInfo": {
     "status": "ok",
     "timestamp": 1598993982088,
     "user_tz": -180,
     "elapsed": 696,
     "user": {
      "displayName": "Москаленко В'ячеслав Васильович",
      "photoUrl": "https://lh3.googleusercontent.com/a-/AOh14GiN6Jzqki0z69x3j5PLOje08fXCxR7L_CW7QtyNXg=s64",
      "userId": "09799116143807457878"
     }
    },
    "outputId": "205f50f1-7da1-4b2c-9e63-a8b6ebc734e5"
   },
   "source": [
    "mask = (a % 3 == 0)\n",
    "extract_from_a = a[mask] # or,  a[a%3==0]\n",
    "extract_from_a           # extract a sub-array with the mask"
   ],
   "execution_count": null,
   "outputs": [
    {
     "output_type": "execute_result",
     "data": {
      "text/plain": [
       "array([ 3,  0,  9,  6,  0, 12])"
      ]
     },
     "metadata": {
      "tags": []
     },
     "execution_count": 63
    }
   ]
  },
  {
   "cell_type": "markdown",
   "metadata": {
    "id": "6xbQaJmEc1eG",
    "colab_type": "text"
   },
   "source": [
    "Індексація маскою може бути дуже корисною для присвоювання значень частині елементів масиву:\n"
   ]
  },
  {
   "cell_type": "code",
   "metadata": {
    "id": "vt-tGCqHc1eH",
    "colab_type": "code",
    "colab": {
     "base_uri": "https://localhost:8080/",
     "height": 36
    },
    "executionInfo": {
     "status": "ok",
     "timestamp": 1598993984154,
     "user_tz": -180,
     "elapsed": 525,
     "user": {
      "displayName": "Москаленко В'ячеслав Васильович",
      "photoUrl": "https://lh3.googleusercontent.com/a-/AOh14GiN6Jzqki0z69x3j5PLOje08fXCxR7L_CW7QtyNXg=s64",
      "userId": "09799116143807457878"
     }
    },
    "outputId": "e59e6710-2ab8-48d1-f6a2-314409a17708"
   },
   "source": [
    "a[a % 3 == 0] = -1\n",
    "a"
   ],
   "execution_count": null,
   "outputs": [
    {
     "output_type": "execute_result",
     "data": {
      "text/plain": [
       "array([10, -1,  8, -1, 19, 10, 11, -1, 10, -1, -1, 20, -1,  7, 14])"
      ]
     },
     "metadata": {
      "tags": []
     },
     "execution_count": 64
    }
   ]
  },
  {
   "cell_type": "markdown",
   "metadata": {
    "id": "tki0FpcMc1eJ",
    "colab_type": "text"
   },
   "source": [
    "### Індексація масивом цілих чисел"
   ]
  },
  {
   "cell_type": "code",
   "metadata": {
    "id": "K8lvDarsc1eJ",
    "colab_type": "code",
    "colab": {
     "base_uri": "https://localhost:8080/",
     "height": 36
    },
    "executionInfo": {
     "status": "ok",
     "timestamp": 1598993987543,
     "user_tz": -180,
     "elapsed": 664,
     "user": {
      "displayName": "Москаленко В'ячеслав Васильович",
      "photoUrl": "https://lh3.googleusercontent.com/a-/AOh14GiN6Jzqki0z69x3j5PLOje08fXCxR7L_CW7QtyNXg=s64",
      "userId": "09799116143807457878"
     }
    },
    "outputId": "fa014cdd-eb73-40a5-e2e2-de3d8d539e26"
   },
   "source": [
    "a = np.arange(0, 100, 10)\n",
    "a"
   ],
   "execution_count": null,
   "outputs": [
    {
     "output_type": "execute_result",
     "data": {
      "text/plain": [
       "array([ 0, 10, 20, 30, 40, 50, 60, 70, 80, 90])"
      ]
     },
     "metadata": {
      "tags": []
     },
     "execution_count": 65
    }
   ]
  },
  {
   "cell_type": "code",
   "metadata": {
    "id": "J1_U23sDc1eM",
    "colab_type": "code",
    "colab": {
     "base_uri": "https://localhost:8080/",
     "height": 36
    },
    "executionInfo": {
     "status": "ok",
     "timestamp": 1598993990123,
     "user_tz": -180,
     "elapsed": 663,
     "user": {
      "displayName": "Москаленко В'ячеслав Васильович",
      "photoUrl": "https://lh3.googleusercontent.com/a-/AOh14GiN6Jzqki0z69x3j5PLOje08fXCxR7L_CW7QtyNXg=s64",
      "userId": "09799116143807457878"
     }
    },
    "outputId": "65320f7b-f39f-4368-e5c4-8c3dc3f79fdd"
   },
   "source": [
    "a[[2, 3, 2, 4, 2]]  # note: [2, 3, 2, 4, 2] is a Python list"
   ],
   "execution_count": null,
   "outputs": [
    {
     "output_type": "execute_result",
     "data": {
      "text/plain": [
       "array([20, 30, 20, 40, 20])"
      ]
     },
     "metadata": {
      "tags": []
     },
     "execution_count": 66
    }
   ]
  },
  {
   "cell_type": "code",
   "metadata": {
    "id": "EWaqR11Cc1eN",
    "colab_type": "code",
    "colab": {
     "base_uri": "https://localhost:8080/",
     "height": 36
    },
    "executionInfo": {
     "status": "ok",
     "timestamp": 1598993992337,
     "user_tz": -180,
     "elapsed": 633,
     "user": {
      "displayName": "Москаленко В'ячеслав Васильович",
      "photoUrl": "https://lh3.googleusercontent.com/a-/AOh14GiN6Jzqki0z69x3j5PLOje08fXCxR7L_CW7QtyNXg=s64",
      "userId": "09799116143807457878"
     }
    },
    "outputId": "651954c3-b59e-4eb2-cd5f-bb35cc1ead4c"
   },
   "source": [
    "a[[9, 7]] = -100\n",
    "a"
   ],
   "execution_count": null,
   "outputs": [
    {
     "output_type": "execute_result",
     "data": {
      "text/plain": [
       "array([   0,   10,   20,   30,   40,   50,   60, -100,   80, -100])"
      ]
     },
     "metadata": {
      "tags": []
     },
     "execution_count": 67
    }
   ]
  },
  {
   "cell_type": "code",
   "metadata": {
    "id": "FB7C7JFLc1eR",
    "colab_type": "code",
    "colab": {
     "base_uri": "https://localhost:8080/",
     "height": 36
    },
    "executionInfo": {
     "status": "ok",
     "timestamp": 1598993996410,
     "user_tz": -180,
     "elapsed": 645,
     "user": {
      "displayName": "Москаленко В'ячеслав Васильович",
      "photoUrl": "https://lh3.googleusercontent.com/a-/AOh14GiN6Jzqki0z69x3j5PLOje08fXCxR7L_CW7QtyNXg=s64",
      "userId": "09799116143807457878"
     }
    },
    "outputId": "5eab24a2-56ab-42a8-e296-6617b7b3578d"
   },
   "source": [
    "a = np.arange(10)\n",
    "idx = np.array([[3, 4], [9, 7]])\n",
    "idx.shape"
   ],
   "execution_count": null,
   "outputs": [
    {
     "output_type": "execute_result",
     "data": {
      "text/plain": [
       "(2, 2)"
      ]
     },
     "metadata": {
      "tags": []
     },
     "execution_count": 68
    }
   ]
  },
  {
   "cell_type": "code",
   "metadata": {
    "id": "SklA1z_ic1eS",
    "colab_type": "code",
    "colab": {
     "base_uri": "https://localhost:8080/",
     "height": 54
    },
    "executionInfo": {
     "status": "ok",
     "timestamp": 1598993996733,
     "user_tz": -180,
     "elapsed": 536,
     "user": {
      "displayName": "Москаленко В'ячеслав Васильович",
      "photoUrl": "https://lh3.googleusercontent.com/a-/AOh14GiN6Jzqki0z69x3j5PLOje08fXCxR7L_CW7QtyNXg=s64",
      "userId": "09799116143807457878"
     }
    },
    "outputId": "7420630f-9244-46a8-c401-a5fa75ce0c17"
   },
   "source": [
    "a[idx]"
   ],
   "execution_count": null,
   "outputs": [
    {
     "output_type": "execute_result",
     "data": {
      "text/plain": [
       "array([[3, 4],\n",
       "       [9, 7]])"
      ]
     },
     "metadata": {
      "tags": []
     },
     "execution_count": 69
    }
   ]
  }
 ]
}