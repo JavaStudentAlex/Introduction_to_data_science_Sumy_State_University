{
 "nbformat": 4,
 "nbformat_minor": 0,
 "metadata": {
  "anaconda-cloud": {},
  "kernelspec": {
   "display_name": "Python 3",
   "language": "python",
   "name": "python3"
  },
  "language_info": {
   "codemirror_mode": {
    "name": "ipython",
    "version": 3
   },
   "file_extension": ".py",
   "mimetype": "text/x-python",
   "name": "python",
   "nbconvert_exporter": "python",
   "pygments_lexer": "ipython3",
   "version": "3.6.8"
  },
  "colab": {
   "name": "lab1_pandas_salary.ipynb",
   "provenance": [],
   "collapsed_sections": []
  }
 },
 "cells": [
  {
   "cell_type": "markdown",
   "metadata": {
    "id": "5zBRFzL2_2FC",
    "colab_type": "text"
   },
   "source": [
    "\n",
    "\n",
    "\n",
    "# <center>Лабораторна робота № 1.<br> Аналіз даних про доходи населення</center>\n"
   ]
  },
  {
   "cell_type": "markdown",
   "metadata": {
    "id": "z6R90pid_2FG",
    "colab_type": "text"
   },
   "source": [
    "**В завданні пропонується за допомогою Pandas відповісти на декілька питань за даними репозиторія UCI [Adult](https://archive.ics.uci.edu/ml/datasets/Adult) (качати дані не потрібно – вони вже є в директорії роботи). "
   ]
  },
  {
   "cell_type": "markdown",
   "metadata": {
    "id": "MxwkytrV_2FI",
    "colab_type": "text"
   },
   "source": [
    "Унікальні значення ознак (більше інформації за посиланням вище):\n",
    "- age: continuous.\n",
    "- workclass: Private, Self-emp-not-inc, Self-emp-inc, Federal-gov, Local-gov, State-gov, Without-pay, Never-worked.\n",
    "- fnlwgt: continuous.\n",
    "- education: Bachelors, Some-college, 11th, HS-grad, Prof-school, Assoc-acdm, Assoc-voc, 9th, 7th-8th, 12th, Masters, 1st-4th, 10th, Doctorate, 5th-6th, Preschool.\n",
    "- education-num: continuous.\n",
    "- marital-status: Married-civ-spouse, Divorced, Never-married, Separated, Widowed, Married-spouse-absent, Married-AF-spouse.\n",
    "- occupation: Tech-support, Craft-repair, Other-service, Sales, Exec-managerial, Prof-specialty, Handlers-cleaners, Machine-op-inspct, Adm-clerical, Farming-fishing, Transport-moving, Priv-house-serv, Protective-serv, Armed-Forces.\n",
    "- relationship: Wife, Own-child, Husband, Not-in-family, Other-relative, Unmarried.\n",
    "- race: White, Asian-Pac-Islander, Amer-Indian-Eskimo, Other, Black.\n",
    "- sex: Female, Male.\n",
    "- capital-gain: continuous.\n",
    "- capital-loss: continuous.\n",
    "- hours-per-week: continuous.\n",
    "- native-country: United-States, Cambodia, England, Puerto-Rico, Canada, Germany, Outlying-US(Guam-USVI-etc), India, Japan, Greece, South, China, Cuba, Iran, Honduras, Philippines, Italy, Poland, Jamaica, Vietnam, Mexico, Portugal, Ireland, France, Dominican-Republic, Laos, Ecuador, Taiwan, Haiti, Columbia, Hungary, Guatemala, Nicaragua, Scotland, Thailand, Yugoslavia, El-Salvador, Trinadad&Tobago, Peru, Hong, Holand-Netherlands.   \n",
    "- salary: >50K,<=50K"
   ]
  },
  {
   "cell_type": "code",
   "metadata": {
    "id": "dAcRofrV_2FL",
    "colab_type": "code",
    "colab": {}
   },
   "source": [
    "import pandas as pd"
   ],
   "execution_count": 13,
   "outputs": []
  },
  {
   "cell_type": "markdown",
   "metadata": {
    "id": "istSW2ZaACJD",
    "colab_type": "text"
   },
   "source": [
    "**Доступ до даних на google drive**, якщо ви відкриваєте блокнот в **google colab**, а не на PC, можна отримати шляхом монтування google drive"
   ]
  },
  {
   "cell_type": "code",
   "metadata": {
    "id": "puWeWbjjADw7",
    "colab_type": "code",
    "colab": {}
   },
   "source": [
    "#Uncomment if use in google collab\n",
    "\"\"\"\n",
    "!pip install google-colab\n",
    "!pip install pydrive\n",
    "\"\"\""
   ],
   "execution_count": 18,
   "outputs": []
  },
  {
   "cell_type": "code",
   "execution_count": null,
   "outputs": [],
   "source": [
    "\"\"\"\n",
    "from pydrive.auth import GoogleAuth\n",
    "from pydrive.drive import GoogleDrive\n",
    "from google.colab import auth\n",
    "from oauth2client.client import GoogleCredentials\n",
    "auth.authenticate_user()\n",
    "gauth = GoogleAuth()\n",
    "gauth.credentials = GoogleCredentials.get_application_default()\n",
    "drive = GoogleDrive(gauth)\n",
    "\"\"\""
   ],
   "metadata": {
    "collapsed": false,
    "pycharm": {
     "name": "#%%\n"
    }
   }
  },
  {
   "cell_type": "code",
   "metadata": {
    "id": "GsUQGVduASh6",
    "colab_type": "code",
    "colab": {}
   },
   "source": [
    "\"\"\"\n",
    "downloaded = drive.CreateFile({'id':\"1COLYIjDyfc6FTuTYEv-oi8fVNfF3Lmb-\"})   \n",
    "downloaded.GetContentFile('adult.data.csv')\n",
    "\"\"\""
   ],
   "execution_count": 19,
   "outputs": []
  },
  {
   "cell_type": "code",
   "metadata": {
    "id": "7TKPKYri_2FZ",
    "colab_type": "code",
    "colab": {
     "base_uri": "https://localhost:8080/",
     "height": 204
    },
    "outputId": "89da6426-7dbc-4868-9087-bcb1cbd77b4e"
   },
   "source": [
    "#Use if adlt.data.csv is local, comment if in google collab\n",
    "data = pd.read_csv('adult.data.csv')\n",
    "data.head()"
   ],
   "execution_count": 20,
   "outputs": [
    {
     "output_type": "execute_result",
     "data": {
      "text/html": [
       "<div>\n",
       "<style scoped>\n",
       "    .dataframe tbody tr th:only-of-type {\n",
       "        vertical-align: middle;\n",
       "    }\n",
       "\n",
       "    .dataframe tbody tr th {\n",
       "        vertical-align: top;\n",
       "    }\n",
       "\n",
       "    .dataframe thead th {\n",
       "        text-align: right;\n",
       "    }\n",
       "</style>\n",
       "<table border=\"1\" class=\"dataframe\">\n",
       "  <thead>\n",
       "    <tr style=\"text-align: right;\">\n",
       "      <th></th>\n",
       "      <th>age</th>\n",
       "      <th>workclass</th>\n",
       "      <th>fnlwgt</th>\n",
       "      <th>education</th>\n",
       "      <th>education-num</th>\n",
       "      <th>marital-status</th>\n",
       "      <th>occupation</th>\n",
       "      <th>relationship</th>\n",
       "      <th>race</th>\n",
       "      <th>sex</th>\n",
       "      <th>capital-gain</th>\n",
       "      <th>capital-loss</th>\n",
       "      <th>hours-per-week</th>\n",
       "      <th>native-country</th>\n",
       "      <th>salary</th>\n",
       "    </tr>\n",
       "  </thead>\n",
       "  <tbody>\n",
       "    <tr>\n",
       "      <th>0</th>\n",
       "      <td>39</td>\n",
       "      <td>State-gov</td>\n",
       "      <td>77516</td>\n",
       "      <td>Bachelors</td>\n",
       "      <td>13</td>\n",
       "      <td>Never-married</td>\n",
       "      <td>Adm-clerical</td>\n",
       "      <td>Not-in-family</td>\n",
       "      <td>White</td>\n",
       "      <td>Male</td>\n",
       "      <td>2174</td>\n",
       "      <td>0</td>\n",
       "      <td>40</td>\n",
       "      <td>United-States</td>\n",
       "      <td>&lt;=50K</td>\n",
       "    </tr>\n",
       "    <tr>\n",
       "      <th>1</th>\n",
       "      <td>50</td>\n",
       "      <td>Self-emp-not-inc</td>\n",
       "      <td>83311</td>\n",
       "      <td>Bachelors</td>\n",
       "      <td>13</td>\n",
       "      <td>Married-civ-spouse</td>\n",
       "      <td>Exec-managerial</td>\n",
       "      <td>Husband</td>\n",
       "      <td>White</td>\n",
       "      <td>Male</td>\n",
       "      <td>0</td>\n",
       "      <td>0</td>\n",
       "      <td>13</td>\n",
       "      <td>United-States</td>\n",
       "      <td>&lt;=50K</td>\n",
       "    </tr>\n",
       "    <tr>\n",
       "      <th>2</th>\n",
       "      <td>38</td>\n",
       "      <td>Private</td>\n",
       "      <td>215646</td>\n",
       "      <td>HS-grad</td>\n",
       "      <td>9</td>\n",
       "      <td>Divorced</td>\n",
       "      <td>Handlers-cleaners</td>\n",
       "      <td>Not-in-family</td>\n",
       "      <td>White</td>\n",
       "      <td>Male</td>\n",
       "      <td>0</td>\n",
       "      <td>0</td>\n",
       "      <td>40</td>\n",
       "      <td>United-States</td>\n",
       "      <td>&lt;=50K</td>\n",
       "    </tr>\n",
       "    <tr>\n",
       "      <th>3</th>\n",
       "      <td>53</td>\n",
       "      <td>Private</td>\n",
       "      <td>234721</td>\n",
       "      <td>11th</td>\n",
       "      <td>7</td>\n",
       "      <td>Married-civ-spouse</td>\n",
       "      <td>Handlers-cleaners</td>\n",
       "      <td>Husband</td>\n",
       "      <td>Black</td>\n",
       "      <td>Male</td>\n",
       "      <td>0</td>\n",
       "      <td>0</td>\n",
       "      <td>40</td>\n",
       "      <td>United-States</td>\n",
       "      <td>&lt;=50K</td>\n",
       "    </tr>\n",
       "    <tr>\n",
       "      <th>4</th>\n",
       "      <td>28</td>\n",
       "      <td>Private</td>\n",
       "      <td>338409</td>\n",
       "      <td>Bachelors</td>\n",
       "      <td>13</td>\n",
       "      <td>Married-civ-spouse</td>\n",
       "      <td>Prof-specialty</td>\n",
       "      <td>Wife</td>\n",
       "      <td>Black</td>\n",
       "      <td>Female</td>\n",
       "      <td>0</td>\n",
       "      <td>0</td>\n",
       "      <td>40</td>\n",
       "      <td>Cuba</td>\n",
       "      <td>&lt;=50K</td>\n",
       "    </tr>\n",
       "  </tbody>\n",
       "</table>\n",
       "</div>"
      ],
      "text/plain": [
       "   age         workclass  fnlwgt  ... hours-per-week  native-country salary\n",
       "0   39         State-gov   77516  ...             40   United-States  <=50K\n",
       "1   50  Self-emp-not-inc   83311  ...             13   United-States  <=50K\n",
       "2   38           Private  215646  ...             40   United-States  <=50K\n",
       "3   53           Private  234721  ...             40   United-States  <=50K\n",
       "4   28           Private  338409  ...             40            Cuba  <=50K\n",
       "\n",
       "[5 rows x 15 columns]"
      ]
     },
     "metadata": {
      "tags": []
     },
     "execution_count": 20
    }
   ]
  },
  {
   "cell_type": "markdown",
   "metadata": {
    "id": "Hgr_H7ct_2Fj",
    "colab_type": "text"
   },
   "source": [
    "**1. Скільки чоловіків і жінок (ознака *sex*) представлено в цьому наборі даних?**"
   ]
  },
  {
   "cell_type": "code",
   "metadata": {
    "id": "G1649bdm_2Fj",
    "colab_type": "code",
    "colab": {
     "base_uri": "https://localhost:8080/",
     "height": 68
    },
    "outputId": "cb8f951c-ae5d-4a99-bcf8-30960ee61813"
   },
   "source": [
    "# Ваш код тут\n",
    "data[\"sex\"].value_counts()"
   ],
   "execution_count": 22,
   "outputs": [
    {
     "output_type": "execute_result",
     "data": {
      "text/plain": [
       "Male      21790\n",
       "Female    10771\n",
       "Name: sex, dtype: int64"
      ]
     },
     "metadata": {
      "tags": []
     },
     "execution_count": 22
    }
   ]
  },
  {
   "cell_type": "markdown",
   "metadata": {
    "id": "H72jFe22_2Fq",
    "colab_type": "text"
   },
   "source": [
    "**2. Який середній вік (ознака *age*) жінок?**"
   ]
  },
  {
   "cell_type": "code",
   "metadata": {
    "id": "PzYtxiSB_2Fr",
    "colab_type": "code",
    "colab": {
     "base_uri": "https://localhost:8080/",
     "height": 34
    },
    "outputId": "6969ed11-e0c3-4fd1-cb51-b52c72df7246"
   },
   "source": [
    "# Ваш код тут\n",
    "weman = data.loc[data[\"sex\"] == \"Female\", \"age\"]\n",
    "mean_weman_age = weman.mean()\n",
    "mean_weman_age"
   ],
   "execution_count": 23,
   "outputs": [
    {
     "output_type": "execute_result",
     "data": {
      "text/plain": [
       "36.85823043357163"
      ]
     },
     "metadata": {
      "tags": []
     },
     "execution_count": 23
    }
   ]
  },
  {
   "cell_type": "markdown",
   "metadata": {
    "id": "PzxSUYJy_2Fy",
    "colab_type": "text"
   },
   "source": [
    "**3. Яка частка громадян Німеччини (ознака *native-country*)?**"
   ]
  },
  {
   "cell_type": "code",
   "metadata": {
    "id": "ptbH1MSd_2Fz",
    "colab_type": "code",
    "colab": {}
   },
   "source": [
    "# Ваш код тут\n",
    "people_in_countries = data[\"native-country\"].value_counts()\n",
    "countries_freq = people_in_countries / people_in_countries.sum()\n",
    "germany = countries_freq[\"Germany\"]"
   ],
   "execution_count": 24,
   "outputs": []
  },
  {
   "cell_type": "markdown",
   "metadata": {
    "id": "3pHUTL4c_2F9",
    "colab_type": "text"
   },
   "source": [
    "**4-5. Які середні значення і середні відхилення віку тих, хто отримує більше 50K в рік (ознака *salary*) і тих, хто отримує менше 50K в рік? **"
   ]
  },
  {
   "cell_type": "code",
   "metadata": {
    "id": "9zOViotb_2F-",
    "colab_type": "code",
    "colab": {
     "base_uri": "https://localhost:8080/",
     "height": 34
    },
    "outputId": "a2a1a77d-8477-469f-a321-c9d5ec0c3653"
   },
   "source": [
    "# Ваш код тут\n",
    "#less 50K salary mean age\n",
    "less_50k_salary_age = data.loc[data[\"salary\"] == \"<=50K\", \"age\"]\n",
    "less_50k_salary_mean_age = less_50k_salary_age.mean()\n",
    "less_50k_salary_mean_age"
   ],
   "execution_count": 25,
   "outputs": [
    {
     "output_type": "execute_result",
     "data": {
      "text/plain": [
       "36.78373786407767"
      ]
     },
     "metadata": {
      "tags": []
     },
     "execution_count": 25
    }
   ]
  },
  {
   "cell_type": "code",
   "metadata": {
    "pycharm": {
     "name": "#%%\n"
    },
    "id": "IuctgXW7uyfZ",
    "colab_type": "code",
    "colab": {
     "base_uri": "https://localhost:8080/",
     "height": 34
    },
    "outputId": "b7afd269-ebb0-40b7-f681-10f3732b3948"
   },
   "source": [
    "#less 50k salary mean age biases\n",
    "less_50k_salary_age_bias = less_50k_salary_age.std()\n",
    "less_50k_salary_age_bias"
   ],
   "execution_count": 26,
   "outputs": [
    {
     "output_type": "execute_result",
     "data": {
      "text/plain": [
       "14.020088490824813"
      ]
     },
     "metadata": {
      "tags": []
     },
     "execution_count": 26
    }
   ]
  },
  {
   "cell_type": "code",
   "metadata": {
    "pycharm": {
     "name": "#%%\n"
    },
    "id": "vnUv03oQuyfd",
    "colab_type": "code",
    "colab": {
     "base_uri": "https://localhost:8080/",
     "height": 34
    },
    "outputId": "8d272570-f9f0-4897-f3aa-f201ec13623a"
   },
   "source": [
    "#more 50k salary mean age\n",
    "more_50k_salary = data[data[\"salary\"] == \">50K\"]\n",
    "more_50k_salary_age = more_50k_salary[\"age\"]\n",
    "more_50K_salary_mean_age = more_50k_salary_age.mean()\n",
    "more_50K_salary_mean_age"
   ],
   "execution_count": 27,
   "outputs": [
    {
     "output_type": "execute_result",
     "data": {
      "text/plain": [
       "44.24984058155847"
      ]
     },
     "metadata": {
      "tags": []
     },
     "execution_count": 27
    }
   ]
  },
  {
   "cell_type": "code",
   "metadata": {
    "pycharm": {
     "name": "#%%\n"
    },
    "id": "lxPGN3truyfh",
    "colab_type": "code",
    "colab": {
     "base_uri": "https://localhost:8080/",
     "height": 34
    },
    "outputId": "a5f8714c-b781-4ef0-ff8d-2602a37f29e8"
   },
   "source": [
    "#more 50K salary age bias\n",
    "more_50k_salary_age_bias = more_50k_salary_age.std()\n",
    "more_50k_salary_age_bias"
   ],
   "execution_count": 28,
   "outputs": [
    {
     "output_type": "execute_result",
     "data": {
      "text/plain": [
       "10.51902771985177"
      ]
     },
     "metadata": {
      "tags": []
     },
     "execution_count": 28
    }
   ]
  },
  {
   "cell_type": "markdown",
   "metadata": {
    "id": "80GdqlpD_2GE",
    "colab_type": "text"
   },
   "source": [
    "**6. Чи правда, що люди, які отримують більше 50k, мають як мінімум вищу освіту? (ознака *education – Bachelors, Prof-school, Assoc-acdm, Assoc-voc, Masters* чи *Doctorate*)**"
   ]
  },
  {
   "cell_type": "code",
   "metadata": {
    "id": "W8_yhtX__2GF",
    "colab_type": "code",
    "colab": {
     "base_uri": "https://localhost:8080/",
     "height": 34
    },
    "outputId": "dfc258c2-52cd-4e43-be1f-37db53cb2175"
   },
   "source": [
    "# Ваш код тут\n",
    "#list of high edications\n",
    "high_education_ranks = [\"Bachelors\", \"Prof-school\", \"Assoc-acdm\", \"Assoc-voc\", \"Masters\", \"Doctorate\"]\n",
    "#Series of educations with >50K\n",
    "more_50k_salary_educations = more_50k_salary[\"education\"]\n",
    "#get mask where high education is\n",
    "is_hypothesis_true  =more_50k_salary_educations.apply(\n",
    "    lambda edu_level: edu_level in high_education_ranks).all()\n",
    "is_hypothesis_true"
   ],
   "execution_count": 31,
   "outputs": [
    {
     "output_type": "execute_result",
     "data": {
      "text/plain": [
       "False"
      ]
     },
     "metadata": {
      "tags": []
     },
     "execution_count": 31
    }
   ]
  },
  {
   "cell_type": "markdown",
   "metadata": {
    "id": "_8PB0lC0_2GL",
    "colab_type": "text"
   },
   "source": [
    "**7. Вивести статистику віку для кажної раси (ознака *race*) і кожної статі. Використовуйте *groupby* і *describe*. Знайдіть таким чином максимальний вік чоловіків раси *Amer-Indian-Eskimo*.**"
   ]
  },
  {
   "cell_type": "code",
   "metadata": {
    "id": "intQYoXo_2GM",
    "colab_type": "code",
    "colab": {
     "base_uri": "https://localhost:8080/",
     "height": 170
    },
    "outputId": "f2227789-e457-4018-977e-56570aef0500"
   },
   "source": [
    "# Ваш код тут\n",
    "age_groupped_by_race_sex = data.groupby([\"race\", \"sex\"])\n",
    "age_describe_statistics = age_groupped_by_race_sex[\"age\"].describe()\n",
    "age_describe_statistics.loc[('Amer-Indian-Eskimo',   'Male')]"
   ],
   "execution_count": 35,
   "outputs": [
    {
     "output_type": "execute_result",
     "data": {
      "text/plain": [
       "count    192.000000\n",
       "mean      37.208333\n",
       "std       12.049563\n",
       "min       17.000000\n",
       "25%       28.000000\n",
       "50%       35.000000\n",
       "75%       45.000000\n",
       "max       82.000000\n",
       "Name: (Amer-Indian-Eskimo, Male), dtype: float64"
      ]
     },
     "metadata": {
      "tags": []
     },
     "execution_count": 35
    }
   ]
  },
  {
   "cell_type": "markdown",
   "metadata": {
    "id": "dtOsfHwm_2GT",
    "colab_type": "text"
   },
   "source": [
    "**8. Серед кого більша частка заробляючих багато (>50K): серед одружених чи холостих чоловіків (ознака *marital-status*)? Одруженими вважаємо тих, у кого *marital-status* починається з *Married* (Married-civ-spouse, Married-spouse-absent чи Married-AF-spouse), решту вважаємо холостими.**"
   ]
  },
  {
   "cell_type": "code",
   "metadata": {
    "id": "gOmVYSI9_2GU",
    "colab_type": "code",
    "colab": {
     "base_uri": "https://localhost:8080/",
     "height": 68
    },
    "outputId": "8a527386-6b33-4870-d7ab-8fd95ced44f5"
   },
   "source": [
    "# Ваш код тут\n",
    "result = more_50k_salary[\"marital-status\"].apply(\n",
    "    lambda status: \"married\" if \"Married\" in status else \"not married\").value_counts()\n",
    "result"
   ],
   "execution_count": 54,
   "outputs": [
    {
     "output_type": "execute_result",
     "data": {
      "text/plain": [
       "married        6736\n",
       "not married    1105\n",
       "Name: marital-status, dtype: int64"
      ]
     },
     "metadata": {
      "tags": []
     },
     "execution_count": 54
    }
   ]
  },
  {
   "cell_type": "markdown",
   "metadata": {
    "id": "W3pMpNSt_2Ga",
    "colab_type": "text"
   },
   "source": [
    "**9. Яку максимальну кількість годин людина працює за тиждень (ознака *hours-per-week*)? Скільки людей працюють таку кількість годин і який серед них відсоток заробляючих багато?**"
   ]
  },
  {
   "cell_type": "code",
   "metadata": {
    "id": "L9TbItTm_2Gb",
    "colab_type": "code",
    "colab": {
     "base_uri": "https://localhost:8080/",
     "height": 34
    },
    "outputId": "90a0e192-87e4-48d4-afcc-09d98c192525"
   },
   "source": [
    "# Ваш код тут\n",
    "max_work_hours = data[\"hours-per-week\"].max()\n",
    "max_work_hours"
   ],
   "execution_count": 62,
   "outputs": [
    {
     "output_type": "execute_result",
     "data": {
      "text/plain": [
       "85"
      ]
     },
     "metadata": {
      "tags": []
     },
     "execution_count": 62
    }
   ]
  },
  {
   "cell_type": "code",
   "execution_count": null,
   "outputs": [],
   "source": [
    "hardworking_people = data[data[\"hours-per-week\"] == max_work_hours]\n",
    "#number of people that work a lot\n",
    "len(hardworking_people)"
   ],
   "metadata": {
    "collapsed": false,
    "pycharm": {
     "name": "#%%\n"
    }
   }
  },
  {
   "cell_type": "code",
   "metadata": {
    "pycharm": {
     "name": "#%%\n"
    },
    "id": "5QxAL6E8uyf8",
    "colab_type": "code",
    "colab": {
     "base_uri": "https://localhost:8080/",
     "height": 34
    },
    "outputId": "e52f35cf-1739-4cca-a516-594733489513"
   },
   "source": [
    "numbers_of_salary_levels = hardworking_people[\"salary\"].value_counts()\n",
    "freq_of_salary_levels = numbers_of_salary_levels / numbers_of_salary_levels.sum()\n",
    "freq_of_salary_levels[\">50K\"]"
   ],
   "execution_count": 63,
   "outputs": [
    {
     "output_type": "execute_result",
     "data": {
      "text/plain": [
       "0.29411764705882354"
      ]
     },
     "metadata": {
      "tags": []
     },
     "execution_count": 63
    }
   ]
  },
  {
   "cell_type": "markdown",
   "metadata": {
    "id": "0e-BYeXl_2Gi",
    "colab_type": "text"
   },
   "source": [
    "**10. Підрахуйте середній час роботи (*hours-per-week*) заробляючих мало і багато (*salary*) для кожної країни (*native-country*).**"
   ]
  },
  {
   "cell_type": "code",
   "metadata": {
    "id": "rJenfSYF_2Gj",
    "colab_type": "code",
    "colab": {
     "base_uri": "https://localhost:8080/",
     "height": 227
    },
    "outputId": "eecb7bf1-b97f-4235-bd34-1c4e0e3e63eb"
   },
   "source": [
    "# Ваш код тут\n",
    "import numpy as np\n",
    "data.pivot_table(index=[\"salary\"], columns=[\"native-country\"], values=[\"hours-per-week\"], aggfunc=np.mean)"
   ],
   "execution_count": 65,
   "outputs": [
    {
     "output_type": "execute_result",
     "data": {
      "text/html": [
       "<div>\n",
       "<style scoped>\n",
       "    .dataframe tbody tr th:only-of-type {\n",
       "        vertical-align: middle;\n",
       "    }\n",
       "\n",
       "    .dataframe tbody tr th {\n",
       "        vertical-align: top;\n",
       "    }\n",
       "\n",
       "    .dataframe thead tr th {\n",
       "        text-align: left;\n",
       "    }\n",
       "\n",
       "    .dataframe thead tr:last-of-type th {\n",
       "        text-align: right;\n",
       "    }\n",
       "</style>\n",
       "<table border=\"1\" class=\"dataframe\">\n",
       "  <thead>\n",
       "    <tr>\n",
       "      <th></th>\n",
       "      <th colspan=\"42\" halign=\"left\">hours-per-week</th>\n",
       "    </tr>\n",
       "    <tr>\n",
       "      <th>native-country</th>\n",
       "      <th>?</th>\n",
       "      <th>Cambodia</th>\n",
       "      <th>Canada</th>\n",
       "      <th>China</th>\n",
       "      <th>Columbia</th>\n",
       "      <th>Cuba</th>\n",
       "      <th>Dominican-Republic</th>\n",
       "      <th>Ecuador</th>\n",
       "      <th>El-Salvador</th>\n",
       "      <th>England</th>\n",
       "      <th>France</th>\n",
       "      <th>Germany</th>\n",
       "      <th>Greece</th>\n",
       "      <th>Guatemala</th>\n",
       "      <th>Haiti</th>\n",
       "      <th>Holand-Netherlands</th>\n",
       "      <th>Honduras</th>\n",
       "      <th>Hong</th>\n",
       "      <th>Hungary</th>\n",
       "      <th>India</th>\n",
       "      <th>Iran</th>\n",
       "      <th>Ireland</th>\n",
       "      <th>Italy</th>\n",
       "      <th>Jamaica</th>\n",
       "      <th>Japan</th>\n",
       "      <th>Laos</th>\n",
       "      <th>Mexico</th>\n",
       "      <th>Nicaragua</th>\n",
       "      <th>Outlying-US(Guam-USVI-etc)</th>\n",
       "      <th>Peru</th>\n",
       "      <th>Philippines</th>\n",
       "      <th>Poland</th>\n",
       "      <th>Portugal</th>\n",
       "      <th>Puerto-Rico</th>\n",
       "      <th>Scotland</th>\n",
       "      <th>South</th>\n",
       "      <th>Taiwan</th>\n",
       "      <th>Thailand</th>\n",
       "      <th>Trinadad&amp;Tobago</th>\n",
       "      <th>United-States</th>\n",
       "      <th>Vietnam</th>\n",
       "      <th>Yugoslavia</th>\n",
       "    </tr>\n",
       "    <tr>\n",
       "      <th>salary</th>\n",
       "      <th></th>\n",
       "      <th></th>\n",
       "      <th></th>\n",
       "      <th></th>\n",
       "      <th></th>\n",
       "      <th></th>\n",
       "      <th></th>\n",
       "      <th></th>\n",
       "      <th></th>\n",
       "      <th></th>\n",
       "      <th></th>\n",
       "      <th></th>\n",
       "      <th></th>\n",
       "      <th></th>\n",
       "      <th></th>\n",
       "      <th></th>\n",
       "      <th></th>\n",
       "      <th></th>\n",
       "      <th></th>\n",
       "      <th></th>\n",
       "      <th></th>\n",
       "      <th></th>\n",
       "      <th></th>\n",
       "      <th></th>\n",
       "      <th></th>\n",
       "      <th></th>\n",
       "      <th></th>\n",
       "      <th></th>\n",
       "      <th></th>\n",
       "      <th></th>\n",
       "      <th></th>\n",
       "      <th></th>\n",
       "      <th></th>\n",
       "      <th></th>\n",
       "      <th></th>\n",
       "      <th></th>\n",
       "      <th></th>\n",
       "      <th></th>\n",
       "      <th></th>\n",
       "      <th></th>\n",
       "      <th></th>\n",
       "      <th></th>\n",
       "    </tr>\n",
       "  </thead>\n",
       "  <tbody>\n",
       "    <tr>\n",
       "      <th>&lt;=50K</th>\n",
       "      <td>40.164760</td>\n",
       "      <td>41.416667</td>\n",
       "      <td>37.914634</td>\n",
       "      <td>37.381818</td>\n",
       "      <td>38.684211</td>\n",
       "      <td>37.985714</td>\n",
       "      <td>42.338235</td>\n",
       "      <td>38.041667</td>\n",
       "      <td>36.030928</td>\n",
       "      <td>40.483333</td>\n",
       "      <td>41.058824</td>\n",
       "      <td>39.139785</td>\n",
       "      <td>41.809524</td>\n",
       "      <td>39.360656</td>\n",
       "      <td>36.325</td>\n",
       "      <td>40.0</td>\n",
       "      <td>34.333333</td>\n",
       "      <td>39.142857</td>\n",
       "      <td>31.3</td>\n",
       "      <td>38.233333</td>\n",
       "      <td>41.44</td>\n",
       "      <td>40.947368</td>\n",
       "      <td>39.625</td>\n",
       "      <td>38.239437</td>\n",
       "      <td>41.000000</td>\n",
       "      <td>40.375</td>\n",
       "      <td>40.003279</td>\n",
       "      <td>36.09375</td>\n",
       "      <td>41.857143</td>\n",
       "      <td>35.068966</td>\n",
       "      <td>38.065693</td>\n",
       "      <td>38.166667</td>\n",
       "      <td>41.939394</td>\n",
       "      <td>38.470588</td>\n",
       "      <td>39.444444</td>\n",
       "      <td>40.15625</td>\n",
       "      <td>33.774194</td>\n",
       "      <td>42.866667</td>\n",
       "      <td>37.058824</td>\n",
       "      <td>38.799127</td>\n",
       "      <td>37.193548</td>\n",
       "      <td>41.6</td>\n",
       "    </tr>\n",
       "    <tr>\n",
       "      <th>&gt;50K</th>\n",
       "      <td>45.547945</td>\n",
       "      <td>40.000000</td>\n",
       "      <td>45.641026</td>\n",
       "      <td>38.900000</td>\n",
       "      <td>50.000000</td>\n",
       "      <td>42.440000</td>\n",
       "      <td>47.000000</td>\n",
       "      <td>48.750000</td>\n",
       "      <td>45.000000</td>\n",
       "      <td>44.533333</td>\n",
       "      <td>50.750000</td>\n",
       "      <td>44.977273</td>\n",
       "      <td>50.625000</td>\n",
       "      <td>36.666667</td>\n",
       "      <td>42.750</td>\n",
       "      <td>NaN</td>\n",
       "      <td>60.000000</td>\n",
       "      <td>45.000000</td>\n",
       "      <td>50.0</td>\n",
       "      <td>46.475000</td>\n",
       "      <td>47.50</td>\n",
       "      <td>48.000000</td>\n",
       "      <td>45.400</td>\n",
       "      <td>41.100000</td>\n",
       "      <td>47.958333</td>\n",
       "      <td>40.000</td>\n",
       "      <td>46.575758</td>\n",
       "      <td>37.50000</td>\n",
       "      <td>NaN</td>\n",
       "      <td>40.000000</td>\n",
       "      <td>43.032787</td>\n",
       "      <td>39.000000</td>\n",
       "      <td>41.500000</td>\n",
       "      <td>39.416667</td>\n",
       "      <td>46.666667</td>\n",
       "      <td>51.43750</td>\n",
       "      <td>46.800000</td>\n",
       "      <td>58.333333</td>\n",
       "      <td>40.000000</td>\n",
       "      <td>45.505369</td>\n",
       "      <td>39.200000</td>\n",
       "      <td>49.5</td>\n",
       "    </tr>\n",
       "  </tbody>\n",
       "</table>\n",
       "</div>"
      ],
      "text/plain": [
       "               hours-per-week             ...                      \n",
       "native-country              ?   Cambodia  ...    Vietnam Yugoslavia\n",
       "salary                                    ...                      \n",
       "<=50K               40.164760  41.416667  ...  37.193548       41.6\n",
       ">50K                45.547945  40.000000  ...  39.200000       49.5\n",
       "\n",
       "[2 rows x 42 columns]"
      ]
     },
     "metadata": {
      "tags": []
     },
     "execution_count": 65
    }
   ]
  },
  {
   "cell_type": "code",
   "metadata": {
    "id": "NJ_i3Jnq_2Gr",
    "colab_type": "code",
    "colab": {}
   },
   "source": [
    ""
   ],
   "execution_count": null,
   "outputs": []
  }
 ]
}